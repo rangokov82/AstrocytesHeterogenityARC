{
 "cells": [
  {
   "cell_type": "code",
   "execution_count": 29,
   "metadata": {},
   "outputs": [],
   "source": [
    "inst  <-  suppressMessages(lapply(c('DEP',\n",
    "                                    'SummarizedExperiment',\n",
    "                                    'pheatmap',\n",
    "                                    'ggplot2',\n",
    "                                    'EnhancedVolcano',\n",
    "                                    'VennDiagram',\n",
    "                                    'org.Mm.eg.db',\n",
    "                                    'clusterProfiler',\n",
    "                                    'readxl',\n",
    "                                    'tidyverse',\n",
    "                                    'KEGGREST'),\n",
    "                                library,\n",
    "                                character.only=TRUE)\n",
    ") "
   ]
  },
  {
   "cell_type": "code",
   "execution_count": 30,
   "metadata": {},
   "outputs": [],
   "source": [
    "my_palette = colorRampPalette(c(\"blue\", \"white\", \"red\"))(n=255)\n",
    "options(repr.plot.width=8, repr.plot.height=8)"
   ]
  },
  {
   "cell_type": "markdown",
   "metadata": {},
   "source": [
    "Set whether anndata objects are recomputed or loaded."
   ]
  },
  {
   "cell_type": "code",
   "execution_count": 31,
   "metadata": {},
   "outputs": [],
   "source": [
    "bool_recomp = FALSE"
   ]
  },
  {
   "cell_type": "markdown",
   "metadata": {},
   "source": [
    "Set whether to produce plots, set to False for test runs."
   ]
  },
  {
   "cell_type": "code",
   "execution_count": 32,
   "metadata": {},
   "outputs": [],
   "source": [
    "bool_plot = FALSE"
   ]
  },
  {
   "cell_type": "code",
   "execution_count": 33,
   "metadata": {},
   "outputs": [],
   "source": [
    "if(bool_recomp){  \n",
    "    # load the imputed and normalized data from \n",
    "    input_file='~/Documents/consultation/Luiza/omics_data/data/astrocyteprotoeme12102017-1.xlsx'\n",
    "    datraw <- read_excel(input_file, \n",
    "                         sheet=2)[,c(4, 3, 11:57)]\n",
    "\n",
    "    dat <- apply(datraw[,-c(1,2)], \n",
    "                 2, \n",
    "                 function(x) as.numeric(x)\n",
    "    )\n",
    "    gen = as.character(as.matrix(datraw[,1]))\n",
    "\n",
    "    dat <- aggregate(dat,\n",
    "                     by=list(gen),\n",
    "                     FUN=mean,\n",
    "                     na.rm=TRUE\n",
    "    )\n",
    "    rownames(dat) = dat[,1]\n",
    "    dat = dat[,-1]\n",
    "    write.csv(dat,'dat.csv', row.names=T)\n",
    "} else{\n",
    "    dat=read.csv('dat.csv', row.names=1)\n",
    "}"
   ]
  },
  {
   "cell_type": "markdown",
   "metadata": {},
   "source": [
    "## Compare Acsa2 positive vs. negative"
   ]
  },
  {
   "cell_type": "markdown",
   "metadata": {},
   "source": [
    "### heatmap"
   ]
  },
  {
   "cell_type": "code",
   "execution_count": 34,
   "metadata": {},
   "outputs": [],
   "source": [
    "if(bool_recomp){ \n",
    "    datfin = data.frame(CTX = apply(dat %>% select(ends_with(\"CTX\")), 1, mean),\n",
    "                        HPT = apply(dat %>% select(ends_with(\"HPT\")), 1, mean),\n",
    "                        Hippo = apply(dat %>% select(ends_with(\"Hippo\")), 1, mean),\n",
    "                        CTX_FT = apply(dat %>% select(ends_with(\"CTX_FT\")), 1, mean),\n",
    "                        HPT_FT = apply(dat %>% select(ends_with(\"HPT_FT\")), 1, mean),\n",
    "                        Hippo_FT = apply(dat %>% select(ends_with(\"Hippo_FT\")), 1, mean))\n",
    "\n",
    "    astro = datfin[rownames(datfin)%in%c('Slc1a2', 'Slc1a3', 'Aqp4', 'Gfap', 'Aldh1l1', 'Gja1', 'Gjb6', 'Atp1b2'),]\n",
    "    neuro = datfin[rownames(datfin)%in%c('Syp', 'Tubb3', 'Snap25', 'Syt1'),]\n",
    "    mglia = datfin[rownames(datfin)%in%c('Itgam', 'Aif1'),]\n",
    "    oligo = datfin[rownames(datfin)%in%c('Mog', 'Mag'),]\n",
    "    endo = datfin[rownames(datfin)%in%c('Slco1c1'),]\n",
    "    mural = datfin[rownames(datfin)%in%c('Mustn1', 'Pdgfrb', 'Des'),]\n",
    "    tcyes = datfin[rownames(datfin)%in%c('Crym'),]\n",
    "    npc = datfin[rownames(datfin)%in%c('Nes', 'Sox2', 'Prom1'),]\n",
    "    vlmc = datfin[rownames(datfin)%in%c('Col1a1'),]\n",
    "    mat = as.matrix(rbind(astro, neuro, mglia, oligo, endo, mural)) \n",
    "    \n",
    "    write.csv(mat,'celltype_heatmap.csv', row.names=T)\n",
    "} else{\n",
    "    mat=read.csv('celltype_heatmap.csv', row.names=1)\n",
    "}    "
   ]
  },
  {
   "cell_type": "code",
   "execution_count": 7,
   "metadata": {},
   "outputs": [],
   "source": [
    "mat = as.matrix(mat)\n",
    "pheatmap(mat, \n",
    "         scale=\"row\",\n",
    "         show_rownames=F,\n",
    "         show_colnames=F,\n",
    "         color=my_palette,\n",
    "         cluster_cols=F,\n",
    "         cluster_rows=F, \n",
    "         gaps_col=3,\n",
    "         gaps_row=c(8,12,14,16,17,20),#11, 15, 17, 19, 20, 23),\n",
    "         fontsize=18,\n",
    "         legend=T,\n",
    "         filename=\"heatmap_ACSA2.pdf\",\n",
    "         width=8,\n",
    "         height=8\n",
    ") "
   ]
  },
  {
   "cell_type": "markdown",
   "metadata": {},
   "source": [
    "### volcano plot"
   ]
  },
  {
   "cell_type": "code",
   "execution_count": 8,
   "metadata": {},
   "outputs": [],
   "source": [
    "ft <- read_excel('~/Documents/consultation/Luiza/omics_data/data/astrocyteprotoeme12102017-1.xlsx', \n",
    "                 sheet=2)[,c(4, 6 ,10)]\n",
    "colnames(ft) = c(\"GeneName\", \"pvalue\", \"log2FoldChange\")\n",
    "for (i in 1:nrow(ft)) ft[i,2]=10 ^ -ft[i,2]"
   ]
  },
  {
   "cell_type": "code",
   "execution_count": 9,
   "metadata": {},
   "outputs": [],
   "source": [
    "pdf(file=\"SM/volcano_acsa2posVSneg_allgene.pdf\", width=10, height=10)\n",
    "    EnhancedVolcano(ft,\n",
    "                    lab=ft$GeneName,\n",
    "                    pCutoff=0.05,\n",
    "                    x='log2FoldChange',\n",
    "                    y='pvalue',\n",
    "                    ylim=c(-0, 25),\n",
    "                    col=c(\"grey30\", \"grey30\", \"red2\", \"red2\"),\n",
    "                    title=\"Acsa2_neg vs. Acsa2_pos\"\n",
    "    )"
   ]
  },
  {
   "cell_type": "code",
   "execution_count": 10,
   "metadata": {},
   "outputs": [
    {
     "name": "stderr",
     "output_type": "stream",
     "text": [
      "Warning message:\n",
      "“Removed 2 rows containing missing values (geom_vline).”\n"
     ]
    }
   ],
   "source": [
    "pdf(file=\"SM/volcano_acsa2posVSneg_astro.pdf\", width=10, height=10)\n",
    "    EnhancedVolcano(ft,\n",
    "                    lab=ft$GeneName,\n",
    "                    pCutoff=0.05,\n",
    "                    FCcutoff=10,\n",
    "                    x='log2FoldChange',\n",
    "                    y='pvalue',\n",
    "                    ylim=c(-0, 25),\n",
    "                    selectLab=rownames(mat),\n",
    "                    labSize=5,\n",
    "                    labCol='blue',\n",
    "                    col=c(\"grey30\", \"grey30\", \"red2\", \"red2\"),\n",
    "                    title=\"Acsa2_neg vs. Acsa2_pos\"\n",
    "    )"
   ]
  },
  {
   "cell_type": "code",
   "execution_count": 11,
   "metadata": {},
   "outputs": [],
   "source": [
    "dat = dat[,1:24]"
   ]
  },
  {
   "cell_type": "markdown",
   "metadata": {},
   "source": [
    "## PCA"
   ]
  },
  {
   "cell_type": "code",
   "execution_count": 12,
   "metadata": {},
   "outputs": [],
   "source": [
    "dat1 <- read.table(file=\"/Users/viktorian.miok/Documents/data/Protein_Data/proteingroups_astrocytes_imputed.txt\",\n",
    "                   header=T, \n",
    "                   sep='\\t'\n",
    ")\n",
    "dat1 = dat1[-1, c(1:24)]\n",
    "\n",
    "dat1 <- apply(dat1, \n",
    "              2,\n",
    "              function(x) as.numeric(x)\n",
    ")\n",
    "df_pca <- prcomp(t(dat1), \n",
    "                 scale=T\n",
    ")\n",
    "\n",
    "df_out=as.data.frame(df_pca$x)\n",
    "df_out$tissue=as.factor(condition = c(rep(\"Hippo_CD\", 4), rep(\"Hippo_hfd\", 4), rep(\"HPT_CD\", 4),\n",
    "                                      rep(\"HPT_hfd\", 4), rep(\"CTX_CD\", 4), rep(\"CTX_hfd\", 4))\n",
    ") "
   ]
  },
  {
   "cell_type": "code",
   "execution_count": 13,
   "metadata": {},
   "outputs": [
    {
     "data": {
      "text/html": [
       "<strong>pdf:</strong> 2"
      ],
      "text/latex": [
       "\\textbf{pdf:} 2"
      ],
      "text/markdown": [
       "**pdf:** 2"
      ],
      "text/plain": [
       "pdf \n",
       "  2 "
      ]
     },
     "metadata": {},
     "output_type": "display_data"
    }
   ],
   "source": [
    "pdf(file=\"PCA.pdf\", width=10, height=10)\n",
    "    ggplot(df_out, aes(x=PC1, y=PC2, color=tissue)) + \n",
    "           geom_point(aes(color=tissue), size=10) + \n",
    "           geom_point(shape=1, color=\"black\", size=10) + \n",
    "           xlab(paste0(\"PC1: \",round(df_pca$sdev[1]), \"% variance\")) + \n",
    "           ylab(paste0(\"PC2: \",round(df_pca$sdev[2]), \"% variance\")) +\n",
    "           theme(axis.text=element_text(size=25), \n",
    "                 axis.title=element_text(size=30)) + \n",
    "           scale_color_manual(values=c(\"aquamarine4\", \"aquamarine2\", \"darkorange2\", \n",
    "                                       \"orange\",\"blueviolet\",\"mediumpurple1\")) +\n",
    "           theme(legend.position=\"none\")\n",
    "dev.off()"
   ]
  },
  {
   "cell_type": "markdown",
   "metadata": {},
   "source": [
    "## Differential gene expression - diet effect"
   ]
  },
  {
   "cell_type": "markdown",
   "metadata": {},
   "source": [
    "### volcano"
   ]
  },
  {
   "cell_type": "code",
   "execution_count": 14,
   "metadata": {},
   "outputs": [],
   "source": [
    "if(bool_recomp){ \n",
    "    # load the results from Persus\n",
    "    hippo = read_excel(input_file, sheet=10)[,c(4, 6, 7)]\n",
    "    for (i in 1:nrow(hippo)) hippo[i,2]=10 ^ -hippo[i,2]\n",
    "\n",
    "    ctx = read_excel(input_file, sheet=8)[,c(4, 6, 7)]\n",
    "    for (i in 1:nrow(ctx)) ctx[i,2]=10 ^ -ctx[i,2]\n",
    "\n",
    "    hpt = read_excel(input_file, sheet=6)[,c(4, 6, 7)]\n",
    "    for (i in 1:nrow(hpt)) hpt[i,2]=10 ^ -hpt[i,2]\n",
    "    \n",
    "    colnames(hippo) = colnames(ctx) = colnames(hpt) = c(\"GeneName\", \"pvalue\", \"log2FoldChange\")\n",
    "    dge <- list(hpt=hpt,\n",
    "                hippo=hippo, \n",
    "                ctx=ctx\n",
    "    )\n",
    "    save(dge, file=\"dge.RData\")\n",
    "} else {\n",
    "    load(\"dge.RData\")\n",
    "}"
   ]
  },
  {
   "cell_type": "code",
   "execution_count": 15,
   "metadata": {},
   "outputs": [
    {
     "name": "stderr",
     "output_type": "stream",
     "text": [
      "Warning message:\n",
      "“Removed 2 rows containing missing values (geom_vline).”\n"
     ]
    },
    {
     "data": {
      "text/html": [
       "<strong>pdf:</strong> 2"
      ],
      "text/latex": [
       "\\textbf{pdf:} 2"
      ],
      "text/markdown": [
       "**pdf:** 2"
      ],
      "text/plain": [
       "pdf \n",
       "  2 "
      ]
     },
     "metadata": {},
     "output_type": "display_data"
    }
   ],
   "source": [
    "pdf(file=\"volcano_hippo.pdf\", width=10, height=10)\n",
    "    EnhancedVolcano(dge[['hippo']],\n",
    "                    lab=dge[['hippo']]$GeneName,\n",
    "                    x='log2FoldChange',\n",
    "                    y='pvalue',\n",
    "                    FCcutoff=10,\n",
    "                    pCutoff=0.05,\n",
    "                    axisLabSize=30,\n",
    "                    title=NULL,\n",
    "                    subtitle=NULL,\n",
    "                    caption=NULL,\n",
    "                    xlim=c(-5, 5),\n",
    "                    ylim=c(0, 5),\n",
    "                    col=c(\"grey30\", \"grey30\", \"red2\", \"red2\"),\n",
    "                    legendLabels=c('NS', expression(Log[2]~FC), 'p-value>0.05', expression(p-value~and~log[2]~FC)),\n",
    "                    legendLabSize=30\n",
    "    )\n",
    "dev.off()"
   ]
  },
  {
   "cell_type": "code",
   "execution_count": 16,
   "metadata": {},
   "outputs": [
    {
     "name": "stderr",
     "output_type": "stream",
     "text": [
      "Warning message:\n",
      "“Removed 2 rows containing missing values (geom_vline).”\n"
     ]
    },
    {
     "data": {
      "text/html": [
       "<strong>pdf:</strong> 2"
      ],
      "text/latex": [
       "\\textbf{pdf:} 2"
      ],
      "text/markdown": [
       "**pdf:** 2"
      ],
      "text/plain": [
       "pdf \n",
       "  2 "
      ]
     },
     "metadata": {},
     "output_type": "display_data"
    }
   ],
   "source": [
    "pdf(file=\"volcano_ctx.pdf\", width=10, height=10)\n",
    "    EnhancedVolcano(dge[['ctx']],\n",
    "                    lab=dge[['ctx']]$GeneName,\n",
    "                    x='log2FoldChange',\n",
    "                    y='pvalue',\n",
    "                    FCcutoff=10,\n",
    "                    pCutoff=0.05,\n",
    "                    axisLabSize=30,\n",
    "                    title=NULL,\n",
    "                    subtitle=NULL,\n",
    "                    caption=NULL,\n",
    "                    xlim=c(-5, 5),\n",
    "                    ylim=c(0, 5),\n",
    "                    col=c(\"grey30\", \"grey30\", \"red2\", \"red2\"),\n",
    "                    legendLabels=c('NS', expression(Log[2]~FC), 'p-value>0.05', expression(p-value~and~log[2]~FC)),\n",
    "                    legendLabSize=30\n",
    "   )\n",
    "dev.off()"
   ]
  },
  {
   "cell_type": "code",
   "execution_count": 17,
   "metadata": {},
   "outputs": [
    {
     "name": "stderr",
     "output_type": "stream",
     "text": [
      "Warning message:\n",
      "“Removed 2 rows containing missing values (geom_vline).”\n"
     ]
    },
    {
     "data": {
      "text/html": [
       "<strong>pdf:</strong> 2"
      ],
      "text/latex": [
       "\\textbf{pdf:} 2"
      ],
      "text/markdown": [
       "**pdf:** 2"
      ],
      "text/plain": [
       "pdf \n",
       "  2 "
      ]
     },
     "metadata": {},
     "output_type": "display_data"
    }
   ],
   "source": [
    "pdf(file=\"volcano_hpt.pdf\", width=10, height=10)\n",
    "    EnhancedVolcano(dge[['hpt']],\n",
    "                    lab=dge[['hpt']]$GeneName,\n",
    "                    x='log2FoldChange',\n",
    "                    y='pvalue',\n",
    "                    FCcutoff=10,\n",
    "                    pCutoff=0.05,\n",
    "                    axisLabSize=30,\n",
    "                    title=NULL,\n",
    "                    subtitle=NULL,\n",
    "                    caption=NULL,\n",
    "                    xlim=c(-5, 5),\n",
    "                    ylim=c(0, 5),\n",
    "                    col=c(\"grey30\", \"grey30\", \"red2\", \"red2\"),\n",
    "                    legendLabels=c('NS', expression(Log[2]~FC), 'p-value>0.05', expression(p-value~and~log[2]~FC)),\n",
    "                    legendLabSize=30)\n",
    "dev.off()"
   ]
  },
  {
   "cell_type": "code",
   "execution_count": 18,
   "metadata": {},
   "outputs": [
    {
     "data": {
      "text/html": [
       "<strong>pdf:</strong> 2"
      ],
      "text/latex": [
       "\\textbf{pdf:} 2"
      ],
      "text/markdown": [
       "**pdf:** 2"
      ],
      "text/plain": [
       "pdf \n",
       "  2 "
      ]
     },
     "metadata": {},
     "output_type": "display_data"
    }
   ],
   "source": [
    "pdf(file=\"SM/Nr_dge_0.05.pdf\", width=10, height=10)\n",
    "    df = data.frame(location=c(\"Hypothalamus\", \"Hippocampus\", \"Cortex\"),\n",
    "                    Sig_genes=c(dim(dge[['hpt']][which(dge[['hpt']][,2]<0.05),])[1], \n",
    "                                dim(dge[['hippo']][which(dge[['hippo']][,2]<0.05),])[1],\n",
    "                                dim(dge[['ctx']][which(dge[['ctx']][,2]<0.05),])[1])\n",
    "    )\n",
    "    ggplot(df, aes(x=location, y=Sig_genes, fill=location)) +\n",
    "           geom_bar(stat=\"identity\") +\n",
    "           theme(axis.text=element_text(size=20), \n",
    "                  axis.title=element_text(size=20), \n",
    "                  legend.title=element_text(siz=20),\n",
    "                  legend.text=element_text(size=20),\n",
    "                  plot.title=element_text(size=20)) +\n",
    "           theme(legend.position=\"none\") +\n",
    "           scale_fill_manual(values=c(\"lightblue\",\"lightgreen\",\"tan1\"))\n",
    "dev.off()"
   ]
  },
  {
   "cell_type": "markdown",
   "metadata": {},
   "source": [
    "### venn diagram"
   ]
  },
  {
   "cell_type": "code",
   "execution_count": 19,
   "metadata": {},
   "outputs": [
    {
     "data": {
      "text/html": [
       "<strong>pdf:</strong> 2"
      ],
      "text/latex": [
       "\\textbf{pdf:} 2"
      ],
      "text/markdown": [
       "**pdf:** 2"
      ],
      "text/plain": [
       "pdf \n",
       "  2 "
      ]
     },
     "metadata": {},
     "output_type": "display_data"
    }
   ],
   "source": [
    "pdf(file=\"venn_tran.pdf\", width=8, height=8)\n",
    "vp <- venn.diagram(list(' '=as.matrix(dge[['hpt']][dge[['hpt']][,2]<0.05,1]),\n",
    "                        ' '=as.matrix(dge[['hippo']][dge[['hippo']][,2]<0.05,1]),\n",
    "                        ' '=na.omit(as.matrix(dge[['ctx']][dge[['ctx']][,2]<0.05,])[,1])), \n",
    "                 fill=c(\"orange\", \"mediumpurple1\", \"aquamarine2\"),\n",
    "                 filename=NULL, \n",
    "                 cex=3.5,\n",
    "                 col=\"transparent\",\n",
    "                 cat.cex=0.01,\n",
    "                 margin=0.01,\n",
    "                 main=NULL,\n",
    "                 main.cex=3);\n",
    "    grid.draw(vp)\n",
    "dev.off()"
   ]
  },
  {
   "cell_type": "markdown",
   "metadata": {},
   "source": [
    "### heatmaps"
   ]
  },
  {
   "cell_type": "code",
   "execution_count": 20,
   "metadata": {},
   "outputs": [],
   "source": [
    "if(bool_recomp){ \n",
    "    datr <- read_excel(input_file,\n",
    "                       sheet=8)[,c(4,9:16)]\n",
    "    datctx <- apply(datr[,-1],\n",
    "                    2,\n",
    "                    function(x) as.numeric(x)\n",
    "    )\n",
    "    gen = as.character(as.matrix(datr[,1]))\n",
    "    datctx <- aggregate(datctx,by=list(gen),\n",
    "                        FUN=mean,\n",
    "                        na.rm=TRUE\n",
    "    )\n",
    "\n",
    "    datr <- read_excel(input_file,\n",
    "                       sheet=10)[,c(4, 9:16)]\n",
    "    dathip = apply(datr[,-1],\n",
    "                 2,\n",
    "                 function(x) as.numeric(x)\n",
    "    )\n",
    "    gen = as.character(as.matrix(datr[,1]))\n",
    "    dathip <- aggregate(dathip,\n",
    "                        by=list(gen),\n",
    "                        FUN=mean,\n",
    "                        na.rm=TRUE\n",
    "    )\n",
    "\n",
    "    datr <- read_excel(input_file, \n",
    "                       sheet=6)[,c(4,9:16)]\n",
    "    dathpt <- apply(datr[,-1],\n",
    "                    2, \n",
    "                    function(x) as.numeric(x))\n",
    "    gen = as.character(as.matrix(datr[,1]))\n",
    "    dathpt <- aggregate(dathpt,\n",
    "                        by=list(gen), \n",
    "                        FUN=mean, \n",
    "                        na.rm=TRUE\n",
    "    )\n",
    "                 \n",
    "    hm <- list(hpt=dathpt, \n",
    "               hippo=dathip, \n",
    "               ctx=datctx\n",
    "    )\n",
    "    save(hm, file=\"hm.RData\")\n",
    "} else {\n",
    "    load(\"hm.RData\")\n",
    "}"
   ]
  },
  {
   "cell_type": "code",
   "execution_count": 21,
   "metadata": {
    "scrolled": false
   },
   "outputs": [],
   "source": [
    "rownames(hm[['ctx']]) = hm[['ctx']][,1]\n",
    "hm[['ctx']] = hm[['ctx']][,-1]\n",
    "vsd_ctx = hm[['ctx']][rownames(hm[['ctx']])%in%as.character(as.matrix(dge[['ctx']][dge[['ctx']][,2] < 0.05,1])),]\n",
    "\n",
    "pheatmap(vsd_ctx, \n",
    "         scale=\"row\", \n",
    "         show_rownames=FALSE,\n",
    "         show_colnames=FALSE,\n",
    "         color=my_palette,\n",
    "         cluster_cols=FALSE, \n",
    "         fontsize=15,\n",
    "         legend=FALSE,\n",
    "         filename=\"heatmap_ctx.pdf\",\n",
    "         width=5, \n",
    "         height=8,\n",
    "         breaks=seq(-2, 2, length.out=255)\n",
    ")"
   ]
  },
  {
   "cell_type": "code",
   "execution_count": 22,
   "metadata": {},
   "outputs": [],
   "source": [
    "rownames(hm[['hippo']]) = hm[['hippo']][,1]\n",
    "hm[['hippo']] = hm[['hippo']][,-1]\n",
    "vsd_hip = hm[['hippo']][rownames(hm[['hippo']])%in%as.character(as.matrix(dge[['hippo']][dge[['hippo']][,2] < 0.05,1])),]\n",
    "\n",
    "pheatmap(vsd_hip,\n",
    "         scale=\"row\",\n",
    "         show_rownames=FALSE,\n",
    "         show_colnames=FALSE,\n",
    "         color=my_palette, \n",
    "         cluster_cols=FALSE,\n",
    "         fontsize=15,\n",
    "         legend=FALSE,\n",
    "         filename=\"heatmap_hippo.pdf\",\n",
    "         width=5, \n",
    "         height=8,\n",
    "         breaks=seq(-2, 2, length.out=255)\n",
    ")"
   ]
  },
  {
   "cell_type": "code",
   "execution_count": 23,
   "metadata": {},
   "outputs": [],
   "source": [
    "rownames(hm[['hpt']]) = hm[['hpt']][,1]\n",
    "hm[['hpt']] = hm[['hpt']][,-1]\n",
    "vsd_hpt = hm[['hpt']][rownames(hm[['hpt']])%in%as.character(as.matrix(dge[['hpt']][dge[['hpt']][,2] < 0.05,1])),]\n",
    "\n",
    "pheatmap(vsd_hpt,\n",
    "         scale=\"row\",\n",
    "         show_rownames=FALSE,\n",
    "         show_colnames=FALSE,\n",
    "         color=my_palette,\n",
    "         cluster_cols=F,\n",
    "         fontsize=15,\n",
    "         legend=T,\n",
    "         filename=\"heatmap_hpt.pdf\",\n",
    "         width=5, \n",
    "         height=8,\n",
    "         breaks=seq(-2, 2, length.out=255)\n",
    ") "
   ]
  },
  {
   "cell_type": "markdown",
   "metadata": {},
   "source": [
    "## GO - pathway enrichment"
   ]
  },
  {
   "cell_type": "code",
   "execution_count": 24,
   "metadata": {},
   "outputs": [],
   "source": [
    "if(bool_recomp){\n",
    "    sg.ctx <- bitr(rownames(vsd_ctx), \n",
    "                   fromType=\"SYMBOL\",\n",
    "                   toType=\"ENTREZID\",\n",
    "                   OrgDb=org.Mm.eg.db\n",
    "    )\n",
    "    go.ctx <- enrichGO(sg.ctx[,2],\n",
    "                       'org.Mm.eg.db',\n",
    "                       ont=\"BP\", \n",
    "                       pvalueCutoff=0.1\n",
    "    )\n",
    "    sg.hpt <- bitr(rownames(vsd_hpt),\n",
    "                   fromType=\"SYMBOL\",\n",
    "                   toType=\"ENTREZID\",\n",
    "                   OrgDb=org.Mm.eg.db\n",
    "    )\n",
    "    go.hpt <- enrichGO(sg.hpt[,2],\n",
    "                       'org.Mm.eg.db', \n",
    "                       ont=\"BP\",\n",
    "                       pvalueCutoff=0.1\n",
    "    )\n",
    "    sg.hip <- bitr(rownames(vsd_hip),\n",
    "                   fromType=\"SYMBOL\",\n",
    "                   toType=\"ENTREZID\",\n",
    "                   OrgDb=org.Mm.eg.db\n",
    "    )\n",
    "    go.hip <- enrichGO(sg.hip[,2],\n",
    "                       'org.Mm.eg.db',\n",
    "                       ont=\"BP\", \n",
    "                       pvalueCutoff=0.1\n",
    "    )\n",
    "    go = c(\"insulin receptor signaling pathway\",\n",
    "           \"leptin-mediated signaling pathway\",\n",
    "           \"response to leptin\",\n",
    "           \"glycolytic process\",\n",
    "           \"cellular response to glucose stimulus\",\n",
    "           \"cellular carbohydrate metabolic process\",\n",
    "           \"glycogen metabolic process\",\n",
    "           \"glucose transmembrane transport\",\n",
    "           \"fatty acid catabolic process\",\n",
    "           \"lipid import into cell\",\n",
    "           \"response to endoplasmic reticulum stress\",\n",
    "           \"response to reactive oxygen species\",\n",
    "           \"response to oxidative stress\",\n",
    "           \"positive regulation of G1/S transition of mitotic cell cycle\",\n",
    "           #\"glial cell proliferation\",\n",
    "           \"microtubule cytoskeleton organization involved in mitosis\",\n",
    "           \"smoothened signaling pathway\",\n",
    "           \"positive regulation of inflammatory response\",\n",
    "           \"cell-substrate junction assembly\",\n",
    "           \"regulation of cell shape\",\n",
    "           \"calcium ion transport into cytosol\",\n",
    "           \"calcium-mediated signaling\",\n",
    "           \"axon guidance\",\n",
    "           \"regulation of neurotransmitter levels\",\n",
    "           \"glutamate receptor signaling pathway\",\n",
    "           \"axonogenesis\",\n",
    "           \"regulation of synaptic transmission, dopaminergic\",\n",
    "           \"regulation of neuronal synaptic plasticity\"\n",
    "    )\n",
    "    enr_ctx.go = go.ctx@result[go.ctx@result[,5]<0.05, c(2, 5, 6, 8, 9)]\n",
    "    enr_ctx.go$Tissue = 'CTX'\n",
    "    enr_hpt.go = go.hpt@result[go.hpt@result[,5]<0.05, c(2, 5, 6, 8, 9)]\n",
    "    enr_hpt.go$Tissue = 'HPT'\n",
    "    enr_hip.go = go.hip@result[go.hip@result[,5]<0.05, c(2, 5, 6, 8, 9)]\n",
    "    enr_hip.go$Tissue = 'Hippo'\n",
    "    \n",
    "    all <- rbind(enr_ctx.go, enr_hpt.go, enr_hip.go)\n",
    "    write.csv(all, file=\"GO_proteome.csv\")\n",
    "    all <- all[all$Description%in%go,]\n",
    "    colnames(all) = c('Description', 'pvalue', 'p.adjust', 'geneID', 'count', 'Tissue')\n",
    "    \n",
    "    all = rbind(enr_ctx.go, enr_hpt.go, enr_hip.go)\n",
    "    all1 = all[all$Description%in%go,]\n",
    "    \n",
    "    sig.gene.hpt.all <- bitr(dge[['hpt']]$GeneName,\n",
    "                             fromType=\"SYMBOL\",\n",
    "                             toType=\"ENTREZID\",\n",
    "                             OrgDb=org.Mm.eg.db\n",
    "    )\n",
    "    sig.gene.ctx.all <- bitr(dge[['ctx']]$GeneName, \n",
    "                             fromType=\"SYMBOL\", \n",
    "                             toType=\"ENTREZID\", \n",
    "                             OrgDb=org.Mm.eg.db\n",
    "    )\n",
    "    sig.gene.hip.all <- bitr(dge[['hippo']]$GeneName,\n",
    "                             fromType=\"SYMBOL\",\n",
    "                             toType=\"ENTREZID\",\n",
    "                             OrgDb=org.Mm.eg.db\n",
    "    )\n",
    "    # CTX\n",
    "    df_total.ctx = data.frame()\n",
    "    for(i in 1:nrow(all1)){   \n",
    "        p = as.data.frame(dge[['ctx']][which(dge[['ctx']]$GeneName%in%\n",
    "                          sig.gene.ctx.all[sig.gene.ctx.all[,2]%in%unlist(strsplit(all1$geneID[i],\"/\")),1]), c(2,3)])\n",
    "        p$pathway = all1$Description[i]\n",
    "        p$padjPath = all1$p.adjust[i]\n",
    "        p$count = all1$Count[i]\n",
    "        df_total.ctx = rbind(df_total.ctx, p)    \n",
    "    }\n",
    "    df_total.ctx$significance <- ifelse(df_total.ctx$pvalue<0.05,\n",
    "                                        \"significant\",\n",
    "                                        \"not significant\"\n",
    "    )\n",
    "    # HPT\n",
    "    df_total.hpt=data.frame()\n",
    "    for(i in 1:nrow(all1)){\n",
    "        p = as.data.frame(dge[['hpt']][which(dge[['hpt']]$GeneName%in%\n",
    "                          sig.gene.hpt.all[sig.gene.hpt.all[,2]%in%unlist(strsplit(all1$geneID[i],\"/\")),1]), c(2,3)])\n",
    "        p$pathway = all1$Description[i]\n",
    "        p$tissue = all1$Tissue[i]\n",
    "        p$padjPath = all1$pvalue[i]\n",
    "        p$count = all1$Count[i]\n",
    "        df_total.hpt = rbind(df_total.hpt, p)    \n",
    "    } \n",
    "    for(j in 1:nrow(df_total.hpt)) {if((df_total.hpt$tissue[j]=='HPT')&(df_total.hpt$pvalue[j] > 0.05)) df_total.hpt$pvalue[j]<-0.05}\n",
    "    df_total.hpt$significance <- ifelse(df_total.hpt$pvalue <= 0.05,\n",
    "                                        \"significant\",\n",
    "                                        \"not significant\"\n",
    "    )\n",
    "    # Hippo\n",
    "    df_total.hip = data.frame()\n",
    "    for(i in 1:nrow(all1)){\n",
    "        p = as.data.frame(dge[['hippo']][which(dge[['hippo']]$GeneName%in%\n",
    "                        sig.gene.hip.all[sig.gene.hip.all[,2]%in%unlist(strsplit(all1$geneID[i],\"/\")),1]),c(2,3)])\n",
    "        p$pathway = all1$Description[i]\n",
    "        p$padjPath = all1$p.adjust[i]\n",
    "        p$count = all1$Count[i]\n",
    "        df_total.hip = rbind(df_total.hip,p)    \n",
    "    }    \n",
    "    df_total.hip$col <- ifelse(df_total.hip$pvalue<=0.05,\n",
    "                               \"red\",\n",
    "                               \"grey\"\n",
    "    )\n",
    "    gsea <- list(all=all1,\n",
    "                 ctx=df_total.ctx,\n",
    "                 hpt=df_total.hpt,\n",
    "                 hippo=df_total.hip,\n",
    "                 go=go\n",
    "    )\n",
    "    save(gsea, file=\"gsea.RData\")\n",
    "} else {\n",
    "    load(\"gsea.RData\")\n",
    "}"
   ]
  },
  {
   "cell_type": "code",
   "execution_count": 25,
   "metadata": {},
   "outputs": [
    {
     "data": {
      "text/html": [
       "<strong>pdf:</strong> 2"
      ],
      "text/latex": [
       "\\textbf{pdf:} 2"
      ],
      "text/markdown": [
       "**pdf:** 2"
      ],
      "text/plain": [
       "pdf \n",
       "  2 "
      ]
     },
     "metadata": {},
     "output_type": "display_data"
    }
   ],
   "source": [
    "pdf(file=\"enrich_path.pdf\", width=15, height=15)\n",
    "    ggplot(gsea[['all']],   # \n",
    "           aes(Tissue, y=factor(Description, level=gsea[['go']][length(gsea[['go']]):1]), col=pvalue, size=Count)) + \n",
    "           geom_point() + \n",
    "           scale_colour_gradient(low=\"red\", high=\"blue\") +\n",
    "           scale_size_continuous(range=c(3, 10)) +\n",
    "           xlab(\"\") + \n",
    "           ylab(\"\") + \n",
    "           theme(axis.text.x=element_blank()) + \n",
    "           theme(legend.position=\"none\") +\n",
    "           theme(text=element_text(size=40))\n",
    "dev.off()"
   ]
  },
  {
   "cell_type": "code",
   "execution_count": 26,
   "metadata": {},
   "outputs": [
    {
     "data": {
      "text/html": [
       "<strong>pdf:</strong> 2"
      ],
      "text/latex": [
       "\\textbf{pdf:} 2"
      ],
      "text/markdown": [
       "**pdf:** 2"
      ],
      "text/plain": [
       "pdf \n",
       "  2 "
      ]
     },
     "metadata": {},
     "output_type": "display_data"
    }
   ],
   "source": [
    "pdf(file=\"enrichdot_ctx.pdf\", width=7, height=15)\n",
    "    ggplot(gsea[['ctx']], aes(log2FoldChange, y=factor(pathway, level=gsea[['go']][length(gsea[['go']]):1]))) + \n",
    "           geom_point(aes(colour=significance, size=-log10(pvalue)), alpha=0.5) + \n",
    "           scale_color_manual(values=c(\"gray85\", \"red\")) + \n",
    "           scale_size_continuous(range=c(0, 7.5)) +  #\n",
    "           geom_vline(xintercept=0) +\n",
    "           theme(axis.title=element_text(size=20),\n",
    "                 title=element_text(size=20), \n",
    "                 text = element_text(size=35)) + #guides(color=guide_legend(override.aes=list(size=5) ) ) +\n",
    "           theme(legend.position=\"none\") + \n",
    "           theme(axis.text.y=element_blank()) + \n",
    "           ylab(\"\") +\n",
    "           xlab(\"\") + \n",
    "           xlim(-2.68, 3.82)\n",
    "dev.off()"
   ]
  },
  {
   "cell_type": "code",
   "execution_count": 27,
   "metadata": {},
   "outputs": [
    {
     "data": {
      "text/html": [
       "<strong>pdf:</strong> 2"
      ],
      "text/latex": [
       "\\textbf{pdf:} 2"
      ],
      "text/markdown": [
       "**pdf:** 2"
      ],
      "text/plain": [
       "pdf \n",
       "  2 "
      ]
     },
     "metadata": {},
     "output_type": "display_data"
    }
   ],
   "source": [
    "pdf(file=\"enrichdot_hpt.pdf\", width=7, height=15)\n",
    "    ggplot(gsea[['hpt']], aes(log2FoldChange, y=factor(pathway, level=gsea[['go']][length(gsea[['go']]):1]))) + \n",
    "           geom_point(aes(colour=significance, size= -log10(pvalue)), alpha=0.5) + \n",
    "           scale_color_manual(values=c(\"gray85\", \"red\")) + \n",
    "           scale_size_continuous(range=c(0, 8.5)) +  #\n",
    "           geom_vline(xintercept=0) +\n",
    "           theme(axis.title=element_text(size=20),\n",
    "                 title=element_text(size=20), \n",
    "                 text=element_text(size=35)) + \n",
    "           theme(legend.position=\"none\") + \n",
    "           theme(axis.text.y=element_blank()) + \n",
    "           ylab(\"\") +\n",
    "           xlab(\"\") + \n",
    "           xlim(-2.68, 3.82)\n",
    "dev.off()"
   ]
  },
  {
   "cell_type": "code",
   "execution_count": 28,
   "metadata": {},
   "outputs": [
    {
     "data": {
      "text/html": [
       "<strong>pdf:</strong> 2"
      ],
      "text/latex": [
       "\\textbf{pdf:} 2"
      ],
      "text/markdown": [
       "**pdf:** 2"
      ],
      "text/plain": [
       "pdf \n",
       "  2 "
      ]
     },
     "metadata": {},
     "output_type": "display_data"
    }
   ],
   "source": [
    "pdf(file=\"enrichdot_hippo.pdf\", width=7, height=15)\n",
    "\n",
    "    ggplot(gsea[['hippo']], aes(log2FoldChange, y=factor(pathway, level=gsea[['go']][length(gsea[['go']]):1]))) + \n",
    "           geom_point(aes(colour=col, size=-log10(pvalue)), alpha=0.5) + \n",
    "           scale_color_manual(values=c(\"gray85\", \"red\"))+ \n",
    "           scale_size_continuous(range = c(0, 7.5)) +\n",
    "           geom_vline(xintercept=0) +\n",
    "           theme(axis.title=element_text(size=20),\n",
    "                 title=element_text(size=20), \n",
    "                 text = element_text(size=35)) +\n",
    "           theme(legend.position=\"none\") + \n",
    "           theme(axis.text.y=element_blank()) + \n",
    "           ylab(\"\") + \n",
    "           xlab(\"\") + \n",
    "           xlim(-2.68, 3.82)\n",
    "dev.off()"
   ]
  },
  {
   "cell_type": "markdown",
   "metadata": {},
   "source": [
    "## Heatmap microglia genes"
   ]
  },
  {
   "cell_type": "code",
   "execution_count": 39,
   "metadata": {},
   "outputs": [],
   "source": [
    "datfin = data.frame(CTX_chow = apply(dat %>% select(ends_with(\"CTX\") & starts_with(\"Chow\")), 1, mean),\n",
    "                    CTX_hfd = apply(dat %>% select(ends_with(\"CTX\") & starts_with(\"HFD\")), 1, mean),\n",
    "                    HPT_chow = apply(dat %>% select(ends_with(\"HPT\") & starts_with(\"Chow\")), 1, mean),\n",
    "                    HPT_hfd = apply(dat %>% select(ends_with(\"HPT\") & starts_with(\"HFD\")), 1, mean),\n",
    "                    Hippo_chow = apply(dat %>% select(ends_with(\"Hippo\") & starts_with(\"Chow\")), 1, mean),\n",
    "                    Hippo_hfd = apply(dat %>% select(ends_with(\"Hippo\") & starts_with(\"HFD\")), 1, mean))\n",
    "\n",
    "\n",
    "pan = datfin[rownames(datfin)%in%c('Lcn2','Steap4','S1pr3','Timp1','Hsbp1','Cxcl10','Cd44',\n",
    "                                   'Osmr','Cp','Serpina3n','Aspg','Vim','Gfap'),]\n",
    "a1 = datfin[rownames(datfin)%in%c('Serping1','H2-D1','Ggta1','Iigp1','Gbp2','Fbln5','Fkbp5','Psmb8',\n",
    "                                  'Srgn','Amigo2','C3','H2-T23'),]\n",
    "a2 = datfin[rownames(datfin)%in%c('Clcf1','Tgm1','Ptx3','S100a10','Sphk1','Cd109','Ptgs2',\n",
    "                                  'Emp1','Slc10a6','Tm4sf1','B3gnt5','Cd14','Stat3'),]\n",
    "\n",
    "pan = pan[order(row.names(pan)),]\n",
    "a1 = a1[order(row.names(a1)),]\n",
    "a2 = a2[order(row.names(a2)),]\n",
    "mat = rbind(pan, a1, a2)    "
   ]
  },
  {
   "cell_type": "code",
   "execution_count": 44,
   "metadata": {},
   "outputs": [
    {
     "data": {
      "image/png": "[encoded data removed]",
      "text/plain": [
       "plot without title"
      ]
     },
     "metadata": {
      "image/png": {
       "height": 300,
       "width": 600
      }
     },
     "output_type": "display_data"
    }
   ],
   "source": [
    "options(repr.plot.width=10, repr.plot.height=5)\n",
    "mat1 = as.matrix(t(mat))\n",
    "pheatmap(mat1, \n",
    "         scale=\"column\",\n",
    "         show_rownames=T, \n",
    "         show_colnames=T,\n",
    "         color=my_palette, \n",
    "         cluster_cols=F,\n",
    "         cluster_rows=F, \n",
    "         gaps_col=c(6,9),\n",
    "         gaps_row=c(2,4,6), \n",
    "         fontsize=18,\n",
    "         #filename=\"heatmap_ACSA2.pdf\",\n",
    "         legend=F,\n",
    "         width=5, \n",
    "         height=8\n",
    ") "
   ]
  },
  {
   "cell_type": "code",
   "execution_count": null,
   "metadata": {},
   "outputs": [],
   "source": []
  }
 ],
 "metadata": {
  "kernelspec": {
   "display_name": "R",
   "language": "R",
   "name": "ir"
  },
  "language_info": {
   "codemirror_mode": "r",
   "file_extension": ".r",
   "mimetype": "text/x-r-source",
   "name": "R",
   "pygments_lexer": "r",
   "version": "4.0.3"
  }
 },
 "nbformat": 4,
 "nbformat_minor": 2
}
