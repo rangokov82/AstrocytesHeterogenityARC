{
 "cells": [
  {
   "cell_type": "markdown",
   "metadata": {},
   "source": [
    "# Analysis of Astrocytes in the medial Arcuate Nucleus Data Set"
   ]
  },
  {
   "cell_type": "markdown",
   "metadata": {},
   "source": [
    "## Table of contents:\n",
    "\n",
    "* <a href=#Load>Load Packages and Set Global Variables</a>\n",
    "    * <a href=#Imports>Imports and Settings</a>\n",
    "    * <a href=#Global>Global Variables</a> \n",
    "* <a href=#Dataloading>Loading Data, Quality Control and Preprocessing</a>\n",
    "    * <a href=#Counts>Gene numbers and counts with and without mitochondrial RNA</a>\n",
    "* <a href=#Allcells>All cells - normalization, projection and clustering</a>\n",
    "* <a href=#Define>Define Cell Types</a>\n",
    "* <a href=#astrocytes>Astrocytes Only</a>\n",
    "    * <a href=#Embedding>Embeddings and Clustering</a>\n",
    "    * <a href=#adipmarkers>Astrocyte Marker Analysis</a>\n",
    "    * <a href=#topde>Top ranking DE Genes</a>\n",
    "    * <a href=#count_dist>Count distribution for Gfap, Aldh1l1 and Slc1a3</a>\n",
    "* <a href=#traject>Gfap and Aldh1l1 only</a>"
   ]
  },
  {
   "cell_type": "markdown",
   "metadata": {},
   "source": [
    "<a id=\"Load\"></a>"
   ]
  },
  {
   "cell_type": "markdown",
   "metadata": {},
   "source": [
    "# Load Packages and Set Global Variables"
   ]
  },
  {
   "cell_type": "markdown",
   "metadata": {},
   "source": [
    "<a id=\"imports\"></a>"
   ]
  },
  {
   "cell_type": "markdown",
   "metadata": {},
   "source": [
    "## Imports and Settings"
   ]
  },
  {
   "cell_type": "code",
   "execution_count": 2,
   "metadata": {},
   "outputs": [
    {
     "name": "stderr",
     "output_type": "stream",
     "text": [
      "WARNING: If you miss a compact list, please try `print_header`!\n"
     ]
    },
    {
     "name": "stdout",
     "output_type": "stream",
     "text": [
      "-----\n",
      "anndata     0.7.5\n",
      "scanpy      1.7.1\n",
      "sinfo       0.3.1\n",
      "-----\n",
      "PIL                 8.1.2\n",
      "PyObjCTools         NA\n",
      "anndata             0.7.5\n",
      "appdirs             1.4.4\n",
      "appnope             0.1.2\n",
      "autoreload          NA\n",
      "backcall            0.2.0\n",
      "batchglm            v0.7.4\n",
      "bioservices         1.7.11\n",
      "bs4                 4.9.3\n",
      "certifi             2020.12.05\n",
      "cffi                1.14.5\n",
      "chardet             4.0.0\n",
      "cloudpickle         1.6.0\n",
      "colorama            0.4.4\n",
      "colorlog            NA\n",
      "custom_functions    NA\n",
      "cycler              0.10.0\n",
      "cython_runtime      NA\n",
      "dask                2021.03.0\n",
      "dateutil            2.8.1\n",
      "decorator           4.4.2\n",
      "diffxpy             v0.7.4\n",
      "docutils            0.16\n",
      "easydev             0.11.0\n",
      "get_version         2.1\n",
      "gprofiler           1.0.0\n",
      "gseapy              0.10.4\n",
      "h5py                3.2.1\n",
      "idna                2.10\n",
      "igraph              0.9.0\n",
      "ipykernel           5.4.3\n",
      "ipython_genutils    0.2.0\n",
      "ipywidgets          7.6.3\n",
      "jedi                0.17.2\n",
      "joblib              1.0.1\n",
      "kiwisolver          1.3.1\n",
      "legacy_api_wrap     1.2\n",
      "leidenalg           0.8.3\n",
      "llvmlite            0.36.0\n",
      "lxml                4.6.3\n",
      "matplotlib          3.3.4\n",
      "matplotlib_venn     0.11.6\n",
      "mpl_toolkits        NA\n",
      "natsort             7.1.1\n",
      "numba               0.53.0\n",
      "numexpr             2.7.3\n",
      "numpy               1.20.1\n",
      "packaging           20.9\n",
      "pandas              1.2.3\n",
      "parso               0.7.0\n",
      "patsy               0.5.1\n",
      "pexpect             4.8.0\n",
      "pickleshare         0.7.5\n",
      "pkg_resources       NA\n",
      "prompt_toolkit      3.0.14\n",
      "psutil              5.8.0\n",
      "ptyprocess          0.7.0\n",
      "pyexpat             NA\n",
      "pygments            2.7.4\n",
      "pylab               NA\n",
      "pyparsing           2.4.7\n",
      "pytz                2021.1\n",
      "requests            2.25.1\n",
      "requests_cache      0.5.2\n",
      "scanpy              1.7.1\n",
      "scipy               1.6.1\n",
      "seaborn             0.11.1\n",
      "sinfo               0.3.1\n",
      "six                 1.15.0\n",
      "sklearn             0.24.1\n",
      "soupsieve           2.2.1\n",
      "sparse              0.12.0\n",
      "sphinxcontrib       NA\n",
      "statsmodels         0.12.2\n",
      "storemagic          NA\n",
      "tables              3.6.1\n",
      "texttable           1.6.3\n",
      "tlz                 0.11.1\n",
      "toolz               0.11.1\n",
      "tornado             6.1\n",
      "traitlets           5.0.5\n",
      "typing_extensions   NA\n",
      "urllib3             1.26.3\n",
      "wcwidth             0.2.5\n",
      "wrapt               1.12.1\n",
      "yaml                5.4.1\n",
      "zmq                 22.0.2\n",
      "zope                NA\n",
      "-----\n",
      "IPython             7.20.0\n",
      "jupyter_client      6.1.11\n",
      "jupyter_core        4.7.1\n",
      "notebook            6.2.0\n",
      "-----\n",
      "Python 3.9.2 (v3.9.2:1a79785e3e, Feb 19 2021, 09:06:10) [Clang 6.0 (clang-600.0.57)]\n",
      "macOS-10.16-x86_64-i386-64bit\n",
      "12 logical CPU cores, i386\n",
      "-----\n",
      "Session information updated at 2021-04-17 05:41\n",
      "\n",
      "3.9.2 (v3.9.2:1a79785e3e, Feb 19 2021, 09:06:10) \n",
      "[Clang 6.0 (clang-600.0.57)]\n"
     ]
    }
   ],
   "source": [
    "import numpy as np\n",
    "import scanpy as sc\n",
    "import scipy as sci\n",
    "import scipy.sparse\n",
    "import pandas as pd\n",
    "import seaborn as sb\n",
    "import matplotlib as mpl\n",
    "import matplotlib.pyplot as plt\n",
    "from matplotlib import colors\n",
    "from gprofiler import GProfiler\n",
    "import custom_functions as cf\n",
    "from scipy import stats\n",
    "import matplotlib_venn\n",
    "import statistics\n",
    "import gseapy\n",
    "import sys\n",
    "import re\n",
    "import os\n",
    "\n",
    "import batchglm\n",
    "import diffxpy.api as de\n",
    "\n",
    "import warnings\n",
    "warnings.filterwarnings('ignore')\n",
    "\n",
    "%load_ext autoreload\n",
    "%autoreload 2\n",
    "sc.settings.verbosity = 3 # amount of output\n",
    "\n",
    "base_dir = '/Users/viktorian.miok/Documents/consultation/Luiza/single_cell/data/scanpy_AnnData/'\n",
    "dir_out = '/Users/viktorian.miok/Documents/consultation/Luiza/single_cell/results/'\n",
    "dir_tables = dir_out+'tables/'\n",
    "sc_settings_figdir = dir_out+'figures/'\n",
    "sc_settings_writedir = dir_out+'anndata/'\n",
    "sc.logging.print_versions()\n",
    "os.chdir(dir_out)\n",
    "sc.settings.set_figure_params(dpi=80, scanpy=True)\n",
    "print (sys.version)"
   ]
  },
  {
   "cell_type": "code",
   "execution_count": 3,
   "metadata": {},
   "outputs": [],
   "source": [
    "#Define a nice colour map for gene expression\n",
    "colors2 = plt.cm.Reds(np.linspace(0, 1, 128))\n",
    "colors3 = plt.cm.Greys_r(np.linspace(0.7,0.8,20))\n",
    "colorsComb = np.vstack([colors3, colors2])\n",
    "mymap = colors.LinearSegmentedColormap.from_list('my_colormap', colorsComb)"
   ]
  },
  {
   "cell_type": "markdown",
   "metadata": {},
   "source": [
    "## Global Variables"
   ]
  },
  {
   "cell_type": "markdown",
   "metadata": {},
   "source": [
    "All embeddings and clusterings can be saved and loaded into this script. Be carful with overwriting cluster caches as soon as cell type annotation has started as cluster labels may be shuffled."
   ]
  },
  {
   "cell_type": "markdown",
   "metadata": {},
   "source": [
    "Set whether anndata objects are recomputed or loaded from cache."
   ]
  },
  {
   "cell_type": "code",
   "execution_count": 4,
   "metadata": {},
   "outputs": [],
   "source": [
    "bool_recomp = False"
   ]
  },
  {
   "cell_type": "markdown",
   "metadata": {},
   "source": [
    "Set whether clustering is recomputed or loaded from saved .obs file. Loading makes sense if the clustering changes due to a change in scanpy or one of its dependencies and the number of clusters or the cluster labels change accordingly."
   ]
  },
  {
   "cell_type": "code",
   "execution_count": 5,
   "metadata": {},
   "outputs": [],
   "source": [
    "bool_recluster = False"
   ]
  },
  {
   "cell_type": "markdown",
   "metadata": {},
   "source": [
    "Set whether cluster cache is overwritten. Note that the cache exists for reproducibility of clustering, see above."
   ]
  },
  {
   "cell_type": "code",
   "execution_count": 6,
   "metadata": {},
   "outputs": [],
   "source": [
    "bool_write_cluster_cache = False"
   ]
  },
  {
   "cell_type": "markdown",
   "metadata": {},
   "source": [
    "Set whether to produce plots, set to False for test runs."
   ]
  },
  {
   "cell_type": "code",
   "execution_count": 7,
   "metadata": {},
   "outputs": [],
   "source": [
    "bool_plot = False"
   ]
  },
  {
   "cell_type": "markdown",
   "metadata": {},
   "source": [
    "Set whether observations should be calculated. If false, it is necessary to read cacheed file that contains the necssary information. It then shows the the distributions of counts and genes, as well as mt_frac after filtering. \n",
    "Set to true in order to see the data before filtering and follow the decisions for cutoffs."
   ]
  },
  {
   "cell_type": "code",
   "execution_count": 8,
   "metadata": {},
   "outputs": [],
   "source": [
    "bool_create_observations = True"
   ]
  },
  {
   "cell_type": "markdown",
   "metadata": {},
   "source": [
    "<a id=\"Dataloading\"></a>"
   ]
  },
  {
   "cell_type": "markdown",
   "metadata": {},
   "source": [
    "# Loading Data, Quality Control and Preprocessing"
   ]
  },
  {
   "cell_type": "markdown",
   "metadata": {},
   "source": [
    "Read the data in:"
   ]
  },
  {
   "cell_type": "code",
   "execution_count": 9,
   "metadata": {},
   "outputs": [],
   "source": [
    "if bool_recomp:\n",
    "    adata_raw1 = sc.read(base_dir + 'MUC26030/filtered_feature_bc_matrix.h5ad')\n",
    "    adata_raw2 = sc.read(base_dir + 'MUC26031/filtered_feature_bc_matrix.h5ad')\n",
    "    adata_raw3 = sc.read(base_dir + 'MUC26032/filtered_feature_bc_matrix.h5ad')\n",
    "    adata_raw = adata_raw1.concatenate([adata_raw2, adata_raw3],\n",
    "                                       batch_key='diet', \n",
    "                                       batch_categories=['chow', 'hfd_5', 'hfd_15']\n",
    "    )\n",
    "    sc.write(sc_settings_writedir+'adata_raw.h5ad', adata_raw)\n",
    "else:\n",
    "    adata_raw = sc.read(sc_settings_writedir+'adata_raw.h5ad')"
   ]
  },
  {
   "cell_type": "markdown",
   "metadata": {},
   "source": [
    "<a id=\"QC\"></a>"
   ]
  },
  {
   "cell_type": "markdown",
   "metadata": {},
   "source": [
    "Summary of steps performed here: Only cells with at least 500 UMIs are kept. Counts per cell are cell library depth normalized. The gene (feature) space is reduced with PCA to 50 PCs. A nearest neighbour graph and umap are computed based on the PC space. Cell are clustered with louvain clustering based on the nearest neighbour graph. Graph abstraction is computed based on the louvain clustering."
   ]
  },
  {
   "cell_type": "code",
   "execution_count": 10,
   "metadata": {},
   "outputs": [],
   "source": [
    "sc.pp.filter_cells(adata_raw, min_counts = 1)"
   ]
  },
  {
   "cell_type": "markdown",
   "metadata": {},
   "source": [
    "The data contains 21143 observations with 31253 different genes. Due to dropouts, some of the observations might not show any counts and genes. In order to calculate the fraction of mitochondrial RNA in the next steps, each observations without counts must be filtered out to prevent NaN from emerging. "
   ]
  },
  {
   "cell_type": "code",
   "execution_count": 11,
   "metadata": {},
   "outputs": [
    {
     "name": "stdout",
     "output_type": "stream",
     "text": [
      "Number of cells: 21143\n",
      "Number of genes: 31253\n",
      "Number of cells per diet:\n"
     ]
    },
    {
     "data": {
      "text/plain": [
       "chow      7116\n",
       "hfd_5     6204\n",
       "hfd_15    7823\n",
       "Name: diet, dtype: int64"
      ]
     },
     "execution_count": 11,
     "metadata": {},
     "output_type": "execute_result"
    }
   ],
   "source": [
    "print('Number of cells: {:d}'.format(adata_raw.n_obs))\n",
    "print('Number of genes: {:d}'.format(adata_raw.shape[1]))\n",
    "print('Number of cells per diet:')\n",
    "adata_raw.obs['diet'].value_counts().sort_index()"
   ]
  },
  {
   "cell_type": "markdown",
   "metadata": {},
   "source": [
    "### Gene numbers and counts with and without mitochondrial RNA"
   ]
  },
  {
   "cell_type": "markdown",
   "metadata": {},
   "source": [
    "Create necessary obs:"
   ]
  },
  {
   "cell_type": "code",
   "execution_count": 12,
   "metadata": {},
   "outputs": [],
   "source": [
    "adata_qc = adata_raw.copy()\n",
    "adata_qc.obs['n_genes'] = (adata_qc.X > 0).sum(1)\n",
    "mt_gene_mask = [gene.startswith('mt-') for gene in adata_qc.var_names]\n",
    "temp_mt_sum = adata_qc[:,mt_gene_mask].X.sum(1)\n",
    "temp_mt_sum = np.squeeze(np.asarray(temp_mt_sum))\n",
    "adata_qc.obs['n_counts'] = adata_qc.X.sum(1)\n",
    "temp_n_counts = adata_qc.obs['n_counts']\n",
    "adata_qc.obs['mt_frac'] = temp_mt_sum/adata_qc.obs['n_counts']"
   ]
  },
  {
   "cell_type": "markdown",
   "metadata": {},
   "source": [
    "Plot n_counts and mt_frac:"
   ]
  },
  {
   "cell_type": "code",
   "execution_count": 13,
   "metadata": {},
   "outputs": [],
   "source": [
    "if bool_plot == True:\n",
    "    t1 = sc.pl.violin(adata_qc, ['n_counts', 'n_genes', 'mt_frac'], size =1, log=False, jitter=3, multi_panel=True)"
   ]
  },
  {
   "cell_type": "code",
   "execution_count": 14,
   "metadata": {},
   "outputs": [],
   "source": [
    "if bool_plot==True:\n",
    "    sc.pl.highest_expr_genes(adata_qc, n_top=20) "
   ]
  },
  {
   "cell_type": "markdown",
   "metadata": {},
   "source": [
    "Overall, the data contains a lot of observations with high fractions of mitochondrial RNA. Additionally, most observations show counts below 100, suggesting poor data quality. To further investigate the distributions counts over genes per observations, scatterplots are created:"
   ]
  },
  {
   "cell_type": "markdown",
   "metadata": {},
   "source": [
    "### Number of Genes versus Number of Counts"
   ]
  },
  {
   "cell_type": "code",
   "execution_count": 15,
   "metadata": {},
   "outputs": [],
   "source": [
    "if bool_plot == True:\n",
    "    p1 = sc.pl.scatter(adata_qc, 'n_counts','n_genes',color='mt_frac', size = 5)\n",
    "    p2 = sc.pl.scatter(adata_qc[adata_qc.obs['n_counts']<5000],'n_counts','n_genes',color = 'mt_frac', size = 5)"
   ]
  },
  {
   "cell_type": "markdown",
   "metadata": {},
   "source": [
    "### Distribution of Counts and Genes"
   ]
  },
  {
   "cell_type": "markdown",
   "metadata": {},
   "source": [
    "For the remaining observations, the fraction of mitochondrial RNA is generally very low and at most 20%"
   ]
  },
  {
   "cell_type": "code",
   "execution_count": 16,
   "metadata": {},
   "outputs": [],
   "source": [
    "if bool_plot == True:\n",
    "    p6 = sb.distplot(adata_qc.obs['n_counts'], kde = False)\n",
    "    plt.show()\n",
    "    p7 = sb.distplot(adata_qc.obs['n_counts'][adata_qc.obs['n_counts']<1000], kde = False)\n",
    "    plt.show()"
   ]
  },
  {
   "cell_type": "code",
   "execution_count": 17,
   "metadata": {},
   "outputs": [],
   "source": [
    "if bool_plot == True:\n",
    "    p9 = sb.distplot(adata_qc.obs['n_genes'],kde = False, bins=60)\n",
    "    plt.show()\n",
    "    p10 = sb.distplot(adata_qc.obs['n_genes'][adata_qc.obs['n_genes']<500],kde = False, bins=60)\n",
    "    plt.show()"
   ]
  },
  {
   "cell_type": "markdown",
   "metadata": {},
   "source": [
    "### Filtering"
   ]
  },
  {
   "cell_type": "code",
   "execution_count": 18,
   "metadata": {},
   "outputs": [
    {
     "name": "stdout",
     "output_type": "stream",
     "text": [
      "Total number of cells: 21143\n"
     ]
    },
    {
     "name": "stderr",
     "output_type": "stream",
     "text": [
      "filtered out 35 cells that have more than 100000 counts\n"
     ]
    },
    {
     "name": "stdout",
     "output_type": "stream",
     "text": [
      "Number of cells after min count filter: 21143\n",
      "Number of cells after max count filter: 21108\n",
      "Number of cells after MT filter: 20491\n"
     ]
    },
    {
     "name": "stderr",
     "output_type": "stream",
     "text": [
      "filtered out 496 cells that have less than 350 genes expressed\n",
      "Trying to set attribute `.obs` of view, copying.\n"
     ]
    },
    {
     "name": "stdout",
     "output_type": "stream",
     "text": [
      "Number of cells after gene filter: 19995\n"
     ]
    }
   ],
   "source": [
    "# Filter cells according to identified QC thresholds:\n",
    "print('Total number of cells: {:d}'.format(adata_qc.n_obs))\n",
    "\n",
    "sc.pp.filter_cells(adata_qc, min_counts = 200)\n",
    "print('Number of cells after min count filter: {:d}'.format(adata_qc.n_obs))\n",
    "\n",
    "sc.pp.filter_cells(adata_qc, max_counts = 100000)\n",
    "print('Number of cells after max count filter: {:d}'.format(adata_qc.n_obs))\n",
    "\n",
    "adata_qc = adata_qc[adata_qc.obs['mt_frac'] < 0.5]\n",
    "print('Number of cells after MT filter: {:d}'.format(adata_qc.n_obs))\n",
    "\n",
    "sc.pp.filter_cells(adata_qc, min_genes = 350)\n",
    "print('Number of cells after gene filter: {:d}'.format(adata_qc.n_obs))"
   ]
  },
  {
   "cell_type": "code",
   "execution_count": 19,
   "metadata": {},
   "outputs": [
    {
     "name": "stdout",
     "output_type": "stream",
     "text": [
      "Total number of genes: 31253\n"
     ]
    },
    {
     "name": "stderr",
     "output_type": "stream",
     "text": [
      "filtered out 13164 genes that are detected in less than 20 cells\n"
     ]
    },
    {
     "name": "stdout",
     "output_type": "stream",
     "text": [
      "Number of genes after cell filter: 18089\n"
     ]
    }
   ],
   "source": [
    "#Filter genes:\n",
    "print('Total number of genes: {:d}'.format(adata_qc.n_vars))\n",
    "\n",
    "# Min 20 cells - filters out 0 count genes\n",
    "sc.pp.filter_genes(adata_qc, min_cells=20)\n",
    "print('Number of genes after cell filter: {:d}'.format(adata_qc.n_vars))"
   ]
  },
  {
   "cell_type": "code",
   "execution_count": 20,
   "metadata": {},
   "outputs": [],
   "source": [
    "if bool_plot == True:\n",
    "    p1 = sc.pl.scatter(adata_qc, 'n_counts','n_genes',color='mt_frac', size = 5)\n",
    "    p3 = sc.pl.scatter(adata_qc[adata_qc.obs['n_counts']<5000],'n_counts','n_genes',color = 'mt_frac', size = 5)"
   ]
  },
  {
   "cell_type": "markdown",
   "metadata": {},
   "source": [
    "## All cells - normalization, projection and clustering"
   ]
  },
  {
   "cell_type": "code",
   "execution_count": 21,
   "metadata": {
    "scrolled": false
   },
   "outputs": [
    {
     "name": "stderr",
     "output_type": "stream",
     "text": [
      "running PAGA\n",
      "    finished: added\n",
      "    'paga/connectivities', connectivities adjacency (adata.uns)\n",
      "    'paga/connectivities_tree', connectivities subtree (adata.uns) (0:00:01)\n"
     ]
    }
   ],
   "source": [
    "if bool_recomp == True:\n",
    "        \n",
    "    adata_proc = adata_qc.copy()\n",
    "    adata_proc.raw = adata_qc\n",
    "    sc.pp.normalize_per_cell(adata_proc)\n",
    "    sc.pp.log1p(adata_proc)\n",
    "    sc.pp.combat(adata_proc, key='diet')\n",
    "    sc.pp.highly_variable_genes(adata_proc, flavor='cell_ranger',n_top_genes=4000)\n",
    "    sc.pl.highly_variable_genes(adata_proc)\n",
    "    #adata_proc.X = adata_proc.X.toarray()\n",
    "    \n",
    "    sc.pp.pca(adata_proc, n_comps=50, random_state=0, use_highly_variable=True, svd_solver='arpack')\n",
    "    sc.pp.neighbors(adata_proc, n_neighbors=100, knn=True, method='umap', n_pcs=50, random_state=0)\n",
    "    sc.tl.umap(adata_proc)\n",
    "    if bool_recluster == True:\n",
    "        #sc.tl.louvain(adata_proc, resolution=0.5, flavor='vtraag', random_state=0)\n",
    "        sc.tl.leiden(adata_proc, resolution=0.3)\n",
    "        pd.DataFrame(adata_proc.obs).to_csv(path_or_buf =sc_settings_writedir+\"obs_adata_proc.csv\")\n",
    "    else:\n",
    "        obs = pd.read_csv(sc_settings_writedir+'obs_adata_proc.csv')\n",
    "        adata_proc.obs['leiden']=pd.Series(obs['leiden'].values, dtype = 'category')\n",
    "    sc.write(sc_settings_writedir+'adata_proc.h5ad',adata_proc)\n",
    "else:\n",
    "    adata_proc = sc.read(sc_settings_writedir+'adata_proc.h5ad') \n",
    "sc.tl.paga(adata_proc)"
   ]
  },
  {
   "cell_type": "markdown",
   "metadata": {},
   "source": [
    "Produce some summarizing plots that show the global characteristics of the data."
   ]
  },
  {
   "cell_type": "code",
   "execution_count": 22,
   "metadata": {},
   "outputs": [],
   "source": [
    "if bool_plot == True:\n",
    "    cf.plot_umap_marker(adata_proc, ['leiden'], save=\"_all_cells_leiden\", use_raw=False)"
   ]
  },
  {
   "cell_type": "code",
   "execution_count": 23,
   "metadata": {},
   "outputs": [],
   "source": [
    "if bool_plot == True:\n",
    "    cf.plot_umap_marker(adata_proc, ['leiden'], save=\"_all_cells_leiden_ondata\", use_raw=False, legend_loc='on data')"
   ]
  },
  {
   "cell_type": "code",
   "execution_count": 24,
   "metadata": {},
   "outputs": [],
   "source": [
    "if bool_plot == True:\n",
    "    cf.plot_umap_marker(adata_proc, ['n_genes','n_counts','mt_frac'], color_map=mymap, size=10, save=\"_all_cells_n_gene_count_mt\", use_raw = False)"
   ]
  },
  {
   "cell_type": "markdown",
   "metadata": {},
   "source": [
    "A high fraction of mitochondrial RNA is in cluster 3 and around the central cluster 8."
   ]
  },
  {
   "cell_type": "code",
   "execution_count": 25,
   "metadata": {},
   "outputs": [],
   "source": [
    "if bool_plot == True:\n",
    "    cf.plot_umap_marker(adata_proc, ['Gfap','Aldh1l1'], color_map=mymap, size=20, save=\"_all_cells_gfap-aldh\", use_raw = False)"
   ]
  },
  {
   "cell_type": "code",
   "execution_count": 26,
   "metadata": {},
   "outputs": [],
   "source": [
    "if bool_plot == True:\n",
    "    cf.plot_umap_marker(adata_proc, ['diet'], save=\"_all_cells_diet\", use_raw=False)"
   ]
  },
  {
   "cell_type": "code",
   "execution_count": 27,
   "metadata": {},
   "outputs": [],
   "source": [
    "if bool_plot == True:\n",
    "    sc.pl.paga(adata_proc, save=\"_all_cells.png\")"
   ]
  },
  {
   "cell_type": "code",
   "execution_count": 28,
   "metadata": {},
   "outputs": [],
   "source": [
    "if bool_plot == True:\n",
    "    cf.cell_percent(adata_proc, cluster='leiden', condition='diet', xlabel='clusters', ylabel='percentage', \n",
    "                 title='barplot_all_cells_diet_per_clusters', save=sc_settings_figdir, table=False)"
   ]
  },
  {
   "cell_type": "code",
   "execution_count": 29,
   "metadata": {},
   "outputs": [],
   "source": [
    "if bool_plot == True:\n",
    "    aldh_pos = adata_proc.obs_names[np.asarray(adata_proc[:,'Aldh1l1'].X).flatten()>0]\n",
    "    gfap_pos = adata_proc.obs_names[np.asarray(adata_proc[:,'Gfap'].X).flatten()>0]\n",
    "    glast_pos = adata_proc.obs_names[np.asarray(adata_proc[:,'Slc1a3'].X).flatten()>0]\n",
    "\n",
    "    matplotlib_venn.venn3([\n",
    "        set(aldh_pos),\n",
    "        set(gfap_pos),\n",
    "        set(glast_pos)\n",
    "    ], set_labels = (\"Aldh1l1\", \"Gfap\", \"Slc1a3\"))\n",
    "    plt.savefig(sc_settings_figdir+'venndiagram_all_cells_gfap-aldh-glast.png')"
   ]
  },
  {
   "cell_type": "code",
   "execution_count": 30,
   "metadata": {},
   "outputs": [],
   "source": [
    "if bool_plot == True:\n",
    "    aldh_pos = adata_proc.obs_names[np.asarray(adata_proc[:,'Aldh1l1'].X).flatten()>0]\n",
    "    gfap_pos = adata_proc.obs_names[np.asarray(adata_proc[:,'Gfap'].X).flatten()>0]\n",
    "\n",
    "    matplotlib_venn.venn2([\n",
    "        set(aldh_pos),\n",
    "        set(gfap_pos)\n",
    "    ], set_labels = (\"Aldh1l1\", \"Gfap\"))#, \"Slc1a3\"))\n",
    "    plt.savefig(sc_settings_figdir+'venndiagram_all_cells_gfap-aldh.png')"
   ]
  },
  {
   "cell_type": "markdown",
   "metadata": {},
   "source": [
    "Number of cells in each cluster:"
   ]
  },
  {
   "cell_type": "code",
   "execution_count": 31,
   "metadata": {},
   "outputs": [
    {
     "data": {
      "text/plain": [
       "0     3921\n",
       "1     2547\n",
       "2     2386\n",
       "3     2247\n",
       "4     1466\n",
       "5     1403\n",
       "6     1233\n",
       "7     1080\n",
       "8     1075\n",
       "9     1056\n",
       "10     877\n",
       "11     515\n",
       "12     109\n",
       "13      80\n",
       "Name: leiden, dtype: int64"
      ]
     },
     "execution_count": 31,
     "metadata": {},
     "output_type": "execute_result"
    }
   ],
   "source": [
    "adata_proc.obs[\"leiden\"].value_counts()"
   ]
  },
  {
   "cell_type": "markdown",
   "metadata": {},
   "source": [
    "# Define Cell Types"
   ]
  },
  {
   "cell_type": "markdown",
   "metadata": {},
   "source": [
    "<a id=\"DE\"></a>"
   ]
  },
  {
   "cell_type": "markdown",
   "metadata": {},
   "source": [
    "## DE Genes"
   ]
  },
  {
   "cell_type": "code",
   "execution_count": 32,
   "metadata": {
    "scrolled": false
   },
   "outputs": [
    {
     "name": "stderr",
     "output_type": "stream",
     "text": [
      "WARNING: Default of the method has been changed to 't-test' from 't-test_overestim_var'\n",
      "ranking genes\n",
      "    finished: added to `.uns['rank_genes']`\n",
      "    'names', sorted np.recarray to be indexed by group ids\n",
      "    'scores', sorted np.recarray to be indexed by group ids\n",
      "    'logfoldchanges', sorted np.recarray to be indexed by group ids\n",
      "    'pvals', sorted np.recarray to be indexed by group ids\n",
      "    'pvals_adj', sorted np.recarray to be indexed by group ids (0:00:04)\n"
     ]
    }
   ],
   "source": [
    "sc.tl.rank_genes_groups(adata_proc, groupby='leiden', key_added='rank_genes')\n",
    "\n",
    "if bool_plot==True:\n",
    "    sc.pl.rank_genes_groups(adata_proc, key='rank_genes', groups=['0','1','2'], save=\"_all_cells_1.png\")\n",
    "    sc.pl.rank_genes_groups(adata_proc, key='rank_genes', groups=['3','4','5'], save=\"_all_cells_2.png\")\n",
    "    sc.pl.rank_genes_groups(adata_proc, key='rank_genes', groups=['6','7','8'], save=\"_all_cells_3.png\")\n",
    "    sc.pl.rank_genes_groups(adata_proc, key='rank_genes', groups=['9','10','11'], save=\"_all_cells_4.png\")\n",
    "    sc.pl.rank_genes_groups(adata_proc, key='rank_genes', groups=['12'], save=\"_all_cells_5.png\")"
   ]
  },
  {
   "cell_type": "markdown",
   "metadata": {},
   "source": [
    "## Define Marker Sets"
   ]
  },
  {
   "cell_type": "markdown",
   "metadata": {},
   "source": [
    "Define marker sets for some of the expected cell types and add DE genes."
   ]
  },
  {
   "cell_type": "code",
   "execution_count": 33,
   "metadata": {},
   "outputs": [],
   "source": [
    "astrocyte_markers = ['Slc1a2', 'Slc1a3', 'Aqp4', 'S100b','Gfap','Aldh1l1','Gja1','Gjb6','Agt','Atp1b2'] # , 'Sox9'\n",
    "neuron_markers = ['Rbfox3','Syp', 'Tubb3','Snap25','Syt1']\n",
    "microglia_markers = ['Itgam','Tmem119','Cx3cr1','Csf1r','Aif1','P2ry12']\n",
    "oligodendrocyte_markers = ['Olig1','Mog','Mag']\n",
    "endothelial_markers = ['Cldn5', 'Pecam1','Slco1c1']\n",
    "mural_markers = ['Mustn1','Pdgfrb','Des']\n",
    "ependymal_markers = ['Ccdc153','Rarres2','Hdc','Tm4sf1'] \n",
    "tanycyes_markers = ['Rax','Lhx2','Col23a1','Slc16a2','Crym','Adm']\n",
    "npc_markers = ['Nes','Sox2','Notch1','Pax6','Prom1']\n",
    "vlmc_markers = ['Lum','Col1a1','Col3a1']"
   ]
  },
  {
   "cell_type": "markdown",
   "metadata": {},
   "source": [
    "Only keep markers occurring in data set."
   ]
  },
  {
   "cell_type": "code",
   "execution_count": 34,
   "metadata": {},
   "outputs": [],
   "source": [
    "astrocyte_markers = np.array([x for x in astrocyte_markers if x in adata_proc.var_names])\n",
    "neuron_markers = np.array([x for x in neuron_markers if x in adata_proc.var_names])\n",
    "microglia_markers = np.array([x for x in microglia_markers if x in adata_proc.var_names])\n",
    "oligodendrocyte_markers = np.array([x for x in oligodendrocyte_markers if x in adata_proc.var_names])\n",
    "endothelial_markers = np.array([x for x in endothelial_markers if x in adata_proc.var_names])\n",
    "mural_markers = np.array([x for x in mural_markers if x in adata_proc.var_names])\n",
    "ependymal_markers = np.array([x for x in ependymal_markers if x in adata_proc.var_names])\n",
    "tanycyes_markers = np.array([x for x in tanycyes_markers if x in adata_proc.var_names])\n",
    "npc_markers = np.array([x for x in npc_markers if x in adata_proc.var_names])\n",
    "vlmc_markers = np.array([x for x in vlmc_markers if x in adata_proc.var_names])"
   ]
  },
  {
   "cell_type": "markdown",
   "metadata": {},
   "source": [
    "## Astrocyte Markers"
   ]
  },
  {
   "cell_type": "code",
   "execution_count": 35,
   "metadata": {},
   "outputs": [],
   "source": [
    "if bool_plot == True:\n",
    "    cf.plot_violin_marker(adata_proc, astrocyte_markers.tolist(), save=\"_all_cells_astrocyte_markers\", use_raw=False)"
   ]
  },
  {
   "cell_type": "markdown",
   "metadata": {},
   "source": [
    "## Neuron Markers"
   ]
  },
  {
   "cell_type": "code",
   "execution_count": 36,
   "metadata": {
    "scrolled": true
   },
   "outputs": [],
   "source": [
    "if bool_plot == True:\n",
    "    cf.plot_violin_marker(adata_proc, neuron_markers.tolist(), save=\"_all_cells_neuron_markers\")"
   ]
  },
  {
   "cell_type": "markdown",
   "metadata": {},
   "source": [
    "## Microglia Markers"
   ]
  },
  {
   "cell_type": "code",
   "execution_count": 37,
   "metadata": {
    "scrolled": true
   },
   "outputs": [],
   "source": [
    "if bool_plot == True:\n",
    "    cf.plot_violin_marker(adata_proc, microglia_markers.tolist(), save=\"_all_cells_microglia_markers\")"
   ]
  },
  {
   "cell_type": "markdown",
   "metadata": {},
   "source": [
    "## Oligodendrocytes Markers"
   ]
  },
  {
   "cell_type": "code",
   "execution_count": 38,
   "metadata": {},
   "outputs": [],
   "source": [
    "if bool_plot == True:\n",
    "    cf.plot_violin_marker(adata_proc, oligodendrocyte_markers.tolist(), save=\"_all_cells_oligodendrocyte_markers\")"
   ]
  },
  {
   "cell_type": "markdown",
   "metadata": {},
   "source": [
    "## Endothelial Markers"
   ]
  },
  {
   "cell_type": "code",
   "execution_count": 39,
   "metadata": {},
   "outputs": [],
   "source": [
    "if bool_plot == True:\n",
    "    cf.plot_violin_marker(adata_proc, endothelial_markers.tolist(), save=\"_all_cells_endothelial_markers\")"
   ]
  },
  {
   "cell_type": "markdown",
   "metadata": {},
   "source": [
    "## Mural Markers"
   ]
  },
  {
   "cell_type": "code",
   "execution_count": 40,
   "metadata": {},
   "outputs": [],
   "source": [
    "if bool_plot == True:\n",
    "    cf.plot_violin_marker(adata_proc, mural_markers.tolist(), save=\"_all_cells_mural_markers\")"
   ]
  },
  {
   "cell_type": "markdown",
   "metadata": {},
   "source": [
    "## Ependymal Markers"
   ]
  },
  {
   "cell_type": "code",
   "execution_count": 41,
   "metadata": {
    "scrolled": true
   },
   "outputs": [],
   "source": [
    "if bool_plot == True:\n",
    "    cf.plot_violin_marker(adata_proc, ependymal_markers.tolist(), save=\"_all_cells_ependymal_markers\")"
   ]
  },
  {
   "cell_type": "markdown",
   "metadata": {},
   "source": [
    "## Tanycyes Markers"
   ]
  },
  {
   "cell_type": "code",
   "execution_count": 42,
   "metadata": {},
   "outputs": [],
   "source": [
    "if bool_plot == True:\n",
    "    cf.plot_violin_marker(adata_proc, tanycyes_markers.tolist(), save=\"_all_cells_tanycyes_markers\")"
   ]
  },
  {
   "cell_type": "markdown",
   "metadata": {},
   "source": [
    "## Neural Progenitor Cells Markers"
   ]
  },
  {
   "cell_type": "code",
   "execution_count": 43,
   "metadata": {},
   "outputs": [],
   "source": [
    "if bool_plot == True:\n",
    "    cf.plot_violin_marker(adata_proc, npc_markers.tolist(), save=\"_all_cells_npc_markers\")"
   ]
  },
  {
   "cell_type": "markdown",
   "metadata": {},
   "source": [
    "## VLMC Markers"
   ]
  },
  {
   "cell_type": "code",
   "execution_count": 44,
   "metadata": {},
   "outputs": [],
   "source": [
    "if bool_plot == True:\n",
    "    cf.plot_violin_marker(adata_proc, vlmc_markers.tolist(), save=\"_all_cells_vlmc_markers\")"
   ]
  },
  {
   "cell_type": "markdown",
   "metadata": {},
   "source": [
    "## Summary heatmap, dotplot and stacked_violin for cluster assignments"
   ]
  },
  {
   "cell_type": "code",
   "execution_count": 45,
   "metadata": {},
   "outputs": [],
   "source": [
    "selected_astrocyte_markers = ['Slc1a2', 'Slc1a3', 'Aqp4', 'S100b', 'Sox9','Gfap','Aldh1l1','Gja1','Gjb6','Agt','Atp1b2']\n",
    "selected_neuron_markers = ['Rbfox3','Syp', 'Tubb3','Snap25','Syt1']\n",
    "selected_microglia_markers = ['Itgam','Tmem119','Cx3cr1','Csf1r','Aif1','P2ry12']\n",
    "selected_oligodendrocyte_markers = ['Olig1','Mog','Mag']\n",
    "selected_endothelial_markers = ['Cldn5', 'Pecam1','Slco1c1']\n",
    "selected_mural_markers = ['Mustn1','Pdgfrb','Des']\n",
    "selected_ependymal_markers = ['Ccdc153','Rarres2','Hdc','Tm4sf1'] \n",
    "selected_tanycyes_markers = ['Rax','Lhx2','Col23a1','Slc16a2','Crym','Adm']\n",
    "selected_npc_markers = ['Nes','Sox2','Notch1','Pax6','Prom1']\n",
    "selected_vlmc_markers = ['Lum','Col1a1','Col3a1']"
   ]
  },
  {
   "cell_type": "code",
   "execution_count": 46,
   "metadata": {},
   "outputs": [],
   "source": [
    "selected_cell_markers = selected_astrocyte_markers + \\\n",
    "selected_neuron_markers + \\\n",
    "selected_microglia_markers + \\\n",
    "selected_oligodendrocyte_markers + \\\n",
    "selected_endothelial_markers + \\\n",
    "selected_mural_markers + \\\n",
    "selected_ependymal_markers + \\\n",
    "selected_tanycyes_markers + \\\n",
    "selected_npc_markers + \\\n",
    "selected_vlmc_markers"
   ]
  },
  {
   "cell_type": "code",
   "execution_count": 47,
   "metadata": {},
   "outputs": [],
   "source": [
    "marker_genes_dict = {'Astrocytes': ['Slc1a2', 'Slc1a3', 'Aqp4', 'S100b', 'Sox9','Gfap','Aldh1l1','Gja1','Gjb6','Agt','Atp1b2'],\n",
    "                     'Neuron': ['Rbfox3','Syp', 'Tubb3','Snap25','Syt1'],\n",
    "                     'Microglia': ['Itgam','Tmem119','Cx3cr1','Csf1r','Aif1','P2ry12'],\n",
    "                     'Oligodendrocyte': ['Olig1','Mog','Mag'],\n",
    "                     'Endothel': ['Cldn5', 'Pecam1','Slco1c1'],\n",
    "                     'Mural': ['Mustn1','Pdgfrb','Des'],\n",
    "                     'Ependymal': ['Ccdc153','Rarres2','Hdc','Tm4sf1'],\n",
    "                     'Tanycyes': ['Rax','Lhx2','Col23a1','Slc16a2','Crym','Adm'],\n",
    "                     'NPC': ['Nes','Sox2','Notch1','Pax6','Prom1'],\n",
    "                     'VLMC': ['Lum','Col1a1','Col3a1']}\n",
    "\n",
    "neuron = {'ARC_neuro': ['Pomc','Cartpt','Npy','Agrp','Cited1','Tbx3']}#,\n",
    "          #'non_ARC_neuro': ['Sf1','Otp','Oxt','Avp']}"
   ]
  },
  {
   "cell_type": "code",
   "execution_count": 48,
   "metadata": {},
   "outputs": [],
   "source": [
    "if bool_plot==True:\n",
    "    sc.pl.heatmap(\n",
    "        adata=adata_proc, \n",
    "        var_names=marker_genes_dict, \n",
    "        groupby=\"leiden\", \n",
    "        use_raw=False, \n",
    "        log=True, \n",
    "        dendrogram=True, \n",
    "        var_group_rotation=90, \n",
    "        show_gene_labels=True, \n",
    "        show=True, \n",
    "        save=\"_all_cells_celltypes_markers.png\"\n",
    "    )"
   ]
  },
  {
   "cell_type": "code",
   "execution_count": 49,
   "metadata": {},
   "outputs": [],
   "source": [
    "if bool_plot==True:\n",
    "    sc.pl.heatmap(\n",
    "        adata=adata_proc, \n",
    "        var_names=neuron, \n",
    "        groupby=\"leiden\", \n",
    "        use_raw=False, \n",
    "        log=True, \n",
    "        dendrogram=True, \n",
    "        var_group_rotation=90, \n",
    "        show_gene_labels=True, \n",
    "        show=True, \n",
    "        save=\"_all_cells_ARCneuro_markers.png\"\n",
    "    )"
   ]
  },
  {
   "cell_type": "code",
   "execution_count": 50,
   "metadata": {},
   "outputs": [],
   "source": [
    "if bool_plot==True:\n",
    "    sc.pl.dotplot(\n",
    "        adata=adata_proc,\n",
    "        var_names=marker_genes_dict, \n",
    "        groupby='leiden',\n",
    "        use_raw=False, \n",
    "        log=False, \n",
    "        dendrogram=True, \n",
    "        var_group_rotation=90, \n",
    "        show=True, \n",
    "        save=\"all_cells_celltypes_markers.png\")"
   ]
  },
  {
   "cell_type": "code",
   "execution_count": 51,
   "metadata": {},
   "outputs": [],
   "source": [
    "if bool_plot==True:\n",
    "    sc.pl.dotplot(\n",
    "        adata=adata_proc,\n",
    "        var_names=neuron, \n",
    "        groupby='leiden',\n",
    "        use_raw=False, \n",
    "        log=False, \n",
    "        dendrogram=True, \n",
    "        var_group_rotation=90, \n",
    "        show=True, \n",
    "        save=\"all_cells_ARCneuro_markers.png\")"
   ]
  },
  {
   "cell_type": "code",
   "execution_count": 52,
   "metadata": {},
   "outputs": [],
   "source": [
    "if bool_plot==True:\n",
    "    sc.pl.stacked_violin(adata_proc, \n",
    "                         marker_genes_dict, \n",
    "                         groupby='leiden', \n",
    "                         show=True,\n",
    "                         use_raw=False,\n",
    "                         dendrogram=True,\n",
    "                         cmap='viridis_r',\n",
    "                         save=\"all_cells_celltypes_markers.png\")"
   ]
  },
  {
   "cell_type": "code",
   "execution_count": 53,
   "metadata": {},
   "outputs": [],
   "source": [
    "if bool_plot==True:\n",
    "    plt.figure(figsize=(7,7))\n",
    "    cell_annotation = sc.tl.marker_gene_overlap(adata_proc, marker_genes_dict, key='rank_genes', \n",
    "                                                normalize='data')\n",
    "    sb.heatmap(cell_annotation, cbar=False, annot=True)\n",
    "    plt.savefig(sc_settings_figdir+'heatmap_all_cells_rank_genes_cell_annotation.png')"
   ]
  },
  {
   "cell_type": "markdown",
   "metadata": {},
   "source": [
    "## Gfap vs. Aldh1l1 - per diet"
   ]
  },
  {
   "cell_type": "markdown",
   "metadata": {},
   "source": [
    "###  chow diet cells"
   ]
  },
  {
   "cell_type": "code",
   "execution_count": 54,
   "metadata": {},
   "outputs": [],
   "source": [
    "if bool_plot == True:\n",
    "    fig, (ax1, ax2) = plt.subplots(1, 2, figsize=(12,4), gridspec_kw={'wspace':0.8})\n",
    "    ax1_dict = ax1.scatter(adata_proc[adata_proc.obs['diet']=='chow', ][:, ['Gfap']].X, \n",
    "                           adata_proc[adata_proc.obs['diet']=='chow', ][:, ['Aldh1l1']].X, \n",
    "                           s=9, cmap='seismic', c='dodgerblue')\n",
    "    ax1.set_title('chow')\n",
    "    ax1.set_ylabel('Gfap')\n",
    "    ax1.set_xlabel('Aldh1l1')\n",
    "    ax2_dict = sc.pl.umap(adata_proc[adata_proc.obs['diet']=='chow', ], color=['leiden'], size=5, ax=ax2, show=False)\n",
    "    plt.savefig(sc_settings_figdir+'umap_all_cells_chow_gfap-aldh_1')"
   ]
  },
  {
   "cell_type": "code",
   "execution_count": 55,
   "metadata": {},
   "outputs": [],
   "source": [
    "if bool_plot == True:\n",
    "    cf.plot_umap_marker(adata_proc[adata_proc.obs['diet']=='chow', ], ['Gfap','Aldh1l1'],\n",
    "                        color_map=mymap, size=20, save=\"_all_cells_chow_gfap-aldh.png\", use_raw = False)"
   ]
  },
  {
   "cell_type": "markdown",
   "metadata": {},
   "source": [
    "### hfd_5 diet cells"
   ]
  },
  {
   "cell_type": "code",
   "execution_count": 56,
   "metadata": {},
   "outputs": [],
   "source": [
    "if bool_plot == True:\n",
    "    fig, (ax1, ax2) = plt.subplots(1, 2, figsize=(12,4), gridspec_kw={'wspace':0.8})\n",
    "    ax1_dict = ax1.scatter(adata_proc[adata_proc.obs['diet']=='hfd_5', ][:, ['Gfap']].X, \n",
    "                           adata_proc[adata_proc.obs['diet']=='hfd_5', ][:, ['Aldh1l1']].X, \n",
    "                           s=9, cmap='seismic', c='darkorange')\n",
    "    ax1.set_title('chow')\n",
    "    ax1.set_ylabel('Gfap')\n",
    "    ax1.set_xlabel('Aldh1l1')\n",
    "    ax2_dict = sc.pl.umap(adata_proc[adata_proc.obs['diet']=='hfd_5', ], color=['leiden'], size=5, ax=ax2, show=False)\n",
    "    plt.savefig(sc_settings_figdir+'umap_all_cells_hfd5_gfap-aldh_1.png')"
   ]
  },
  {
   "cell_type": "code",
   "execution_count": 57,
   "metadata": {},
   "outputs": [],
   "source": [
    "if bool_plot == True:\n",
    "    cf.plot_umap_marker(adata_proc[adata_proc.obs['diet']=='hfd_5', ], ['Gfap','Aldh1l1'],\n",
    "                        color_map=mymap, size=20, save=\"_all_cells_hfd5_gfap-aldh.png\", use_raw = False)"
   ]
  },
  {
   "cell_type": "markdown",
   "metadata": {},
   "source": [
    "### hfd15 diet cells"
   ]
  },
  {
   "cell_type": "code",
   "execution_count": 58,
   "metadata": {},
   "outputs": [],
   "source": [
    "if bool_plot == True:\n",
    "    fig, (ax1, ax2) = plt.subplots(1, 2, figsize=(12,4), gridspec_kw={'wspace':0.8})\n",
    "    ax1_dict = ax1.scatter(adata_proc[adata_proc.obs['diet']=='hfd_15', ][:, ['Gfap']].X, \n",
    "                           adata_proc[adata_proc.obs['diet']=='hfd_15', ][:, ['Aldh1l1']].X, \n",
    "                           s=9, cmap='seismic', c='green')\n",
    "    ax1.set_title('chow')\n",
    "    ax1.set_ylabel('Gfap')\n",
    "    ax1.set_xlabel('Aldh1l1')\n",
    "    ax2_dict = sc.pl.umap(adata_proc[adata_proc.obs['diet']=='hfd_15', ], color=['leiden'], size=5, ax=ax2, show=False)\n",
    "    plt.savefig(sc_settings_figdir+'umap_all_cells_hfd15_gfap-aldh_1.png')"
   ]
  },
  {
   "cell_type": "code",
   "execution_count": 59,
   "metadata": {},
   "outputs": [],
   "source": [
    "if bool_plot == True:\n",
    "    cf.plot_umap_marker(adata_proc[adata_proc.obs['diet']=='hfd_15', ], ['Gfap','Aldh1l1'],\n",
    "                        color_map=mymap, size=20, save=\"_all_cells_hfd15_gfap-aldh.png\", use_raw = False)"
   ]
  },
  {
   "cell_type": "markdown",
   "metadata": {},
   "source": [
    "## UMAP with assigned cell types"
   ]
  },
  {
   "cell_type": "code",
   "execution_count": 60,
   "metadata": {},
   "outputs": [],
   "source": [
    "new_cluster_names = {\n",
    "    '0': \"astrocytes\",\n",
    "    '1': \"tanycytes\",\n",
    "    '2': \"ependymal\",\n",
    "    '3': \"neurons\",\n",
    "    '4': \"endothelial\",\n",
    "    '5': \"oligodendrocytes\",\n",
    "    '6': \"microglia\",\n",
    "    '7': \"oligodendrocytes\",\n",
    "    '8': \"neuron\",\n",
    "    '9': \"microglia\",\n",
    "    '10': \"oligodendrocytes\",\n",
    "    '11': \"mural\",\n",
    "    '12': \"vlmc\",\n",
    "    '13': \"unknown\"\n",
    "}\n",
    "adata_proc.obs['celltypes'] = [new_cluster_names[x] for x in  adata_proc.obs['leiden']]"
   ]
  },
  {
   "cell_type": "code",
   "execution_count": 61,
   "metadata": {},
   "outputs": [],
   "source": [
    "if bool_plot == True:\n",
    "    cf.plot_umap_marker(adata_proc, ['celltypes'], save=\"_all_cells_celltypes.png\", use_raw=False)"
   ]
  },
  {
   "cell_type": "code",
   "execution_count": 62,
   "metadata": {},
   "outputs": [],
   "source": [
    "if bool_plot == True:\n",
    "    cf.plot_umap_marker(adata_proc, ['celltypes'], save=\"_all_cells_celltypes_ondata.png\", use_raw=False, legend_loc='on data')"
   ]
  },
  {
   "cell_type": "code",
   "execution_count": 63,
   "metadata": {},
   "outputs": [],
   "source": [
    "if bool_plot == True:\n",
    "    sc.pl.paga(adata_proc, save=\"_all_cells_celltypes.png\")"
   ]
  },
  {
   "cell_type": "markdown",
   "metadata": {},
   "source": [
    "# Astorcytes only"
   ]
  },
  {
   "cell_type": "markdown",
   "metadata": {},
   "source": [
    "<a id=\"Embedding\"></a>"
   ]
  },
  {
   "cell_type": "markdown",
   "metadata": {},
   "source": [
    "## Embedding and Clustering"
   ]
  },
  {
   "cell_type": "code",
   "execution_count": 64,
   "metadata": {},
   "outputs": [
    {
     "name": "stderr",
     "output_type": "stream",
     "text": [
      "running PAGA\n",
      "    finished: added\n",
      "    'paga/connectivities', connectivities adjacency (adata.uns)\n",
      "    'paga/connectivities_tree', connectivities subtree (adata.uns) (0:00:00)\n"
     ]
    }
   ],
   "source": [
    "if bool_recomp == True:  \n",
    "    cell_ids_astro = np.asarray(adata_proc.obs_names)[\n",
    "        [x in ['astrocytes'] \n",
    "         for x in np.asarray(adata_proc.obs['celltypes'].values)]\n",
    "    ]\n",
    "    adata_astro = adata_raw[cell_ids_astro,:].copy()  # adata_raw\n",
    "    #dat = pd.DataFrame(adata_proc.X, index=adata_proc.obs.index, columns=adata_proc.var.index)\n",
    "    adata_astro.obs['n_genes'] = (adata_astro.X > 0).sum(1)\n",
    "    adata_astro.obs['n_counts'] = adata_astro.X.sum(1)\n",
    "    mt_gene_mask = [gene.startswith('mt-') for gene in adata_astro.var_names]\n",
    "    temp_mt_sum = adata_astro[:,mt_gene_mask].X.sum(1)\n",
    "    temp_mt_sum = np.squeeze(np.asarray(temp_mt_sum))\n",
    "    temp_n_counts = adata_astro.obs['n_counts']\n",
    "    adata_astro.obs['mt_frac'] = temp_mt_sum/adata_astro.obs['n_counts']\n",
    "    adata_astro.raw = adata_astro\n",
    "    sc.pp.normalize_per_cell(adata_astro)\n",
    "    sc.pp.log1p(adata_astro)\n",
    "    sc.pp.highly_variable_genes(adata_astro,n_top_genes=4000)\n",
    "    sc.pl.highly_variable_genes(adata_astro)\n",
    "    adata_astro.X = adata_astro.X.toarray()\n",
    "    \n",
    "    sc.pp.pca(adata_astro, n_comps=50, use_highly_variable = True, random_state=0, svd_solver='arpack')\n",
    "    sc.pp.neighbors(adata_astro, n_neighbors=100, knn=True, method='umap', n_pcs=50, random_state=0)\n",
    "    sc.tl.umap(adata_astro)\n",
    "    if bool_recluster == True:\n",
    "        sc.tl.leiden(adata_astro, resolution=0.5)\n",
    "        pd.DataFrame(adata_astro.obs).to_csv(path_or_buf=sc_settings_writedir+'obs_adata_astro.csv')\n",
    "    else:\n",
    "        obs = pd.read_csv(sc_settings_writedir+'obs_adata_astro.csv')\n",
    "        adata_astro.obs['leiden']=pd.Series(obs['leiden'].values, dtype = 'category')\n",
    "    sc.write(sc_settings_writedir+'adata_astro.h5ad',adata_astro)\n",
    "else:\n",
    "    adata_astro = sc.read(sc_settings_writedir+'adata_astro.h5ad') \n",
    "sc.tl.paga(adata_astro)"
   ]
  },
  {
   "cell_type": "code",
   "execution_count": 65,
   "metadata": {},
   "outputs": [],
   "source": [
    "if bool_plot == True:\n",
    "    cf.plot_umap_marker(adata_astro, ['leiden'], save=\"_astrocyte_leiden.png\", use_raw=False, size=30)"
   ]
  },
  {
   "cell_type": "code",
   "execution_count": 66,
   "metadata": {},
   "outputs": [],
   "source": [
    "if bool_plot == True:\n",
    "    cf.plot_umap_marker(adata_astro, ['leiden'], save=\"_astrocyte_leiden_ondata.png\", use_raw=False, legend_loc='on data', size=30)"
   ]
  },
  {
   "cell_type": "code",
   "execution_count": 67,
   "metadata": {},
   "outputs": [],
   "source": [
    "if bool_plot == True:\n",
    "    cf.plot_umap_marker(adata_astro, ['n_genes','n_counts','mt_frac'], color_map=mymap, size=30, save=\"_astrocyte_n_gene_count_mt.png\", use_raw = False)"
   ]
  },
  {
   "cell_type": "markdown",
   "metadata": {},
   "source": [
    "A high fraction of mitochondrial RNA is in cluster 3 and around the central cluster 8."
   ]
  },
  {
   "cell_type": "code",
   "execution_count": 68,
   "metadata": {},
   "outputs": [],
   "source": [
    "if bool_plot == True:\n",
    "    cf.plot_umap_marker(adata_astro, ['Gfap','Aldh1l1'], color_map=mymap, size=30, save=\"_astrocyte_markers.png\", use_raw = False)"
   ]
  },
  {
   "cell_type": "code",
   "execution_count": 69,
   "metadata": {},
   "outputs": [],
   "source": [
    "if bool_plot == True:\n",
    "    cf.plot_umap_marker(adata_astro, ['diet'], save=\"_astrocytes_diet.png\", size=30, use_raw=False)"
   ]
  },
  {
   "cell_type": "code",
   "execution_count": 70,
   "metadata": {},
   "outputs": [],
   "source": [
    "if bool_plot == True:\n",
    "    sc.pl.paga(adata_astro, save=\"_astrocytes.png\")"
   ]
  },
  {
   "cell_type": "code",
   "execution_count": 71,
   "metadata": {},
   "outputs": [],
   "source": [
    "if bool_plot == True:\n",
    "    cf.cell_percent(adata_astro, cluster='leiden', condition='diet', xlabel='clusters', ylabel='percentage', \n",
    "                 title='barplot_astrocytes_diet_per_clusters', save=sc_settings_figdir, table=False)"
   ]
  },
  {
   "cell_type": "code",
   "execution_count": 72,
   "metadata": {},
   "outputs": [],
   "source": [
    "if bool_plot == True:\n",
    "    aldh_pos = adata_astro.obs_names[np.asarray(adata_astro[:,'Aldh1l1'].X).flatten()>0]\n",
    "    gfap_pos = adata_astro.obs_names[np.asarray(adata_astro[:,'Gfap'].X).flatten()>0]\n",
    "    glast_pos = adata_astro.obs_names[np.asarray(adata_astro[:,'Slc1a3'].X).flatten()>0]\n",
    "\n",
    "    matplotlib_venn.venn3([\n",
    "        set(aldh_pos),\n",
    "        set(gfap_pos),\n",
    "        set(glast_pos)\n",
    "    ], set_labels = (\"Aldh1l1\", \"Gfap\", \"Slc1a3\"))\n",
    "    plt.savefig(sc_settings_figdir+'venndiagram_astrocytes_gfap-aldh-glast.png')"
   ]
  },
  {
   "cell_type": "code",
   "execution_count": 73,
   "metadata": {},
   "outputs": [],
   "source": [
    "if bool_plot == True:\n",
    "    aldh_pos = adata_astro.obs_names[np.asarray(adata_astro[:,'Aldh1l1'].X).flatten()>0]\n",
    "    gfap_pos = adata_astro.obs_names[np.asarray(adata_astro[:,'Gfap'].X).flatten()>0]\n",
    "\n",
    "    matplotlib_venn.venn2([\n",
    "        set(aldh_pos),\n",
    "        set(gfap_pos)\n",
    "    ], set_labels = (\"Aldh1l1\", \"Gfap\"), set_colors = ('lime','magenta'))\n",
    "    plt.savefig(sc_settings_figdir+'venndiagram_astrocytes_gfap-aldh.png')"
   ]
  },
  {
   "cell_type": "markdown",
   "metadata": {},
   "source": [
    "### Count distribution for Aldh1l1 and Gfap"
   ]
  },
  {
   "cell_type": "markdown",
   "metadata": {},
   "source": [
    "#### Single and double positive counts¶"
   ]
  },
  {
   "cell_type": "markdown",
   "metadata": {},
   "source": [
    "Define booleans for single and double positive counts of Gfap and Aldh1l1"
   ]
  },
  {
   "cell_type": "code",
   "execution_count": 74,
   "metadata": {},
   "outputs": [],
   "source": [
    "non_boolean_int = np.array((adata_astro[:,'Gfap'].X<=0) & (adata_astro[:,'Aldh1l1'].X<=0), dtype=int)\n",
    "\n",
    "gfap_single_boolean = (adata_astro[:,'Gfap'].X>0) & (adata_astro[:,'Aldh1l1'].X<=0)\n",
    "aldh_single_boolean = (adata_astro[:,'Aldh1l1'].X>0) & (adata_astro[:,'Gfap'].X<=0) \n",
    "single_boolean_int = np.array((gfap_single_boolean | aldh_single_boolean), dtype=int)*1\n",
    "\n",
    "gfap_aldh_double_boolean = (adata_astro[:,'Gfap'].X>0) & (adata_astro[:,'Aldh1l1'].X>0)\n",
    "double_boolean_int = np.array((gfap_aldh_double_boolean), dtype=int)*2\n",
    "\n",
    "non_boolean_int *=0"
   ]
  },
  {
   "cell_type": "code",
   "execution_count": 75,
   "metadata": {},
   "outputs": [
    {
     "name": "stdout",
     "output_type": "stream",
     "text": [
      "Gfap Single Positive  683\n",
      "Aldh1l1 Single Positive  851\n",
      "Gfap/Aldh1l1 Double Positive  624\n"
     ]
    }
   ],
   "source": [
    "gfap_single_pos = adata_astro[:,'Gfap'].X[gfap_single_boolean]\n",
    "aldh_single_pos = adata_astro[:,'Aldh1l1'].X[aldh_single_boolean]\n",
    "\n",
    "print('Gfap Single Positive ',len(gfap_single_pos))\n",
    "print('Aldh1l1 Single Positive ',len(aldh_single_pos))\n",
    "\n",
    "gfap_aldh_double_pos = adata_astro[:,'Gfap'].X[gfap_aldh_double_boolean]\n",
    "\n",
    "print('Gfap/Aldh1l1 Double Positive ',len(gfap_aldh_double_pos))\n"
   ]
  },
  {
   "cell_type": "markdown",
   "metadata": {},
   "source": [
    "<a id=\"adipmarkers\"></a>"
   ]
  },
  {
   "cell_type": "code",
   "execution_count": 76,
   "metadata": {},
   "outputs": [],
   "source": [
    "adata_astro.obs['sdt_pos'] = np.array((non_boolean_int + single_boolean_int + double_boolean_int), dtype=str)\n",
    "adata_astro.obs['s_pos'] = np.array((np.array(gfap_single_boolean, dtype=int)*1)+(np.array(aldh_single_boolean, dtype=int)*2), dtype=str)\n",
    "adata_astro.obs['d_pos'] = np.array((np.array(gfap_aldh_double_boolean, dtype=int)*1), dtype=str)\n",
    "\n",
    "# make them categorical\n",
    "adata_astro.obs['sdt_pos'] = pd.Series(adata_astro.obs['sdt_pos'], dtype=\"category\")\n",
    "adata_astro.obs['s_pos'] = pd.Series(adata_astro.obs['s_pos'], dtype=\"category\")\n",
    "adata_astro.obs['d_pos'] = pd.Series(adata_astro.obs['d_pos'], dtype=\"category\")"
   ]
  },
  {
   "cell_type": "code",
   "execution_count": 77,
   "metadata": {},
   "outputs": [],
   "source": [
    "if bool_plot == True:\n",
    "    new_cluster_names = ['Non Positives','Single Positives','Double Positives']\n",
    "    adata_astro.rename_categories('sdt_pos', new_cluster_names)\n",
    "    sc.pl.umap(adata_astro, color=['sdt_pos'], size=30, palette=[\"lightgrey\",\"tomato\",\"blue\"], \n",
    "               save=\"_astrocytes_gfap-aldh_single_double_positiv.png\")\n",
    "    new_cluster_names = ['Non Single Positives','Gfap Single Positives','Aldh1l1 Single Positives']\n",
    "    adata_astro.rename_categories('s_pos', new_cluster_names)\n",
    "    sc.pl.umap(adata_astro[adata_astro.obs['s_pos']!='Non Single Positives'], color=['s_pos'],\n",
    "               size=30, palette=[\"magenta\",\"lime\"], save=\"_astrocytes_gfap-aldh_single_positiv.png\")\n",
    "    new_cluster_names = ['Non Double Positives','Gfap/Aldh1l1 Double Positive']\n",
    "    adata_astro.rename_categories('d_pos', new_cluster_names)\n",
    "    sc.pl.umap(adata_astro[adata_astro.obs['d_pos']!='Non Double Positives'], color=['d_pos'], size=30,\n",
    "              save=\"_astrocytes_gfap-aldh_doble_positiv.png\")"
   ]
  },
  {
   "cell_type": "markdown",
   "metadata": {},
   "source": [
    "### Astrocyte chow diet"
   ]
  },
  {
   "cell_type": "code",
   "execution_count": 78,
   "metadata": {},
   "outputs": [],
   "source": [
    "if bool_plot == True:\n",
    "    fig, (ax1, ax2) = plt.subplots(1, 2, figsize=(12,4), gridspec_kw={'wspace':0.8})\n",
    "    ax1_dict = ax1.scatter(adata_astro[adata_astro.obs['diet']=='chow', ][:, ['Gfap']].X, \n",
    "                           adata_astro[adata_astro.obs['diet']=='chow', ][:, ['Aldh1l1']].X, \n",
    "                           s=9, cmap='seismic', c='dodgerblue')\n",
    "    ax1.set_title('chow')\n",
    "    ax1.set_ylabel('Gfap')\n",
    "    ax1.set_xlabel('Aldh1l1')\n",
    "    ax2_dict = sc.pl.umap(adata_astro[adata_astro.obs['diet']=='chow', ], color=['leiden'], size=30, ax=ax2, show=False)\n",
    "    plt.savefig(sc_settings_figdir+'gfap-aldh_astrocytes_chow.png')"
   ]
  },
  {
   "cell_type": "code",
   "execution_count": 79,
   "metadata": {},
   "outputs": [],
   "source": [
    "if bool_plot == True:\n",
    "    cf.plot_umap_marker(adata_astro, ['Gfap', 'Aldh1l1'], save=\"_astrocyte_chow_gfap-aldh.png\", size=30, \n",
    "                        color_map=mymap, use_raw=False)"
   ]
  },
  {
   "cell_type": "code",
   "execution_count": 80,
   "metadata": {},
   "outputs": [],
   "source": [
    "if bool_plot == True:\n",
    "    aldh_pos = adata_astro[adata_astro.obs['diet']=='chow', ].obs_names[np.asarray(adata_astro[adata_astro.obs['diet']=='chow', ][:,'Aldh1l1'].X).flatten()>0]\n",
    "    gfap_pos = adata_astro[adata_astro.obs['diet']=='chow', ].obs_names[np.asarray(adata_astro[adata_astro.obs['diet']=='chow', ][:,'Gfap'].X).flatten()>0]\n",
    "\n",
    "    matplotlib_venn.venn2([\n",
    "        set(aldh_pos),\n",
    "        set(gfap_pos)\n",
    "    ], set_labels = (\"Aldh1l1\", \"Gfap\"), set_colors = ('lime','magenta'))\n",
    "    plt.savefig(sc_settings_figdir+'venn_diagram_astrocytes_chow_gfap-aldh.png')"
   ]
  },
  {
   "cell_type": "markdown",
   "metadata": {},
   "source": [
    "### Astrocyte hfd_5 diet"
   ]
  },
  {
   "cell_type": "code",
   "execution_count": 81,
   "metadata": {},
   "outputs": [],
   "source": [
    "if bool_plot == True:\n",
    "    fig, (ax1, ax2) = plt.subplots(1, 2, figsize=(12,4), gridspec_kw={'wspace':0.8})\n",
    "    ax1_dict = ax1.scatter(adata_astro[adata_astro.obs['diet']=='hfd_5', ][:, ['Gfap']].X, \n",
    "                           adata_astro[adata_astro.obs['diet']=='hfd_5', ][:, ['Aldh1l1']].X, \n",
    "                           s=9, cmap='seismic', c='darkorange')\n",
    "    ax1.set_title('hfd_5')\n",
    "    ax1.set_ylabel('Gfap')\n",
    "    ax1.set_xlabel('Aldh1l1')\n",
    "    ax2_dict = sc.pl.umap(adata_astro[adata_astro.obs['diet']=='hfd_5', ], color=['leiden'], size=30, ax=ax2, show=False)\n",
    "    plt.savefig(sc_settings_figdir+'gfap-aldh_astrocytes_hfd5.png')"
   ]
  },
  {
   "cell_type": "code",
   "execution_count": 82,
   "metadata": {},
   "outputs": [],
   "source": [
    "if bool_plot == True:\n",
    "    cf.plot_umap_marker(adata_astro[adata_astro.obs['diet']=='hfd_5', ], ['Gfap', 'Aldh1l1'],\n",
    "                        save=\"_astrocyte_hfd5_gfap-aldh.png\", size=30, color_map=mymap, use_raw=False)"
   ]
  },
  {
   "cell_type": "code",
   "execution_count": 83,
   "metadata": {},
   "outputs": [],
   "source": [
    "if bool_plot == True:\n",
    "    aldh_pos = adata_astro[adata_astro.obs['diet']=='hfd_5', ].obs_names[np.asarray(adata_astro[adata_astro.obs['diet']=='hfd_5', ][:,'Aldh1l1'].X).flatten()>0]\n",
    "    gfap_pos = adata_astro[adata_astro.obs['diet']=='hfd_5', ].obs_names[np.asarray(adata_astro[adata_astro.obs['diet']=='hfd_5', ][:,'Gfap'].X).flatten()>0]\n",
    "\n",
    "    matplotlib_venn.venn2([\n",
    "        set(aldh_pos),\n",
    "        set(gfap_pos)\n",
    "    ], set_labels = (\"Aldh1l1\", \"Gfap\"), set_colors = ('lime','magenta'))\n",
    "    plt.savefig(sc_settings_figdir+'venn_diagram_astrocytes_hfd5_gfap-aldh.png')"
   ]
  },
  {
   "cell_type": "markdown",
   "metadata": {},
   "source": [
    "### Astrocyte hfd_15 diet"
   ]
  },
  {
   "cell_type": "code",
   "execution_count": 84,
   "metadata": {},
   "outputs": [],
   "source": [
    "if bool_plot == True:\n",
    "    fig, (ax1, ax2) = plt.subplots(1, 2, figsize=(12,4), gridspec_kw={'wspace':0.8})\n",
    "    ax1_dict = ax1.scatter(adata_astro[adata_astro.obs['diet']=='hfd_15', ][:, ['Gfap']].X, \n",
    "                           adata_astro[adata_astro.obs['diet']=='hfd_15', ][:, ['Aldh1l1']].X, \n",
    "                           s=9, cmap='seismic', c='green')\n",
    "    ax1.set_title('hfd_15')\n",
    "    ax1.set_ylabel('Gfap')\n",
    "    ax1.set_xlabel('Aldh1l1')\n",
    "    ax2_dict = sc.pl.umap(adata_astro[adata_astro.obs['diet']=='hfd_15', ], color=['leiden'], size=30, ax=ax2, show=False)\n",
    "    plt.savefig(sc_settings_figdir+'gfap-aldh_astrocytes_hfd15.png')"
   ]
  },
  {
   "cell_type": "code",
   "execution_count": 85,
   "metadata": {},
   "outputs": [],
   "source": [
    "if bool_plot == True:\n",
    "    cf.plot_umap_marker(adata_astro[adata_astro.obs['diet']=='hfd_15', ], ['Gfap', 'Aldh1l1'],\n",
    "                        save=\"_astrocyte_hfd15_gfap-aldh.png\", size=30, color_map=mymap, use_raw=False)"
   ]
  },
  {
   "cell_type": "code",
   "execution_count": 86,
   "metadata": {},
   "outputs": [],
   "source": [
    "if bool_plot == True:\n",
    "    aldh_pos = adata_astro[adata_astro.obs['diet']=='hfd_15', ].obs_names[np.asarray(adata_astro[adata_astro.obs['diet']=='hfd_15', ][:,'Aldh1l1'].X).flatten()>0]\n",
    "    gfap_pos = adata_astro[adata_astro.obs['diet']=='hfd_15', ].obs_names[np.asarray(adata_astro[adata_astro.obs['diet']=='hfd_15', ][:,'Gfap'].X).flatten()>0]\n",
    "\n",
    "    matplotlib_venn.venn2([\n",
    "        set(aldh_pos),\n",
    "        set(gfap_pos)\n",
    "    ], set_labels = (\"Aldh1l1\", \"Gfap\"), set_colors = ('lime','magenta')) \n",
    "    plt.savefig(sc_settings_figdir+'venn_diagram_astrocytes_hfd15_gfap-aldh.png')"
   ]
  },
  {
   "cell_type": "markdown",
   "metadata": {},
   "source": [
    "## Cells expression Gfap and Aldh1l1"
   ]
  },
  {
   "cell_type": "code",
   "execution_count": 87,
   "metadata": {},
   "outputs": [],
   "source": [
    "adata_astro.obs['gfap_aldh'] = np.select([((adata_astro[:,'Gfap'].X>0) & (adata_astro[:,'Aldh1l1'].X==0)), \n",
    "                                          ((adata_astro[:,'Gfap'].X==0) & (adata_astro[:,'Aldh1l1'].X>0)),\n",
    "                                          ((adata_astro[:,'Gfap'].X>0) & (adata_astro[:,'Aldh1l1'].X>0)), \n",
    "                                          ((adata_astro[:,'Gfap'].X==0) & (adata_astro[:,'Aldh1l1'].X==0))],\n",
    "                                          ['gfap_only','aldh_only','both','none'])"
   ]
  },
  {
   "cell_type": "markdown",
   "metadata": {},
   "source": [
    "### Chow"
   ]
  },
  {
   "cell_type": "code",
   "execution_count": 88,
   "metadata": {},
   "outputs": [],
   "source": [
    "if bool_plot==True:\n",
    "    data = adata_astro[adata_astro.obs['diet']=='chow', ].obs['gfap_aldh'].value_counts().sort_index()\n",
    "    def func(pct, allvals):\n",
    "        absolute = int(pct/100.*np.sum(allvals))\n",
    "        return \"{:.1f}%\\n({:d})\".format(pct, absolute)\n",
    "\n",
    "    fig, (ax0, ax1) = plt.subplots(ncols=2, figsize=(16, 6), subplot_kw=dict(aspect=\"equal\"))\n",
    "    ax0 = sc.pl.umap(adata_astro[adata_astro.obs['diet']=='chow', ], \n",
    "                     color=['gfap_aldh'], size=30, ax=ax0, show=False, palette=['green','blue','magenta','gainsboro'])\n",
    "    wedges, texts, autotexts = ax1.pie(data, autopct=lambda pct: func(pct, data), textprops=dict(color=\"w\"), \n",
    "                                       colors=['green','blue','magenta','gainsboro'])\n",
    "    ax1.set_title('Chow diet cells - markers share')\n",
    "\n",
    "    fig.savefig(sc_settings_figdir+'umap_pie_chart_astrocyte_chow_gfap-aldh.png')"
   ]
  },
  {
   "cell_type": "markdown",
   "metadata": {},
   "source": [
    "### HFD_5"
   ]
  },
  {
   "cell_type": "code",
   "execution_count": 89,
   "metadata": {},
   "outputs": [],
   "source": [
    "if bool_plot==True:\n",
    "    data = adata_astro[adata_astro.obs['diet']=='hfd_5', ].obs['gfap_aldh'].value_counts().sort_index()\n",
    "    def func(pct, allvals):\n",
    "        absolute = int(pct/100.*np.sum(allvals))\n",
    "        return \"{:.1f}%\\n({:d})\".format(pct, absolute)\n",
    "\n",
    "    fig, (ax0, ax1) = plt.subplots(ncols=2, figsize=(16, 6), subplot_kw=dict(aspect=\"equal\"))\n",
    "    ax0 = sc.pl.umap(adata_astro[adata_astro.obs['diet']=='hfd_5', ], \n",
    "                     color=['gfap_aldh'], size=30, ax=ax0, show=False, palette=['green','blue','magenta','gainsboro'])\n",
    "    wedges, texts, autotexts = ax1.pie(data, autopct=lambda pct: func(pct, data), textprops=dict(color=\"w\"),\n",
    "                                       colors=['green','blue','magenta','gainsboro'])\n",
    "    ax1.set_title('Chow diet cells - markers share')\n",
    "\n",
    "    fig.savefig(sc_settings_figdir+'umap_pie_chart_astrocyte_hfd5_gfap-aldh.png')"
   ]
  },
  {
   "cell_type": "markdown",
   "metadata": {},
   "source": [
    "### HFD_15"
   ]
  },
  {
   "cell_type": "code",
   "execution_count": 90,
   "metadata": {},
   "outputs": [],
   "source": [
    "if bool_plot==True:   \n",
    "    data = adata_astro[adata_astro.obs['diet']=='hfd_15', ].obs['gfap_aldh'].value_counts().sort_index()\n",
    "    def func(pct, allvals):\n",
    "        absolute = int(pct/100.*np.sum(allvals))\n",
    "        return \"{:.1f}%\\n({:d})\".format(pct, absolute)\n",
    "\n",
    "    fig, (ax0, ax1) = plt.subplots(ncols=2, figsize=(16, 6), subplot_kw=dict(aspect=\"equal\"))\n",
    "    ax0 = sc.pl.umap(adata_astro[adata_astro.obs['diet']=='hfd_15', ], \n",
    "                     color=['gfap_aldh'], size=30, ax=ax0, show=False, palette=['green','blue','magenta','gainsboro'])\n",
    "    wedges, texts, autotexts = ax1.pie(data, autopct=lambda pct: func(pct, data), textprops=dict(color=\"w\"),\n",
    "                                       colors=['green','blue','magenta','gainsboro'])\n",
    "    ax1.set_title('Chow diet cells - markers share')\n",
    "\n",
    "    fig.savefig(sc_settings_figdir+'umap_pie_chart_astrocyte_hfd15_gfap-aldh.png')"
   ]
  },
  {
   "cell_type": "code",
   "execution_count": 91,
   "metadata": {},
   "outputs": [],
   "source": [
    "if bool_plot == True:\n",
    "    cf.cell_percent(adata_astro, cluster='diet', condition='gfap_aldh', xlabel='clusters', ylabel='percentage', \n",
    "                 title='barplot_per_diet_astrocytes_gfap-aldh', save=sc_settings_figdir, table=False)"
   ]
  },
  {
   "cell_type": "markdown",
   "metadata": {},
   "source": [
    "## Per marker and diet"
   ]
  },
  {
   "cell_type": "code",
   "execution_count": 92,
   "metadata": {},
   "outputs": [],
   "source": [
    "cutoff=statistics.median(adata_astro[adata_astro.obs['gfap_aldh']=='gfap_only', 'Gfap'].X)\n",
    "adata_astro.obs['gfap_only'] = np.select([((adata_astro[:,'Gfap'].X>=cutoff) & (adata_astro[:,'Aldh1l1'].X==0)),\n",
    "                                          ((adata_astro[:,'Gfap'].X<cutoff) & (adata_astro[:,'Gfap'].X>0) & (adata_astro[:,'Aldh1l1'].X==0))],\n",
    "                                          ['h','l'])\n",
    "c = pd.Categorical(adata_astro.obs['gfap_only'])\n",
    "adata_astro.obs['gfap_only'] = c.rename_categories({'h': 'gfap_only_high', 'l': 'gfap_only_low', '0': 'none'})"
   ]
  },
  {
   "cell_type": "code",
   "execution_count": 93,
   "metadata": {},
   "outputs": [],
   "source": [
    "cutoff=statistics.median(adata_astro[adata_astro.obs['gfap_aldh']=='aldh_only', 'Aldh1l1'].X)\n",
    "adata_astro.obs['aldh_only'] = np.select([((adata_astro[:,'Aldh1l1'].X>=cutoff) & (adata_astro[:,'Gfap'].X==0)),\n",
    "                                          ((adata_astro[:,'Aldh1l1'].X<cutoff) & (adata_astro[:,'Aldh1l1'].X>0) & (adata_astro[:,'Gfap'].X==0))],\n",
    "                                          ['h','l'])\n",
    "c = pd.Categorical(adata_astro.obs['aldh_only'])\n",
    "adata_astro.obs['aldh_only'] = c.rename_categories({'h': 'aldh_only_high', 'l': 'aldh_only_low', '0': 'none'})"
   ]
  },
  {
   "cell_type": "code",
   "execution_count": 94,
   "metadata": {},
   "outputs": [],
   "source": [
    "cutoff=statistics.median(adata_astro[adata_astro.obs['gfap_aldh']=='both', 'Gfap'].X)\n",
    "adata_astro.obs['both'] = np.select([((adata_astro[:,'Aldh1l1'].X>=cutoff) & (adata_astro[:,'Gfap'].X>=cutoff)),\n",
    "                                          ((adata_astro[:,'Aldh1l1'].X<cutoff) & (adata_astro[:,'Aldh1l1'].X>0) & (adata_astro[:,'Gfap'].X<cutoff) & (adata_astro[:,'Gfap'].X>0))],\n",
    "                                          ['h','l'])\n",
    "c = pd.Categorical(adata_astro.obs['both'])\n",
    "adata_astro.obs['both'] = c.rename_categories({'h': 'both_high', 'l': 'both_low', '0': 'none'})"
   ]
  },
  {
   "cell_type": "markdown",
   "metadata": {},
   "source": [
    "### Luiza's pathways"
   ]
  },
  {
   "cell_type": "code",
   "execution_count": 95,
   "metadata": {},
   "outputs": [],
   "source": [
    "homeostasis = ['Slc2a1','Slc2a2','Slc2a3','Slc2a4','Slc2a6','Slc38a1','Slc38a2','Slc1a5','Slc16a1','Slc16a3',\n",
    "               'Slc5a12','Slc1a2','Slc1a3','Slc7a11','Gck','Pdk1','Pdk4','Prkaa1','Ffar4','Cpt1a','Abhd6','Acadvl',\n",
    "               'Acadm','Lpl','Pfkfb3','Cyp11a1','Srd5a1','Srd5a2','Tspo','Apoe','Hcar2','Pkm']         \n",
    "hormone = ['Gfap','Aldh1l1','Insr','Igf1r','Lepr','Glp1r','Ghsr','Mc4r','Mc3r','Npy1r','Npy4r']\n",
    "gliotransmision = ['Srr','Slc17a6','Kcnj10','Phgdh','Slc7a10','Thbs1','P2ry4','P2ry6','Npy','Nfatc3','Slc6a9','Vamp2',\n",
    "                   'Vamp3','Stx1a','Snap25','Bdnf','Grm5','Nlgn2','Gpc4'] #,'Odn'\n",
    "angiogenic = ['Vegfa','Vegfb','Vegfc','Angpt1','Angpt2','Epo','Pdgfa','Pdgfb','Fgf2','Ang','Edn1','Nos3','Havcr2']\n",
    "ecm = ['Vim','Col4a1','Cspg4','Tgfb1','Irf1','Cxcl12','Cxcr4','Plaur','Sema3a','Sema4d','Cd44','Ncan','Acan'] \n",
    "ucp2thyroid = ['Ucp2','Dio2','Dio3','Slc16a2','Slco1c1','Sod1','Cybb','Gpx1','Gpx4','Ddit3','Atf4']    \n",
    "iron = ['Cp','Tfrc','Fth1','Ftmt','Slc11a2']        \n",
    "cellcycle = ['Ccne1','Ccne2','E2f2','Pcna','Mcm2','H4c1','Slbp','Rrm2','Rfc4','Top2a','Ccna2','Ccnf','Ccnb1','Ccnb2',\n",
    "             'Bub1','Bub1b','Cdc25b','Rad21','Cdkn3','Pttg1','Kif11','Kif2c','Kif4','Plk1','Aurka','Psat1','Foxm1',\n",
    "             'Mki67','Mybl2','Ccnd1']\n",
    "inflamation = ['Ccl9','Ccl21a','Lep','Csf3','Ccl11','Il12b','Tnfsf11','Ccl19','Csf1','Cxcl1','Il4','Il2',\n",
    "               'Il5','Ccl12','Il10','Il3','Ifng','Vegfa','C5ar2','Il1b','Il6','C3','Ccl5','Cxcl2','Tlr4',\n",
    "               'Il1r1','Il6ra','Lcn2']#    ,'Il12p70','Tnfa','Cxcl8'\n",
    "calcium = ['Itpr2','Plcb1','Plcg1','Prkca','Prkcb','Nfatc1','Calm1']\n",
    "hedgehog = ['Smo','Shh','Ptch1','Ptch2','Gli1','Gli2','Gli3']\n",
    "others = ['Tbx3','Cited1','Fech','Cpe','Clu']\n",
    "a1astro = ['H2-T23','Serping1','H2-D1','Ggta1','Iigp1','Gbp2','Fbln5','Ugt1a1','Fkbp5','Psmb8','Srgn','Amigo2']\n",
    "a2astro = ['Clcf1','Tgm1','Ptx3','S100a10','Sphk1','Cd109','Ptgs2','Emp1','Slc10a6','Tm4sf1','B3gnt5','Cd14']"
   ]
  },
  {
   "cell_type": "code",
   "execution_count": 96,
   "metadata": {},
   "outputs": [],
   "source": [
    "marker_genes_dict = {'homeostasis': ['Slc2a1','Slc2a2','Slc2a3','Slc2a4','Slc2a6','Slc38a1','Slc38a2','Slc1a5',\n",
    "                                     'Slc16a1','Slc16a3','Slc5a12','Slc1a2','Slc1a3','Slc7a11','Gck','Pdk1','Pdk4',\n",
    "                                     'Prkaa1','Ffar4','Cpt1a','Abhd6','Acadvl','Acadm','Lpl','Pfkfb3','Cyp11a1',\n",
    "                                     'Srd5a1','Srd5a2','Tspo','Apoe','Hcar2','Pkm'],\n",
    "                     'hormone': ['Gfap','Aldh1l1','Insr','Igf1r','Lepr','Glp1r','Ghsr','Mc4r','Mc3r','Npy1r','Npy4r'],\n",
    "                     'gliotransmision': ['Srr','Slc17a6','Kcnj10','Phgdh','Slc7a10','Thbs1','P2ry4','P2ry6','Npy',\n",
    "                                         'Nfatc3','Slc6a9','Vamp2','Vamp3','Stx1a','Snap25','Bdnf','Grm5','Nlgn2',\n",
    "                                         'Gpc4'],\n",
    "                     'angiogenic': ['Vegfa','Vegfb','Vegfc','Angpt1','Angpt2','Epo','Pdgfa','Pdgfb','Fgf2','Ang',\n",
    "                                    'Edn1','Nos3','Havcr2'],\n",
    "                     'ecm': ['Vim','Col4a1','Cspg4','Tgfb1','Irf1','Cxcl12','Cxcr4','Plaur','Sema3a','Sema4d','Cd44',\n",
    "                             'Ncan','Acan'],\n",
    "                     'ucp2thyroid': ['Ucp2','Dio2','Dio3','Slc16a2','Slco1c1','Sod1','Cybb','Gpx1','Gpx4','Ddit3',\n",
    "                                     'Atf4'],\n",
    "                     'iron': ['Cp','Tfrc','Fth1','Ftmt','Slc11a2'],\n",
    "                     'cellcycle': ['Ccne1','Ccne2','E2f2','Pcna','Mcm2','H4c1','Slbp','Rrm2','Rfc4','Top2a','Ccna2',\n",
    "                                   'Ccnf','Ccnb1','Ccnb2','Bub1','Bub1b','Cdc25b','Rad21','Cdkn3','Pttg1','Kif11',\n",
    "                                   'Kif2c','Kif4','Plk1','Aurka','Psat1','Foxm1','Mki67','Mybl2','Ccnd1'],\n",
    "                     'inflamation': ['Ccl9','Ccl21a','Lep','Csf3','Ccl11','Il12b','Tnfsf11','Ccl19','Csf1','Cxcl1',\n",
    "                                     'Il4','Il2','Il5','Ccl12','Il10','Il3','Ifng','Vegfa','C5ar2','Il1b','Il6','C3',\n",
    "                                     'Ccl5','Cxcl2','Tlr4','Il1r1','Il6ra','Lcn2'],\n",
    "                     'calcium': ['Itpr2','Plcb1','Plcg1','Prkca','Prkcb','Nfatc1','Calm1'],\n",
    "                     'hedgehog': ['Smo','Shh','Ptch1','Ptch2','Gli1','Gli2','Gli3'],\n",
    "                     'others': ['Tbx3','Cited1','Fech','Cpe','Clu'],\n",
    "                     'a1astro': ['H2-T23','Serping1','H2-D1','Ggta1','Iigp1','Gbp2','Fbln5','Ugt1a1','Fkbp5','Psmb8',\n",
    "                                 'Srgn','Amigo2'],\n",
    "                     'a2astro': ['Clcf1','Tgm1','Ptx3','S100a10','Sphk1','Cd109','Ptgs2','Emp1','Slc10a6','Tm4sf1',\n",
    "                                 'B3gnt5','Cd14']}"
   ]
  },
  {
   "cell_type": "code",
   "execution_count": 97,
   "metadata": {},
   "outputs": [],
   "source": [
    "adata_astro.obs['diet_marker'] = adata_astro.obs['diet'].astype(str) + '_' + adata_astro.obs['gfap_aldh']"
   ]
  },
  {
   "cell_type": "code",
   "execution_count": 98,
   "metadata": {},
   "outputs": [],
   "source": [
    "if bool_plot==True:\n",
    "    sc.pl.dotplot(\n",
    "        adata=adata_astro[adata_astro.obs['gfap_aldh']!='none',],\n",
    "        var_names=calcium, \n",
    "        groupby='diet_marker',\n",
    "        use_raw=False, \n",
    "        log=False, \n",
    "        dendrogram=False, \n",
    "        var_group_rotation=90, \n",
    "        #title=\"hormone receptors\",\n",
    "        swap_axes=True,\n",
    "        show=True, \n",
    "        save=\"all_cells_ARCneuro_markers.png\")"
   ]
  },
  {
   "cell_type": "code",
   "execution_count": 99,
   "metadata": {
    "scrolled": false
   },
   "outputs": [],
   "source": [
    "if bool_plot==True:\n",
    "    sc.pl.dotplot(\n",
    "        adata=adata_astro[adata_astro.obs['gfap_aldh']!='none',],\n",
    "        var_names=marker_genes_dict, \n",
    "        groupby='diet_marker',\n",
    "        use_raw=False, \n",
    "        log=False, \n",
    "        dendrogram=False, \n",
    "        var_group_rotation=90, \n",
    "        swap_axes=True,\n",
    "        show=True, \n",
    "        save=\"all_cells_ARCneuro_markers.png\")"
   ]
  },
  {
   "cell_type": "code",
   "execution_count": 100,
   "metadata": {
    "scrolled": false
   },
   "outputs": [],
   "source": [
    "if bool_plot==True:\n",
    "    sc.pl.stacked_violin(adata_astro[adata_astro.obs['gfap_aldh']!='none',],\n",
    "                         cellcycle,\n",
    "                         groupby='diet_marker',\n",
    "                         use_raw=False, \n",
    "                         log=False, \n",
    "                         dendrogram=False,\n",
    "                         rotation=90,\n",
    "                         swap_axes=True)"
   ]
  },
  {
   "cell_type": "code",
   "execution_count": 101,
   "metadata": {},
   "outputs": [],
   "source": [
    "plt.rcParams['figure.figsize'] = [8,8]"
   ]
  },
  {
   "cell_type": "code",
   "execution_count": 102,
   "metadata": {},
   "outputs": [],
   "source": [
    "adata_c = adata_astro[adata_astro.obs['diet']==\"chow\",]\n",
    "adata_5 = adata_astro[adata_astro.obs['diet']==\"hfd_5\",]\n",
    "adata_15 = adata_astro[adata_astro.obs['diet']==\"hfd_15\",]"
   ]
  },
  {
   "cell_type": "code",
   "execution_count": 103,
   "metadata": {},
   "outputs": [],
   "source": [
    "gf_c = (adata_c[:,'Gfap'].X>0) & (adata_c[:,'Aldh1l1'].X==0) \n",
    "gfsum_c = sum(gf_c)\n",
    "al_c =(adata_c[:,'Gfap'].X==0) & (adata_c[:,'Aldh1l1'].X>0) \n",
    "alsum_c = sum(al_c)\n",
    "bt_c =(adata_c[:,'Gfap'].X>0) & (adata_c[:,'Aldh1l1'].X>0) \n",
    "btsum_c = sum(bt_c)\n",
    "\n",
    "gf_5=(adata_5[:,'Gfap'].X>0) & (adata_5[:,'Aldh1l1'].X==0) \n",
    "gfsum_5 = sum(gf_5)\n",
    "al_5=(adata_5[:,'Gfap'].X==0) & (adata_5[:,'Aldh1l1'].X>0) \n",
    "alsum_5 = sum(al_5)\n",
    "bt_5=(adata_5[:,'Gfap'].X>0) & (adata_5[:,'Aldh1l1'].X>0) \n",
    "btsum_5 = sum(bt_5)\n",
    "\n",
    "gf_15=(adata_15[:,'Gfap'].X>0) & (adata_15[:,'Aldh1l1'].X==0) \n",
    "gfsum_15 = sum(gf_15)\n",
    "al_15=(adata_15[:,'Gfap'].X==0) & (adata_15[:,'Aldh1l1'].X>0) \n",
    "alsum_15 = sum(al_15)\n",
    "bt_15=(adata_15[:,'Gfap'].X>0) & (adata_15[:,'Aldh1l1'].X>0) \n",
    "btsum_15 = sum(bt_15)"
   ]
  },
  {
   "cell_type": "code",
   "execution_count": 104,
   "metadata": {},
   "outputs": [],
   "source": [
    "hormon = ['Insr','Igf1r','Lepr','Glp1r','Ghsr','Mc4r','Mc3r','Npy1r','Npy4r']\n",
    "inflam = ['Ccl9','Ccl21a','Lep','Csf3','Ccl11','Il12b','Tnfsf11','Ccl19','Csf1','Cxcl1','Il4','Il2',\n",
    "          'Il5','Ccl12','Il10','Il3','Ifng','Vegfa','C5ar2','Il1b','Il6','C3','Ccl5','Cxcl2','Tlr4',\n",
    "          'Il1r1','Il6ra','Lcn2']#    ,'Il12p70','Tnfa','Cxcl8'\n",
    "hstas = ['Slc2a1','Slc2a2','Slc2a3','Slc2a4','Slc2a6','Slc38a1','Slc38a2','Slc1a5','Slc16a1','Slc16a3','Slc5a12',\n",
    "         'Slc1a2','Slc1a3','Slc7a11','Gck','Pdk1','Pdk4','Prkaa1','Ffar4','Cpt1a','Abhd6','Acadvl','Acadm','Lpl',\n",
    "         'Pfkfb3','Cyp11a1','Srd5a1','Srd5a2','Tspo','Apoe','Hcar2','Pkm']         "
   ]
  },
  {
   "cell_type": "code",
   "execution_count": 105,
   "metadata": {
    "scrolled": true
   },
   "outputs": [],
   "source": [
    "if bool_plot==True:\n",
    "    df = pd.DataFrame(columns=['gfap_c','gfap_5','gfap_15','aldh_c','aldh_5','aldh_15','both_c','both_5','both_15'])\n",
    "    for i in hormon:\n",
    "        df = df.append({'gfap_c': sum((adata_c[:,i].X>0) & gf_c)/gfsum_c*100,\n",
    "                        'gfap_5': sum((adata_5[:,i].X>0) & gf_5)/gfsum_5*100,\n",
    "                        'gfap_15': sum((adata_15[:,i].X>0) & gf_15)/gfsum_15*100,\n",
    "\n",
    "                        'aldh_c': sum((adata_c[:,i].X>0) & al_c)/alsum_c*100,\n",
    "                        'aldh_5': sum((adata_5[:,i].X>0) & al_5)/alsum_5*100,\n",
    "                        'aldh_15': sum((adata_15[:,i].X>0) & al_15)/alsum_15*100,\n",
    "\n",
    "                        'both_c': sum((adata_c[:,i].X>0) & bt_c)/btsum_c*100,\n",
    "                        'both_5': sum((adata_5[:,i].X>0) & bt_5)/btsum_5*100,\n",
    "                        'both_15': sum((adata_15[:,i].X>0) & bt_15)/btsum_15*100,\n",
    "\n",
    "                       }\n",
    "                       ,ignore_index=True\n",
    "                      )\n",
    "    df.index = hormon\n",
    "    for i in df.columns:\n",
    "        df[i] = df[i].str.get(0)\n",
    "    df.round(1)#.to_csv(\"hormone_receptors.csv\")\n",
    "    sb.heatmap(df, annot=True, cmap=\"viridis\", vmin=0, vmax=100)"
   ]
  },
  {
   "cell_type": "markdown",
   "metadata": {},
   "source": [
    "### chow"
   ]
  },
  {
   "cell_type": "code",
   "execution_count": 106,
   "metadata": {},
   "outputs": [],
   "source": [
    "if bool_plot==True:\n",
    "    data = adata_astro[adata_astro.obs['diet']=='chow', ].obs['gfap_only'].value_counts().sort_index()\n",
    "    def func(pct, allvals):\n",
    "        absolute = int(pct/100.*np.sum(allvals))\n",
    "        return \"{:.1f}%\\n({:d})\".format(pct, absolute)\n",
    "\n",
    "    fig, (ax0, ax1) = plt.subplots(ncols=2, figsize=(16, 6), subplot_kw=dict(aspect=\"equal\"))\n",
    "    ax0 = sc.pl.umap(adata_astro[adata_astro.obs['diet']=='chow', ], \n",
    "                     color=['gfap_only'], size=10, ax=ax0, show=False,\n",
    "                     palette=['gainsboro','darkmagenta','magenta'])\n",
    "    wedges, texts, autotexts = ax1.pie(data, autopct=lambda pct: func(pct, data), textprops=dict(color=\"black\"),\n",
    "                                      colors=['gainsboro','darkmagenta','magenta'], pctdistance=1.2)\n",
    "    ax1.set_title('Chow gfap_only share')\n",
    "\n",
    "    fig.savefig(sc_settings_figdir+'umap_astrocytes_gfap_only_chow.png')\n",
    "    #cf.plot_umap_marker(adata_astro[adata_astro.obs['diet']=='chow', ], ['gfap_only'], \n",
    "                        #palette=['gainsboro','darkmagenta','magenta'],\n",
    "                        #save=\"_astrocytes_gfap_only_chow.png\", size=30, color_map=mymap, use_raw=False)"
   ]
  },
  {
   "cell_type": "code",
   "execution_count": 107,
   "metadata": {},
   "outputs": [],
   "source": [
    "if bool_plot==True:  \n",
    "    data = adata_astro[adata_astro.obs['diet']=='chow', ].obs['aldh_only'].value_counts().sort_index()\n",
    "    def func(pct, allvals):\n",
    "        absolute = int(pct/100.*np.sum(allvals))\n",
    "        return \"{:.1f}%\\n({:d})\".format(pct, absolute)\n",
    "\n",
    "    fig, (ax0, ax1) = plt.subplots(ncols=2, figsize=(16, 6), subplot_kw=dict(aspect=\"equal\"))\n",
    "    ax0 = sc.pl.umap(adata_astro[adata_astro.obs['diet']=='chow', ], \n",
    "                     color=['aldh_only'], size=10, ax=ax0, show=False,\n",
    "                     palette=['gainsboro','green','lime'])\n",
    "    wedges, texts, autotexts = ax1.pie(data, autopct=lambda pct: func(pct, data), textprops=dict(color=\"black\"),\n",
    "                                      colors=['gainsboro','green','lime'], pctdistance=1.2)\n",
    "    ax1.set_title('Chow aldh_only share')\n",
    "\n",
    "    fig.savefig(sc_settings_figdir+'umap_astrocytes_aldh_only_chow.png')\n",
    "    #cf.plot_umap_marker(adata_astro[adata_astro.obs['diet']=='chow', ], ['aldh_only'], palette=['gainsboro','green','lime'],\n",
    "    #                    save=\"_astrocytes_aldh_only_chow.png\", size=30, color_map=mymap, use_raw=False)"
   ]
  },
  {
   "cell_type": "code",
   "execution_count": 108,
   "metadata": {},
   "outputs": [],
   "source": [
    "if bool_plot==True:\n",
    "    data = adata_astro[adata_astro.obs['diet']=='chow', ].obs['both'].value_counts().sort_index()\n",
    "    def func(pct, allvals):\n",
    "        absolute = int(pct/100.*np.sum(allvals))\n",
    "        return \"{:.1f}%\\n({:d})\".format(pct, absolute)\n",
    "\n",
    "    fig, (ax0, ax1) = plt.subplots(ncols=2, figsize=(16, 6), subplot_kw=dict(aspect=\"equal\"))\n",
    "    ax0 = sc.pl.umap(adata_astro[adata_astro.obs['diet']=='chow', ], \n",
    "                     color=['both'], size=10, ax=ax0, show=False,\n",
    "                     palette=['gainsboro','blue','dodgerblue'])\n",
    "    wedges, texts, autotexts = ax1.pie(data, autopct=lambda pct: func(pct, data), textprops=dict(color=\"black\"),\n",
    "                                      colors=['gainsboro','blue','dodgerblue'], pctdistance=1.2) #,fontsize=12\n",
    "    ax1.set_title('Chow both share')\n",
    "\n",
    "    fig.savefig(sc_settings_figdir+'_astrocytes_both_chow.png')\n",
    "    #cf.plot_umap_marker(adata_astro[adata_astro.obs['diet']=='chow', ], ['both'], palette=['gainsboro','blue','dodgerblue'],\n",
    "    #                    save=\"_astrocytes_both_chow.png\", size=30, color_map=mymap, use_raw=False)"
   ]
  },
  {
   "cell_type": "code",
   "execution_count": 109,
   "metadata": {},
   "outputs": [],
   "source": [
    "if bool_plot==True:\n",
    "    cf.plot_umap_marker(adata_astro[adata_astro.obs['diet']=='chow', ], ['gfap_aldh'], \n",
    "                        palette=['green','blue','magenta','gainsboro'],\n",
    "                        save=\"_astrocytes_gfap_aldh_chow.png\", size=30, color_map=mymap, use_raw=False)"
   ]
  },
  {
   "cell_type": "markdown",
   "metadata": {},
   "source": [
    "### Differential gene expression - chow"
   ]
  },
  {
   "cell_type": "code",
   "execution_count": 110,
   "metadata": {},
   "outputs": [],
   "source": [
    "astro_0 = adata_astro[:,~adata_astro.var.index.isin(['Gfap','Aldh1l1'])]"
   ]
  },
  {
   "cell_type": "code",
   "execution_count": 111,
   "metadata": {},
   "outputs": [],
   "source": [
    "if bool_plot==True:\n",
    "    astro0 = astro_0[(astro_0.obs['diet']=='chow') & \n",
    "                    (astro_0.obs['gfap_aldh'].isin(['aldh_only','gfap_only'])), ]\n",
    "    dets_mark = de.test.t_test(data=astro0, sample_description=astro0.obs, grouping=\"gfap_aldh\", is_logged=False)\n",
    "    dets_mark_summary = dets_mark.summary(mean_thres=np.log(0.01), qval_thres=0.1, fc_lower_thres=1, fc_upper_thres=1)\n",
    "    dets_mark_summary\n",
    "    #dets_age_summary.to_csv(path_or_buf=dir_tables+\"DE_preadip_by_age.tab\", sep=\"\\t\")\n",
    "    dets_mark.plot_volcano(alpha=0.05,corrected_pval=False, min_fc=1, size=15, log10_p_threshold=-5.5, \n",
    "                           log2_fc_threshold=3.7, save=sc_settings_figdir+\"dge_volcano_chow_aldh-gfap\",\n",
    "                           suffix=\"_astrocytes.png\")"
   ]
  },
  {
   "cell_type": "code",
   "execution_count": 112,
   "metadata": {},
   "outputs": [],
   "source": [
    "if bool_plot==True:\n",
    "    astro0 = astro_0[(astro_0.obs['diet']=='chow') & \n",
    "                    (astro_0.obs['gfap_aldh'].isin(['both','gfap_only'])), ]\n",
    "    dets_mark = de.test.t_test(data=astro0, sample_description=astro0.obs, grouping=\"gfap_aldh\", is_logged=False)\n",
    "    dets_mark_summary = dets_mark.summary(mean_thres=np.log(0.01), qval_thres=0.1, fc_lower_thres=1, fc_upper_thres=1)\n",
    "    #dets_age_summary.to_csv(path_or_buf=dir_tables+\"DE_preadip_by_age.tab\", sep=\"\\t\")\n",
    "    dets_mark.plot_volcano(alpha=0.05,corrected_pval=False, min_fc=1, size=15, log10_p_threshold=-5.5,\n",
    "                           log2_fc_threshold=3.5, save=sc_settings_figdir+\"dge_volcano_chow_both-gfap\",\n",
    "                           suffix=\"_astrocytes.png\")"
   ]
  },
  {
   "cell_type": "code",
   "execution_count": 113,
   "metadata": {},
   "outputs": [],
   "source": [
    "if bool_plot==True:\n",
    "    astro0 = astro_0[(astro_0.obs['diet']=='chow') & \n",
    "                    (astro_0.obs['gfap_aldh'].isin(['aldh_only','both'])), ]\n",
    "    dets_mark = de.test.t_test(data=astro0, sample_description=astro0.obs, grouping=\"gfap_aldh\", is_logged=False)\n",
    "    dets_mark_summary = dets_mark.summary(mean_thres=np.log(0.01), qval_thres=0.1, fc_lower_thres=1, fc_upper_thres=1)\n",
    "    #dets_age_summary.to_csv(path_or_buf=dir_tables+\"DE_preadip_by_age.tab\", sep=\"\\t\")\n",
    "    dets_mark.plot_volcano(alpha=0.05, corrected_pval=False, min_fc=1, size=15, log10_p_threshold=-5.5, \n",
    "                           log2_fc_threshold=3.5, save=sc_settings_figdir+\"dge_volcano_chow_aldh-both\",\n",
    "                           suffix=\"_astrocytes.png\")"
   ]
  },
  {
   "cell_type": "markdown",
   "metadata": {},
   "source": [
    "### hfd 5"
   ]
  },
  {
   "cell_type": "code",
   "execution_count": 114,
   "metadata": {},
   "outputs": [],
   "source": [
    "if bool_plot==True:\n",
    "    data = adata_astro[adata_astro.obs['diet']=='hfd_5', ].obs['gfap_only'].value_counts().sort_index()\n",
    "    def func(pct, allvals):\n",
    "        absolute = int(pct/100.*np.sum(allvals))\n",
    "        return \"{:.1f}%\\n({:d})\".format(pct, absolute)\n",
    "\n",
    "    fig, (ax0, ax1) = plt.subplots(ncols=2, figsize=(16, 6), subplot_kw=dict(aspect=\"equal\"))\n",
    "    ax0 = sc.pl.umap(adata_astro[adata_astro.obs['diet']=='hfd_5', ], \n",
    "                     color=['gfap_only'], size=10, ax=ax0, show=False,\n",
    "                     palette=['gainsboro','darkmagenta','magenta'])\n",
    "    wedges, texts, autotexts = ax1.pie(data, autopct=lambda pct: func(pct, data), textprops=dict(color=\"black\"),\n",
    "                                      colors=['gainsboro','darkmagenta','magenta'], pctdistance=1.2)\n",
    "    ax1.set_title('hfd_5 gfap_only share')\n",
    "\n",
    "    fig.savefig(sc_settings_figdir+'_astrocytes_gfap_only_hfd5.png')\n",
    "    #cf.plot_umap_marker(adata_astro[adata_astro.obs['diet']=='hfd_5', ], ['gfap_only'], palette=['gainsboro','darkmagenta','magenta'],\n",
    "    #                    save=\"_astrocytes_gfap_only_hfd5.png\", size=30, color_map=mymap, use_raw=False)"
   ]
  },
  {
   "cell_type": "code",
   "execution_count": 115,
   "metadata": {},
   "outputs": [],
   "source": [
    "if bool_plot==True:\n",
    "    data = adata_astro[adata_astro.obs['diet']=='hfd_5', ].obs['aldh_only'].value_counts().sort_index()\n",
    "    def func(pct, allvals):\n",
    "        absolute = int(pct/100.*np.sum(allvals))\n",
    "        return \"{:.1f}%\\n({:d})\".format(pct, absolute)\n",
    "\n",
    "    fig, (ax0, ax1) = plt.subplots(ncols=2, figsize=(16, 6), subplot_kw=dict(aspect=\"equal\"))\n",
    "    ax0 = sc.pl.umap(adata_astro[adata_astro.obs['diet']=='hfd_5', ], \n",
    "                     color=['aldh_only'], size=10, ax=ax0, show=False,\n",
    "                     palette=['gainsboro','green','lime'])\n",
    "    wedges, texts, autotexts = ax1.pie(data, autopct=lambda pct: func(pct, data), textprops=dict(color=\"black\"),\n",
    "                                      colors=['gainsboro','green','lime'], pctdistance=1.2)\n",
    "    ax1.set_title('hfd_5 aldh_only share')\n",
    "\n",
    "    fig.savefig(sc_settings_figdir+'_astrocytes_aldh_only_hfd5.png')\n",
    "    #cf.plot_umap_marker(adata_astro[adata_astro.obs['diet']=='hfd_5', ], ['aldh_only'], palette=['gainsboro','green','lime'],\n",
    "    #                    save=\"_astrocytes_aldh_only_hfd5.png\", size=30, color_map=mymap, use_raw=False)"
   ]
  },
  {
   "cell_type": "code",
   "execution_count": 116,
   "metadata": {},
   "outputs": [],
   "source": [
    "if bool_plot==True: \n",
    "    data = adata_astro[adata_astro.obs['diet']=='hfd_5', ].obs['both'].value_counts().sort_index()\n",
    "    def func(pct, allvals):\n",
    "        absolute = int(pct/100.*np.sum(allvals))\n",
    "        return \"{:.1f}%\\n({:d})\".format(pct, absolute)\n",
    "\n",
    "    fig, (ax0, ax1) = plt.subplots(ncols=2, figsize=(16, 6), subplot_kw=dict(aspect=\"equal\"))\n",
    "    ax0 = sc.pl.umap(adata_astro[adata_astro.obs['diet']=='hfd_5', ], \n",
    "                     color=['both'], size=10, ax=ax0, show=False,\n",
    "                     palette=['gainsboro','blue','dodgerblue'])\n",
    "    wedges, texts, autotexts = ax1.pie(data, autopct=lambda pct: func(pct, data), textprops=dict(color=\"black\"),\n",
    "                                      colors=['gainsboro','blue','dodgerblue'], pctdistance=1.2)\n",
    "    ax1.set_title('hfd_5 both share')\n",
    "\n",
    "    fig.savefig(sc_settings_figdir+'_astrocytes_both_hfd5.png')\n",
    "    #cf.plot_umap_marker(adata_astro[adata_astro.obs['diet']=='hfd_5', ], ['both'], palette=['gainsboro','blue','dodgerblue'],\n",
    "    #                    save=\"_astrocytes_both_hfd5.png\", size=30, color_map=mymap, use_raw=False)    "
   ]
  },
  {
   "cell_type": "code",
   "execution_count": 117,
   "metadata": {},
   "outputs": [],
   "source": [
    "if bool_plot==True:\n",
    "    cf.plot_umap_marker(adata_astro[adata_astro.obs['diet']=='hfd_5', ], ['gfap_aldh'], \n",
    "                        palette=['green','blue','magenta','gainsboro'],\n",
    "                        save=\"_astrocytes_gfap_aldh_hfd5.png\", size=30, color_map=mymap, use_raw=False)"
   ]
  },
  {
   "cell_type": "markdown",
   "metadata": {},
   "source": [
    "### Differential gene expression - hfd_5"
   ]
  },
  {
   "cell_type": "code",
   "execution_count": 118,
   "metadata": {},
   "outputs": [],
   "source": [
    "astro_5 = adata_astro[:,~adata_astro.var.index.isin(['Gfap','Aldh1l1'])]"
   ]
  },
  {
   "cell_type": "code",
   "execution_count": 119,
   "metadata": {},
   "outputs": [],
   "source": [
    "if bool_plot==True:\n",
    "    astro5 = astro_5[(astro_5.obs['diet']=='hfd_5') & \n",
    "                    (astro_5.obs['gfap_aldh'].isin(['aldh_only','gfap_only'])), ]\n",
    "    dets_mark = de.test.t_test(data=astro5, sample_description=astro5.obs, grouping=\"gfap_aldh\", is_logged=False)\n",
    "    dets_mark_summary = dets_mark.summary(mean_thres=np.log(0.01), qval_thres=0.1, fc_lower_thres=1, fc_upper_thres=1)\n",
    "    dets_mark_summary\n",
    "    #dets_age_summary.to_csv(path_or_buf=dir_tables+\"DE_preadip_by_age.tab\", sep=\"\\t\")\n",
    "    dets_mark.plot_volcano(alpha=0.05, corrected_pval=False, min_fc=1, size=15, log10_p_threshold=-8, \n",
    "                           log2_fc_threshold=3.5, save=sc_settings_figdir+\"dge_volcano_hfd5_aldh-gfap\",\n",
    "                           suffix=\"_astrocytes.png\")"
   ]
  },
  {
   "cell_type": "code",
   "execution_count": 120,
   "metadata": {},
   "outputs": [],
   "source": [
    "if bool_plot==True:\n",
    "    astro5 = astro_5[(astro_5.obs['diet']=='hfd_5') & \n",
    "                    (astro_5.obs['gfap_aldh'].isin(['both','gfap_only'])), ]\n",
    "    dets_mark = de.test.t_test(data=astro5, sample_description=astro5.obs, grouping=\"gfap_aldh\", is_logged=False)\n",
    "    dets_mark_summary = dets_mark.summary(mean_thres=np.log(0.01), qval_thres=0.1, fc_lower_thres=1, fc_upper_thres=1)\n",
    "    #dets_age_summary.to_csv(path_or_buf=dir_tables+\"DE_preadip_by_age.tab\", sep=\"\\t\")\n",
    "    dets_mark.plot_volcano(alpha=0.05, corrected_pval=False, min_fc=1, size=15, log10_p_threshold=-8,\n",
    "                           log2_fc_threshold=3.5, save=sc_settings_figdir+\"dge_volcano_hfd5_both-gfap\",\n",
    "                           suffix=\"_astrocytes.png\")"
   ]
  },
  {
   "cell_type": "code",
   "execution_count": 121,
   "metadata": {},
   "outputs": [],
   "source": [
    "if bool_plot==True:\n",
    "    astro5 = astro_5[(astro_5.obs['diet']=='hfd_5') & \n",
    "                    (astro_5.obs['gfap_aldh'].isin(['aldh_only','both'])), ]\n",
    "    dets_mark = de.test.t_test(data=astro5, sample_description=astro5.obs, grouping=\"gfap_aldh\", is_logged=False)\n",
    "    dets_mark_summary = dets_mark.summary(mean_thres=np.log(0.01), qval_thres=0.1, fc_lower_thres=1, fc_upper_thres=1)\n",
    "    #dets_age_summary.to_csv(path_or_buf=dir_tables+\"DE_preadip_by_age.tab\", sep=\"\\t\")\n",
    "    dets_mark.plot_volcano(alpha=0.05, corrected_pval=False, min_fc=1, size=15, log10_p_threshold=-8, \n",
    "                           log2_fc_threshold=3.5, save=sc_settings_figdir+\"dge_volcano_hfd5_aldh-both\",\n",
    "                           suffix=\"_astrocytes.png\")"
   ]
  },
  {
   "cell_type": "markdown",
   "metadata": {},
   "source": [
    "### hfd 15"
   ]
  },
  {
   "cell_type": "code",
   "execution_count": 122,
   "metadata": {},
   "outputs": [],
   "source": [
    "if bool_plot==True:\n",
    "    data = adata_astro[adata_astro.obs['diet']=='hfd_15', ].obs['gfap_only'].value_counts().sort_index()\n",
    "    def func(pct, allvals):\n",
    "        absolute = int(pct/100.*np.sum(allvals))\n",
    "        return \"{:.1f}%\\n({:d})\".format(pct, absolute)\n",
    "\n",
    "    fig, (ax0, ax1) = plt.subplots(ncols=2, figsize=(16, 6), subplot_kw=dict(aspect=\"equal\"))\n",
    "    ax0 = sc.pl.umap(adata_astro[adata_astro.obs['diet']=='hfd_15', ], \n",
    "                     color=['gfap_only'], size=10, ax=ax0, show=False,\n",
    "                     palette=['gainsboro','darkmagenta','magenta'])\n",
    "    wedges, texts, autotexts = ax1.pie(data, autopct=lambda pct: func(pct, data), textprops=dict(color=\"black\"),\n",
    "                                      colors=['gainsboro','darkmagenta','magenta'], pctdistance=1.2)\n",
    "    ax1.set_title('hfd_5 gfap_only share')\n",
    "\n",
    "    fig.savefig(sc_settings_figdir+'_astrocytes_gfap_only_hfd15.png')\n",
    "    #cf.plot_umap_marker(adata_astro[adata_astro.obs['diet']=='hfd_15', ], ['gfap_only'], palette=['gainsboro','darkmagenta','magenta'],\n",
    "    #                    save=\"_astrocytes_gfap_only_hfd15.png\", size=30, color_map=mymap, use_raw=False)"
   ]
  },
  {
   "cell_type": "code",
   "execution_count": 123,
   "metadata": {},
   "outputs": [],
   "source": [
    "if bool_plot==True:\n",
    "    data = adata_astro[adata_astro.obs['diet']=='hfd_15', ].obs['aldh_only'].value_counts().sort_index()\n",
    "    def func(pct, allvals):\n",
    "        absolute = int(pct/100.*np.sum(allvals))\n",
    "        return \"{:.1f}%\\n({:d})\".format(pct, absolute)\n",
    "\n",
    "    fig, (ax0, ax1) = plt.subplots(ncols=2, figsize=(16, 6), subplot_kw=dict(aspect=\"equal\"))\n",
    "    ax0 = sc.pl.umap(adata_astro[adata_astro.obs['diet']=='hfd_15', ], \n",
    "                     color=['aldh_only'], size=10, ax=ax0, show=False,\n",
    "                     palette=['gainsboro','green','lime'])\n",
    "    wedges, texts, autotexts = ax1.pie(data, autopct=lambda pct: func(pct, data), textprops=dict(color=\"black\"),\n",
    "                                      colors=['gainsboro','green','lime'], pctdistance=1.2)\n",
    "    ax1.set_title('hfd_5 gfap_only share')\n",
    "\n",
    "    fig.savefig(sc_settings_figdir+'_astrocytes_aldh_only_hfd15.png')\n",
    "    #cf.plot_umap_marker(adata_astro[adata_astro.obs['diet']=='hfd_15', ], ['aldh_only'], palette=['gainsboro','green','lime'],\n",
    "    #                    save=\"_astrocytes_aldh_only_hfd15.png\", size=30, color_map=mymap, use_raw=False)"
   ]
  },
  {
   "cell_type": "code",
   "execution_count": 124,
   "metadata": {},
   "outputs": [],
   "source": [
    "if bool_plot==True:\n",
    "    data = adata_astro[adata_astro.obs['diet']=='hfd_15', ].obs['both'].value_counts().sort_index()\n",
    "    def func(pct, allvals):\n",
    "        absolute = int(pct/100.*np.sum(allvals))\n",
    "        return \"{:.1f}%\\n({:d})\".format(pct, absolute)\n",
    "\n",
    "    fig, (ax0, ax1) = plt.subplots(ncols=2, figsize=(16, 6), subplot_kw=dict(aspect=\"equal\"))\n",
    "    ax0 = sc.pl.umap(adata_astro[adata_astro.obs['diet']=='hfd_15', ], \n",
    "                     color=['both'], size=10, ax=ax0, show=False,\n",
    "                     palette=['gainsboro','blue','dodgerblue'])\n",
    "    wedges, texts, autotexts = ax1.pie(data, autopct=lambda pct: func(pct, data), textprops=dict(color=\"black\"),\n",
    "                                      colors=['gainsboro','blue','dodgerblue'], pctdistance=1.2)\n",
    "    ax1.set_title('hfd_5 both share')\n",
    "\n",
    "    fig.savefig(sc_settings_figdir+'_astrocytes_both_hfd15.png')\n",
    "    #cf.plot_umap_marker(adata_astro[adata_astro.obs['diet']=='hfd_15', ], ['both'], palette=['gainsboro','blue','dodgerblue'],\n",
    "    #                    save=\"_astrocytes_both_hfd15.png\", size=30, color_map=mymap, use_raw=False)"
   ]
  },
  {
   "cell_type": "code",
   "execution_count": 125,
   "metadata": {},
   "outputs": [],
   "source": [
    "if bool_plot==True:\n",
    "    cf.plot_umap_marker(adata_astro[adata_astro.obs['diet']=='hfd_15', ], ['gfap_aldh'], \n",
    "                        palette=['green','blue','magenta','gainsboro'],\n",
    "                        save=\"_astrocytes_gfap_aldh_hfd15.png\", size=30, color_map=mymap, use_raw=False)"
   ]
  },
  {
   "cell_type": "markdown",
   "metadata": {},
   "source": [
    "### Differential gene expression - hfd_15"
   ]
  },
  {
   "cell_type": "code",
   "execution_count": 126,
   "metadata": {},
   "outputs": [],
   "source": [
    "astro_15 = adata_astro[:,~adata_astro.var.index.isin(['Gfap','Aldh1l1'])]"
   ]
  },
  {
   "cell_type": "code",
   "execution_count": 127,
   "metadata": {},
   "outputs": [],
   "source": [
    "if bool_plot==True:\n",
    "    astro15 = astro_15[(astro_15.obs['diet']=='hfd_15') & \n",
    "                    (astro_15.obs['gfap_aldh'].isin(['aldh_only','gfap_only'])), ]\n",
    "    dets_mark = de.test.t_test(data=astro15, sample_description=astro15.obs, grouping=\"gfap_aldh\", is_logged=False)\n",
    "    dets_mark_summary = dets_mark.summary(mean_thres=np.log(0.01), qval_thres=0.1, fc_lower_thres=1, fc_upper_thres=1)\n",
    "    dets_mark_summary\n",
    "    #dets_age_summary.to_csv(path_or_buf=dir_tables+\"DE_preadip_by_age.tab\", sep=\"\\t\")\n",
    "    dets_mark.plot_volcano(alpha=0.05, corrected_pval=False, min_fc=1, size=15, log10_p_threshold=-5.5,\n",
    "                           log2_fc_threshold=3.5, save=sc_settings_figdir+\"dge_volcano_hfd15_gfap-aldh\",\n",
    "                           suffix=\"_astrocytes.png\")"
   ]
  },
  {
   "cell_type": "code",
   "execution_count": 128,
   "metadata": {},
   "outputs": [],
   "source": [
    "if bool_plot==True:\n",
    "    astro15 = astro_15[(astro_15.obs['diet']=='hfd_15') & \n",
    "                    (astro_15.obs['gfap_aldh'].isin(['both','gfap_only'])), ]\n",
    "    dets_mark = de.test.t_test(data=astro15, sample_description=astro15.obs, grouping=\"gfap_aldh\", is_logged=False)\n",
    "    dets_mark_summary = dets_mark.summary(mean_thres=np.log(0.01), qval_thres=0.1, fc_lower_thres=1, fc_upper_thres=1)\n",
    "    #dets_age_summary.to_csv(path_or_buf=dir_tables+\"DE_preadip_by_age.tab\", sep=\"\\t\")\n",
    "    dets_mark.plot_volcano(alpha=0.05, corrected_pval=False, min_fc=1, size=15, log10_p_threshold=-5.5, \n",
    "                           log2_fc_threshold=3.5, save=sc_settings_figdir+\"dge_volcano_hfd15_gfap-both\",\n",
    "                           suffix=\"_astrocytes.png\")"
   ]
  },
  {
   "cell_type": "code",
   "execution_count": 129,
   "metadata": {},
   "outputs": [],
   "source": [
    "if bool_plot==True:\n",
    "    astro15 = astro_15[(astro_15.obs['diet']=='hfd_15') & \n",
    "                    (astro_15.obs['gfap_aldh'].isin(['aldh_only','both'])), ]\n",
    "    dets_mark = de.test.t_test(data=astro15, sample_description=astro15.obs, grouping=\"gfap_aldh\", is_logged=False)\n",
    "    dets_mark_summary = dets_mark.summary(mean_thres=np.log(0.01), qval_thres=0.1, fc_lower_thres=1, fc_upper_thres=1)\n",
    "    #dets_age_summary.to_csv(path_or_buf=dir_tables+\"DE_preadip_by_age.tab\", sep=\"\\t\")\n",
    "    dets_mark.plot_volcano(alpha=0.05, corrected_pval=False, min_fc=1, size=15, log10_p_threshold=-5.5, \n",
    "                           log2_fc_threshold=3.5, save=sc_settings_figdir+\"dge_volcano_hfd15_aldh-both\",\n",
    "                           suffix=\"_astrocytes.png\")"
   ]
  },
  {
   "cell_type": "markdown",
   "metadata": {},
   "source": [
    "# Define Cell Types"
   ]
  },
  {
   "cell_type": "markdown",
   "metadata": {},
   "source": [
    "<a id=\"DE\"></a>"
   ]
  },
  {
   "cell_type": "markdown",
   "metadata": {},
   "source": [
    "## DE Genes"
   ]
  },
  {
   "cell_type": "code",
   "execution_count": 130,
   "metadata": {
    "scrolled": false
   },
   "outputs": [
    {
     "name": "stderr",
     "output_type": "stream",
     "text": [
      "WARNING: Default of the method has been changed to 't-test' from 't-test_overestim_var'\n",
      "ranking genes\n",
      "... storing 'gfap_aldh' as categorical\n",
      "... storing 'diet_marker' as categorical\n",
      "    finished: added to `.uns['rank_genes']`\n",
      "    'names', sorted np.recarray to be indexed by group ids\n",
      "    'scores', sorted np.recarray to be indexed by group ids\n",
      "    'logfoldchanges', sorted np.recarray to be indexed by group ids\n",
      "    'pvals', sorted np.recarray to be indexed by group ids\n",
      "    'pvals_adj', sorted np.recarray to be indexed by group ids (0:00:00)\n"
     ]
    }
   ],
   "source": [
    "sc.tl.rank_genes_groups(adata_astro, groupby='leiden', key_added='rank_genes')\n",
    "\n",
    "if bool_plot==True:\n",
    "    sc.pl.rank_genes_groups(adata_astro, key='rank_genes', groups=['0','1','2'], save=\"_astorcytes_1.png\")"
   ]
  },
  {
   "cell_type": "markdown",
   "metadata": {},
   "source": [
    "## Summary heatmap, dotplot and stacked_violin for cluster assignments"
   ]
  },
  {
   "cell_type": "code",
   "execution_count": 131,
   "metadata": {},
   "outputs": [],
   "source": [
    "if bool_plot==True:\n",
    "    sc.pl.heatmap(\n",
    "        adata=adata_astro, \n",
    "        var_names=marker_genes_dict, \n",
    "        groupby=\"leiden\", \n",
    "        use_raw=False, \n",
    "        log=False, \n",
    "        dendrogram=True, \n",
    "        var_group_rotation=90, \n",
    "        show_gene_labels=True, \n",
    "        show=True, \n",
    "        save=\"_astrocytes_celltypes.png\"\n",
    "    )"
   ]
  },
  {
   "cell_type": "code",
   "execution_count": 132,
   "metadata": {},
   "outputs": [],
   "source": [
    "if bool_plot==True:\n",
    "    sc.pl.dotplot(\n",
    "        adata=adata_astro,\n",
    "        var_names=marker_genes_dict, \n",
    "        groupby='leiden',\n",
    "        use_raw=False, \n",
    "        log=False, \n",
    "        dendrogram=True, \n",
    "        var_group_rotation=90, \n",
    "        show=True, \n",
    "        save=\"_astrocytes_celltypes.png\")"
   ]
  },
  {
   "cell_type": "code",
   "execution_count": 133,
   "metadata": {},
   "outputs": [],
   "source": [
    "if bool_plot==True:\n",
    "    sc.pl.stacked_violin(\n",
    "        adata=adata_astro, \n",
    "        var_names=marker_genes_dict, \n",
    "        groupby='leiden', \n",
    "        use_raw=False,\n",
    "        dendrogram=True,\n",
    "        cmap='viridis_r',\n",
    "        show=True,\n",
    "        save=\"_astrocytes_celltypes.png\")"
   ]
  },
  {
   "cell_type": "code",
   "execution_count": 134,
   "metadata": {},
   "outputs": [],
   "source": [
    "if bool_plot==True:\n",
    "    plt.figure(figsize=(7,7))\n",
    "    cell_annotation = sc.tl.marker_gene_overlap(adata_astro, marker_genes_dict, key='rank_genes', \n",
    "                                                normalize='data')\n",
    "    sb.heatmap(cell_annotation, cbar=False, annot=True)\n",
    "    plt.savefig(sc_settings_figdir+'heatmap_astrocytes_rank_genes_cell_annotation.png')"
   ]
  },
  {
   "cell_type": "code",
   "execution_count": 135,
   "metadata": {},
   "outputs": [],
   "source": [
    "if bool_plot==True:\n",
    "    sc.tl.embedding_density(adata_astro, basis='umap', groupby='diet')\n",
    "    sc.pl.embedding_density(adata_astro, basis='umap', key='umap_density_diet',\n",
    "                            group=['chow', 'hfd_5', 'hfd_15'], bg_dotsize=5, fg_dotsize=30, save=\"astrocytes.png\")"
   ]
  },
  {
   "cell_type": "markdown",
   "metadata": {},
   "source": [
    "## Diffusion Pseudotime Astrocytes¶"
   ]
  },
  {
   "cell_type": "code",
   "execution_count": 136,
   "metadata": {},
   "outputs": [
    {
     "name": "stderr",
     "output_type": "stream",
     "text": [
      "computing neighbors\n",
      "    using 'X_pca' with n_pcs = 50\n",
      "    finished: added to `.uns['neighbors']`\n",
      "    `.obsp['distances']`, distances for each pair of neighbors\n",
      "    `.obsp['connectivities']`, weighted adjacency matrix (0:00:13)\n",
      "computing Diffusion Maps using n_comps=15(=n_dcs)\n",
      "computing transitions\n",
      "    finished (0:00:00)\n",
      "    eigenvalues of transition matrix\n",
      "    [1.         0.9646836  0.9403424  0.897477   0.88720655 0.87285066\n",
      "     0.8674156  0.8586422  0.85531217 0.8276285  0.8162023  0.7872855\n",
      "     0.7790584  0.769019   0.7671406 ]\n",
      "    finished: added\n",
      "    'X_diffmap', diffmap coordinates (adata.obsm)\n",
      "    'diffmap_evals', eigenvalues of transition matrix (adata.uns) (0:00:00)\n",
      "computing neighbors\n",
      "    using 'X_pca' with n_pcs = 50\n",
      "    finished: added to `.uns['neighbors']`\n",
      "    `.obsp['distances']`, distances for each pair of neighbors\n",
      "    `.obsp['connectivities']`, weighted adjacency matrix (0:00:00)\n",
      "computing Diffusion Maps using n_comps=15(=n_dcs)\n",
      "computing transitions\n",
      "    finished (0:00:00)\n",
      "    eigenvalues of transition matrix\n",
      "    [1.         0.9646836  0.9403424  0.897477   0.88720655 0.87285066\n",
      "     0.8674156  0.8586422  0.85531217 0.8276285  0.8162023  0.7872855\n",
      "     0.7790584  0.769019   0.7671406 ]\n",
      "    finished: added\n",
      "    'X_diffmap', diffmap coordinates (adata.obsm)\n",
      "    'diffmap_evals', eigenvalues of transition matrix (adata.uns) (0:00:00)\n"
     ]
    }
   ],
   "source": [
    "adata_astro_raw = adata_astro.copy()\n",
    "adata_astro_raw.X = adata_astro.raw.X.copy()\n",
    "sc.pp.log1p(adata_astro_raw)\n",
    "sc.pp.neighbors(adata_astro_raw)\n",
    "sc.tl.diffmap(adata_astro_raw)\n",
    "\n",
    "sc.pp.neighbors(adata_astro)\n",
    "sc.tl.diffmap(adata_astro)"
   ]
  },
  {
   "cell_type": "code",
   "execution_count": 137,
   "metadata": {},
   "outputs": [],
   "source": [
    "if bool_plot==True:\n",
    "    cf.plot_diffmap_marker(adata_astro, ['leiden'], components='1,3', use_raw=False, size=20,\n",
    "                           save=\"_astrocyte_leiden.png\")"
   ]
  },
  {
   "cell_type": "markdown",
   "metadata": {},
   "source": [
    "### Chow"
   ]
  },
  {
   "cell_type": "code",
   "execution_count": 138,
   "metadata": {},
   "outputs": [],
   "source": [
    "if bool_plot==True:\n",
    "    cf.plot_diffmap_marker(adata_astro[adata_astro.obs['diet']=='chow', ], ['aldh_only','Aldh1l1'], components='1,3',\n",
    "                           color_map=mymap, use_raw=False, palette=['gainsboro','green'], size=20,\n",
    "                           save=\"_astrocyte_chow_aldh.png\")"
   ]
  },
  {
   "cell_type": "code",
   "execution_count": 139,
   "metadata": {},
   "outputs": [],
   "source": [
    "if bool_plot==True:\n",
    "    cf.plot_diffmap_marker(adata_astro[adata_astro.obs['diet']=='chow', ], ['gfap_only','Gfap'], components='1,3', \n",
    "                           color_map=mymap, use_raw=False, palette=['gainsboro','magenta'], size=20, \n",
    "                           save=\"_astrocyte_chow_gfap.png\")"
   ]
  },
  {
   "cell_type": "code",
   "execution_count": 140,
   "metadata": {},
   "outputs": [],
   "source": [
    "if bool_plot==True:\n",
    "    cf.plot_diffmap_marker(adata_astro[adata_astro.obs['diet']=='chow', ], ['both'], components='1,3', use_raw=False,\n",
    "                           palette=['gainsboro','blue'], size=20, save=\"_astrocyte_chow_both.svg\")"
   ]
  },
  {
   "cell_type": "markdown",
   "metadata": {},
   "source": [
    "### hfd 5"
   ]
  },
  {
   "cell_type": "code",
   "execution_count": 141,
   "metadata": {},
   "outputs": [],
   "source": [
    "if bool_plot==True:\n",
    "    cf.plot_diffmap_marker(adata_astro[adata_astro.obs['diet']=='hfd_5', ], ['aldh_only','Aldh1l1'], components='1,3',\n",
    "                           color_map=mymap, use_raw=False, palette=['gainsboro','green'], size=20,\n",
    "                           save=\"_astrocyte_hfd5_aldh.png\")"
   ]
  },
  {
   "cell_type": "code",
   "execution_count": 142,
   "metadata": {},
   "outputs": [],
   "source": [
    "if bool_plot==True:\n",
    "    cf.plot_diffmap_marker(adata_astro[adata_astro.obs['diet']=='hfd_5', ], ['gfap_only','Gfap'], components='1,3', \n",
    "                           color_map=mymap, use_raw=False, palette=['gainsboro','magenta'], size=20, \n",
    "                           save=\"_astrocyte_hfd5_gfap.png\")"
   ]
  },
  {
   "cell_type": "code",
   "execution_count": 143,
   "metadata": {},
   "outputs": [],
   "source": [
    "if bool_plot==True:\n",
    "    cf.plot_diffmap_marker(adata_astro[adata_astro.obs['diet']=='hfd_5', ], ['both'], components='1,3', use_raw=False,\n",
    "                           palette=['gainsboro','blue'], size=20, save=\"_astrocyte_hfd5_both.svg\")"
   ]
  },
  {
   "cell_type": "markdown",
   "metadata": {},
   "source": [
    "### hfd 15"
   ]
  },
  {
   "cell_type": "code",
   "execution_count": 144,
   "metadata": {},
   "outputs": [],
   "source": [
    "if bool_plot==True:\n",
    "    cf.plot_diffmap_marker(adata_astro[adata_astro.obs['diet']=='hfd_15', ], ['aldh_only','Aldh1l1'], components='1,3',\n",
    "                           color_map=mymap, use_raw=False, palette=['gainsboro','green'], size=20,\n",
    "                           save=\"_astrocyte_hfd15_aldh.png\")"
   ]
  },
  {
   "cell_type": "code",
   "execution_count": 145,
   "metadata": {},
   "outputs": [],
   "source": [
    "if bool_plot==True:\n",
    "    cf.plot_diffmap_marker(adata_astro[adata_astro.obs['diet']=='hfd_15', ], ['gfap_only','Gfap'], components='1,3', \n",
    "                           color_map=mymap, use_raw=False, palette=['gainsboro','magenta'], size=20, \n",
    "                           save=\"_astrocyte_hfd15_gfap.png\")"
   ]
  },
  {
   "cell_type": "code",
   "execution_count": 146,
   "metadata": {},
   "outputs": [],
   "source": [
    "if bool_plot==True:\n",
    "    cf.plot_diffmap_marker(adata_astro[adata_astro.obs['diet']=='hfd_15', ], ['both'], components='1,3', use_raw=False,\n",
    "                           palette=['gainsboro','blue'], size=20, save=\"_astrocyte_hfd15_both.svg\")"
   ]
  },
  {
   "cell_type": "markdown",
   "metadata": {},
   "source": [
    "### pseudotime"
   ]
  },
  {
   "cell_type": "code",
   "execution_count": 147,
   "metadata": {},
   "outputs": [
    {
     "name": "stderr",
     "output_type": "stream",
     "text": [
      "computing Diffusion Pseudotime using n_dcs=10\n",
      "    finished: added\n",
      "    'dpt_pseudotime', the pseudotime (adata.obs) (0:00:00)\n",
      "computing Diffusion Pseudotime using n_dcs=10\n",
      "    finished: added\n",
      "    'dpt_pseudotime', the pseudotime (adata.obs) (0:00:00)\n"
     ]
    }
   ],
   "source": [
    "astrocyte_mask21 = np.isin(adata_astro.obs['leiden'], '0')\n",
    "max_astrocyte_id21 = np.argmax(adata_astro.obsm['X_diffmap'][astrocyte_mask21,2])\n",
    "max_astrocyte_id2_raw1 = np.argmax(adata_astro.obsm['X_diffmap'][astrocyte_mask21,2])\n",
    "root_id21 = np.arange(len(astrocyte_mask21))[astrocyte_mask21][max_astrocyte_id21]\n",
    "adata_astro.uns['iroot'] = root_id21\n",
    "adata_astro_raw.uns['iroot'] = root_id21\n",
    "\n",
    "#Compute dpt\n",
    "sc.tl.dpt(adata_astro, n_branchings = 0)\n",
    "sc.tl.dpt(adata_astro_raw, n_branchings = 0)"
   ]
  },
  {
   "cell_type": "code",
   "execution_count": 148,
   "metadata": {},
   "outputs": [],
   "source": [
    "if bool_plot==True:\n",
    "    cf.plot_diffmap_marker(adata_astro, ['dpt_pseudotime'], components='1,3', color_map=mymap, use_raw=False, size=20,\n",
    "                           save=\"_astrocyte_pseudotime.png\")"
   ]
  },
  {
   "cell_type": "markdown",
   "metadata": {},
   "source": [
    "# Cluster 0,1, 2 only"
   ]
  },
  {
   "cell_type": "markdown",
   "metadata": {},
   "source": [
    "<a id=\"Embedding\"></a>"
   ]
  },
  {
   "cell_type": "markdown",
   "metadata": {},
   "source": [
    "## Embedding and Clustering"
   ]
  },
  {
   "cell_type": "code",
   "execution_count": 149,
   "metadata": {},
   "outputs": [
    {
     "name": "stderr",
     "output_type": "stream",
     "text": [
      "running PAGA\n",
      "    finished: added\n",
      "    'paga/connectivities', connectivities adjacency (adata.uns)\n",
      "    'paga/connectivities_tree', connectivities subtree (adata.uns) (0:00:00)\n"
     ]
    }
   ],
   "source": [
    "if bool_recomp == True:  \n",
    "    cell_ids_012 = np.asarray(adata_proc.obs_names)[\n",
    "        [x in ['astrocytes','ependymal'] \n",
    "         for x in np.asarray(adata_proc.obs['celltypes'].values)]\n",
    "    ]\n",
    "    adata_012 = adata_raw[cell_ids_012,:].copy()\n",
    "    adata_012.obs['n_genes'] = (adata_012.X > 0).sum(1)\n",
    "    adata_012.obs['n_counts'] = adata_012.X.sum(1)\n",
    "    mt_gene_mask = [gene.startswith('mt-') for gene in adata_012.var_names]\n",
    "    temp_mt_sum = adata_012[:,mt_gene_mask].X.sum(1)\n",
    "    temp_mt_sum = np.squeeze(np.asarray(temp_mt_sum))\n",
    "    temp_n_counts = adata_012.obs['n_counts']\n",
    "    adata_012.obs['mt_frac'] = temp_mt_sum/adata_012.obs['n_counts']\n",
    "    adata_012.raw = adata_012\n",
    "    sc.pp.normalize_per_cell(adata_012)\n",
    "    sc.pp.log1p(adata_012)\n",
    "    sc.pp.highly_variable_genes(adata_012,n_top_genes=4000)\n",
    "    sc.pl.highly_variable_genes(adata_012)\n",
    "    adata_012.X = adata_012.X.toarray()\n",
    "    \n",
    "    sc.pp.pca(adata_012, n_comps=50, use_highly_variable = True, random_state=0, svd_solver='arpack')\n",
    "    sc.pp.neighbors(adata_012, n_neighbors=100, knn=True, method='umap', n_pcs=50, random_state=0)\n",
    "    sc.tl.umap(adata_012)\n",
    "    if bool_recluster == True:\n",
    "        sc.tl.leiden(adata_012, resolution=0.5)\n",
    "        pd.DataFrame(adata_012.obs).to_csv(path_or_buf=sc_settings_writedir+'obs_adata_012.csv')\n",
    "    else:\n",
    "        obs = pd.read_csv(sc_settings_writedir+'obs_adata_012.csv')\n",
    "        adata_012.obs['louvain']=pd.Series(obs['louvain'].values, dtype = 'category')\n",
    "    sc.write(sc_settings_writedir+'adata_012.h5ad',adata_012)\n",
    "else:\n",
    "    adata_012 = sc.read(sc_settings_writedir+'adata_012.h5ad') \n",
    "sc.tl.paga(adata_012)"
   ]
  },
  {
   "cell_type": "code",
   "execution_count": 150,
   "metadata": {},
   "outputs": [],
   "source": [
    "if bool_plot == True:\n",
    "    cf.plot_umap_marker(adata_012, ['leiden'], save=\"_clust012_leiden.png\", use_raw=False, size=5)"
   ]
  },
  {
   "cell_type": "code",
   "execution_count": 151,
   "metadata": {},
   "outputs": [],
   "source": [
    "if bool_plot == True:\n",
    "    cf.plot_umap_marker(adata_012, ['leiden'], save=\"_clust012_leiden_ondata.png\", use_raw=False, legend_loc='on data', size=5)"
   ]
  },
  {
   "cell_type": "code",
   "execution_count": 152,
   "metadata": {},
   "outputs": [],
   "source": [
    "if bool_plot == True:\n",
    "    cf.plot_umap_marker(adata_012, ['n_genes','n_counts','mt_frac'], color_map=mymap, size=10, save=\"_clust012_n_gene_count_mt.png\", use_raw = False)"
   ]
  },
  {
   "cell_type": "markdown",
   "metadata": {},
   "source": [
    "A high fraction of mitochondrial RNA is in cluster 3 and around the central cluster 8."
   ]
  },
  {
   "cell_type": "code",
   "execution_count": 153,
   "metadata": {},
   "outputs": [],
   "source": [
    "if bool_plot == True:\n",
    "    cf.plot_umap_marker(adata_012, ['Gfap','Aldh1l1'], color_map=mymap, size=10, save=\"_clust012_markers.png\", use_raw = False)"
   ]
  },
  {
   "cell_type": "code",
   "execution_count": 154,
   "metadata": {},
   "outputs": [],
   "source": [
    "if bool_plot == True:\n",
    "    cf.plot_umap_marker(adata_012, ['diet'], save=\"_clust012_diet.png\", size=10, use_raw=False)"
   ]
  },
  {
   "cell_type": "code",
   "execution_count": 155,
   "metadata": {},
   "outputs": [],
   "source": [
    "if bool_plot == True:\n",
    "    sc.pl.paga(adata_012, save=\"_clust012.png\")"
   ]
  },
  {
   "cell_type": "code",
   "execution_count": 156,
   "metadata": {},
   "outputs": [],
   "source": [
    "if bool_plot == True:\n",
    "    cf.cell_percent(adata_012, cluster='leiden', condition='diet', xlabel='clusters', ylabel='percentage', \n",
    "                 title='barplot_clust012_diet_per_clusters', save=sc_settings_figdir, table=False)"
   ]
  },
  {
   "cell_type": "code",
   "execution_count": 157,
   "metadata": {},
   "outputs": [],
   "source": [
    "if bool_plot == True:\n",
    "    aldh_pos = adata_012.obs_names[np.asarray(adata_012[:,'Aldh1l1'].X).flatten()>0]\n",
    "    gfap_pos = adata_012.obs_names[np.asarray(adata_012[:,'Gfap'].X).flatten()>0]\n",
    "    glast_pos = adata_012.obs_names[np.asarray(adata_012[:,'Slc1a3'].X).flatten()>0]\n",
    "\n",
    "    matplotlib_venn.venn3([\n",
    "        set(aldh_pos),\n",
    "        set(gfap_pos),\n",
    "        set(glast_pos)\n",
    "    ], set_labels = (\"Aldh1l1\", \"Gfap\", \"Slc1a3\"))\n",
    "    plt.savefig(sc_settings_figdir+'venndiagram_clust012_gfap-aldh-glast.png')"
   ]
  },
  {
   "cell_type": "code",
   "execution_count": 158,
   "metadata": {},
   "outputs": [],
   "source": [
    "if bool_plot == True:\n",
    "    aldh_pos = adata_012.obs_names[np.asarray(adata_012[:,'Aldh1l1'].X).flatten()>0]\n",
    "    gfap_pos = adata_012.obs_names[np.asarray(adata_012[:,'Gfap'].X).flatten()>0]\n",
    "\n",
    "    matplotlib_venn.venn2([\n",
    "        set(aldh_pos),\n",
    "        set(gfap_pos)\n",
    "    ], set_labels = (\"Aldh1l1\", \"Gfap\"), set_colors = ('lime','magenta'))\n",
    "    plt.savefig(sc_settings_figdir+'venndiagram_clust012_gfap-aldh.png')"
   ]
  },
  {
   "cell_type": "markdown",
   "metadata": {},
   "source": [
    "### Count distribution for Aldh1l1 and Gfap"
   ]
  },
  {
   "cell_type": "markdown",
   "metadata": {},
   "source": [
    "#### Single and double positive counts¶"
   ]
  },
  {
   "cell_type": "markdown",
   "metadata": {},
   "source": [
    "Define booleans for single and double positive counts of Gfap and Aldh1l1"
   ]
  },
  {
   "cell_type": "code",
   "execution_count": 159,
   "metadata": {},
   "outputs": [],
   "source": [
    "non_boolean_int = np.array((adata_012[:,'Gfap'].X<=0) & (adata_012[:,'Aldh1l1'].X<=0), dtype=int)\n",
    "\n",
    "gfap_single_boolean = (adata_012[:,'Gfap'].X>0) & (adata_012[:,'Aldh1l1'].X<=0)\n",
    "aldh_single_boolean = (adata_012[:,'Aldh1l1'].X>0) & (adata_012[:,'Gfap'].X<=0) \n",
    "single_boolean_int = np.array((gfap_single_boolean | aldh_single_boolean), dtype=int)*1\n",
    "\n",
    "gfap_aldh_double_boolean = (adata_012[:,'Gfap'].X>0) & (adata_012[:,'Aldh1l1'].X>0)\n",
    "double_boolean_int = np.array((gfap_aldh_double_boolean), dtype=int)*2\n",
    "\n",
    "non_boolean_int *=0"
   ]
  },
  {
   "cell_type": "code",
   "execution_count": 160,
   "metadata": {},
   "outputs": [
    {
     "name": "stdout",
     "output_type": "stream",
     "text": [
      "Gfap Single Positive  1698\n",
      "Aldh1l1 Single Positive  965\n",
      "Gfap/Aldh1l1 Double Positive  736\n"
     ]
    }
   ],
   "source": [
    "gfap_single_pos = adata_012[:,'Gfap'].X[gfap_single_boolean]\n",
    "aldh_single_pos = adata_012[:,'Aldh1l1'].X[aldh_single_boolean]\n",
    "\n",
    "print('Gfap Single Positive ',len(gfap_single_pos))\n",
    "print('Aldh1l1 Single Positive ',len(aldh_single_pos))\n",
    "\n",
    "gfap_aldh_double_pos = adata_012[:,'Gfap'].X[gfap_aldh_double_boolean]\n",
    "\n",
    "print('Gfap/Aldh1l1 Double Positive ',len(gfap_aldh_double_pos))\n"
   ]
  },
  {
   "cell_type": "markdown",
   "metadata": {},
   "source": [
    "<a id=\"adipmarkers\"></a>"
   ]
  },
  {
   "cell_type": "code",
   "execution_count": 161,
   "metadata": {},
   "outputs": [],
   "source": [
    "adata_012.obs['sdt_pos'] = np.array((non_boolean_int + single_boolean_int + double_boolean_int), dtype=str)\n",
    "adata_012.obs['s_pos'] = np.array((np.array(gfap_single_boolean, dtype=int)*1)+(np.array(aldh_single_boolean, dtype=int)*2), dtype=str)\n",
    "adata_012.obs['d_pos'] = np.array((np.array(gfap_aldh_double_boolean, dtype=int)*1), dtype=str)\n",
    "\n",
    "# make them categorical\n",
    "adata_012.obs['sdt_pos'] = pd.Series(adata_012.obs['sdt_pos'], dtype=\"category\")\n",
    "adata_012.obs['s_pos'] = pd.Series(adata_012.obs['s_pos'], dtype=\"category\")\n",
    "adata_012.obs['d_pos'] = pd.Series(adata_012.obs['d_pos'], dtype=\"category\")"
   ]
  },
  {
   "cell_type": "code",
   "execution_count": 162,
   "metadata": {},
   "outputs": [],
   "source": [
    "if bool_plot == True:\n",
    "    new_cluster_names = ['Non Positives','Single Positives','Double Positives']\n",
    "    adata_012.rename_categories('sdt_pos', new_cluster_names)\n",
    "    sc.pl.umap(adata_012, color=['sdt_pos'], size=10, palette=[\"lightgrey\",\"tomato\",\"blue\"], \n",
    "               save=\"_clust012_gfap-aldh_single_double_positiv.png\")\n",
    "    new_cluster_names = ['Non Single Positives','Gfap Single Positives','Aldh1l1 Single Positives']\n",
    "    adata_012.rename_categories('s_pos', new_cluster_names)\n",
    "    sc.pl.umap(adata_012[adata_012.obs['s_pos']!='Non Single Positives'], color=['s_pos'],\n",
    "               size=10, palette=[\"magenta\",\"lime\"], save=\"_clust012_gfap-aldh_single_positiv.png\")\n",
    "    new_cluster_names = ['Non Double Positives','Gfap/Aldh1l1 Double Positive']\n",
    "    adata_012.rename_categories('d_pos', new_cluster_names)\n",
    "    sc.pl.umap(adata_012[adata_012.obs['d_pos']!='Non Double Positives'], color=['d_pos'], size=10,\n",
    "              save=\"_clust012_gfap-aldh_doble_positiv.png\")"
   ]
  },
  {
   "cell_type": "markdown",
   "metadata": {},
   "source": [
    "### Cluster 0,1,2 chow diet"
   ]
  },
  {
   "cell_type": "code",
   "execution_count": 163,
   "metadata": {},
   "outputs": [],
   "source": [
    "if bool_plot == True:\n",
    "    fig, (ax1, ax2) = plt.subplots(1, 2, figsize=(12,4), gridspec_kw={'wspace':0.8})\n",
    "    ax1_dict = ax1.scatter(adata_012[adata_012.obs['diet']=='chow', ][:, ['Gfap']].X, \n",
    "                           adata_012[adata_012.obs['diet']=='chow', ][:, ['Aldh1l1']].X, \n",
    "                           s=9, cmap='seismic', c='dodgerblue')\n",
    "    ax1.set_title('chow')\n",
    "    ax1.set_ylabel('Gfap')\n",
    "    ax1.set_xlabel('Aldh1l1')\n",
    "    ax2_dict = sc.pl.umap(adata_012[adata_012.obs['diet']=='chow', ], color=['leiden'], size=10, ax=ax2, show=False)\n",
    "    plt.savefig(sc_settings_figdir+'gfap-aldh_clust012_chow.png')"
   ]
  },
  {
   "cell_type": "code",
   "execution_count": 164,
   "metadata": {},
   "outputs": [],
   "source": [
    "if bool_plot == True:\n",
    "    cf.plot_umap_marker(adata_012, ['Gfap', 'Aldh1l1'], save=\"_clust012_chow_gfap-aldh.png\", size=10, \n",
    "                        color_map=mymap, use_raw=False)"
   ]
  },
  {
   "cell_type": "code",
   "execution_count": 165,
   "metadata": {},
   "outputs": [],
   "source": [
    "if bool_plot == True:\n",
    "    aldh_pos = adata_012[adata_012.obs['diet']=='chow', ].obs_names[np.asarray(adata_012[adata_012.obs['diet']=='chow', ][:,'Aldh1l1'].X).flatten()>0]\n",
    "    gfap_pos = adata_012[adata_012.obs['diet']=='chow', ].obs_names[np.asarray(adata_012[adata_012.obs['diet']=='chow', ][:,'Gfap'].X).flatten()>0]\n",
    "\n",
    "    matplotlib_venn.venn2([\n",
    "        set(aldh_pos),\n",
    "        set(gfap_pos)\n",
    "    ], set_labels = (\"Aldh1l1\", \"Gfap\"), set_colors = ('lime','magenta'))\n",
    "    plt.savefig(sc_settings_figdir+'venndiagram_clust012_chow_gfap-aldh.png')"
   ]
  },
  {
   "cell_type": "markdown",
   "metadata": {},
   "source": [
    "### Cluster 0,1,2 hfd_5 diet"
   ]
  },
  {
   "cell_type": "code",
   "execution_count": 166,
   "metadata": {},
   "outputs": [],
   "source": [
    "if bool_plot == True:\n",
    "    fig, (ax1, ax2) = plt.subplots(1, 2, figsize=(12,4), gridspec_kw={'wspace':0.8})\n",
    "    ax1_dict = ax1.scatter(adata_012[adata_012.obs['diet']=='hfd_5', ][:, ['Gfap']].X, \n",
    "                           adata_012[adata_012.obs['diet']=='hfd_5', ][:, ['Aldh1l1']].X, \n",
    "                           s=9, cmap='seismic', c='darkorange')\n",
    "    ax1.set_title('hfd_5')\n",
    "    ax1.set_ylabel('Gfap')\n",
    "    ax1.set_xlabel('Aldh1l1')\n",
    "    ax2_dict = sc.pl.umap(adata_012[adata_012.obs['diet']=='hfd_5', ], color=['leiden'], size=10, ax=ax2, show=False)\n",
    "    plt.savefig(sc_settings_figdir+'gfap-aldh_clust012_hfd5.png')"
   ]
  },
  {
   "cell_type": "code",
   "execution_count": 167,
   "metadata": {},
   "outputs": [],
   "source": [
    "if bool_plot == True:\n",
    "    cf.plot_umap_marker(adata_012[adata_012.obs['diet']=='hfd_5', ], ['Gfap', 'Aldh1l1'],\n",
    "                        save=\"_clust012_hfd5_gfap-aldh.png\", size=10, color_map=mymap, use_raw=False)"
   ]
  },
  {
   "cell_type": "code",
   "execution_count": 168,
   "metadata": {},
   "outputs": [],
   "source": [
    "if bool_plot == True:\n",
    "    aldh_pos = adata_012[adata_012.obs['diet']=='hfd_5', ].obs_names[np.asarray(adata_012[adata_012.obs['diet']=='hfd_5', ][:,'Aldh1l1'].X).flatten()>0]\n",
    "    gfap_pos = adata_012[adata_012.obs['diet']=='hfd_5', ].obs_names[np.asarray(adata_012[adata_012.obs['diet']=='hfd_5', ][:,'Gfap'].X).flatten()>0]\n",
    "\n",
    "    matplotlib_venn.venn2([\n",
    "        set(aldh_pos),\n",
    "        set(gfap_pos)\n",
    "    ], set_labels = (\"Aldh1l1\", \"Gfap\"), set_colors = ('lime','magenta'))\n",
    "    plt.savefig(sc_settings_figdir+'venndiagram_clust012_hfd5_gfap-aldh.png')"
   ]
  },
  {
   "cell_type": "markdown",
   "metadata": {},
   "source": [
    "### Cluster 0,1,2 hfd_15 diet"
   ]
  },
  {
   "cell_type": "code",
   "execution_count": 169,
   "metadata": {},
   "outputs": [],
   "source": [
    "if bool_plot == True:\n",
    "    fig, (ax1, ax2) = plt.subplots(1, 2, figsize=(12,4), gridspec_kw={'wspace':0.8})\n",
    "    ax1_dict = ax1.scatter(adata_012[adata_012.obs['diet']=='hfd_15', ][:, ['Gfap']].X, \n",
    "                           adata_012[adata_012.obs['diet']=='hfd_15', ][:, ['Aldh1l1']].X, \n",
    "                           s=9, cmap='seismic', c='green')\n",
    "    ax1.set_title('hfd_15')\n",
    "    ax1.set_ylabel('Gfap')\n",
    "    ax1.set_xlabel('Aldh1l1')\n",
    "    ax2_dict = sc.pl.umap(adata_012[adata_012.obs['diet']=='hfd_15', ], color=['leiden'], size=10, ax=ax2, show=False)\n",
    "    plt.savefig(sc_settings_figdir+'gfap-aldh_clust012_hfd15.png')"
   ]
  },
  {
   "cell_type": "code",
   "execution_count": 170,
   "metadata": {},
   "outputs": [],
   "source": [
    "if bool_plot == True:\n",
    "    cf.plot_umap_marker(adata_012[adata_012.obs['diet']=='hfd_15', ], ['Gfap', 'Aldh1l1'],\n",
    "                        save=\"_clust012_hfd15_gfap-aldh.png\", size=10, color_map=mymap, use_raw=False)"
   ]
  },
  {
   "cell_type": "code",
   "execution_count": 171,
   "metadata": {},
   "outputs": [],
   "source": [
    "if bool_plot == True:\n",
    "    aldh_pos = adata_012[adata_012.obs['diet']=='hfd_15', ].obs_names[np.asarray(adata_012[adata_012.obs['diet']=='hfd_15', ][:,'Aldh1l1'].X).flatten()>0]\n",
    "    gfap_pos = adata_012[adata_012.obs['diet']=='hfd_15', ].obs_names[np.asarray(adata_012[adata_012.obs['diet']=='hfd_15', ][:,'Gfap'].X).flatten()>0]\n",
    "\n",
    "    matplotlib_venn.venn2([\n",
    "        set(aldh_pos),\n",
    "        set(gfap_pos)\n",
    "    ], set_labels = (\"Aldh1l1\", \"Gfap\"), set_colors = ('lime','magenta')) \n",
    "    plt.savefig(sc_settings_figdir+'venndiagram_clust012_hfd15_gfap-aldh.png')"
   ]
  },
  {
   "cell_type": "markdown",
   "metadata": {},
   "source": [
    "## Cells expression Gfap and Aldh1l1"
   ]
  },
  {
   "cell_type": "code",
   "execution_count": 172,
   "metadata": {},
   "outputs": [],
   "source": [
    "adata_012.obs['gfap_aldh'] = np.select([((adata_012[:,'Gfap'].X>0) & (adata_012[:,'Aldh1l1'].X==0)), \n",
    "                                          ((adata_012[:,'Gfap'].X==0) & (adata_012[:,'Aldh1l1'].X>0)),\n",
    "                                          ((adata_012[:,'Gfap'].X>0) & (adata_012[:,'Aldh1l1'].X>0)), \n",
    "                                          ((adata_012[:,'Gfap'].X==0) & (adata_012[:,'Aldh1l1'].X==0))],\n",
    "                                          ['gfap_only','aldh_only','both','none'])"
   ]
  },
  {
   "cell_type": "markdown",
   "metadata": {},
   "source": [
    "### Chow"
   ]
  },
  {
   "cell_type": "code",
   "execution_count": 173,
   "metadata": {},
   "outputs": [],
   "source": [
    "if bool_plot==True:\n",
    "    data = adata_012[adata_012.obs['diet']=='chow', ].obs['gfap_aldh'].value_counts().sort_index()\n",
    "    def func(pct, allvals):\n",
    "        absolute = int(pct/100.*np.sum(allvals))\n",
    "        return \"{:.1f}%\\n({:d})\".format(pct, absolute)\n",
    "\n",
    "    fig, (ax0, ax1) = plt.subplots(ncols=2, figsize=(16, 6), subplot_kw=dict(aspect=\"equal\"))\n",
    "    ax0 = sc.pl.umap(adata_012[adata_012.obs['diet']=='chow', ], \n",
    "                     color=['gfap_aldh'], size=10, ax=ax0, show=False,\n",
    "                     palette=['green','blue','magenta','gainsboro'])\n",
    "    wedges, texts, autotexts = ax1.pie(data, autopct=lambda pct: func(pct, data), textprops=dict(color=\"w\"),\n",
    "                                      colors=['green','blue','magenta','gainsboro'])\n",
    "    ax1.set_title('Chow diet cells - markers share')\n",
    "\n",
    "    fig.savefig(sc_settings_figdir+'umap_pie_chart_clust012_chow_gfap-aldh.png')"
   ]
  },
  {
   "cell_type": "markdown",
   "metadata": {},
   "source": [
    "### HFD_5"
   ]
  },
  {
   "cell_type": "code",
   "execution_count": 174,
   "metadata": {},
   "outputs": [],
   "source": [
    "if bool_plot==True:\n",
    "    data = adata_012[adata_012.obs['diet']=='hfd_5', ].obs['gfap_aldh'].value_counts().sort_index()\n",
    "    def func(pct, allvals):\n",
    "        absolute = int(pct/100.*np.sum(allvals))\n",
    "        return \"{:.1f}%\\n({:d})\".format(pct, absolute)\n",
    "\n",
    "    fig, (ax0, ax1) = plt.subplots(ncols=2, figsize=(16, 6), subplot_kw=dict(aspect=\"equal\"))\n",
    "    ax0 = sc.pl.umap(adata_012[adata_012.obs['diet']=='hfd_5', ], \n",
    "                     color=['gfap_aldh'], size=10, ax=ax0, show=False,\n",
    "                     palette=['green','blue','magenta','gainsboro'])\n",
    "    wedges, texts, autotexts = ax1.pie(data, autopct=lambda pct: func(pct, data), textprops=dict(color=\"w\"),\n",
    "                                       colors=['green','blue','magenta','gainsboro'])\n",
    "    ax1.set_title('Chow diet cells - markers share')\n",
    "\n",
    "    fig.savefig(sc_settings_figdir+'umap_pie_chart_clust012_hfd5_gfap-aldh.png')"
   ]
  },
  {
   "cell_type": "markdown",
   "metadata": {},
   "source": [
    "### HFD_15"
   ]
  },
  {
   "cell_type": "code",
   "execution_count": 175,
   "metadata": {},
   "outputs": [],
   "source": [
    "if bool_plot==True: \n",
    "    data = adata_012[adata_012.obs['diet']=='hfd_15', ].obs['gfap_aldh'].value_counts().sort_index()\n",
    "    def func(pct, allvals):\n",
    "        absolute = int(pct/100.*np.sum(allvals))\n",
    "        return \"{:.1f}%\\n({:d})\".format(pct, absolute)\n",
    "\n",
    "    fig, (ax0, ax1) = plt.subplots(ncols=2, figsize=(16, 6), subplot_kw=dict(aspect=\"equal\"))\n",
    "    ax0 = sc.pl.umap(adata_012[adata_012.obs['diet']=='hfd_15', ], \n",
    "                     color=['gfap_aldh'], size=10, ax=ax0, show=False,\n",
    "                     palette=['green','blue','magenta','gainsboro'])\n",
    "    wedges, texts, autotexts = ax1.pie(data, autopct=lambda pct: func(pct, data), textprops=dict(color=\"w\"),\n",
    "                                       colors=['green','blue','magenta','gainsboro'])\n",
    "    ax1.set_title('Chow diet cells - markers share')\n",
    "\n",
    "    fig.savefig(sc_settings_figdir+'umap_pie_chart_clust012_hfd15_gfap-aldh.png')"
   ]
  },
  {
   "cell_type": "code",
   "execution_count": 176,
   "metadata": {},
   "outputs": [],
   "source": [
    "if bool_plot == True:\n",
    "    cf.cell_percent(adata_012, cluster='diet', condition='gfap_aldh', xlabel='clusters', ylabel='percentage', \n",
    "                 title='barplot_per_diet_clust012_gfap-aldh', save=sc_settings_figdir, table=False)"
   ]
  },
  {
   "cell_type": "markdown",
   "metadata": {},
   "source": [
    "## Per marker and diet"
   ]
  },
  {
   "cell_type": "code",
   "execution_count": 177,
   "metadata": {},
   "outputs": [],
   "source": [
    "adata_012.obs['gfap_only'] = adata_012.obs['gfap_aldh']=='gfap_only'\n",
    "adata_012.obs['aldh_only'] = adata_012.obs['gfap_aldh']=='aldh_only'\n",
    "adata_012.obs['both'] = adata_012.obs['gfap_aldh']=='both'"
   ]
  },
  {
   "cell_type": "code",
   "execution_count": 178,
   "metadata": {},
   "outputs": [],
   "source": [
    "# make them categorical\n",
    "adata_012.obs['gfap_only'] = pd.Series(adata_012.obs['gfap_only'], dtype=\"category\")\n",
    "adata_012.obs['aldh_only'] = pd.Series(adata_012.obs['aldh_only'], dtype=\"category\")\n",
    "adata_012.obs['both'] = pd.Series(adata_012.obs['both'], dtype=\"category\")"
   ]
  },
  {
   "cell_type": "code",
   "execution_count": 179,
   "metadata": {},
   "outputs": [],
   "source": [
    "adata_012.rename_categories('gfap_only', ['none','gfap_only'])"
   ]
  },
  {
   "cell_type": "code",
   "execution_count": 180,
   "metadata": {},
   "outputs": [],
   "source": [
    "adata_012.rename_categories('aldh_only', ['none','aldh_only'])\n",
    "adata_012.rename_categories('both', ['none','both'])"
   ]
  },
  {
   "cell_type": "markdown",
   "metadata": {},
   "source": [
    "### chow"
   ]
  },
  {
   "cell_type": "code",
   "execution_count": 181,
   "metadata": {},
   "outputs": [],
   "source": [
    "if bool_plot==True:\n",
    "    cf.plot_umap_marker(adata_012[adata_012.obs['diet']=='chow', ], ['gfap_only'], palette=['gainsboro','magenta'],\n",
    "                        save=\"_clust012_gfap_only_chow.png\", size=10, color_map=mymap, use_raw=False)"
   ]
  },
  {
   "cell_type": "code",
   "execution_count": 182,
   "metadata": {},
   "outputs": [],
   "source": [
    "if bool_plot==True:\n",
    "    cf.plot_umap_marker(adata_012[adata_012.obs['diet']=='chow', ], ['aldh_only'], palette=['gainsboro','green'],\n",
    "                        save=\"_clust012_aldh_only_chow.png\", size=10, color_map=mymap, use_raw=False)"
   ]
  },
  {
   "cell_type": "code",
   "execution_count": 183,
   "metadata": {},
   "outputs": [],
   "source": [
    "if bool_plot==True:\n",
    "    cf.plot_umap_marker(adata_012[adata_012.obs['diet']=='chow', ], ['both'], palette=['gainsboro','blue'],\n",
    "                        save=\"_clust012_both_chow.png\", size=10, color_map=mymap, use_raw=False)"
   ]
  },
  {
   "cell_type": "code",
   "execution_count": 184,
   "metadata": {},
   "outputs": [],
   "source": [
    "if bool_plot==True: \n",
    "    cf.plot_umap_marker(adata_012[adata_012.obs['diet']=='chow', ], ['gfap_aldh'], \n",
    "                        palette=['green','blue','magenta','gainsboro'],\n",
    "                        save=\"_clust012_gfap_aldh_chow.png\", size=10, color_map=mymap, use_raw=False)"
   ]
  },
  {
   "cell_type": "markdown",
   "metadata": {},
   "source": [
    "### Differential gene expression - chow"
   ]
  },
  {
   "cell_type": "code",
   "execution_count": 185,
   "metadata": {},
   "outputs": [],
   "source": [
    "astro_0 = adata_012[:,~adata_012.var.index.isin(['Gfap','Aldh1l1'])]"
   ]
  },
  {
   "cell_type": "code",
   "execution_count": 186,
   "metadata": {},
   "outputs": [],
   "source": [
    "if bool_plot==True:\n",
    "    astro0 = astro_0[(astro_0.obs['diet']=='chow') & \n",
    "                    (astro_0.obs['gfap_aldh'].isin(['aldh_only','gfap_only'])), ]\n",
    "    dets_mark = de.test.t_test(data=astro0, sample_description=astro0.obs, grouping=\"gfap_aldh\", is_logged=False)\n",
    "    dets_mark_summary = dets_mark.summary(mean_thres=np.log(0.01), qval_thres=0.1, fc_lower_thres=1, fc_upper_thres=1)\n",
    "    dets_mark_summary\n",
    "    #dets_age_summary.to_csv(path_or_buf=dir_tables+\"DE_preadip_by_age.tab\", sep=\"\\t\")\n",
    "    dets_mark.plot_volcano(alpha=0.05,corrected_pval=False, min_fc=1, size=15, log10_p_threshold=-40, \n",
    "                           log2_fc_threshold=6, save=sc_settings_figdir+\"dge_volcano_chow_aldh-gfap\",\n",
    "                           suffix=\"_clust012.png\")"
   ]
  },
  {
   "cell_type": "code",
   "execution_count": 187,
   "metadata": {},
   "outputs": [],
   "source": [
    "if bool_plot==True:\n",
    "    astro0 = astro_0[(astro_0.obs['diet']=='chow') & \n",
    "                    (astro_0.obs['gfap_aldh'].isin(['both','gfap_only'])), ]\n",
    "    dets_mark = de.test.t_test(data=astro0, sample_description=astro0.obs, grouping=\"gfap_aldh\", is_logged=False)\n",
    "    dets_mark_summary = dets_mark.summary(mean_thres=np.log(0.01), qval_thres=0.1, fc_lower_thres=1, fc_upper_thres=1)\n",
    "    #dets_age_summary.to_csv(path_or_buf=dir_tables+\"DE_preadip_by_age.tab\", sep=\"\\t\")\n",
    "    dets_mark.plot_volcano(alpha=0.05,corrected_pval=False, min_fc=1, size=15, log10_p_threshold=-40,\n",
    "                           log2_fc_threshold=6, save=sc_settings_figdir+\"dge_volcano_chow_gfap-both\",\n",
    "                           suffix=\"_clust012.png\")"
   ]
  },
  {
   "cell_type": "code",
   "execution_count": 188,
   "metadata": {},
   "outputs": [],
   "source": [
    "if bool_plot==True:\n",
    "    astro0 = astro_0[(astro_0.obs['diet']=='chow') & \n",
    "                    (astro_0.obs['gfap_aldh'].isin(['aldh_only','both'])), ]\n",
    "    dets_mark = de.test.t_test(data=astro0, sample_description=astro0.obs, grouping=\"gfap_aldh\", is_logged=False)\n",
    "    dets_mark_summary = dets_mark.summary(mean_thres=np.log(0.01), qval_thres=0.1, fc_lower_thres=1, fc_upper_thres=1)\n",
    "    #dets_age_summary.to_csv(path_or_buf=dir_tables+\"DE_preadip_by_age.tab\", sep=\"\\t\")\n",
    "    dets_mark.plot_volcano(alpha=0.05, corrected_pval=False, min_fc=1, size=15, log10_p_threshold=-40, \n",
    "                           log2_fc_threshold=6, save=sc_settings_figdir+\"dge_volcano_chow_aldh-both\",\n",
    "                           suffix=\"_clust012.png\")"
   ]
  },
  {
   "cell_type": "markdown",
   "metadata": {},
   "source": [
    "### hfd 5"
   ]
  },
  {
   "cell_type": "code",
   "execution_count": 189,
   "metadata": {},
   "outputs": [],
   "source": [
    "if bool_plot==True:\n",
    "    cf.plot_umap_marker(adata_012[adata_012.obs['diet']=='hfd_5', ], ['gfap_only'], palette=['gainsboro','magenta'],\n",
    "                        save=\"_clust012_gfap_only_hfd5.png\", size=10, color_map=mymap, use_raw=False)"
   ]
  },
  {
   "cell_type": "code",
   "execution_count": 190,
   "metadata": {},
   "outputs": [],
   "source": [
    "if bool_plot==True:\n",
    "    cf.plot_umap_marker(adata_012[adata_012.obs['diet']=='hfd_5', ], ['aldh_only'], palette=['gainsboro','green'],\n",
    "                        save=\"_clust012_aldh_only_hfd5.png\", size=10, color_map=mymap, use_raw=False)"
   ]
  },
  {
   "cell_type": "code",
   "execution_count": 191,
   "metadata": {},
   "outputs": [],
   "source": [
    "if bool_plot==True:\n",
    "    cf.plot_umap_marker(adata_012[adata_012.obs['diet']=='hfd_5', ], ['both'], palette=['gainsboro','blue'],\n",
    "                        save=\"_clust012_both_hfd5.png\", size=10, color_map=mymap, use_raw=False)"
   ]
  },
  {
   "cell_type": "code",
   "execution_count": 192,
   "metadata": {},
   "outputs": [],
   "source": [
    "if bool_plot==True:\n",
    "    cf.plot_umap_marker(adata_012[adata_012.obs['diet']=='hfd_5', ], ['gfap_aldh'],\n",
    "                        palette=['green','blue','magenta','gainsboro'],\n",
    "                        save=\"_clust012_gfap_aldh_hfd5.png\", size=10, color_map=mymap, use_raw=False)"
   ]
  },
  {
   "cell_type": "markdown",
   "metadata": {},
   "source": [
    "### Differential gene expression - hfd_5"
   ]
  },
  {
   "cell_type": "code",
   "execution_count": 193,
   "metadata": {},
   "outputs": [],
   "source": [
    "astro_5 = adata_012[:,~adata_012.var.index.isin(['Gfap','Aldh1l1'])]"
   ]
  },
  {
   "cell_type": "code",
   "execution_count": 194,
   "metadata": {},
   "outputs": [],
   "source": [
    "if bool_plot==True:\n",
    "    astro5 = astro_5[(astro_5.obs['diet']=='hfd_5') & \n",
    "                    (astro_5.obs['gfap_aldh'].isin(['aldh_only','gfap_only'])), ]\n",
    "    dets_mark = de.test.t_test(data=astro5, sample_description=astro5.obs, grouping=\"gfap_aldh\", is_logged=False)\n",
    "    dets_mark_summary = dets_mark.summary(mean_thres=np.log(0.01), qval_thres=0.1, fc_lower_thres=1, fc_upper_thres=1)\n",
    "    dets_mark_summary\n",
    "    #dets_age_summary.to_csv(path_or_buf=dir_tables+\"DE_preadip_by_age.tab\", sep=\"\\t\")\n",
    "    dets_mark.plot_volcano(alpha=0.05, corrected_pval=False, min_fc=1, size=15, log10_p_threshold=-50, \n",
    "                           log2_fc_threshold=6, save=sc_settings_figdir+\"dge_volcano_hfd5_aldh-gfap\",\n",
    "                           suffix=\"_clust012.png\")"
   ]
  },
  {
   "cell_type": "code",
   "execution_count": 195,
   "metadata": {},
   "outputs": [],
   "source": [
    "if bool_plot==True:\n",
    "    astro5 = astro_5[(astro_5.obs['diet']=='hfd_5') & \n",
    "                    (astro_5.obs['gfap_aldh'].isin(['both','gfap_only'])), ]\n",
    "    dets_mark = de.test.t_test(data=astro5, sample_description=astro5.obs, grouping=\"gfap_aldh\", is_logged=False)\n",
    "    dets_mark_summary = dets_mark.summary(mean_thres=np.log(0.01), qval_thres=0.1, fc_lower_thres=1, fc_upper_thres=1)\n",
    "    #dets_age_summary.to_csv(path_or_buf=dir_tables+\"DE_preadip_by_age.tab\", sep=\"\\t\")\n",
    "    dets_mark.plot_volcano(alpha=0.05, corrected_pval=False, min_fc=1, size=15, log10_p_threshold=-50,\n",
    "                           log2_fc_threshold=6, save=sc_settings_figdir+\"dge_volcano_hfd5_both-gfap\",\n",
    "                           suffix=\"_clust012.png\")"
   ]
  },
  {
   "cell_type": "code",
   "execution_count": 196,
   "metadata": {},
   "outputs": [],
   "source": [
    "if bool_plot==True:\n",
    "    astro5 = astro_5[(astro_5.obs['diet']=='hfd_5') & \n",
    "                    (astro_5.obs['gfap_aldh'].isin(['aldh_only','both'])), ]\n",
    "    dets_mark = de.test.t_test(data=astro5, sample_description=astro5.obs, grouping=\"gfap_aldh\", is_logged=False)\n",
    "    dets_mark_summary = dets_mark.summary(mean_thres=np.log(0.01), qval_thres=0.1, fc_lower_thres=1, fc_upper_thres=1)\n",
    "    #dets_age_summary.to_csv(path_or_buf=dir_tables+\"DE_preadip_by_age.tab\", sep=\"\\t\")\n",
    "    dets_mark.plot_volcano(alpha=0.05, corrected_pval=False, min_fc=1, size=15, log10_p_threshold=-50, \n",
    "                           log2_fc_threshold=6, save=sc_settings_figdir+\"dge_volcano_hfd5_aldh-both\",\n",
    "                           suffix=\"_clust012.png\")"
   ]
  },
  {
   "cell_type": "markdown",
   "metadata": {},
   "source": [
    "### hfd 15"
   ]
  },
  {
   "cell_type": "code",
   "execution_count": 197,
   "metadata": {},
   "outputs": [],
   "source": [
    "if bool_plot==True:\n",
    "    cf.plot_umap_marker(adata_012[adata_012.obs['diet']=='hfd_15', ], ['gfap_only'], palette=['gainsboro','magenta'],\n",
    "                        save=\"_clust012_gfap_only_hfd15.png\", size=10, color_map=mymap, use_raw=False)"
   ]
  },
  {
   "cell_type": "code",
   "execution_count": 198,
   "metadata": {},
   "outputs": [],
   "source": [
    "if bool_plot==True:\n",
    "    cf.plot_umap_marker(adata_012[adata_012.obs['diet']=='hfd_15', ], ['aldh_only'], palette=['gainsboro','green'],\n",
    "                        save=\"_clust012_aldh_only_hfd15.png\", size=10, color_map=mymap, use_raw=False)"
   ]
  },
  {
   "cell_type": "code",
   "execution_count": 199,
   "metadata": {},
   "outputs": [],
   "source": [
    "if bool_plot==True:\n",
    "    cf.plot_umap_marker(adata_012[adata_012.obs['diet']=='hfd_15', ], ['both'], palette=['gainsboro','blue'],\n",
    "                        save=\"_clust012_both_hfd15.png\", size=10, color_map=mymap, use_raw=False)"
   ]
  },
  {
   "cell_type": "code",
   "execution_count": 200,
   "metadata": {},
   "outputs": [],
   "source": [
    "if bool_plot==True:\n",
    "    cf.plot_umap_marker(adata_012[adata_012.obs['diet']=='hfd_15', ], ['gfap_aldh'], \n",
    "                        palette=['green','blue','magenta','gainsboro'],\n",
    "                        save=\"_clust012_gfap_aldh_hfd15.png\", size=10, color_map=mymap, use_raw=False)"
   ]
  },
  {
   "cell_type": "markdown",
   "metadata": {},
   "source": [
    "### Differential gene expression - hfd_15"
   ]
  },
  {
   "cell_type": "code",
   "execution_count": 201,
   "metadata": {},
   "outputs": [],
   "source": [
    "astro_15 = adata_012[:,~adata_012.var.index.isin(['Gfap','Aldh1l1'])]"
   ]
  },
  {
   "cell_type": "code",
   "execution_count": 202,
   "metadata": {},
   "outputs": [],
   "source": [
    "if bool_plot==True:\n",
    "    astro15 = astro_15[(astro_15.obs['diet']=='hfd_15') & \n",
    "                    (astro_15.obs['gfap_aldh'].isin(['aldh_only','gfap_only'])), ]\n",
    "    dets_mark = de.test.t_test(data=astro15, sample_description=astro15.obs, grouping=\"gfap_aldh\", is_logged=False)\n",
    "    dets_mark_summary = dets_mark.summary(mean_thres=np.log(0.01), qval_thres=0.1, fc_lower_thres=1, fc_upper_thres=1)\n",
    "    dets_mark_summary\n",
    "    #dets_age_summary.to_csv(path_or_buf=dir_tables+\"DE_preadip_by_age.tab\", sep=\"\\t\")\n",
    "    dets_mark.plot_volcano(alpha=0.05, corrected_pval=False, min_fc=1, size=15, log10_p_threshold=-50,\n",
    "                           log2_fc_threshold=6, save=sc_settings_figdir+\"dge_volcano_hfd15_gfap-aldh\",\n",
    "                           suffix=\"_clust012.png\")"
   ]
  },
  {
   "cell_type": "code",
   "execution_count": 203,
   "metadata": {},
   "outputs": [],
   "source": [
    "if bool_plot==True:\n",
    "    astro15 = astro_15[(astro_15.obs['diet']=='hfd_15') & \n",
    "                    (astro_15.obs['gfap_aldh'].isin(['both','gfap_only'])), ]\n",
    "    dets_mark = de.test.t_test(data=astro15, sample_description=astro15.obs, grouping=\"gfap_aldh\", is_logged=False)\n",
    "    dets_mark_summary = dets_mark.summary(mean_thres=np.log(0.01), qval_thres=0.1, fc_lower_thres=1, fc_upper_thres=1)\n",
    "    #dets_age_summary.to_csv(path_or_buf=dir_tables+\"DE_preadip_by_age.tab\", sep=\"\\t\")\n",
    "    dets_mark.plot_volcano(alpha=0.05, corrected_pval=False, min_fc=1, size=15, log10_p_threshold=-50, \n",
    "                           log2_fc_threshold=6, save=sc_settings_figdir+\"dge_volcano_hfd15_gfap-both\",\n",
    "                           suffix=\"_clust012.png\")"
   ]
  },
  {
   "cell_type": "code",
   "execution_count": 204,
   "metadata": {},
   "outputs": [],
   "source": [
    "if bool_plot==True:\n",
    "    astro15 = astro_15[(astro_15.obs['diet']=='hfd_15') & \n",
    "                    (astro_15.obs['gfap_aldh'].isin(['aldh_only','both'])), ]\n",
    "    dets_mark = de.test.t_test(data=astro15, sample_description=astro15.obs, grouping=\"gfap_aldh\", is_logged=False)\n",
    "    dets_mark_summary = dets_mark.summary(mean_thres=np.log(0.01), qval_thres=0.1, fc_lower_thres=1, fc_upper_thres=1)\n",
    "    #dets_age_summary.to_csv(path_or_buf=dir_tables+\"DE_preadip_by_age.tab\", sep=\"\\t\")\n",
    "    dets_mark.plot_volcano(alpha=0.05, corrected_pval=False, min_fc=1, size=15, log10_p_threshold=-50, \n",
    "                           log2_fc_threshold=5.6, save=sc_settings_figdir+\"dge_volcano_hfd15_aldh-both\",\n",
    "                           suffix=\"_clust012.png\")"
   ]
  },
  {
   "cell_type": "markdown",
   "metadata": {},
   "source": [
    "# Define Cell Types"
   ]
  },
  {
   "cell_type": "markdown",
   "metadata": {},
   "source": [
    "<a id=\"DE\"></a>"
   ]
  },
  {
   "cell_type": "markdown",
   "metadata": {},
   "source": [
    "## DE Genes"
   ]
  },
  {
   "cell_type": "code",
   "execution_count": 205,
   "metadata": {
    "scrolled": false
   },
   "outputs": [
    {
     "name": "stderr",
     "output_type": "stream",
     "text": [
      "WARNING: Default of the method has been changed to 't-test' from 't-test_overestim_var'\n",
      "ranking genes\n",
      "... storing 'gfap_aldh' as categorical\n",
      "    finished: added to `.uns['rank_genes']`\n",
      "    'names', sorted np.recarray to be indexed by group ids\n",
      "    'scores', sorted np.recarray to be indexed by group ids\n",
      "    'logfoldchanges', sorted np.recarray to be indexed by group ids\n",
      "    'pvals', sorted np.recarray to be indexed by group ids\n",
      "    'pvals_adj', sorted np.recarray to be indexed by group ids (0:00:00)\n"
     ]
    }
   ],
   "source": [
    "sc.tl.rank_genes_groups(adata_012, groupby='leiden', key_added='rank_genes')\n",
    "\n",
    "if bool_plot==True:\n",
    "    sc.pl.rank_genes_groups(adata_012, key='rank_genes', groups=['0','1','2'], save=\"_clust012_1.png\")\n",
    "    sc.pl.rank_genes_groups(adata_012, key='rank_genes', groups=['3','4'], save=\"_clust012_2.png\")\n",
    "    #sc.pl.rank_genes_groups(adata_012, key='rank_genes', groups=['6','7'], save=\"_clust012_3.png\")"
   ]
  },
  {
   "cell_type": "markdown",
   "metadata": {},
   "source": [
    "## Summary heatmap, dotplot and stacked_violin for cluster assignments"
   ]
  },
  {
   "cell_type": "code",
   "execution_count": 206,
   "metadata": {},
   "outputs": [],
   "source": [
    "if bool_plot==True:\n",
    "    sc.pl.heatmap(\n",
    "        adata=adata_012, \n",
    "        var_names=marker_genes_dict, \n",
    "        groupby=\"leiden\", \n",
    "        use_raw=False, \n",
    "        log=False, \n",
    "        dendrogram=True, \n",
    "        var_group_rotation=90, \n",
    "        show_gene_labels=True, \n",
    "        show=True, \n",
    "        save=\"_clust012_celltypes.png\"\n",
    "    )"
   ]
  },
  {
   "cell_type": "code",
   "execution_count": 207,
   "metadata": {},
   "outputs": [],
   "source": [
    "if bool_plot==True:\n",
    "    sc.pl.dotplot(\n",
    "        adata=adata_012,\n",
    "        var_names=marker_genes_dict, \n",
    "        groupby='leiden',\n",
    "        use_raw=False, \n",
    "        log=False, \n",
    "        dendrogram=True, \n",
    "        var_group_rotation=90, \n",
    "        show=True, \n",
    "        save=\"_clust012_celltypes.png\")"
   ]
  },
  {
   "cell_type": "code",
   "execution_count": 208,
   "metadata": {},
   "outputs": [],
   "source": [
    "if bool_plot==True:\n",
    "    sc.pl.stacked_violin(\n",
    "        adata=adata_012, \n",
    "        var_names=marker_genes_dict, \n",
    "        groupby='leiden', \n",
    "        use_raw=False,\n",
    "        dendrogram=True,\n",
    "        cmap='viridis_r',\n",
    "        show=True,\n",
    "        save=\"_clust012_celltypes.png\")"
   ]
  },
  {
   "cell_type": "code",
   "execution_count": 209,
   "metadata": {},
   "outputs": [],
   "source": [
    "if bool_plot==True:\n",
    "    plt.figure(figsize=(7,7))\n",
    "    cell_annotation = sc.tl.marker_gene_overlap(adata_012, marker_genes_dict, key='rank_genes', \n",
    "                                                normalize='data')\n",
    "    sb.heatmap(cell_annotation, cbar=False, annot=True)\n",
    "    plt.savefig(sc_settings_figdir+'heatmap_clust012_rank_genes_cell_annotation.png')"
   ]
  },
  {
   "cell_type": "code",
   "execution_count": 210,
   "metadata": {},
   "outputs": [],
   "source": [
    "if bool_plot==True:\n",
    "    sc.tl.embedding_density(adata_012, basis='umap', groupby='diet')\n",
    "    sc.pl.embedding_density(adata_012, basis='umap', key='umap_density_diet',\n",
    "                            group=['chow', 'hfd_5', 'hfd_15'], bg_dotsize=5, fg_dotsize=30, save=\"clust012.png\")"
   ]
  },
  {
   "cell_type": "code",
   "execution_count": 211,
   "metadata": {},
   "outputs": [],
   "source": [
    "#ad=adata_astro[(adata_astro.obs['diet']=='chow')&(adata_astro.obs['gfap_aldh']=='gfap_only'), ]"
   ]
  },
  {
   "cell_type": "code",
   "execution_count": 212,
   "metadata": {},
   "outputs": [],
   "source": [
    "#aldh = ad.X[:,ad.var.index=='Aldh1l1']\n",
    "#ad = ad[:,ad.var['highly_variable']]"
   ]
  },
  {
   "cell_type": "markdown",
   "metadata": {},
   "source": [
    "## Corrleation of Gfap and Aldh1l1 with genes"
   ]
  },
  {
   "cell_type": "code",
   "execution_count": 213,
   "metadata": {},
   "outputs": [
    {
     "name": "stderr",
     "output_type": "stream",
     "text": [
      "normalizing by total count per cell\n",
      "    finished (0:00:00): normalized adata.X and added    'n_counts', counts per cell before normalization (adata.obs)\n"
     ]
    }
   ],
   "source": [
    "sc.pp.normalize_per_cell(adata_qc)\n",
    "adata_qc.X = adata_qc.X.toarray()\n",
    "adata_qc.obs['gfap_aldh'] = np.select([((adata_qc[:,'Gfap'].X>0) & (adata_qc[:,'Aldh1l1'].X==0)), \n",
    "                                          ((adata_qc[:,'Gfap'].X==0) & (adata_qc[:,'Aldh1l1'].X>0)),\n",
    "                                          ((adata_qc[:,'Gfap'].X>0) & (adata_qc[:,'Aldh1l1'].X>0)), \n",
    "                                          ((adata_qc[:,'Gfap'].X==0) & (adata_qc[:,'Aldh1l1'].X==0))],\n",
    "                                          ['gfap_only','aldh_only','both','none'])"
   ]
  },
  {
   "cell_type": "code",
   "execution_count": 214,
   "metadata": {},
   "outputs": [],
   "source": [
    "repository = 'KEGG_2019_Mouse'#   KEGG_2019_Mouse  GO_Biological_Process_2018\n",
    "title = 'kegg'\n",
    "cfcor = 0.2\n",
    "cfenr = 0.1\n",
    "plt.rcParams['figure.figsize'] = [5, 5]\n",
    "\n",
    "all = homeostasis+hormone+gliotransmision+angiogenic+ecm+ucp2thyroid+iron+cellcycle+inflamation+calcium+hedgehog+others+a1astro+a2astro\n",
    "ph = [homeostasis,hormone,gliotransmision,angiogenic,ecm,ucp2thyroid,iron,cellcycle,inflamation,calcium,\n",
    "      hedgehog,others,a1astro,a2astro]\n",
    "pname = ['homeostasis','hormone','gliotransmision','angiogenic','ecm','ucp2thyroid','iron','cellcycle','inflamation',\n",
    "         'calcium','hedgehog','others','a1astro','a2astro']"
   ]
  },
  {
   "cell_type": "markdown",
   "metadata": {},
   "source": [
    "### Chow"
   ]
  },
  {
   "cell_type": "code",
   "execution_count": 215,
   "metadata": {},
   "outputs": [],
   "source": [
    "if bool_plot==True:\n",
    "    p = adata_qc[(adata_qc.obs['diet']=='chow')&(adata_astro.obs['gfap_aldh']=='aldh_only'), ]\n",
    "    df = pd.DataFrame(p.X.toarray(), index=p.obs.index, columns=p.var.index)\n",
    "    p.var['chow_aldh_only'] = [stats.spearmanr(df.iloc[:,i],df['Aldh1l1'])[0] for i in range(df.shape[1])]  \n",
    "    \n",
    "    plt.hist(p.var['chow_aldh_only'][p.var.index!='Aldh1l1'], bins=15)  \n",
    "    plt.axvline(x=0.2,  color='r', label='#genes: 394')\n",
    "    plt.legend(loc='upper right')\n",
    "    plt.title('chow_aldh_only')\n",
    "\n",
    "    enr_aldh_chow = gseapy.enrichr(gene_list=p.var[p.var['chow_aldh_only']>cfcor].index.tolist(),\n",
    "                                  organism='Mouse',\n",
    "                                  gene_sets=repository,\n",
    "                                  description='pathway',\n",
    "                                  cutoff=cfenr)\n",
    "    #gseapy.barplot(enr_aldh_chow.res2d,title=title+'_chow_aldh1l1',cutoff=cfenr, top_term=25)#,\n",
    "    #               #ofname=sc_settings_figdir+title+'_chow_aldh1l1')\n",
    "\n",
    "    pvalue = []\n",
    "    cnt = []\n",
    "    gl = p.var[p.var['chow_aldh_only']>cfcor].index\n",
    "    gl1 = p.var[p.var['chow_aldh_only']<cfcor].index\n",
    "    for i in ph:\n",
    "        pval = stats.fisher_exact([[len(set(gl) & set(i))+1, len(i)-len(set(gl) & set(i))],\n",
    "                                  [len(set(gl) & set(set(all)-set(i))), len(set(gl1)&(set(all)-set(i)))]])[1]\n",
    "        pvalue.append(pval)\n",
    "        cnt.append(len(set(gl) & set(i)))\n",
    "\n",
    "    ch_al=pd.DataFrame({'Term':pname, 'P-value':pvalue, 'Count':cnt, 'Comparison':'chow_aldh_only'})"
   ]
  },
  {
   "cell_type": "code",
   "execution_count": 216,
   "metadata": {},
   "outputs": [],
   "source": [
    "if bool_plot==True:\n",
    "    p = adata_qc[(adata_qc.obs['diet']=='chow')&(adata_astro.obs['gfap_aldh']=='gfap_only'), ]\n",
    "    df = pd.DataFrame(p.X.toarray(), index=p.obs.index, columns=p.var.index)\n",
    "    p.var['chow_gfap_only'] = [stats.spearmanr(df.iloc[:,i],df['Gfap'])[0] for i in range(df.shape[1])]  \n",
    "    \n",
    "    plt.hist(p.var['chow_gfap_only'][p.var.index!='Gfap'], bins=15)  \n",
    "    plt.axvline(x=0.2,  color='r', label='#genes: 766')\n",
    "    plt.legend(loc='upper right')\n",
    "    plt.title('chow_gfap_only')\n",
    "    \n",
    "    enr_gfap_chow = gseapy.enrichr(gene_list=p.var[p.var['chow_gfap_only']>cfcor].index.tolist(),\n",
    "                                  organism='Mouse',\n",
    "                                  gene_sets=repository,\n",
    "                                  description='pathway',\n",
    "                                  cutoff=cfenr)\n",
    "    #gseapy.barplot(enr_gfap_chow.res2d,title=title+'_chow_gfap', cutoff=cfenr, top_term=25)#,\n",
    "                   #ofname=sc_settings_figdir+title+'_chow_gfap')\n",
    "    \n",
    "    pvalue = []\n",
    "    cnt = []\n",
    "    gl = p.var[p.var['chow_gfap_only']>cfcor].index\n",
    "    gl1 = p.var[p.var['chow_gfap_only']<cfcor].index\n",
    "    for i in ph:\n",
    "        pval = stats.fisher_exact([[len(set(gl) & set(i))+1, len(i)-len(set(gl) & set(i))],\n",
    "                                  [len(set(gl) & set(set(all)-set(i))), len(set(gl1)&(set(all)-set(i)))]])[1]\n",
    "        pvalue.append(pval)\n",
    "        cnt.append(len(set(gl) & set(i)))\n",
    "\n",
    "    ch_gf=pd.DataFrame({'Term':pname, 'P-value':pvalue, 'Count':cnt, 'Comparison':'chow_gfap_only'})"
   ]
  },
  {
   "cell_type": "code",
   "execution_count": 217,
   "metadata": {},
   "outputs": [],
   "source": [
    "if bool_plot==True:\n",
    "    gseapy.barplot(chow_aldh[chow_aldh['Term'].isin(z1)], title=title+'_chow_intersect_aldh', cutoff=cfenr,\n",
    "                   top_term=25)#, ofname=sc_settings_figdir+title+'_chow_intersect_aldh')"
   ]
  },
  {
   "cell_type": "code",
   "execution_count": 218,
   "metadata": {},
   "outputs": [],
   "source": [
    "if bool_plot==True:    \n",
    "    gseapy.barplot(chow_gfap[chow_gfap['Term'].isin(z1)], title=title+'_chow_intersect_gfap', cutoff=cfenr,\n",
    "                   top_term=25)#, ofname=sc_settings_figdir+title+'_chow_intersect_gfap')"
   ]
  },
  {
   "cell_type": "code",
   "execution_count": 219,
   "metadata": {},
   "outputs": [],
   "source": [
    "if bool_plot==True:\n",
    "    gseapy.barplot(chow_aldh[chow_aldh['Term'].isin(z2)], title=title+'_chow_only_aldh', cutoff=cfenr, top_term=25)#,\n",
    "                   #ofname=sc_settings_figdir+title+'_chow_only_aldh')"
   ]
  },
  {
   "cell_type": "code",
   "execution_count": 220,
   "metadata": {},
   "outputs": [],
   "source": [
    "if bool_plot==True:\n",
    "    gseapy.barplot(chow_gfap[chow_gfap['Term'].isin(z3)], title=title+'_chow_only_gfap', cutoff=cfenr, top_term=25)#,\n",
    "                   #ofname=sc_settings_figdir+title+'_chow_only_gfap')"
   ]
  },
  {
   "cell_type": "code",
   "execution_count": 221,
   "metadata": {},
   "outputs": [],
   "source": [
    "if bool_plot==True:    \n",
    "    p = adata_qc[(adata_qc.obs['diet']=='chow')&(adata_astro.obs['gfap_aldh']=='both'), ]\n",
    "    df = pd.DataFrame(p.X.toarray(), index=p.obs.index, columns=p.var.index)\n",
    "    p.var['chow_both_gfap'] = [stats.spearmanr(df.iloc[:,i],df['Gfap'])[0] for i in range(df.shape[1])]  \n",
    "\n",
    "    plt.hist(p.var['chow_both_gfap'][p.var.index!='Gfap'], bins=20)  \n",
    "    plt.axvline(x=0.2,  color='r', label='#genes: 1847')\n",
    "    plt.legend(loc='upper right')\n",
    "    plt.title('chow_both_gfap')\n",
    "    \n",
    "    enr_both_chow_gfap = gseapy.enrichr(gene_list=p.var[p.var['chow_both_gfap']>cfcor].index.tolist(),\n",
    "                                         organism='Mouse',\n",
    "                                         gene_sets=repository,\n",
    "                                         description='pathway',\n",
    "                                         cutoff=cfenr)\n",
    "    #gseapy.barplot(enr_res.res2d,title=title+'_chow_both_gfap', cutoff=cfenr, top_term=25)#,\n",
    "                  # ofname=sc_settings_figdir+title+'_chow_both_gfap')\n",
    "    pvalue = []\n",
    "    cnt = []\n",
    "    gl = p.var[p.var['chow_both_gfap']>cfcor].index\n",
    "    gl1 = p.var[p.var['chow_both_gfap']<cfcor].index\n",
    "    for i in ph:\n",
    "        pval = stats.fisher_exact([[len(set(gl) & set(i))+1, len(i)-len(set(gl) & set(i))],\n",
    "                                  [len(set(gl) & set(set(all)-set(i))), len(set(gl1)&(set(all)-set(i)))]])[1]\n",
    "        pvalue.append(pval)\n",
    "        cnt.append(len(set(gl) & set(i)))\n",
    "\n",
    "    ch_bt_gf=pd.DataFrame({'Term':pname, 'P-value':pvalue, 'Count':cnt, 'Comparison':'chow_both_gfap'})        "
   ]
  },
  {
   "cell_type": "code",
   "execution_count": 222,
   "metadata": {},
   "outputs": [],
   "source": [
    "if bool_plot==True:    \n",
    "    p = adata_qc[(adata_qc.obs['diet']=='chow')&(adata_astro.obs['gfap_aldh']=='both'), ]\n",
    "    df = pd.DataFrame(p.X.toarray(), index=p.obs.index, columns=p.var.index)\n",
    "    p.var['chow_both_aldh'] = [stats.spearmanr(df.iloc[:,i],df['Aldh1l1'])[0] for i in range(df.shape[1])]  \n",
    "    \n",
    "    plt.hist(p.var['chow_both_aldh'][p.var.index!='Aldh1l1'], bins=15)#, bins=20)  \n",
    "    plt.axvline(x=0.2,  color='r', label='#genes: 1212')\n",
    "    plt.legend(loc='upper right')\n",
    "    plt.title('chow_both_aldh')\n",
    "    \n",
    "    enr_both_chow_aldh = gseapy.enrichr(gene_list=p.var[p.var['chow_both_aldh']>cfcor].index.tolist(),\n",
    "                                        organism='Mouse',\n",
    "                                         gene_sets=repository,\n",
    "                                         description='pathway',\n",
    "                                         cutoff=cfenr)\n",
    "    #gseapy.barplot(enr_res.res2d,title=title+'_chow_both_aldh1l1',cutoff=cfenr, top_term=25)#,\n",
    "                   #ofname=sc_settings_figdir+title+'_chow_both_aldh1l1')\n",
    "    pvalue = []\n",
    "    cnt = []\n",
    "    gl = p.var[p.var['chow_both_aldh']>cfcor].index\n",
    "    gl1 = p.var[p.var['chow_both_aldh']<cfcor].index\n",
    "    for i in ph:\n",
    "        pval = stats.fisher_exact([[len(set(gl) & set(i))+1, len(i)-len(set(gl) & set(i))],\n",
    "                                  [len(set(gl) & set(set(all)-set(i))), len(set(gl1)&(set(all)-set(i)))]])[1]\n",
    "        pvalue.append(pval)\n",
    "        cnt.append(len(set(gl) & set(i)))\n",
    "\n",
    "    ch_bt_al=pd.DataFrame({'Term':pname, 'P-value':pvalue, 'Count':cnt, 'Comparison':'chow_both_aldh'})        "
   ]
  },
  {
   "cell_type": "code",
   "execution_count": 223,
   "metadata": {},
   "outputs": [],
   "source": [
    "if bool_plot==True:\n",
    "    chow_aldh=enr_aldh_chow.res2d[enr_aldh_chow.res2d['Adjusted P-value']<0.05]\n",
    "    chow_gfap=enr_gfap_chow.res2d[enr_gfap_chow.res2d['Adjusted P-value']<0.05]\n",
    "    chow_both_aldh=enr_both_chow_aldh.res2d[enr_both_chow_aldh.res2d['Adjusted P-value']<0.05]\n",
    "    chow_both_gfap=enr_both_chow_gfap.res2d[enr_both_chow_gfap.res2d['Adjusted P-value']<0.05]\n",
    "    \n",
    "    ch_al=ch_al[ch_al['P-value']<0.05]\n",
    "    ch_gf=ch_gf[ch_gf['P-value']<0.05]\n",
    "    ch_bt_gf=ch_bt_gf[ch_bt_gf['P-value']<0.05]\n",
    "    ch_bt_al=ch_bt_al[ch_bt_al['P-value']<0.05]"
   ]
  },
  {
   "cell_type": "markdown",
   "metadata": {},
   "source": [
    "### HFD 5 days"
   ]
  },
  {
   "cell_type": "code",
   "execution_count": 224,
   "metadata": {},
   "outputs": [],
   "source": [
    "if bool_plot==True:\n",
    "    p = adata_qc[(adata_qc.obs['diet']=='hfd_5')&(adata_astro.obs['gfap_aldh']=='aldh_only'), ]\n",
    "    df = pd.DataFrame(p.X.toarray(), index=p.obs.index, columns=p.var.index)\n",
    "    p.var['hfd5_aldh_only'] = [stats.spearmanr(df.iloc[:,i],df['Aldh1l1'])[0] for i in range(df.shape[1])]  \n",
    "    \n",
    "    plt.hist(p.var['hfd5_aldh_only'][p.var.index!='Aldh1l1'], bins=20)  \n",
    "    plt.axvline(x=0.2,  color='r', label='#genes: 357')\n",
    "    plt.legend(loc='upper right')\n",
    "    plt.title('hfd5_aldh_only')\n",
    "    \n",
    "    enr_aldh_hfd5 = gseapy.enrichr(gene_list=p.var[p.var['hfd5_aldh_only']>cfcor].index.tolist(),\n",
    "                                   organism='Mouse',\n",
    "                                   gene_sets=repository,\n",
    "                                   description='pathway',\n",
    "                                   cutoff=cfenr)\n",
    "    #gseapy.barplot(enr_res_aldh.res2d,title=title+'_hfd5_aldh1l1',cutoff=cfenr, top_term=25)#,\n",
    "                   #ofname=sc_settings_figdir+title+'_hfd5_aldh1l1')\n",
    "    pvalue = []\n",
    "    cnt = []\n",
    "    gl = p.var[p.var['hfd5_aldh_only']>cfcor].index\n",
    "    gl1 = p.var[p.var['hfd5_aldh_only']<cfcor].index\n",
    "    for i in ph:\n",
    "        pval = stats.fisher_exact([[len(set(gl) & set(i))+1, len(i)-len(set(gl) & set(i))],\n",
    "                                  [len(set(gl) & set(set(all)-set(i))), len(set(gl1)&(set(all)-set(i)))]])[1]\n",
    "        pvalue.append(pval)\n",
    "        cnt.append(len(set(gl) & set(i)))\n",
    "\n",
    "    h5_al=pd.DataFrame({'Term':pname, 'P-value':pvalue, 'Count':cnt, 'Comparison':'hfd5_aldh_only'})"
   ]
  },
  {
   "cell_type": "code",
   "execution_count": 225,
   "metadata": {},
   "outputs": [],
   "source": [
    "if bool_plot==True:    \n",
    "    p = adata_qc[(adata_qc.obs['diet']=='hfd_5')&(adata_astro.obs['gfap_aldh']=='gfap_only'), ]\n",
    "    df = pd.DataFrame(p.X.toarray(), index=p.obs.index, columns=p.var.index)\n",
    "    p.var['hfd5_gfap_only'] = [stats.spearmanr(df.iloc[:,i],df['Gfap'])[0] for i in range(df.shape[1])]  \n",
    "    \n",
    "    plt.hist(p.var['hfd5_gfap_only'][p.var.index!='Gfap'], bins=20)  \n",
    "    plt.axvline(x=0.2,  color='r', label='#genes: 958')\n",
    "    plt.legend(loc='upper right')\n",
    "    plt.title('hfd5_gfap_only')\n",
    "    print(len(p.var[p.var['hfd5_gfap_only']>cfcor]))\n",
    "    \n",
    "    enr_gfap_hfd5 = gseapy.enrichr(gene_list=p.var[p.var['hfd5_gfap_only']>cfcor].index.tolist(),\n",
    "                             organism='Mouse',\n",
    "                             gene_sets=repository,\n",
    "                             description='pathway',\n",
    "                             cutoff=cfenr)\n",
    "    #gseapy.barplot(enr_res_gfap.res2d,title=title+'_hfd5_gfap',cutoff=cfenr, top_term=25)#,\n",
    "                   #ofname=sc_settings_figdir+title+'_hfd5_gfap')\n",
    "    pvalue = []\n",
    "    cnt = []\n",
    "    gl = p.var[p.var['hfd5_gfap_only']>cfcor].index\n",
    "    gl1 = p.var[p.var['hfd5_gfap_only']<cfcor].index\n",
    "    for i in ph:\n",
    "        pval = stats.fisher_exact([[len(set(gl) & set(i))+1, len(i)-len(set(gl) & set(i))],\n",
    "                                  [len(set(gl) & set(set(all)-set(i))), len(set(gl1)&(set(all)-set(i)))]])[1]\n",
    "        pvalue.append(pval)\n",
    "        cnt.append(len(set(gl) & set(i)))\n",
    "\n",
    "    h5_gf=pd.DataFrame({'Term':pname, 'P-value':pvalue, 'Count':cnt, 'Comparison':'hfd5_gfap_only'})    "
   ]
  },
  {
   "cell_type": "code",
   "execution_count": 226,
   "metadata": {},
   "outputs": [],
   "source": [
    "if bool_plot==True:\n",
    "    gseapy.barplot(hfd5_aldh[hfd5_aldh['Term'].isin(z1)], title=title+'_hfd5_intersect_aldh', cutoff=cfenr,\n",
    "                   top_term=25)#, ofname=sc_settings_figdir+title+'_hfd5_intersect_aldh')"
   ]
  },
  {
   "cell_type": "code",
   "execution_count": 227,
   "metadata": {},
   "outputs": [],
   "source": [
    "if bool_plot==True:    \n",
    "    gseapy.barplot(hfd5_gfap[hfd5_gfap['Term'].isin(z1)], title=title+'_hfd5_intersect_gfap', cutoff=cfenr,\n",
    "                   top_term=25)#, ofname=sc_settings_figdir+title+'_hfd5_intersect_gfap')"
   ]
  },
  {
   "cell_type": "code",
   "execution_count": 228,
   "metadata": {},
   "outputs": [],
   "source": [
    "if bool_plot==True:\n",
    "    gseapy.barplot(hfd5_aldh[hfd5_aldh['Term'].isin(z2)], title=title+'_hfd5_only_aldh', cutoff=cfenr, top_term=25)#,\n",
    "                   #ofname=sc_settings_figdir+title+'_hfd5_only_aldh')"
   ]
  },
  {
   "cell_type": "code",
   "execution_count": 229,
   "metadata": {},
   "outputs": [],
   "source": [
    "if bool_plot==True:\n",
    "    gseapy.barplot(hfd5_gfap[hfd5_gfap['Term'].isin(z3)], title=title+'_hfd5_only_gfap', cutoff=cfenr, top_term=25)#,\n",
    "                  # ofname=sc_settings_figdir+title+'_hfd5_only_gfap')"
   ]
  },
  {
   "cell_type": "code",
   "execution_count": 230,
   "metadata": {},
   "outputs": [],
   "source": [
    "if bool_plot==True:    \n",
    "    p = adata_qc[(adata_qc.obs['diet']=='hfd_5')&(adata_astro.obs['gfap_aldh']=='both'), ]\n",
    "    df = pd.DataFrame(p.X.toarray(), index=p.obs.index, columns=p.var.index)\n",
    "    p.var['hfd5_both_gfap'] = [stats.spearmanr(df.iloc[:,i],df['Gfap'])[0] for i in range(df.shape[1])]  \n",
    "\n",
    "    plt.hist(p.var['hfd5_both_gfap'][p.var.index!='Gfap'], bins=15)  \n",
    "    plt.axvline(x=0.2,  color='r', label='#genes: 2277')\n",
    "    plt.legend(loc='upper right')\n",
    "    plt.title('hfd5_both_gfap')\n",
    "    \n",
    "    enr_hfd5_both_gfap = gseapy.enrichr(gene_list=p.var[p.var['hfd5_both_gfap']>cfcor].index.tolist(),\n",
    "                             organism='Mouse',\n",
    "                             gene_sets=repository,\n",
    "                             description='pathway',\n",
    "                             cutoff=cfenr)\n",
    "    #gseapy.barplot(enr_res.res2d,title=title+'_hfd5_both_gfap',cutoff=cfenr, top_term=25)#,\n",
    "                  # ofname=sc_settings_figdir+title+'_hfd5_both_gfap')\n",
    "    pvalue = []\n",
    "    cnt = []\n",
    "    gl = p.var[p.var['hfd5_both_gfap']>cfcor].index\n",
    "    gl1 = p.var[p.var['hfd5_both_gfap']<cfcor].index\n",
    "    for i in ph:\n",
    "        pval = stats.fisher_exact([[len(set(gl) & set(i))+1, len(i)-len(set(gl) & set(i))],\n",
    "                                  [len(set(gl) & set(set(all)-set(i))), len(set(gl1)&(set(all)-set(i)))]])[1]\n",
    "        pvalue.append(pval)\n",
    "        cnt.append(len(set(gl) & set(i)))\n",
    "\n",
    "    h5_bt_gf=pd.DataFrame({'Term':pname, 'P-value':pvalue, 'Count':cnt, 'Comparison':'hfd5_both_gfap'})           "
   ]
  },
  {
   "cell_type": "code",
   "execution_count": 231,
   "metadata": {},
   "outputs": [],
   "source": [
    "if bool_plot==True:    \n",
    "    p = adata_qc[(adata_qc.obs['diet']=='hfd_5')&(adata_astro.obs['gfap_aldh']=='both'), ]\n",
    "    df = pd.DataFrame(p.X.toarray(), index=p.obs.index, columns=p.var.index)\n",
    "    p.var['hfd5_both_aldh'] = [stats.spearmanr(df.iloc[:,i],df['Aldh1l1'])[0] for i in range(df.shape[1])]  \n",
    "\n",
    "    plt.hist(p.var['hfd5_both_aldh'][p.var.index!='Aldh1l1'], bins=20)  \n",
    "    plt.axvline(x=0.2,  color='r', label='#genes: 501')\n",
    "    plt.legend(loc='upper right')\n",
    "    plt.title('hfd5_both_aldh')\n",
    "    print(len(p.var[p.var['hfd5_both_aldh']>cfcor]))\n",
    "    \n",
    "    enr_hfd5_both_aldh = gseapy.enrichr(gene_list=p.var[p.var['hfd5_both_aldh']>cfcor].index.tolist(),\n",
    "                             organism='Mouse',\n",
    "                             gene_sets=repository,\n",
    "                             description='pathway',\n",
    "                             cutoff=cfenr)\n",
    "    #gseapy.barplot(enr_res.res2d,title=title+'_hfd5_both_aldh1l1',cutoff=cfenr, top_term=25)#,\n",
    "                   #ofname=sc_settings_figdir+title+'_hfd5_both_aldh1l1')\n",
    "    pvalue = []\n",
    "    cnt = []\n",
    "    gl = p.var[p.var['hfd5_both_aldh']>cfcor].index\n",
    "    gl1 = p.var[p.var['hfd5_both_aldh']<cfcor].index\n",
    "    for i in ph:\n",
    "        pval = stats.fisher_exact([[len(set(gl) & set(i))+1, len(i)-len(set(gl) & set(i))],\n",
    "                                  [len(set(gl) & set(set(all)-set(i))), len(set(gl1)&(set(all)-set(i)))]])[1]\n",
    "        pvalue.append(pval)\n",
    "        cnt.append(len(set(gl) & set(i)))\n",
    "\n",
    "    h5_bt_al=pd.DataFrame({'Term':pname, 'P-value':pvalue, 'Count':cnt, 'Comparison':'hfd5_both_aldh'})           "
   ]
  },
  {
   "cell_type": "code",
   "execution_count": 233,
   "metadata": {},
   "outputs": [],
   "source": [
    "if bool_plot==True:\n",
    "    hfd5_aldh=enr_aldh_hfd5.res2d[enr_aldh_hfd5.res2d['Adjusted P-value']<0.05]\n",
    "    hfd5_gfap=enr_gfap_hfd5.res2d[enr_gfap_hfd5.res2d['Adjusted P-value']<0.05]\n",
    "    hfd5_both_aldh=enr_hfd5_both_aldh.res2d[enr_hfd5_both_aldh.res2d['Adjusted P-value']<0.05]\n",
    "    hfd5_both_gfap=enr_hfd5_both_gfap.res2d[enr_hfd5_both_gfap.res2d['Adjusted P-value']<0.05]\n",
    "\n",
    "    h5_al=h5_al[h5_al['P-value']<0.05]\n",
    "    h5_gf=h5_gf[h5_gf['P-value']<0.05]\n",
    "    h5_bt_gf=h5_bt_gf[h5_bt_gf['P-value']<0.05]\n",
    "    h5_bt_al=h5_bt_al[h5_bt_al['P-value']<0.05]"
   ]
  },
  {
   "cell_type": "markdown",
   "metadata": {},
   "source": [
    "### HFD 15 days"
   ]
  },
  {
   "cell_type": "code",
   "execution_count": 234,
   "metadata": {},
   "outputs": [],
   "source": [
    "if bool_plot==True:\n",
    "    p = adata_qc[(adata_qc.obs['diet']=='hfd_15')&(adata_astro.obs['gfap_aldh']=='aldh_only'), ]\n",
    "    df = pd.DataFrame(p.X.toarray(), index=p.obs.index, columns=p.var.index)\n",
    "    p.var['hfd15_aldh_only'] = [stats.spearmanr(df.iloc[:,i],df['Aldh1l1'])[0] for i in range(df.shape[1])]  \n",
    "    \n",
    "    plt.hist(p.var['hfd15_aldh_only'][p.var.index!='Aldh1l1'], bins=15)  \n",
    "    plt.axvline(x=0.2,  color='r', label='#genes: 499')\n",
    "    plt.legend(loc='upper right')\n",
    "    plt.title('hfd15_aldh_only')\n",
    "    \n",
    "    enr_aldh_hfd15 = gseapy.enrichr(gene_list=p.var[p.var['hfd15_aldh_only']>cfcor].index.tolist(),\n",
    "                             organism='Mouse',\n",
    "                             gene_sets=repository,\n",
    "                             description='pathway',\n",
    "                             cutoff=cfenr)\n",
    "    #gseapy.barplot(enr_res_aldh.res2d,title=title+'_hfd15_aldh1l1',cutoff=cfenr, top_term=25)#,\n",
    "                 #  ofname=sc_settings_figdir+title+'_hfd15_aldh1l1')\n",
    "    pvalue = []\n",
    "    cnt = []\n",
    "    gl = p.var[p.var['hfd15_aldh_only']>cfcor].index\n",
    "    gl1 = p.var[p.var['hfd15_aldh_only']<cfcor].index\n",
    "    for i in ph:\n",
    "        pval = stats.fisher_exact([[len(set(gl) & set(i))+1, len(i)-len(set(gl) & set(i))],\n",
    "                                  [len(set(gl) & set(set(all)-set(i))), len(set(gl1)&(set(all)-set(i)))]])[1]\n",
    "        pvalue.append(pval)\n",
    "        cnt.append(len(set(gl) & set(i)))\n",
    "\n",
    "    h15_al=pd.DataFrame({'Term':pname, 'P-value':pvalue, 'Count':cnt, 'Comparison':'hfd15_aldh_only'})"
   ]
  },
  {
   "cell_type": "code",
   "execution_count": 235,
   "metadata": {},
   "outputs": [],
   "source": [
    "if bool_plot==True:    \n",
    "    p = adata_qc[(adata_qc.obs['diet']=='hfd_15')&(adata_astro.obs['gfap_aldh']=='gfap_only'), ]\n",
    "    df = pd.DataFrame(p.X.toarray(), index=p.obs.index, columns=p.var.index)\n",
    "    p.var['hfd15_gfap_only'] = [stats.spearmanr(df.iloc[:,i],df['Gfap'])[0] for i in range(df.shape[1])]  \n",
    "\n",
    "    plt.hist(p.var['hfd15_gfap_only'][p.var.index!='Gfap'], bins=20)  \n",
    "    plt.axvline(x=0.2,  color='r', label='#genes: 2052')\n",
    "    plt.legend(loc='upper right')\n",
    "    plt.title('hfd15_gfap_only')\n",
    "    print(len(p.var[p.var['hfd15_gfap_only']>cfcor]))\n",
    "    \n",
    "    enr_gfap_hfd15 = gseapy.enrichr(gene_list=p.var[p.var['hfd15_gfap_only']>cfcor].index.tolist(),\n",
    "                             organism='Mouse',\n",
    "                             gene_sets=repository,\n",
    "                             description='pathway',\n",
    "                             cutoff=cfenr)\n",
    "    #gseapy.barplot(enr_res_gfap.res2d,title=title+'_hfd15_gfap',cutoff=cfenr, top_term=25)#,\n",
    "                  # ofname=sc_settings_figdir+title+'_hfd15_gfap')\n",
    "    pvalue = []\n",
    "    cnt = []\n",
    "    gl = p.var[p.var['hfd15_gfap_only']>cfcor].index\n",
    "    gl1 = p.var[p.var['hfd15_gfap_only']<cfcor].index\n",
    "    for i in ph:\n",
    "        pval = stats.fisher_exact([[len(set(gl) & set(i))+1, len(i)-len(set(gl) & set(i))],\n",
    "                                  [len(set(gl) & set(set(all)-set(i))), len(set(gl1)&(set(all)-set(i)))]])[1]\n",
    "        pvalue.append(pval)\n",
    "        cnt.append(len(set(gl) & set(i)))\n",
    "\n",
    "    h15_gf=pd.DataFrame({'Term':pname, 'P-value':pvalue, 'Count':cnt, 'Comparison':'hfd15_gfap_only'})    "
   ]
  },
  {
   "cell_type": "code",
   "execution_count": 236,
   "metadata": {},
   "outputs": [],
   "source": [
    "if bool_plot==True:\n",
    "    gseapy.barplot(hfd15_aldh[hfd15_aldh['Term'].isin(z1)], title=title+'_hfd15_intersect_aldh', cutoff=cfenr,\n",
    "                   top_term=25)#, ofname=sc_settings_figdir+title+'_hfd15_intersect_aldh')"
   ]
  },
  {
   "cell_type": "code",
   "execution_count": 237,
   "metadata": {},
   "outputs": [],
   "source": [
    "if bool_plot==True:    \n",
    "    gseapy.barplot(hfd15_gfap[hfd15_gfap['Term'].isin(z1)], title=title+'_hfd15_intersect_gfap', cutoff=cfenr,\n",
    "                   top_term=25)#, ofname=sc_settings_figdir+title+'_hfd15_intersect_gfap')"
   ]
  },
  {
   "cell_type": "code",
   "execution_count": 238,
   "metadata": {},
   "outputs": [],
   "source": [
    "if bool_plot==True:\n",
    "    gseapy.barplot(hfd15_aldh[hfd15_aldh['Term'].isin(z2)], title=title+'_hfd15_only_aldh', cutoff=cfenr, top_term=25)#,\n",
    "                   #ofname=sc_settings_figdir+title+'_hfd15_only_aldh')"
   ]
  },
  {
   "cell_type": "code",
   "execution_count": 239,
   "metadata": {},
   "outputs": [],
   "source": [
    "if bool_plot==True:\n",
    "    gseapy.barplot(hfd15_gfap[hfd15_gfap['Term'].isin(z3)], title=title+'_hfd15_only_gfap', cutoff=cfenr, top_term=25)#,\n",
    "                   #ofname=sc_settings_figdir+title+'_hfd15_only_gfap')"
   ]
  },
  {
   "cell_type": "code",
   "execution_count": 240,
   "metadata": {},
   "outputs": [],
   "source": [
    "if bool_plot==True:    \n",
    "    p = adata_qc[(adata_qc.obs['diet']=='hfd_15')&(adata_astro.obs['gfap_aldh']=='both'), ]\n",
    "    df = pd.DataFrame(p.X.toarray(), index=p.obs.index, columns=p.var.index)\n",
    "    p.var['hfd15_both_gfap'] = [stats.spearmanr(df.iloc[:,i],df['Gfap'])[0] for i in range(df.shape[1])]  \n",
    "\n",
    "    plt.hist(p.var['hfd15_both_gfap'][p.var.index!='Gfap'], bins=20)  \n",
    "    plt.axvline(x=0.2,  color='r', label='#genes: 470')\n",
    "    plt.legend(loc='upper right')\n",
    "    plt.title('hfd15_both_gfap')\n",
    "    print(len(p.var[p.var['hfd15_both_gfap']>cfcor]))\n",
    "\n",
    "    enr_both_hfd15_gfap = gseapy.enrichr(gene_list=p.var[p.var['hfd15_both_gfap']>cfcor].index.tolist(),\n",
    "                                    organism='Mouse',\n",
    "                                    gene_sets=repository,\n",
    "                                    description='pathway',\n",
    "                                    cutoff=cfenr)\n",
    "    #gseapy.barplot(enr_res.res2d,title=title+'_hfd15_both_gfap',cutoff=cfenr, top_term=25)#,\n",
    "                   #ofname=sc_settings_figdir+title+'_hfd15_both_gfap')\n",
    "    pvalue = []\n",
    "    cnt = []\n",
    "    gl = p.var[p.var['hfd15_both_gfap']>cfcor].index\n",
    "    gl1 = p.var[p.var['hfd15_both_gfap']<cfcor].index\n",
    "    for i in ph:\n",
    "        pval = stats.fisher_exact([[len(set(gl) & set(i))+1, len(i)-len(set(gl) & set(i))],\n",
    "                                  [len(set(gl) & set(set(all)-set(i))), len(set(gl1)&(set(all)-set(i)))]])[1]\n",
    "        pvalue.append(pval)\n",
    "        cnt.append(len(set(gl) & set(i)))\n",
    "\n",
    "    h15_bt_gf=pd.DataFrame({'Term':pname, 'P-value':pvalue, 'Count':cnt, 'Comparison':'hfd15_both_gfap'})           "
   ]
  },
  {
   "cell_type": "code",
   "execution_count": 241,
   "metadata": {},
   "outputs": [],
   "source": [
    "if bool_plot==True:    \n",
    "    p = adata_qc[(adata_qc.obs['diet']=='hfd_15')&(adata_astro.obs['gfap_aldh']=='both'), ]\n",
    "    df = pd.DataFrame(p.X.toarray(), index=p.obs.index, columns=p.var.index)\n",
    "    p.var['hfd15_both_aldh'] = [stats.spearmanr(df.iloc[:,i],df['Aldh1l1'])[0] for i in range(df.shape[1])]  \n",
    "\n",
    "    plt.hist(p.var['hfd15_both_aldh'][p.var.index!='Aldh1l1'], bins=20)  \n",
    "    plt.axvline(x=0.2,  color='r', label='#genes: 543')\n",
    "    plt.legend(loc='upper right')\n",
    "    plt.title('hfd15_both_aldh')\n",
    "    print(len(p.var[p.var['hfd15_both_aldh']>cfcor]))\n",
    "\n",
    "    enr_both_hfd15_aldh = gseapy.enrichr(gene_list=p.var[p.var['hfd15_both_aldh']>cfcor].index.tolist(),\n",
    "                                         organism='Mouse',\n",
    "                                         gene_sets=repository,\n",
    "                                         description='pathway',\n",
    "                                         cutoff=cfenr)\n",
    "    #gseapy.barplot(enr_res.res2d,title=title+'_hfd15_both_aldh1l1',cutoff=cfenr, top_term=25)#,\n",
    "                   #ofname=sc_settings_figdir+title+'_hfd15_both_aldh1l1')\n",
    "    pvalue = []\n",
    "    cnt = []\n",
    "    gl = p.var[p.var['hfd15_both_aldh']>cfcor].index\n",
    "    gl1 = p.var[p.var['hfd15_both_aldh']<cfcor].index\n",
    "    for i in ph:\n",
    "        pval = stats.fisher_exact([[len(set(gl) & set(i))+1, len(i)-len(set(gl) & set(i))],\n",
    "                                  [len(set(gl) & set(set(all)-set(i))), len(set(gl1)&(set(all)-set(i)))]])[1]\n",
    "        pvalue.append(pval)\n",
    "        cnt.append(len(set(gl) & set(i)))\n",
    "\n",
    "    h15_bt_al=pd.DataFrame({'Term':pname, 'P-value':pvalue, 'Count':cnt, 'Comparison':'hfd15_both_aldh'})           "
   ]
  },
  {
   "cell_type": "code",
   "execution_count": 242,
   "metadata": {},
   "outputs": [],
   "source": [
    "if bool_plot==True:\n",
    "    hfd15_aldh=enr_aldh_hfd15.res2d[enr_aldh_hfd15.res2d['Adjusted P-value']<0.05]\n",
    "    hfd15_gfap=enr_gfap_hfd15.res2d[enr_gfap_hfd15.res2d['Adjusted P-value']<0.05]\n",
    "    hfd15_both_aldh=enr_both_hfd15_aldh.res2d[enr_both_hfd15_aldh.res2d['Adjusted P-value']<0.05]\n",
    "    hfd15_both_gfap=enr_both_hfd15_gfap.res2d[enr_both_hfd15_gfap.res2d['Adjusted P-value']<0.05]\n",
    "    \n",
    "    h15_al=h15_al[h15_al['P-value']<0.05]\n",
    "    h15_gf=h15_gf[h15_gf['P-value']<0.05]\n",
    "    h15_bt_gf=h15_bt_gf[h15_bt_gf['P-value']<0.05]\n",
    "    h15_bt_al=h15_bt_al[h15_bt_al['P-value']<0.05]"
   ]
  },
  {
   "cell_type": "markdown",
   "metadata": {},
   "source": [
    "### kegg pathways"
   ]
  },
  {
   "cell_type": "code",
   "execution_count": 243,
   "metadata": {
    "scrolled": false
   },
   "outputs": [],
   "source": [
    "if bool_plot==True:\n",
    "    chow_aldh['Condition'] = 'chow_aldh'\n",
    "    chow_gfap['Condition'] = 'chow_gfap'\n",
    "    chow_both_aldh['Condition'] = 'chow_both_aldh'\n",
    "    chow_both_gfap['Condition'] = 'chow_both_gfap'\n",
    "    hfd5_aldh['Condition'] = 'hfd5_aldh'\n",
    "    hfd5_gfap['Condition'] = 'hfd5_gfap'\n",
    "    hfd5_both_aldh['Condition'] = 'hfd5_both_aldh'\n",
    "    hfd5_both_gfap['Condition'] = 'hfd5_both_gfap'\n",
    "    hfd15_aldh['Condition'] = 'hfd15_aldh'\n",
    "    hfd15_gfap['Condition'] = 'hfd15_gfap'\n",
    "    hfd15_both_aldh['Condition'] = 'hfd15_both_aldh'\n",
    "    hfd15_both_gfap['Condition'] = 'hfd15_both_gfap'\n",
    "\n",
    "    df = chow_aldh.append([chow_gfap,chow_both_aldh,chow_both_gfap,\n",
    "                           hfd5_aldh,hfd5_gfap,hfd5_both_aldh,hfd5_both_gfap,\n",
    "                           hfd15_aldh,hfd15_gfap,hfd15_both_aldh,hfd15_both_gfap])\n",
    "    df['Count']=df['Overlap'].str.split('/').str[0]\n",
    "    df = df.astype({'Count': 'int32'})\n",
    "\n",
    "    plt.rcParams['figure.figsize'] = [15, 30]\n",
    "\n",
    "    sct=plt.scatter(x=\"Condition\", y=\"Term\", s=5*df['Count'], c= df['Adjusted P-value'],  cmap='inferno', data=df)\n",
    "    plt.margins(0.02)\n",
    "    plt.xticks(rotation=30, ha='right')\n",
    "    plt.colorbar(alpha=0.05, aspect=16, shrink=0.4, label='adjusted p-value') \n",
    "    #plt.legend(*sct.legend_elements('sizes', num=[5,10,20,30,40,80], alpha=0.6), title=\"number of genes\")\n",
    "    plt.show()"
   ]
  },
  {
   "cell_type": "markdown",
   "metadata": {},
   "source": [
    "### Luizas pathways"
   ]
  },
  {
   "cell_type": "code",
   "execution_count": 244,
   "metadata": {
    "scrolled": false
   },
   "outputs": [],
   "source": [
    "if bool_plot==True:\n",
    "    df = ch_al.append([ch_gf,ch_bt_gf,ch_bt_al,\n",
    "                       h5_al,h5_gf,h5_bt_gf,h5_bt_al,\n",
    "                       h15_al,h15_gf,h15_bt_gf,h15_bt_al])\n",
    "\n",
    "    plt.rcParams['figure.figsize'] = [10, 12]\n",
    "\n",
    "    sct=plt.scatter(x=\"Comparison\", y=\"Term\", s=25*df['Count'], c= df['P-value'],  cmap='inferno', data=df)\n",
    "    plt.margins(0.02)\n",
    "    plt.xticks(rotation=30, ha='right')\n",
    "    plt.colorbar(alpha=0.05, aspect=16, shrink=0.4, label='p-value') \n",
    "    #plt.legend(*sct.legend_elements('sizes', num=[5,10,20,30,40,80], alpha=0.6), title=\"number of genes\")\n",
    "    plt.show()"
   ]
  }
 ],
 "metadata": {
  "kernelspec": {
   "display_name": "Python 3",
   "language": "python",
   "name": "python3"
  },
  "language_info": {
   "codemirror_mode": {
    "name": "ipython",
    "version": 3
   },
   "file_extension": ".py",
   "mimetype": "text/x-python",
   "name": "python",
   "nbconvert_exporter": "python",
   "pygments_lexer": "ipython3",
   "version": "3.9.2"
  },
  "toc": {
   "base_numbering": 1,
   "nav_menu": {},
   "number_sections": true,
   "sideBar": true,
   "skip_h1_title": false,
   "title_cell": "Table of Contents",
   "title_sidebar": "Contents",
   "toc_cell": false,
   "toc_position": {},
   "toc_section_display": true,
   "toc_window_display": true
  }
 },
 "nbformat": 4,
 "nbformat_minor": 2
}
