{
 "cells": [
  {
   "cell_type": "markdown",
   "metadata": {},
   "source": [
    "# Analysis of Astrocytes in the medial Arcuate Nucleus Data Set"
   ]
  },
  {
   "cell_type": "markdown",
   "metadata": {},
   "source": [
    "## Table of contents:\n",
    "\n",
    "* <a href=#Load>Load Packages and Set Global Variables</a>\n",
    "    * <a href=#Imports>Imports and Settings</a>\n",
    "    * <a href=#Global>Global Variables</a> \n",
    "* <a href=#Dataloading>Loading Data, Quality Control and Preprocessing</a>\n",
    "    * <a href=#Counts>Gene numbers and counts with and without mitochondrial RNA</a>\n",
    "* <a href=#Allcells>All cells - normalization, projection and clustering</a>\n",
    "* <a href=#Define>Define Cell Types</a>\n",
    "* <a href=#astrocytes>Astrocytes Only</a>\n",
    "    * <a href=#Embedding>Embeddings and Clustering</a>\n",
    "    * <a href=#adipmarkers>Astrocyte Marker Analysis</a>\n",
    "    * <a href=#topde>Top ranking DE Genes</a>\n",
    "    * <a href=#count_dist>Count distribution for Gfap, Aldh1l1 and Slc1a3</a>\n",
    "* <a href=#traject>Gfap and Aldh1l1 only</a>"
   ]
  },
  {
   "cell_type": "markdown",
   "metadata": {},
   "source": [
    "<a id=\"Load\"></a>"
   ]
  },
  {
   "cell_type": "markdown",
   "metadata": {},
   "source": [
    "# Load Packages and Set Global Variables"
   ]
  },
  {
   "cell_type": "markdown",
   "metadata": {},
   "source": [
    "<a id=\"imports\"></a>"
   ]
  },
  {
   "cell_type": "markdown",
   "metadata": {},
   "source": [
    "## Imports and Settings"
   ]
  },
  {
   "cell_type": "code",
   "execution_count": 1,
   "metadata": {},
   "outputs": [
    {
     "name": "stderr",
     "output_type": "stream",
     "text": [
      "/Users/viktorian.miok/anaconda3/lib/python3.7/site-packages/statsmodels/tools/_testing.py:19: FutureWarning: pandas.util.testing is deprecated. Use the functions in the public API at pandas.testing instead.\n",
      "  import pandas.util.testing as tm\n",
      "WARNING: If you miss a compact list, please try `print_header`!\n"
     ]
    },
    {
     "name": "stdout",
     "output_type": "stream",
     "text": [
      "-----\n",
      "anndata     0.7.5\n",
      "scanpy      1.7.1\n",
      "sinfo       0.3.1\n",
      "-----\n",
      "OpenSSL                             19.1.0\n",
      "PIL                                 7.0.0\n",
      "absl                                NA\n",
      "anndata                             0.7.5\n",
      "appnope                             0.1.0\n",
      "astunparse                          1.6.3\n",
      "autoreload                          NA\n",
      "backcall                            0.1.0\n",
      "batchglm                            v0.7.4\n",
      "cairo                               1.18.2\n",
      "certifi                             2020.06.20\n",
      "cffi                                1.13.2\n",
      "chardet                             3.0.4\n",
      "cloudpickle                         1.3.0\n",
      "colorama                            0.4.3\n",
      "cryptography                        2.8\n",
      "custom_functions                    NA\n",
      "cycler                              0.10.0\n",
      "cython_runtime                      NA\n",
      "d0500e42e7b9c00c4a62953977ddea7b    NA\n",
      "dask                                2.18.1\n",
      "dateutil                            2.8.1\n",
      "decorator                           4.4.1\n",
      "diffxpy                             v0.7.4\n",
      "future_fstrings                     NA\n",
      "gast                                NA\n",
      "get_version                         2.1\n",
      "google                              NA\n",
      "gprofiler                           1.0.0\n",
      "h5py                                2.10.0\n",
      "idna                                2.8\n",
      "igraph                              0.7.1\n",
      "importlib_metadata                  1.5.0\n",
      "ipykernel                           5.1.3\n",
      "ipython_genutils                    0.2.0\n",
      "ipywidgets                          7.5.1\n",
      "jedi                                0.15.2\n",
      "joblib                              0.14.1\n",
      "keras_preprocessing                 1.1.2\n",
      "kiwisolver                          1.1.0\n",
      "legacy_api_wrap                     1.2\n",
      "leidenalg                           0.7.0\n",
      "llvmlite                            0.35.0\n",
      "louvain                             0.6.1\n",
      "matplotlib                          3.3.4\n",
      "matplotlib_venn                     NA\n",
      "more_itertools                      8.1.0\n",
      "mpl_toolkits                        NA\n",
      "natsort                             7.0.0\n",
      "numba                               0.52.0\n",
      "numexpr                             2.7.1\n",
      "numpy                               1.20.1\n",
      "opt_einsum                          v3.2.1\n",
      "packaging                           20.0\n",
      "pandas                              1.2.3\n",
      "parso                               0.5.2\n",
      "patsy                               0.5.1\n",
      "pexpect                             4.7.0\n",
      "pickleshare                         0.7.5\n",
      "pkg_resources                       NA\n",
      "prompt_toolkit                      3.0.6\n",
      "psutil                              5.6.7\n",
      "ptyprocess                          0.6.0\n",
      "pygments                            2.5.2\n",
      "pyparsing                           2.4.6\n",
      "pytz                                2019.3\n",
      "requests                            2.22.0\n",
      "scanpy                              1.7.1\n",
      "scipy                               1.6.1\n",
      "seaborn                             0.11.1\n",
      "sinfo                               0.3.1\n",
      "six                                 1.14.0\n",
      "sklearn                             0.22.1\n",
      "socks                               1.7.1\n",
      "sparse                              0.10.0\n",
      "sphinxcontrib                       NA\n",
      "statsmodels                         0.10.2\n",
      "storemagic                          NA\n",
      "tables                              3.6.1\n",
      "tensorboard                         2.3.0a20200621\n",
      "tensorflow                          2.3.0-dev20200621\n",
      "termcolor                           1.1.0\n",
      "tlz                                 0.10.0\n",
      "toolz                               0.10.0\n",
      "tornado                             4.5.3\n",
      "traitlets                           4.3.3\n",
      "urllib3                             1.25.7\n",
      "wcwidth                             0.2.5\n",
      "wrapt                               1.12.1\n",
      "yaml                                5.3\n",
      "zipp                                NA\n",
      "zmq                                 18.1.1\n",
      "-----\n",
      "IPython             7.17.0\n",
      "jupyter_client      5.3.4\n",
      "jupyter_core        4.6.1\n",
      "jupyterlab          1.2.16\n",
      "notebook            5.7.10\n",
      "-----\n",
      "Python 3.7.6 | packaged by conda-forge | (default, Jan  7 2020, 22:05:27) [Clang 9.0.1 ]\n",
      "Darwin-20.3.0-x86_64-i386-64bit\n",
      "12 logical CPU cores, i386\n",
      "-----\n",
      "Session information updated at 2021-03-17 04:58\n",
      "\n",
      "3.7.6 | packaged by conda-forge | (default, Jan  7 2020, 22:05:27) \n",
      "[Clang 9.0.1 ]\n"
     ]
    }
   ],
   "source": [
    "import numpy as np\n",
    "import scanpy as sc\n",
    "import scipy as sci\n",
    "import scipy.sparse\n",
    "import pandas as pd\n",
    "import seaborn as sb\n",
    "import matplotlib as mpl\n",
    "import matplotlib.pyplot as plt\n",
    "from matplotlib import colors\n",
    "from gprofiler import GProfiler\n",
    "import custom_functions as cf\n",
    "import matplotlib_venn\n",
    "import sys\n",
    "import re\n",
    "import os\n",
    "\n",
    "import batchglm\n",
    "import diffxpy.api as de\n",
    "\n",
    "import warnings\n",
    "warnings.filterwarnings('ignore')\n",
    "\n",
    "%load_ext autoreload\n",
    "%autoreload 2\n",
    "sc.settings.verbosity = 3 # amount of output\n",
    "\n",
    "base_dir = '/Users/viktorian.miok/Documents/consultation/Luiza/single_cell/data/scanpy_AnnData/'\n",
    "dir_out = '/Users/viktorian.miok/Documents/consultation/Luiza/single_cell/results/'\n",
    "dir_tables = dir_out+'tables/'\n",
    "sc_settings_figdir = dir_out+'figures/'\n",
    "sc_settings_writedir = dir_out+'anndata/'\n",
    "sc.logging.print_versions()\n",
    "os.chdir(dir_out)\n",
    "sc.settings.set_figure_params(dpi=80, scanpy=True)\n",
    "print (sys.version)"
   ]
  },
  {
   "cell_type": "code",
   "execution_count": 2,
   "metadata": {},
   "outputs": [],
   "source": [
    "#Define a nice colour map for gene expression\n",
    "colors2 = plt.cm.Reds(np.linspace(0, 1, 128))\n",
    "colors3 = plt.cm.Greys_r(np.linspace(0.7,0.8,20))\n",
    "colorsComb = np.vstack([colors3, colors2])\n",
    "mymap = colors.LinearSegmentedColormap.from_list('my_colormap', colorsComb)"
   ]
  },
  {
   "cell_type": "markdown",
   "metadata": {},
   "source": [
    "## Global Variables"
   ]
  },
  {
   "cell_type": "markdown",
   "metadata": {},
   "source": [
    "All embeddings and clusterings can be saved and loaded into this script. Be carful with overwriting cluster caches as soon as cell type annotation has started as cluster labels may be shuffled."
   ]
  },
  {
   "cell_type": "markdown",
   "metadata": {},
   "source": [
    "Set whether anndata objects are recomputed or loaded from cache."
   ]
  },
  {
   "cell_type": "code",
   "execution_count": 3,
   "metadata": {},
   "outputs": [],
   "source": [
    "bool_recomp = False"
   ]
  },
  {
   "cell_type": "markdown",
   "metadata": {},
   "source": [
    "Set whether clustering is recomputed or loaded from saved .obs file. Loading makes sense if the clustering changes due to a change in scanpy or one of its dependencies and the number of clusters or the cluster labels change accordingly."
   ]
  },
  {
   "cell_type": "code",
   "execution_count": 4,
   "metadata": {},
   "outputs": [],
   "source": [
    "bool_recluster = False"
   ]
  },
  {
   "cell_type": "markdown",
   "metadata": {},
   "source": [
    "Set whether cluster cache is overwritten. Note that the cache exists for reproducibility of clustering, see above."
   ]
  },
  {
   "cell_type": "code",
   "execution_count": 5,
   "metadata": {},
   "outputs": [],
   "source": [
    "bool_write_cluster_cache = False"
   ]
  },
  {
   "cell_type": "markdown",
   "metadata": {},
   "source": [
    "Set whether to produce plots, set to False for test runs."
   ]
  },
  {
   "cell_type": "code",
   "execution_count": 6,
   "metadata": {},
   "outputs": [],
   "source": [
    "bool_plot = False"
   ]
  },
  {
   "cell_type": "markdown",
   "metadata": {},
   "source": [
    "Set whether observations should be calculated. If false, it is necessary to read cacheed file that contains the necssary information. It then shows the the distributions of counts and genes, as well as mt_frac after filtering. \n",
    "Set to true in order to see the data before filtering and follow the decisions for cutoffs."
   ]
  },
  {
   "cell_type": "code",
   "execution_count": 7,
   "metadata": {},
   "outputs": [],
   "source": [
    "bool_create_observations = True"
   ]
  },
  {
   "cell_type": "markdown",
   "metadata": {},
   "source": [
    "<a id=\"Dataloading\"></a>"
   ]
  },
  {
   "cell_type": "markdown",
   "metadata": {},
   "source": [
    "# Loading Data, Quality Control and Preprocessing"
   ]
  },
  {
   "cell_type": "markdown",
   "metadata": {},
   "source": [
    "Read the data in:"
   ]
  },
  {
   "cell_type": "code",
   "execution_count": 8,
   "metadata": {},
   "outputs": [],
   "source": [
    "if bool_recomp:\n",
    "    adata_raw1 = sc.read(base_dir + 'MUC26030/filtered_feature_bc_matrix.h5ad')\n",
    "    adata_raw2 = sc.read(base_dir + 'MUC26031/filtered_feature_bc_matrix.h5ad')\n",
    "    adata_raw3 = sc.read(base_dir + 'MUC26032/filtered_feature_bc_matrix.h5ad')\n",
    "    adata_raw = adata_raw1.concatenate([adata_raw2, adata_raw3],\n",
    "                                       batch_key='diet', \n",
    "                                       batch_categories=['chow', 'hfd_5', 'hfd_15']\n",
    "    )\n",
    "    sc.write(sc_settings_writedir+'adata_raw.h5ad', adata_raw)\n",
    "else:\n",
    "    adata_raw = sc.read(sc_settings_writedir+'adata_raw.h5ad')"
   ]
  },
  {
   "cell_type": "markdown",
   "metadata": {},
   "source": [
    "<a id=\"QC\"></a>"
   ]
  },
  {
   "cell_type": "markdown",
   "metadata": {},
   "source": [
    "Summary of steps performed here: Only cells with at least 500 UMIs are kept. Counts per cell are cell library depth normalized. The gene (feature) space is reduced with PCA to 50 PCs. A nearest neighbour graph and umap are computed based on the PC space. Cell are clustered with louvain clustering based on the nearest neighbour graph. Graph abstraction is computed based on the louvain clustering."
   ]
  },
  {
   "cell_type": "code",
   "execution_count": 9,
   "metadata": {},
   "outputs": [],
   "source": [
    "sc.pp.filter_cells(adata_raw, min_counts = 1)"
   ]
  },
  {
   "cell_type": "markdown",
   "metadata": {},
   "source": [
    "The data contains 21143 observations with 31253 different genes. Due to dropouts, some of the observations might not show any counts and genes. In order to calculate the fraction of mitochondrial RNA in the next steps, each observations without counts must be filtered out to prevent NaN from emerging. "
   ]
  },
  {
   "cell_type": "code",
   "execution_count": 10,
   "metadata": {},
   "outputs": [
    {
     "name": "stdout",
     "output_type": "stream",
     "text": [
      "Number of cells: 21143\n",
      "Number of genes: 31253\n",
      "Number of cells per diet:\n"
     ]
    },
    {
     "data": {
      "text/plain": [
       "chow      7116\n",
       "hfd_5     6204\n",
       "hfd_15    7823\n",
       "Name: diet, dtype: int64"
      ]
     },
     "execution_count": 10,
     "metadata": {},
     "output_type": "execute_result"
    }
   ],
   "source": [
    "print('Number of cells: {:d}'.format(adata_raw.n_obs))\n",
    "print('Number of genes: {:d}'.format(adata_raw.shape[1]))\n",
    "print('Number of cells per diet:')\n",
    "adata_raw.obs['diet'].value_counts().sort_index()"
   ]
  },
  {
   "cell_type": "markdown",
   "metadata": {},
   "source": [
    "### Gene numbers and counts with and without mitochondrial RNA"
   ]
  },
  {
   "cell_type": "markdown",
   "metadata": {},
   "source": [
    "Create necessary obs:"
   ]
  },
  {
   "cell_type": "code",
   "execution_count": 11,
   "metadata": {},
   "outputs": [],
   "source": [
    "adata_qc = adata_raw.copy()\n",
    "adata_qc.obs['n_genes'] = (adata_qc.X > 0).sum(1)\n",
    "mt_gene_mask = [gene.startswith('mt-') for gene in adata_qc.var_names]\n",
    "temp_mt_sum = adata_qc[:,mt_gene_mask].X.sum(1)\n",
    "temp_mt_sum = np.squeeze(np.asarray(temp_mt_sum))\n",
    "adata_qc.obs['n_counts'] = adata_qc.X.sum(1)\n",
    "temp_n_counts = adata_qc.obs['n_counts']\n",
    "adata_qc.obs['mt_frac'] = temp_mt_sum/adata_qc.obs['n_counts']"
   ]
  },
  {
   "cell_type": "markdown",
   "metadata": {},
   "source": [
    "Plot n_counts and mt_frac:"
   ]
  },
  {
   "cell_type": "code",
   "execution_count": 12,
   "metadata": {},
   "outputs": [],
   "source": [
    "if bool_plot == True:\n",
    "    t1 = sc.pl.violin(adata_qc, ['n_counts', 'n_genes', 'mt_frac'], size =1, log=False, jitter=3, multi_panel=True)"
   ]
  },
  {
   "cell_type": "code",
   "execution_count": 13,
   "metadata": {},
   "outputs": [],
   "source": [
    "if bool_plot==True:\n",
    "    sc.pl.highest_expr_genes(adata_qc, n_top=20) "
   ]
  },
  {
   "cell_type": "markdown",
   "metadata": {},
   "source": [
    "Overall, the data contains a lot of observations with high fractions of mitochondrial RNA. Additionally, most observations show counts below 100, suggesting poor data quality. To further investigate the distributions counts over genes per observations, scatterplots are created:"
   ]
  },
  {
   "cell_type": "markdown",
   "metadata": {},
   "source": [
    "### Number of Genes versus Number of Counts"
   ]
  },
  {
   "cell_type": "code",
   "execution_count": 14,
   "metadata": {},
   "outputs": [],
   "source": [
    "if bool_plot == True:\n",
    "    p1 = sc.pl.scatter(adata_qc, 'n_counts','n_genes',color='mt_frac', size = 5)\n",
    "    p2 = sc.pl.scatter(adata_qc[adata_qc.obs['n_counts']<5000],'n_counts','n_genes',color = 'mt_frac', size = 5)"
   ]
  },
  {
   "cell_type": "markdown",
   "metadata": {},
   "source": [
    "### Distribution of Counts and Genes"
   ]
  },
  {
   "cell_type": "markdown",
   "metadata": {},
   "source": [
    "For the remaining observations, the fraction of mitochondrial RNA is generally very low and at most 20%"
   ]
  },
  {
   "cell_type": "code",
   "execution_count": 15,
   "metadata": {},
   "outputs": [],
   "source": [
    "if bool_plot == True:\n",
    "    p6 = sb.distplot(adata_qc.obs['n_counts'], kde = False)\n",
    "    plt.show()\n",
    "    p7 = sb.distplot(adata_qc.obs['n_counts'][adata_qc.obs['n_counts']<1000], kde = False)\n",
    "    plt.show()"
   ]
  },
  {
   "cell_type": "code",
   "execution_count": 16,
   "metadata": {},
   "outputs": [],
   "source": [
    "if bool_plot == True:\n",
    "    p9 = sb.distplot(adata_qc.obs['n_genes'],kde = False, bins=60)\n",
    "    plt.show()\n",
    "    p10 = sb.distplot(adata_qc.obs['n_genes'][adata_qc.obs['n_genes']<500],kde = False, bins=60)\n",
    "    plt.show()"
   ]
  },
  {
   "cell_type": "markdown",
   "metadata": {},
   "source": [
    "### Filtering"
   ]
  },
  {
   "cell_type": "code",
   "execution_count": 17,
   "metadata": {},
   "outputs": [
    {
     "name": "stdout",
     "output_type": "stream",
     "text": [
      "Total number of cells: 21143\n"
     ]
    },
    {
     "name": "stderr",
     "output_type": "stream",
     "text": [
      "filtered out 35 cells that have more than 100000 counts\n"
     ]
    },
    {
     "name": "stdout",
     "output_type": "stream",
     "text": [
      "Number of cells after min count filter: 21143\n",
      "Number of cells after max count filter: 21108\n",
      "Number of cells after MT filter: 20491\n"
     ]
    },
    {
     "name": "stderr",
     "output_type": "stream",
     "text": [
      "filtered out 496 cells that have less than 350 genes expressed\n",
      "Trying to set attribute `.obs` of view, copying.\n"
     ]
    },
    {
     "name": "stdout",
     "output_type": "stream",
     "text": [
      "Number of cells after gene filter: 19995\n"
     ]
    }
   ],
   "source": [
    "# Filter cells according to identified QC thresholds:\n",
    "print('Total number of cells: {:d}'.format(adata_qc.n_obs))\n",
    "\n",
    "sc.pp.filter_cells(adata_qc, min_counts = 200)\n",
    "print('Number of cells after min count filter: {:d}'.format(adata_qc.n_obs))\n",
    "\n",
    "sc.pp.filter_cells(adata_qc, max_counts = 100000)\n",
    "print('Number of cells after max count filter: {:d}'.format(adata_qc.n_obs))\n",
    "\n",
    "adata_qc = adata_qc[adata_qc.obs['mt_frac'] < 0.5]\n",
    "print('Number of cells after MT filter: {:d}'.format(adata_qc.n_obs))\n",
    "\n",
    "sc.pp.filter_cells(adata_qc, min_genes = 350)\n",
    "print('Number of cells after gene filter: {:d}'.format(adata_qc.n_obs))"
   ]
  },
  {
   "cell_type": "code",
   "execution_count": 18,
   "metadata": {},
   "outputs": [
    {
     "name": "stdout",
     "output_type": "stream",
     "text": [
      "Total number of genes: 31253\n"
     ]
    },
    {
     "name": "stderr",
     "output_type": "stream",
     "text": [
      "filtered out 13164 genes that are detected in less than 20 cells\n"
     ]
    },
    {
     "name": "stdout",
     "output_type": "stream",
     "text": [
      "Number of genes after cell filter: 18089\n"
     ]
    }
   ],
   "source": [
    "#Filter genes:\n",
    "print('Total number of genes: {:d}'.format(adata_qc.n_vars))\n",
    "\n",
    "# Min 20 cells - filters out 0 count genes\n",
    "sc.pp.filter_genes(adata_qc, min_cells=20)\n",
    "print('Number of genes after cell filter: {:d}'.format(adata_qc.n_vars))"
   ]
  },
  {
   "cell_type": "code",
   "execution_count": 19,
   "metadata": {},
   "outputs": [],
   "source": [
    "if bool_plot == True:\n",
    "    p1 = sc.pl.scatter(adata_qc, 'n_counts','n_genes',color='mt_frac', size = 5)\n",
    "    p3 = sc.pl.scatter(adata_qc[adata_qc.obs['n_counts']<5000],'n_counts','n_genes',color = 'mt_frac', size = 5)"
   ]
  },
  {
   "cell_type": "markdown",
   "metadata": {},
   "source": [
    "## All cells - normalization, projection and clustering"
   ]
  },
  {
   "cell_type": "code",
   "execution_count": 20,
   "metadata": {
    "scrolled": false
   },
   "outputs": [
    {
     "name": "stderr",
     "output_type": "stream",
     "text": [
      "running PAGA\n",
      "    finished: added\n",
      "    'paga/connectivities', connectivities adjacency (adata.uns)\n",
      "    'paga/connectivities_tree', connectivities subtree (adata.uns) (0:00:01)\n"
     ]
    }
   ],
   "source": [
    "if bool_recomp == True:\n",
    "        \n",
    "    adata_proc = adata_qc.copy()\n",
    "    adata_proc.raw = adata_proc\n",
    "    sc.pp.normalize_per_cell(adata_proc)\n",
    "    sc.pp.log1p(adata_proc)\n",
    "    sc.pp.combat(adata_proc, key='diet')\n",
    "    sc.pp.highly_variable_genes(adata_proc, flavor='cell_ranger',n_top_genes=4000)\n",
    "    sc.pl.highly_variable_genes(adata_proc)\n",
    "    #adata_proc.X = adata_proc.X.toarray()\n",
    "    \n",
    "    sc.pp.pca(adata_proc, n_comps=50, random_state=0, use_highly_variable=True, svd_solver='arpack')\n",
    "    sc.pp.neighbors(adata_proc, n_neighbors=100, knn=True, method='umap', n_pcs=50, random_state=0)\n",
    "    sc.tl.umap(adata_proc)\n",
    "    if bool_recluster == True:\n",
    "        sc.tl.louvain(adata_proc, resolution=0.5, flavor='vtraag', random_state=0)\n",
    "        pd.DataFrame(adata_proc.obs).to_csv(path_or_buf =sc_settings_writedir+\"obs_adata_proc.csv\")\n",
    "    else:\n",
    "        obs = pd.read_csv(sc_settings_writedir+'obs_adata_proc.csv')\n",
    "        adata_proc.obs['louvain']=pd.Series(obs['louvain'].values, dtype = 'category')\n",
    "    sc.write(sc_settings_writedir+'adata_proc.h5ad',adata_proc)\n",
    "else:\n",
    "    adata_proc = sc.read(sc_settings_writedir+'adata_proc.h5ad') \n",
    "sc.tl.paga(adata_proc)"
   ]
  },
  {
   "cell_type": "markdown",
   "metadata": {},
   "source": [
    "Produce some summarizing plots that show the global characteristics of the data."
   ]
  },
  {
   "cell_type": "code",
   "execution_count": 21,
   "metadata": {},
   "outputs": [],
   "source": [
    "if bool_plot == True:\n",
    "    cf.plot_umap_marker(adata_proc, ['louvain'], save=\"_all_cells_louvain.svg\", use_raw=False)"
   ]
  },
  {
   "cell_type": "code",
   "execution_count": 22,
   "metadata": {},
   "outputs": [],
   "source": [
    "if bool_plot == True:\n",
    "    cf.plot_umap_marker(adata_proc, ['louvain'], save=\"_all_cells_louvain_ondata.svg\", use_raw=False, legend_loc='on data')"
   ]
  },
  {
   "cell_type": "code",
   "execution_count": 23,
   "metadata": {},
   "outputs": [],
   "source": [
    "if bool_plot == True:\n",
    "    cf.plot_umap_marker(adata_proc, ['n_genes','n_counts','mt_frac'], color_map=mymap, size=10, save=\"_all_cells_n_gene_count_mt.svg\", use_raw = False)"
   ]
  },
  {
   "cell_type": "markdown",
   "metadata": {},
   "source": [
    "A high fraction of mitochondrial RNA is in cluster 3 and around the central cluster 8."
   ]
  },
  {
   "cell_type": "code",
   "execution_count": 24,
   "metadata": {},
   "outputs": [],
   "source": [
    "if bool_plot == True:\n",
    "    cf.plot_umap_marker(adata_proc, ['Gfap','Aldh1l1'], color_map=mymap, size=20, save=\"_all_cells_gfap-aldh.svg\", use_raw = False)"
   ]
  },
  {
   "cell_type": "code",
   "execution_count": 25,
   "metadata": {},
   "outputs": [],
   "source": [
    "if bool_plot == True:\n",
    "    cf.plot_umap_marker(adata_proc, ['diet'], save=\"_all_cells_diet.svg\", use_raw=False)"
   ]
  },
  {
   "cell_type": "code",
   "execution_count": 26,
   "metadata": {},
   "outputs": [],
   "source": [
    "if bool_plot == True:\n",
    "    sc.pl.paga(adata_proc, save=\"_all_cells.svg\")"
   ]
  },
  {
   "cell_type": "code",
   "execution_count": 27,
   "metadata": {},
   "outputs": [],
   "source": [
    "if bool_plot == True:\n",
    "    cf.cell_percent(adata_proc, cluster='louvain', condition='diet', xlabel='clusters', ylabel='percentage', \n",
    "                 title='barplot_all_cells_diet_per_clusters', save=sc_settings_figdir, table=False)"
   ]
  },
  {
   "cell_type": "code",
   "execution_count": 28,
   "metadata": {},
   "outputs": [],
   "source": [
    "if bool_plot == True:\n",
    "    aldh_pos = adata_proc.obs_names[np.asarray(adata_proc[:,'Aldh1l1'].X).flatten()>0]\n",
    "    gfap_pos = adata_proc.obs_names[np.asarray(adata_proc[:,'Gfap'].X).flatten()>0]\n",
    "    glast_pos = adata_proc.obs_names[np.asarray(adata_proc[:,'Slc1a3'].X).flatten()>0]\n",
    "\n",
    "    matplotlib_venn.venn3([\n",
    "        set(aldh_pos),\n",
    "        set(gfap_pos),\n",
    "        set(glast_pos)\n",
    "    ], set_labels = (\"Aldh1l1\", \"Gfap\", \"Slc1a3\"))\n",
    "    plt.savefig(sc_settings_figdir+'venndiagram_all_cells_gfap-aldh-glast.svg')"
   ]
  },
  {
   "cell_type": "code",
   "execution_count": 29,
   "metadata": {},
   "outputs": [],
   "source": [
    "if bool_plot == True:\n",
    "    aldh_pos = adata_proc.obs_names[np.asarray(adata_proc[:,'Aldh1l1'].X).flatten()>0]\n",
    "    gfap_pos = adata_proc.obs_names[np.asarray(adata_proc[:,'Gfap'].X).flatten()>0]\n",
    "\n",
    "    matplotlib_venn.venn2([\n",
    "        set(aldh_pos),\n",
    "        set(gfap_pos)\n",
    "    ], set_labels = (\"Aldh1l1\", \"Gfap\"))#, \"Slc1a3\"))\n",
    "    plt.savefig(sc_settings_figdir+'venndiagram_all_cells_gfap-aldh.svg')"
   ]
  },
  {
   "cell_type": "markdown",
   "metadata": {},
   "source": [
    "Number of cells in each cluster:"
   ]
  },
  {
   "cell_type": "code",
   "execution_count": 30,
   "metadata": {},
   "outputs": [
    {
     "data": {
      "text/plain": [
       "0     3912\n",
       "1     2568\n",
       "2     2381\n",
       "3     2263\n",
       "4     1512\n",
       "5     1457\n",
       "6     1346\n",
       "7     1304\n",
       "8     1106\n",
       "9      960\n",
       "10     618\n",
       "11     378\n",
       "12     190\n",
       "Name: louvain, dtype: int64"
      ]
     },
     "execution_count": 30,
     "metadata": {},
     "output_type": "execute_result"
    }
   ],
   "source": [
    "adata_proc.obs[\"louvain\"].value_counts()"
   ]
  },
  {
   "cell_type": "markdown",
   "metadata": {},
   "source": [
    "# Define Cell Types"
   ]
  },
  {
   "cell_type": "markdown",
   "metadata": {},
   "source": [
    "<a id=\"DE\"></a>"
   ]
  },
  {
   "cell_type": "markdown",
   "metadata": {},
   "source": [
    "## DE Genes"
   ]
  },
  {
   "cell_type": "code",
   "execution_count": 31,
   "metadata": {
    "scrolled": false
   },
   "outputs": [
    {
     "name": "stderr",
     "output_type": "stream",
     "text": [
      "WARNING: Default of the method has been changed to 't-test' from 't-test_overestim_var'\n",
      "ranking genes\n",
      "    finished: added to `.uns['rank_genes']`\n",
      "    'names', sorted np.recarray to be indexed by group ids\n",
      "    'scores', sorted np.recarray to be indexed by group ids\n",
      "    'logfoldchanges', sorted np.recarray to be indexed by group ids\n",
      "    'pvals', sorted np.recarray to be indexed by group ids\n",
      "    'pvals_adj', sorted np.recarray to be indexed by group ids (0:00:03)\n"
     ]
    }
   ],
   "source": [
    "sc.tl.rank_genes_groups(adata_proc, groupby='louvain', key_added='rank_genes')\n",
    "\n",
    "if bool_plot==True:\n",
    "    sc.pl.rank_genes_groups(adata_proc, key='rank_genes', groups=['0','1','2'], save=\"_all_cells_1.svg\")\n",
    "    sc.pl.rank_genes_groups(adata_proc, key='rank_genes', groups=['3','4','5'], save=\"_all_cells_2.svg\")\n",
    "    sc.pl.rank_genes_groups(adata_proc, key='rank_genes', groups=['6','7','8'], save=\"_all_cells_3.svg\")\n",
    "    sc.pl.rank_genes_groups(adata_proc, key='rank_genes', groups=['9','10','11'], save=\"_all_cells_4.svg\")\n",
    "    sc.pl.rank_genes_groups(adata_proc, key='rank_genes', groups=['12'], save=\"_all_cells_5.svg\")"
   ]
  },
  {
   "cell_type": "markdown",
   "metadata": {},
   "source": [
    "## Define Marker Sets"
   ]
  },
  {
   "cell_type": "markdown",
   "metadata": {},
   "source": [
    "Define marker sets for some of the expected cell types and add DE genes."
   ]
  },
  {
   "cell_type": "code",
   "execution_count": 32,
   "metadata": {},
   "outputs": [],
   "source": [
    "# Leukocyte markers:\n",
    "astrocyte_markers = ['Slc1a2', 'Slc1a3', 'Aqp4', 'S100b', 'Sox9','Gfap','Aldh1l1','Gja1','Gjb6','Agt','Atp1b2']\n",
    "microglia_markers = ['Itgam','Tmem119','Cx3cr1','Aif1','Csf1r','P2ry12']\n",
    "macrophage_markers = ['Mrc1']\n",
    "oligodendrocyte_markers = ['Olig1','Mog','Mag','Cd9','P11p']\n",
    "ng2_markers = ['Cspg4','Pdgfra']\n",
    "neuron_markers = ['Rbfox3','Syp', 'Map2', 'Tubb3','Snap25','Syt1','Th','Gal','Pnoc']\n",
    "endothelial_markers = ['Cldn5', 'Pecam1','Slco1c1']\n",
    "mural_markers = ['Mustn1','Pdgfrb','Des']\n",
    "neural_stem_markers = ['Sox2','Nes','Notch1']\n",
    "radial_glia_markers = ['Pax6','Hes1']\n",
    "ependymal_markers = ['Nfx','Foxj1','Cd24a','Vim','Sox2','Ccdc153','Rarres2','Fgf10','Rax','Lhx2']\n",
    "vlmc_markers = ['Lum','Col1a1','Col3a1']\n",
    "pars_tuberalis_markers = ['Tshb','Cck']"
   ]
  },
  {
   "cell_type": "markdown",
   "metadata": {},
   "source": [
    "Only keep markers occurring in data set."
   ]
  },
  {
   "cell_type": "code",
   "execution_count": 33,
   "metadata": {},
   "outputs": [],
   "source": [
    "astrocyte_markers = np.array([x for x in astrocyte_markers if x in adata_proc.var_names])\n",
    "microglia_markers = np.array([x for x in microglia_markers if x in adata_proc.var_names])\n",
    "macrophage_markers = np.array([x for x in macrophage_markers if x in adata_proc.var_names])\n",
    "oligodendrocyte_markers = np.array([x for x in oligodendrocyte_markers if x in adata_proc.var_names])\n",
    "ng2_markers = np.array([x for x in ng2_markers if x in adata_proc.var_names])\n",
    "neuron_markers = np.array([x for x in neuron_markers if x in adata_proc.var_names])\n",
    "endothelial_markers = np.array([x for x in endothelial_markers if x in adata_proc.var_names])\n",
    "mural_markers = np.array([x for x in mural_markers if x in adata_proc.var_names])\n",
    "neural_stem_markers = np.array([x for x in neural_stem_markers if x in adata_proc.var_names])\n",
    "radial_glia_markers = np.array([x for x in radial_glia_markers if x in adata_proc.var_names])\n",
    "ependymal_markers = np.array([x for x in ependymal_markers if x in adata_proc.var_names])\n",
    "vlmc_markers = np.array([x for x in vlmc_markers if x in adata_proc.var_names])\n",
    "pars_tuberalis_markers = np.array([x for x in pars_tuberalis_markers if x in adata_proc.var_names])"
   ]
  },
  {
   "cell_type": "markdown",
   "metadata": {},
   "source": [
    "## Astrocyte Markers"
   ]
  },
  {
   "cell_type": "code",
   "execution_count": 34,
   "metadata": {},
   "outputs": [],
   "source": [
    "if bool_plot == True:\n",
    "    cf.plot_violin_marker(adata_proc, astrocyte_markers.tolist(), save=\"_all_cells_astrocyte_markers\")"
   ]
  },
  {
   "cell_type": "markdown",
   "metadata": {},
   "source": [
    "## Microglia Markers"
   ]
  },
  {
   "cell_type": "code",
   "execution_count": 35,
   "metadata": {
    "scrolled": true
   },
   "outputs": [],
   "source": [
    "if bool_plot == True:\n",
    "    cf.plot_violin_marker(adata_proc, microglia_markers.tolist(), save=\"_all_cells_microglia_markers\")"
   ]
  },
  {
   "cell_type": "markdown",
   "metadata": {},
   "source": [
    "Cluster 1,9 and 10 show expression for the leukocyte marker Ptprc. Tcf25 found in many clusters."
   ]
  },
  {
   "cell_type": "markdown",
   "metadata": {},
   "source": [
    "## Macrophage Markers"
   ]
  },
  {
   "cell_type": "code",
   "execution_count": 36,
   "metadata": {},
   "outputs": [],
   "source": [
    "if bool_plot == True:\n",
    "    cf.plot_violin_marker(adata_proc, macrophage_markers.tolist(), save=\"_all_cells_macrophage_markers\")"
   ]
  },
  {
   "cell_type": "markdown",
   "metadata": {},
   "source": [
    "## Oligodendrocyte Markers"
   ]
  },
  {
   "cell_type": "code",
   "execution_count": 37,
   "metadata": {},
   "outputs": [],
   "source": [
    "if bool_plot == True:\n",
    "    cf.plot_violin_marker(adata_proc, oligodendrocyte_markers.tolist(), save=\"_all_cells_oligodendrocyte_markers\")"
   ]
  },
  {
   "cell_type": "markdown",
   "metadata": {},
   "source": [
    "The haemoglobin markers and Alas2 show high counts in cluster 5 indicating that cluster 5 corresponds to erythrocytes."
   ]
  },
  {
   "cell_type": "markdown",
   "metadata": {},
   "source": [
    "## NG2 Markers"
   ]
  },
  {
   "cell_type": "code",
   "execution_count": 38,
   "metadata": {},
   "outputs": [],
   "source": [
    "if bool_plot == True:\n",
    "    cf.plot_violin_marker(adata_proc, ng2_markers.tolist(), save=\"_all_cells_ng2_markers\")"
   ]
  },
  {
   "cell_type": "markdown",
   "metadata": {},
   "source": [
    "<a id=\"Preadipocyte\"></a>"
   ]
  },
  {
   "cell_type": "markdown",
   "metadata": {},
   "source": [
    "## Neuron Markers"
   ]
  },
  {
   "cell_type": "code",
   "execution_count": 39,
   "metadata": {
    "scrolled": false
   },
   "outputs": [],
   "source": [
    "if bool_plot == True:\n",
    "    cf.plot_violin_marker(adata_proc, neuron_markers.tolist(), save=\"_all_cells_neuron_markers\")"
   ]
  },
  {
   "cell_type": "markdown",
   "metadata": {},
   "source": [
    "<a id=\"Natural\"></a>"
   ]
  },
  {
   "cell_type": "markdown",
   "metadata": {},
   "source": [
    "## Endothelial Markers"
   ]
  },
  {
   "cell_type": "code",
   "execution_count": 40,
   "metadata": {},
   "outputs": [],
   "source": [
    "if bool_plot == True:\n",
    "    cf.plot_violin_marker(adata_proc, endothelial_markers.tolist(), save=\"_all_cells_endothelial_markers\")"
   ]
  },
  {
   "cell_type": "markdown",
   "metadata": {},
   "source": [
    "NK cell markers are expressed in cluster 6, which is inline with their transcriptomic similarity to T cells which are also found in cluster 6."
   ]
  },
  {
   "cell_type": "markdown",
   "metadata": {},
   "source": [
    "## Mural Markers"
   ]
  },
  {
   "cell_type": "code",
   "execution_count": 41,
   "metadata": {},
   "outputs": [],
   "source": [
    "if bool_plot == True:\n",
    "    cf.plot_violin_marker(adata_proc, mural_markers.tolist(), save=\"_all_cells_mural_markers\")"
   ]
  },
  {
   "cell_type": "markdown",
   "metadata": {},
   "source": [
    "## Neural Stem Cells Markers"
   ]
  },
  {
   "cell_type": "code",
   "execution_count": 42,
   "metadata": {},
   "outputs": [],
   "source": [
    "if bool_plot == True:\n",
    "    cf.plot_violin_marker(adata_proc, neural_stem_markers.tolist(), save=\"_all_cells_neural_stem_markers\")"
   ]
  },
  {
   "cell_type": "markdown",
   "metadata": {},
   "source": [
    "## Radial Glia Cells Markers"
   ]
  },
  {
   "cell_type": "code",
   "execution_count": 43,
   "metadata": {},
   "outputs": [],
   "source": [
    "if bool_plot == True:\n",
    "    cf.plot_violin_marker(adata_proc, radial_glia_markers.tolist(), save=\"_all_cells_radial_glia_markers\")"
   ]
  },
  {
   "cell_type": "markdown",
   "metadata": {},
   "source": [
    "## Ependymal  Cells Markers"
   ]
  },
  {
   "cell_type": "code",
   "execution_count": 44,
   "metadata": {},
   "outputs": [],
   "source": [
    "if bool_plot == True:\n",
    "    cf.plot_violin_marker(adata_proc, ependymal_markers.tolist(), save=\"_all_cells_ependymal_markers\")"
   ]
  },
  {
   "cell_type": "markdown",
   "metadata": {},
   "source": [
    "## Vascular and leptomeningeal cells markers"
   ]
  },
  {
   "cell_type": "code",
   "execution_count": 45,
   "metadata": {},
   "outputs": [],
   "source": [
    "if bool_plot == True:\n",
    "    cf.plot_violin_marker(adata_proc, vlmc_markers.tolist(), save=\"_all_cells_vlmc_markers\")"
   ]
  },
  {
   "cell_type": "markdown",
   "metadata": {},
   "source": [
    "## Pars Tuberalis markers"
   ]
  },
  {
   "cell_type": "code",
   "execution_count": 46,
   "metadata": {},
   "outputs": [],
   "source": [
    "if bool_plot == True:\n",
    "    cf.plot_violin_marker(adata_proc, pars_tuberalis_markers.tolist(), save=\"_all_cells_pars_tuberalis_markers\")"
   ]
  },
  {
   "cell_type": "markdown",
   "metadata": {},
   "source": [
    "## Vascular and leptomeningeal cells markers"
   ]
  },
  {
   "cell_type": "code",
   "execution_count": 47,
   "metadata": {},
   "outputs": [],
   "source": [
    "if bool_plot == True:\n",
    "    cf.plot_violin_marker(adata_proc, vlmc_markers.tolist(), save=\"_all_cells_vlmc_markers\")"
   ]
  },
  {
   "cell_type": "markdown",
   "metadata": {},
   "source": [
    "## Summary heatmap, dotplot and stacked_violin for cluster assignments"
   ]
  },
  {
   "cell_type": "code",
   "execution_count": 48,
   "metadata": {},
   "outputs": [],
   "source": [
    "selected_astrocyte_markers = ['Slc1a2', 'Slc1a3', 'Aqp4', 'S100b', 'Sox9','Gfap','Aldh1l1','Gja1','Gjb6','Agt','Atp1b2']\n",
    "selected_microglia_markers = ['Itgam','Tmem119','Cx3cr1','Csf1r','Aif1','P2ry12']\n",
    "selected_macrophage_markers = ['Mrc1']\n",
    "selected_oligodendrocyte_markers = ['Olig1','Mog','Mag','Cd9','P11p']\n",
    "selected_ng2_markers = ['Cspg4','Pdgfra']\n",
    "selected_neuron_markers = ['Rbfox3','Syp', 'Map2', 'Tubb3','Snap25','Syt1','Th','Gal','Pnoc']\n",
    "selected_endothelial_markers = ['Cldn5', 'Pecam1','Slco1c1']\n",
    "selected_mural_markers = ['Mustn1','Pdgfrb','Des']\n",
    "selected_neural_stem_markers = ['Sox2','Nes','Notch1']\n",
    "selected_radial_glia_markers = ['Pax6','Hes1']\n",
    "selected_ependymal_markers = ['Nfx','Foxj1','Cd24a','Vim','Sox2','Ccdc153','Rarres2','Fgf10','Rax','Lhx2']\n",
    "selected_vlmc_markers = ['Lum','Col1a1','Col3a1']\n"
   ]
  },
  {
   "cell_type": "code",
   "execution_count": 49,
   "metadata": {},
   "outputs": [],
   "source": [
    "selected_cell_markers = selected_astrocyte_markers + \\\n",
    "selected_microglia_markers + \\\n",
    "selected_macrophage_markers + \\\n",
    "selected_oligodendrocyte_markers + \\\n",
    "selected_ng2_markers + \\\n",
    "selected_neuron_markers + \\\n",
    "selected_endothelial_markers + \\\n",
    "selected_mural_markers + \\\n",
    "selected_neural_stem_markers + \\\n",
    "selected_radial_glia_markers + \\\n",
    "selected_ependymal_markers + \\\n",
    "selected_vlmc_markers"
   ]
  },
  {
   "cell_type": "code",
   "execution_count": 50,
   "metadata": {},
   "outputs": [],
   "source": [
    "marker_genes_dict = {'Astrocytes': ['Slc1a2', 'Slc1a3', 'Aqp4', 'S100b', 'Sox9','Gfap','Aldh1l1','Gja1','Gjb6','Agt','Atp1b2'],\n",
    "                     'Microglia': ['Itgam','Tmem119','Cx3cr1','Aif1','Csf1r','P2ry12'],\n",
    "                     'Macrophage': ['Mrc1'],\n",
    "                     'Oligodendrocyte': ['Olig1','Mog','Mag','Cd9'],\n",
    "                     'ng2': ['Cspg4','Pdgfra'],\n",
    "                     'Neuron': ['Rbfox3','Syp', 'Map2', 'Tubb3','Snap25','Syt1','Th','Gal','Pnoc'],\n",
    "                     'Endothel': ['Cldn5', 'Pecam1','Slco1c1'],\n",
    "                     'Mural': ['Mustn1','Pdgfrb','Des'],\n",
    "                     'Neural_stem': ['Sox2','Nes','Notch1'],\n",
    "                     'Radial': ['Pax6','Hes1'],\n",
    "                     'Ependymal': ['Foxj1','Cd24a','Vim','Sox2','Ccdc153','Rarres2','Fgf10','Rax','Lhx2'],\n",
    "                     'vlmc': ['Lum','Col1a1','Col3a1']}"
   ]
  },
  {
   "cell_type": "code",
   "execution_count": 51,
   "metadata": {},
   "outputs": [],
   "source": [
    "if bool_plot==True:\n",
    "    sc.pl.heatmap(\n",
    "        adata=adata_proc, \n",
    "        var_names=marker_genes_dict, \n",
    "        groupby=\"louvain\", \n",
    "        use_raw=False, \n",
    "        log=False, \n",
    "        dendrogram=True, \n",
    "        var_group_rotation=90, \n",
    "        show_gene_labels=True, \n",
    "        show=True, \n",
    "        save=\"_all_cells_celltypes_markers.svg\"\n",
    "    )"
   ]
  },
  {
   "cell_type": "code",
   "execution_count": 52,
   "metadata": {},
   "outputs": [],
   "source": [
    "if bool_plot==True:\n",
    "    sc.pl.dotplot(\n",
    "        adata=adata_proc,\n",
    "        var_names=marker_genes_dict, \n",
    "        groupby='louvain',\n",
    "        use_raw=False, \n",
    "        log=False, \n",
    "        dendrogram=True, \n",
    "        var_group_rotation=90, \n",
    "        show=True, \n",
    "        save=\"all_cells_celltypes_markers.svg\")"
   ]
  },
  {
   "cell_type": "code",
   "execution_count": 53,
   "metadata": {},
   "outputs": [],
   "source": [
    "if bool_plot==True:\n",
    "    sc.pl.stacked_violin(adata_proc, \n",
    "                         marker_genes_dict, \n",
    "                         groupby='louvain', \n",
    "                         show=True,\n",
    "                         use_raw=False,\n",
    "                         dendrogram=True,\n",
    "                         cmap='viridis_r',\n",
    "                         save=\"all_cells_celltypes_markers.svg\")"
   ]
  },
  {
   "cell_type": "code",
   "execution_count": 54,
   "metadata": {},
   "outputs": [],
   "source": [
    "if bool_plot==True:\n",
    "    plt.figure(figsize=(7,7))\n",
    "    cell_annotation = sc.tl.marker_gene_overlap(adata_proc, marker_genes_dict, key='rank_genes', \n",
    "                                                normalize='data')\n",
    "    sb.heatmap(cell_annotation, cbar=False, annot=True)\n",
    "    plt.savefig(sc_settings_figdir+'heatmap_all_cells_rank_genes_cell_annotation.svg')"
   ]
  },
  {
   "cell_type": "markdown",
   "metadata": {},
   "source": [
    "## Gfap vs. Aldh1l1 - per diet"
   ]
  },
  {
   "cell_type": "markdown",
   "metadata": {},
   "source": [
    "###  chow diet cells"
   ]
  },
  {
   "cell_type": "code",
   "execution_count": 55,
   "metadata": {},
   "outputs": [],
   "source": [
    "if bool_plot == True:\n",
    "    fig, (ax1, ax2) = plt.subplots(1, 2, figsize=(12,4), gridspec_kw={'wspace':0.8})\n",
    "    ax1_dict = ax1.scatter(adata_proc[adata_proc.obs['diet']=='chow', ][:, ['Gfap']].X, \n",
    "                           adata_proc[adata_proc.obs['diet']=='chow', ][:, ['Aldh1l1']].X, \n",
    "                           s=9, cmap='seismic', c='dodgerblue')\n",
    "    ax1.set_title('chow')\n",
    "    ax1.set_ylabel('Gfap')\n",
    "    ax1.set_xlabel('Aldh1l1')\n",
    "    ax2_dict = sc.pl.umap(adata_proc[adata_proc.obs['diet']=='chow', ], color=['louvain'], size=5, ax=ax2, show=False)\n",
    "    plt.savefig(sc_settings_figdir+'umap_all_cells_chow_gfap-aldh_1')"
   ]
  },
  {
   "cell_type": "code",
   "execution_count": 56,
   "metadata": {},
   "outputs": [],
   "source": [
    "if bool_plot == True:\n",
    "    cf.plot_umap_marker(adata_proc[adata_proc.obs['diet']=='chow', ], ['Gfap','Aldh1l1'],\n",
    "                        color_map=mymap, size=20, save=\"_all_cells_chow_gfap-aldh.svg\", use_raw = False)"
   ]
  },
  {
   "cell_type": "markdown",
   "metadata": {},
   "source": [
    "### hfd_5 diet cells"
   ]
  },
  {
   "cell_type": "code",
   "execution_count": 57,
   "metadata": {},
   "outputs": [],
   "source": [
    "if bool_plot == True:\n",
    "    fig, (ax1, ax2) = plt.subplots(1, 2, figsize=(12,4), gridspec_kw={'wspace':0.8})\n",
    "    ax1_dict = ax1.scatter(adata_proc[adata_proc.obs['diet']=='hfd_5', ][:, ['Gfap']].X, \n",
    "                           adata_proc[adata_proc.obs['diet']=='hfd_5', ][:, ['Aldh1l1']].X, \n",
    "                           s=9, cmap='seismic', c='darkorange')\n",
    "    ax1.set_title('chow')\n",
    "    ax1.set_ylabel('Gfap')\n",
    "    ax1.set_xlabel('Aldh1l1')\n",
    "    ax2_dict = sc.pl.umap(adata_proc[adata_proc.obs['diet']=='hfd_5', ], color=['louvain'], size=5, ax=ax2, show=False)\n",
    "    plt.savefig(sc_settings_figdir+'umap_all_cells_hfd5_gfap-aldh_1.svg')"
   ]
  },
  {
   "cell_type": "code",
   "execution_count": 58,
   "metadata": {},
   "outputs": [],
   "source": [
    "if bool_plot == True:\n",
    "    cf.plot_umap_marker(adata_proc[adata_proc.obs['diet']=='hfd_5', ], ['Gfap','Aldh1l1'],\n",
    "                        color_map=mymap, size=20, save=\"_all_cells_hfd5_gfap-aldh.svg\", use_raw = False)"
   ]
  },
  {
   "cell_type": "markdown",
   "metadata": {},
   "source": [
    "### hfd15 diet cells"
   ]
  },
  {
   "cell_type": "code",
   "execution_count": 59,
   "metadata": {},
   "outputs": [],
   "source": [
    "if bool_plot == True:\n",
    "    fig, (ax1, ax2) = plt.subplots(1, 2, figsize=(12,4), gridspec_kw={'wspace':0.8})\n",
    "    ax1_dict = ax1.scatter(adata_proc[adata_proc.obs['diet']=='hfd_15', ][:, ['Gfap']].X, \n",
    "                           adata_proc[adata_proc.obs['diet']=='hfd_15', ][:, ['Aldh1l1']].X, \n",
    "                           s=9, cmap='seismic', c='green')\n",
    "    ax1.set_title('chow')\n",
    "    ax1.set_ylabel('Gfap')\n",
    "    ax1.set_xlabel('Aldh1l1')\n",
    "    ax2_dict = sc.pl.umap(adata_proc[adata_proc.obs['diet']=='hfd_15', ], color=['louvain'], size=5, ax=ax2, show=False)\n",
    "    plt.savefig(sc_settings_figdir+'umap_all_cells_hfd15_gfap-aldh_1.svg')"
   ]
  },
  {
   "cell_type": "code",
   "execution_count": 60,
   "metadata": {},
   "outputs": [],
   "source": [
    "if bool_plot == True:\n",
    "    cf.plot_umap_marker(adata_proc[adata_proc.obs['diet']=='hfd_15', ], ['Gfap','Aldh1l1'],\n",
    "                        color_map=mymap, size=20, save=\"_all_cells_hfd15_gfap-aldh.svg\", use_raw = False)"
   ]
  },
  {
   "cell_type": "markdown",
   "metadata": {},
   "source": [
    "## UMAP with assigned cell types"
   ]
  },
  {
   "cell_type": "code",
   "execution_count": 61,
   "metadata": {},
   "outputs": [],
   "source": [
    "new_cluster_names = {\n",
    "    '0': \"astrocytes\",\n",
    "    '1': \"ependymal\",\n",
    "    '2': \"ependymal\",\n",
    "    '3': \"neurons\",\n",
    "    '4': \"ng2\",\n",
    "    '5': \"endothelial\",\n",
    "    '6': \"oligodendrocytes\",\n",
    "    '7': \"microglia\",\n",
    "    '8': \"neurons\",\n",
    "    '9': \"microglia\",\n",
    "    '10': \"mural\",\n",
    "    '11': \"oligodendrocytes\",\n",
    "    '12': \"oligodendrocytes\"\n",
    "}\n",
    "adata_proc.obs['celltypes'] = [new_cluster_names[x] for x in  adata_proc.obs['louvain']]"
   ]
  },
  {
   "cell_type": "code",
   "execution_count": 62,
   "metadata": {},
   "outputs": [],
   "source": [
    "if bool_plot == True:\n",
    "    cf.plot_umap_marker(adata_proc, ['celltypes'], save=\"_all_cells_celltypes.svg\", use_raw=False)"
   ]
  },
  {
   "cell_type": "code",
   "execution_count": 63,
   "metadata": {},
   "outputs": [],
   "source": [
    "if bool_plot == True:\n",
    "    cf.plot_umap_marker(adata_proc, ['celltypes'], save=\"_all_cells_celltypes_ondata.svg\", use_raw=False, legend_loc='on data')"
   ]
  },
  {
   "cell_type": "code",
   "execution_count": 64,
   "metadata": {},
   "outputs": [],
   "source": [
    "if bool_plot == True:\n",
    "    sc.pl.paga(adata_proc, save=\"_all_cells_celltypes.svg\")"
   ]
  },
  {
   "cell_type": "markdown",
   "metadata": {},
   "source": [
    "# Astorcytes only"
   ]
  },
  {
   "cell_type": "markdown",
   "metadata": {},
   "source": [
    "<a id=\"Embedding\"></a>"
   ]
  },
  {
   "cell_type": "markdown",
   "metadata": {},
   "source": [
    "## Embedding and Clustering"
   ]
  },
  {
   "cell_type": "code",
   "execution_count": 65,
   "metadata": {},
   "outputs": [
    {
     "name": "stderr",
     "output_type": "stream",
     "text": [
      "running PAGA\n",
      "    finished: added\n",
      "    'paga/connectivities', connectivities adjacency (adata.uns)\n",
      "    'paga/connectivities_tree', connectivities subtree (adata.uns) (0:00:00)\n"
     ]
    }
   ],
   "source": [
    "if bool_recomp == True:  \n",
    "    cell_ids_astro = np.asarray(adata_proc.obs_names)[\n",
    "        [x in ['astrocytes'] \n",
    "         for x in np.asarray(adata_proc.obs['celltypes'].values)]\n",
    "    ]\n",
    "    adata_astro = adata_raw[cell_ids_astro,:].copy()\n",
    "    adata_astro.obs['n_genes'] = (adata_astro.X > 0).sum(1)\n",
    "    adata_astro.obs['n_counts'] = adata_astro.X.sum(1)\n",
    "    mt_gene_mask = [gene.startswith('mt-') for gene in adata_astro.var_names]\n",
    "    temp_mt_sum = adata_astro[:,mt_gene_mask].X.sum(1)\n",
    "    temp_mt_sum = np.squeeze(np.asarray(temp_mt_sum))\n",
    "    temp_n_counts = adata_astro.obs['n_counts']\n",
    "    adata_astro.obs['mt_frac'] = temp_mt_sum/adata_astro.obs['n_counts']\n",
    "    adata_astro.raw = adata_astro\n",
    "    sc.pp.normalize_per_cell(adata_astro)\n",
    "    sc.pp.log1p(adata_astro)\n",
    "    sc.pp.highly_variable_genes(adata_astro,n_top_genes=4000)\n",
    "    sc.pl.highly_variable_genes(adata_astro)\n",
    "    adata_astro.X = adata_astro.X.toarray()\n",
    "    \n",
    "    sc.pp.pca(adata_astro, n_comps=50, use_highly_variable = True, random_state=0, svd_solver='arpack')\n",
    "    sc.pp.neighbors(adata_astro, n_neighbors=100, knn=True, method='umap', n_pcs=50, random_state=0)\n",
    "    sc.tl.umap(adata_astro)\n",
    "    if bool_recluster == True:\n",
    "        sc.tl.louvain(adata_astro, resolution=1, flavor='vtraag', random_state=0)\n",
    "        pd.DataFrame(adata_astro.obs).to_csv(path_or_buf=sc_settings_writedir+'obs_adata_astro.csv')\n",
    "    else:\n",
    "        obs = pd.read_csv(sc_settings_writedir+'obs_adata_astro.csv')\n",
    "        adata_astro.obs['louvain']=pd.Series(obs['louvain'].values, dtype = 'category')\n",
    "    sc.write(sc_settings_writedir+'adata_astro.h5ad',adata_astro)\n",
    "else:\n",
    "    adata_astro = sc.read(sc_settings_writedir+'adata_astro.h5ad') \n",
    "sc.tl.paga(adata_astro)"
   ]
  },
  {
   "cell_type": "code",
   "execution_count": 66,
   "metadata": {},
   "outputs": [],
   "source": [
    "if bool_plot == True:\n",
    "    cf.plot_umap_marker(adata_astro, ['louvain'], save=\"_astrocyte_louvain.svg\", use_raw=False, size=30)"
   ]
  },
  {
   "cell_type": "code",
   "execution_count": 67,
   "metadata": {},
   "outputs": [],
   "source": [
    "if bool_plot == True:\n",
    "    cf.plot_umap_marker(adata_astro, ['louvain'], save=\"_astrocyte_louvain_ondata.svg\", use_raw=False, legend_loc='on data', size=30)"
   ]
  },
  {
   "cell_type": "code",
   "execution_count": 68,
   "metadata": {},
   "outputs": [],
   "source": [
    "if bool_plot == True:\n",
    "    cf.plot_umap_marker(adata_astro, ['n_genes','n_counts','mt_frac'], color_map=mymap, size=30, save=\"_astrocyte_n_gene_count_mt.svg\", use_raw = False)"
   ]
  },
  {
   "cell_type": "markdown",
   "metadata": {},
   "source": [
    "A high fraction of mitochondrial RNA is in cluster 3 and around the central cluster 8."
   ]
  },
  {
   "cell_type": "code",
   "execution_count": 69,
   "metadata": {},
   "outputs": [],
   "source": [
    "if bool_plot == True:\n",
    "    cf.plot_umap_marker(adata_astro, ['Gfap','Aldh1l1'], color_map=mymap, size=30, save=\"_astrocyte_markers.svg\", use_raw = False)"
   ]
  },
  {
   "cell_type": "code",
   "execution_count": 70,
   "metadata": {},
   "outputs": [],
   "source": [
    "if bool_plot == True:\n",
    "    cf.plot_umap_marker(adata_astro, ['diet'], save=\"_astrocytes_diet.svg\", size=30, use_raw=False)"
   ]
  },
  {
   "cell_type": "code",
   "execution_count": 71,
   "metadata": {},
   "outputs": [],
   "source": [
    "if bool_plot == True:\n",
    "    sc.pl.paga(adata_astro, save=\"_astrocytes.svg\")"
   ]
  },
  {
   "cell_type": "code",
   "execution_count": 72,
   "metadata": {},
   "outputs": [],
   "source": [
    "if bool_plot == True:\n",
    "    cf.cell_percent(adata_astro, cluster='louvain', condition='diet', xlabel='clusters', ylabel='percentage', \n",
    "                 title='barplot_astrocytes_diet_per_clusters', save=sc_settings_figdir, table=False)"
   ]
  },
  {
   "cell_type": "code",
   "execution_count": 73,
   "metadata": {},
   "outputs": [],
   "source": [
    "if bool_plot == True:\n",
    "    aldh_pos = adata_astro.obs_names[np.asarray(adata_astro[:,'Aldh1l1'].X).flatten()>0]\n",
    "    gfap_pos = adata_astro.obs_names[np.asarray(adata_astro[:,'Gfap'].X).flatten()>0]\n",
    "    glast_pos = adata_astro.obs_names[np.asarray(adata_astro[:,'Slc1a3'].X).flatten()>0]\n",
    "\n",
    "    matplotlib_venn.venn3([\n",
    "        set(aldh_pos),\n",
    "        set(gfap_pos),\n",
    "        set(glast_pos)\n",
    "    ], set_labels = (\"Aldh1l1\", \"Gfap\", \"Slc1a3\"))\n",
    "    plt.savefig(sc_settings_figdir+'venndiagram_astrocytes_gfap-aldh-glast.svg')"
   ]
  },
  {
   "cell_type": "code",
   "execution_count": 74,
   "metadata": {},
   "outputs": [],
   "source": [
    "if bool_plot == True:\n",
    "    aldh_pos = adata_astro.obs_names[np.asarray(adata_astro[:,'Aldh1l1'].X).flatten()>0]\n",
    "    gfap_pos = adata_astro.obs_names[np.asarray(adata_astro[:,'Gfap'].X).flatten()>0]\n",
    "\n",
    "    matplotlib_venn.venn2([\n",
    "        set(aldh_pos),\n",
    "        set(gfap_pos)\n",
    "    ], set_labels = (\"Aldh1l1\", \"Gfap\"), set_colors = ('lime','magenta'))\n",
    "    plt.savefig(sc_settings_figdir+'venndiagram_astrocytes_gfap-aldh.svg')"
   ]
  },
  {
   "cell_type": "markdown",
   "metadata": {},
   "source": [
    "### Count distribution for Aldh1l1 and Gfap"
   ]
  },
  {
   "cell_type": "markdown",
   "metadata": {},
   "source": [
    "#### Single and double positive counts¶"
   ]
  },
  {
   "cell_type": "markdown",
   "metadata": {},
   "source": [
    "Define booleans for single and double positive counts of Gfap and Aldh1l1"
   ]
  },
  {
   "cell_type": "code",
   "execution_count": 75,
   "metadata": {},
   "outputs": [],
   "source": [
    "non_boolean_int = np.array((adata_astro[:,'Gfap'].X<=0) & (adata_astro[:,'Aldh1l1'].X<=0), dtype=int)\n",
    "\n",
    "gfap_single_boolean = (adata_astro[:,'Gfap'].X>0) & (adata_astro[:,'Aldh1l1'].X<=0)\n",
    "aldh_single_boolean = (adata_astro[:,'Aldh1l1'].X>0) & (adata_astro[:,'Gfap'].X<=0) \n",
    "single_boolean_int = np.array((gfap_single_boolean | aldh_single_boolean), dtype=int)*1\n",
    "\n",
    "gfap_aldh_double_boolean = (adata_astro[:,'Gfap'].X>0) & (adata_astro[:,'Aldh1l1'].X>0)\n",
    "double_boolean_int = np.array((gfap_aldh_double_boolean), dtype=int)*2\n",
    "\n",
    "non_boolean_int *=0"
   ]
  },
  {
   "cell_type": "code",
   "execution_count": 76,
   "metadata": {},
   "outputs": [
    {
     "name": "stdout",
     "output_type": "stream",
     "text": [
      "Gfap Single Positive  682\n",
      "Aldh1l1 Single Positive  850\n",
      "Gfap/Aldh1l1 Double Positive  625\n"
     ]
    }
   ],
   "source": [
    "gfap_single_pos = adata_astro[:,'Gfap'].X[gfap_single_boolean]\n",
    "aldh_single_pos = adata_astro[:,'Aldh1l1'].X[aldh_single_boolean]\n",
    "\n",
    "print('Gfap Single Positive ',len(gfap_single_pos))\n",
    "print('Aldh1l1 Single Positive ',len(aldh_single_pos))\n",
    "\n",
    "gfap_aldh_double_pos = adata_astro[:,'Gfap'].X[gfap_aldh_double_boolean]\n",
    "\n",
    "print('Gfap/Aldh1l1 Double Positive ',len(gfap_aldh_double_pos))\n"
   ]
  },
  {
   "cell_type": "markdown",
   "metadata": {},
   "source": [
    "<a id=\"adipmarkers\"></a>"
   ]
  },
  {
   "cell_type": "code",
   "execution_count": 77,
   "metadata": {},
   "outputs": [],
   "source": [
    "adata_astro.obs['sdt_pos'] = np.array((non_boolean_int + single_boolean_int + double_boolean_int), dtype=str)\n",
    "adata_astro.obs['s_pos'] = np.array((np.array(gfap_single_boolean, dtype=int)*1)+(np.array(aldh_single_boolean, dtype=int)*2), dtype=str)\n",
    "adata_astro.obs['d_pos'] = np.array((np.array(gfap_aldh_double_boolean, dtype=int)*1), dtype=str)\n",
    "\n",
    "# make them categorical\n",
    "adata_astro.obs['sdt_pos'] = pd.Series(adata_astro.obs['sdt_pos'], dtype=\"category\")\n",
    "adata_astro.obs['s_pos'] = pd.Series(adata_astro.obs['s_pos'], dtype=\"category\")\n",
    "adata_astro.obs['d_pos'] = pd.Series(adata_astro.obs['d_pos'], dtype=\"category\")"
   ]
  },
  {
   "cell_type": "code",
   "execution_count": 78,
   "metadata": {},
   "outputs": [],
   "source": [
    "if bool_plot == True:\n",
    "    new_cluster_names = ['Non Positives','Single Positives','Double Positives']\n",
    "    adata_astro.rename_categories('sdt_pos', new_cluster_names)\n",
    "    sc.pl.umap(adata_astro, color=['sdt_pos'], size=30, palette=[\"lightgrey\",\"tomato\",\"blue\"], \n",
    "               save=\"_astrocytes_gfap-aldh_single_double_positiv.svg\")\n",
    "    new_cluster_names = ['Non Single Positives','Gfap Single Positives','Aldh1l1 Single Positives']\n",
    "    adata_astro.rename_categories('s_pos', new_cluster_names)\n",
    "    sc.pl.umap(adata_astro[adata_astro.obs['s_pos']!='Non Single Positives'], color=['s_pos'],\n",
    "               size=30, palette=[\"magenta\",\"lime\"], save=\"_astrocytes_gfap-aldh_single_positiv.svg\")\n",
    "    new_cluster_names = ['Non Double Positives','Gfap/Aldh1l1 Double Positive']\n",
    "    adata_astro.rename_categories('d_pos', new_cluster_names)\n",
    "    sc.pl.umap(adata_astro[adata_astro.obs['d_pos']!='Non Double Positives'], color=['d_pos'], size=30,\n",
    "              save=\"_astrocytes_gfap-aldh_doble_positiv.svg\")"
   ]
  },
  {
   "cell_type": "markdown",
   "metadata": {},
   "source": [
    "### Astrocyte chow diet"
   ]
  },
  {
   "cell_type": "code",
   "execution_count": 79,
   "metadata": {},
   "outputs": [],
   "source": [
    "if bool_plot == True:\n",
    "    fig, (ax1, ax2) = plt.subplots(1, 2, figsize=(12,4), gridspec_kw={'wspace':0.8})\n",
    "    ax1_dict = ax1.scatter(adata_astro[adata_astro.obs['diet']=='chow', ][:, ['Gfap']].X, \n",
    "                           adata_astro[adata_astro.obs['diet']=='chow', ][:, ['Aldh1l1']].X, \n",
    "                           s=9, cmap='seismic', c='dodgerblue')\n",
    "    ax1.set_title('chow')\n",
    "    ax1.set_ylabel('Gfap')\n",
    "    ax1.set_xlabel('Aldh1l1')\n",
    "    ax2_dict = sc.pl.umap(adata_astro[adata_astro.obs['diet']=='chow', ], color=['louvain'], size=30, ax=ax2, show=False)\n",
    "    plt.savefig(sc_settings_figdir+'gfap-aldh_astrocytes_chow.svg')"
   ]
  },
  {
   "cell_type": "code",
   "execution_count": 80,
   "metadata": {},
   "outputs": [],
   "source": [
    "if bool_plot == True:\n",
    "    cf.plot_umap_marker(adata_astro, ['Gfap', 'Aldh1l1'], save=\"_astrocyte_chow_gfap-aldh.svg\", size=30, \n",
    "                        color_map=mymap, use_raw=False)"
   ]
  },
  {
   "cell_type": "code",
   "execution_count": 81,
   "metadata": {},
   "outputs": [],
   "source": [
    "if bool_plot == True:\n",
    "    aldh_pos = adata_astro[adata_astro.obs['diet']=='chow', ].obs_names[np.asarray(adata_astro[adata_astro.obs['diet']=='chow', ][:,'Aldh1l1'].X).flatten()>0]\n",
    "    gfap_pos = adata_astro[adata_astro.obs['diet']=='chow', ].obs_names[np.asarray(adata_astro[adata_astro.obs['diet']=='chow', ][:,'Gfap'].X).flatten()>0]\n",
    "\n",
    "    matplotlib_venn.venn2([\n",
    "        set(aldh_pos),\n",
    "        set(gfap_pos)\n",
    "    ], set_labels = (\"Aldh1l1\", \"Gfap\"), set_colors = ('lime','magenta'))\n",
    "    plt.savefig(sc_settings_figdir+'venn_diagram_astrocytes_chow_gfap-aldh.svg')"
   ]
  },
  {
   "cell_type": "markdown",
   "metadata": {},
   "source": [
    "### Astrocyte hfd_5 diet"
   ]
  },
  {
   "cell_type": "code",
   "execution_count": 82,
   "metadata": {},
   "outputs": [],
   "source": [
    "if bool_plot == True:\n",
    "    fig, (ax1, ax2) = plt.subplots(1, 2, figsize=(12,4), gridspec_kw={'wspace':0.8})\n",
    "    ax1_dict = ax1.scatter(adata_astro[adata_astro.obs['diet']=='hfd_5', ][:, ['Gfap']].X, \n",
    "                           adata_astro[adata_astro.obs['diet']=='hfd_5', ][:, ['Aldh1l1']].X, \n",
    "                           s=9, cmap='seismic', c='darkorange')\n",
    "    ax1.set_title('hfd_5')\n",
    "    ax1.set_ylabel('Gfap')\n",
    "    ax1.set_xlabel('Aldh1l1')\n",
    "    ax2_dict = sc.pl.umap(adata_astro[adata_astro.obs['diet']=='hfd_5', ], color=['louvain'], size=30, ax=ax2, show=False)\n",
    "    plt.savefig(sc_settings_figdir+'gfap-aldh_astrocytes_hfd5.svg')"
   ]
  },
  {
   "cell_type": "code",
   "execution_count": 83,
   "metadata": {},
   "outputs": [],
   "source": [
    "if bool_plot == True:\n",
    "    cf.plot_umap_marker(adata_astro[adata_astro.obs['diet']=='hfd_5', ], ['Gfap', 'Aldh1l1'],\n",
    "                        save=\"_astrocyte_hfd5_gfap-aldh.svg\", size=30, color_map=mymap, use_raw=False)"
   ]
  },
  {
   "cell_type": "code",
   "execution_count": 84,
   "metadata": {},
   "outputs": [],
   "source": [
    "if bool_plot == True:\n",
    "    aldh_pos = adata_astro[adata_astro.obs['diet']=='hfd_5', ].obs_names[np.asarray(adata_astro[adata_astro.obs['diet']=='hfd_5', ][:,'Aldh1l1'].X).flatten()>0]\n",
    "    gfap_pos = adata_astro[adata_astro.obs['diet']=='hfd_5', ].obs_names[np.asarray(adata_astro[adata_astro.obs['diet']=='hfd_5', ][:,'Gfap'].X).flatten()>0]\n",
    "\n",
    "    matplotlib_venn.venn2([\n",
    "        set(aldh_pos),\n",
    "        set(gfap_pos)\n",
    "    ], set_labels = (\"Aldh1l1\", \"Gfap\"), set_colors = ('lime','magenta'))\n",
    "    plt.savefig(sc_settings_figdir+'venn_diagram_astrocytes_hfd5_gfap-aldh.svg')"
   ]
  },
  {
   "cell_type": "markdown",
   "metadata": {},
   "source": [
    "### Astrocyte hfd_15 diet"
   ]
  },
  {
   "cell_type": "code",
   "execution_count": 85,
   "metadata": {},
   "outputs": [],
   "source": [
    "if bool_plot == True:\n",
    "    fig, (ax1, ax2) = plt.subplots(1, 2, figsize=(12,4), gridspec_kw={'wspace':0.8})\n",
    "    ax1_dict = ax1.scatter(adata_astro[adata_astro.obs['diet']=='hfd_15', ][:, ['Gfap']].X, \n",
    "                           adata_astro[adata_astro.obs['diet']=='hfd_15', ][:, ['Aldh1l1']].X, \n",
    "                           s=9, cmap='seismic', c='green')\n",
    "    ax1.set_title('hfd_15')\n",
    "    ax1.set_ylabel('Gfap')\n",
    "    ax1.set_xlabel('Aldh1l1')\n",
    "    ax2_dict = sc.pl.umap(adata_astro[adata_astro.obs['diet']=='hfd_15', ], color=['louvain'], size=30, ax=ax2, show=False)\n",
    "    plt.savefig(sc_settings_figdir+'gfap-aldh_astrocytes_hfd15.svg')"
   ]
  },
  {
   "cell_type": "code",
   "execution_count": 86,
   "metadata": {},
   "outputs": [],
   "source": [
    "if bool_plot == True:\n",
    "    cf.plot_umap_marker(adata_astro[adata_astro.obs['diet']=='hfd_15', ], ['Gfap', 'Aldh1l1'],\n",
    "                        save=\"_astrocyte_hfd15_gfap-aldh.svg\", size=30, color_map=mymap, use_raw=False)"
   ]
  },
  {
   "cell_type": "code",
   "execution_count": 87,
   "metadata": {},
   "outputs": [],
   "source": [
    "if bool_plot == True:\n",
    "    aldh_pos = adata_astro[adata_astro.obs['diet']=='hfd_15', ].obs_names[np.asarray(adata_astro[adata_astro.obs['diet']=='hfd_15', ][:,'Aldh1l1'].X).flatten()>0]\n",
    "    gfap_pos = adata_astro[adata_astro.obs['diet']=='hfd_15', ].obs_names[np.asarray(adata_astro[adata_astro.obs['diet']=='hfd_15', ][:,'Gfap'].X).flatten()>0]\n",
    "\n",
    "    matplotlib_venn.venn2([\n",
    "        set(aldh_pos),\n",
    "        set(gfap_pos)\n",
    "    ], set_labels = (\"Aldh1l1\", \"Gfap\"), set_colors = ('lime','magenta')) \n",
    "    plt.savefig(sc_settings_figdir+'venn_diagram_astrocytes_hfd15_gfap-aldh.svg')"
   ]
  },
  {
   "cell_type": "markdown",
   "metadata": {},
   "source": [
    "## Cells expression Gfap and Aldh1l1"
   ]
  },
  {
   "cell_type": "code",
   "execution_count": 88,
   "metadata": {},
   "outputs": [],
   "source": [
    "adata_astro.obs['gfap_aldh'] = np.select([((adata_astro[:,'Gfap'].X>0) & (adata_astro[:,'Aldh1l1'].X==0)), \n",
    "                                          ((adata_astro[:,'Gfap'].X==0) & (adata_astro[:,'Aldh1l1'].X>0)),\n",
    "                                          ((adata_astro[:,'Gfap'].X>0) & (adata_astro[:,'Aldh1l1'].X>0)), \n",
    "                                          ((adata_astro[:,'Gfap'].X==0) & (adata_astro[:,'Aldh1l1'].X==0))],\n",
    "                                          ['gfap_only','aldh_only','both','none'])"
   ]
  },
  {
   "cell_type": "markdown",
   "metadata": {},
   "source": [
    "### Chow"
   ]
  },
  {
   "cell_type": "code",
   "execution_count": 89,
   "metadata": {},
   "outputs": [],
   "source": [
    "if bool_plot==True:\n",
    "    data = adata_astro[adata_astro.obs['diet']=='chow', ].obs['gfap_aldh'].value_counts().sort_index()\n",
    "    def func(pct, allvals):\n",
    "        absolute = int(pct/100.*np.sum(allvals))\n",
    "        return \"{:.1f}%\\n({:d})\".format(pct, absolute)\n",
    "\n",
    "    fig, (ax0, ax1) = plt.subplots(ncols=2, figsize=(16, 6), subplot_kw=dict(aspect=\"equal\"))\n",
    "    ax0 = sc.pl.umap(adata_astro[adata_astro.obs['diet']=='chow', ], \n",
    "                     color=['gfap_aldh'], size=30, ax=ax0, show=False, palette=['green','blue','magenta','gainsboro'])\n",
    "    wedges, texts, autotexts = ax1.pie(data, autopct=lambda pct: func(pct, data), textprops=dict(color=\"w\"), \n",
    "                                       colors=['green','blue','magenta','gainsboro'])\n",
    "    ax1.set_title('Chow diet cells - markers share')\n",
    "\n",
    "    fig.savefig(sc_settings_figdir+'umap_pie_chart_astrocyte_chow_gfap-aldh.svg')"
   ]
  },
  {
   "cell_type": "markdown",
   "metadata": {},
   "source": [
    "### HFD_5"
   ]
  },
  {
   "cell_type": "code",
   "execution_count": 90,
   "metadata": {},
   "outputs": [],
   "source": [
    "if bool_plot==True:\n",
    "    data = adata_astro[adata_astro.obs['diet']=='hfd_5', ].obs['gfap_aldh'].value_counts().sort_index()\n",
    "    def func(pct, allvals):\n",
    "        absolute = int(pct/100.*np.sum(allvals))\n",
    "        return \"{:.1f}%\\n({:d})\".format(pct, absolute)\n",
    "\n",
    "    fig, (ax0, ax1) = plt.subplots(ncols=2, figsize=(16, 6), subplot_kw=dict(aspect=\"equal\"))\n",
    "    ax0 = sc.pl.umap(adata_astro[adata_astro.obs['diet']=='hfd_5', ], \n",
    "                     color=['gfap_aldh'], size=30, ax=ax0, show=False)\n",
    "    wedges, texts, autotexts = ax1.pie(data, autopct=lambda pct: func(pct, data), textprops=dict(color=\"w\"))\n",
    "    ax1.set_title('Chow diet cells - markers share')\n",
    "\n",
    "    fig.savefig(sc_settings_figdir+'umap_pie_chart_astrocyte_hfd5_gfap-aldh.svg')"
   ]
  },
  {
   "cell_type": "markdown",
   "metadata": {},
   "source": [
    "### HFD_15"
   ]
  },
  {
   "cell_type": "code",
   "execution_count": 91,
   "metadata": {},
   "outputs": [],
   "source": [
    "if bool_plot==True:   \n",
    "    data = adata_astro[adata_astro.obs['diet']=='hfd_15', ].obs['gfap_aldh'].value_counts().sort_index()\n",
    "    def func(pct, allvals):\n",
    "        absolute = int(pct/100.*np.sum(allvals))\n",
    "        return \"{:.1f}%\\n({:d})\".format(pct, absolute)\n",
    "\n",
    "    fig, (ax0, ax1) = plt.subplots(ncols=2, figsize=(16, 6), subplot_kw=dict(aspect=\"equal\"))\n",
    "    ax0 = sc.pl.umap(adata_astro[adata_astro.obs['diet']=='hfd_15', ], \n",
    "                     color=['gfap_aldh'], size=30, ax=ax0, show=False)\n",
    "    wedges, texts, autotexts = ax1.pie(data, autopct=lambda pct: func(pct, data), textprops=dict(color=\"w\"))\n",
    "    ax1.set_title('Chow diet cells - markers share')\n",
    "\n",
    "    fig.savefig(sc_settings_figdir+'umap_pie_chart_astrocyte_hfd15_gfap-aldh.svg')"
   ]
  },
  {
   "cell_type": "code",
   "execution_count": 92,
   "metadata": {},
   "outputs": [],
   "source": [
    "if bool_plot == True:\n",
    "    cf.cell_percent(adata_astro, cluster='diet', condition='gfap_aldh', xlabel='clusters', ylabel='percentage', \n",
    "                 title='barplot_per_diet_astrocytes_gfap-aldh', save=sc_settings_figdir, table=False)"
   ]
  },
  {
   "cell_type": "markdown",
   "metadata": {},
   "source": [
    "## Per marker and diet"
   ]
  },
  {
   "cell_type": "code",
   "execution_count": 93,
   "metadata": {},
   "outputs": [],
   "source": [
    "adata_astro.obs['gfap_only'] = adata_astro.obs['gfap_aldh']=='gfap_only'\n",
    "adata_astro.obs['aldh_only'] = adata_astro.obs['gfap_aldh']=='aldh_only'\n",
    "adata_astro.obs['both'] = adata_astro.obs['gfap_aldh']=='both'"
   ]
  },
  {
   "cell_type": "code",
   "execution_count": 94,
   "metadata": {},
   "outputs": [],
   "source": [
    "# make them categorical\n",
    "adata_astro.obs['gfap_only'] = pd.Series(adata_astro.obs['gfap_only'], dtype=\"category\")\n",
    "adata_astro.obs['aldh_only'] = pd.Series(adata_astro.obs['aldh_only'], dtype=\"category\")\n",
    "adata_astro.obs['both'] = pd.Series(adata_astro.obs['both'], dtype=\"category\")"
   ]
  },
  {
   "cell_type": "code",
   "execution_count": 95,
   "metadata": {},
   "outputs": [],
   "source": [
    "adata_astro.rename_categories('gfap_only', ['none','gfap_only'])"
   ]
  },
  {
   "cell_type": "code",
   "execution_count": 96,
   "metadata": {},
   "outputs": [],
   "source": [
    "adata_astro.rename_categories('aldh_only', ['none','aldh_only'])\n",
    "adata_astro.rename_categories('both', ['none','both'])"
   ]
  },
  {
   "cell_type": "markdown",
   "metadata": {},
   "source": [
    "### chow"
   ]
  },
  {
   "cell_type": "code",
   "execution_count": 97,
   "metadata": {},
   "outputs": [],
   "source": [
    "if bool_plot==True:\n",
    "    cf.plot_umap_marker(adata_astro[adata_astro.obs['diet']=='chow', ], ['gfap_only'], palette=['gainsboro','magenta'],\n",
    "                        save=\"_astrocytes_gfap_only_chow.svg\", size=30, color_map=mymap, use_raw=False)"
   ]
  },
  {
   "cell_type": "code",
   "execution_count": 98,
   "metadata": {},
   "outputs": [],
   "source": [
    "if bool_plot==True:  \n",
    "    cf.plot_umap_marker(adata_astro[adata_astro.obs['diet']=='chow', ], ['aldh_only'], palette=['gainsboro','green'],\n",
    "                        save=\"_astrocytes_aldh_only_chow.svg\", size=30, color_map=mymap, use_raw=False)"
   ]
  },
  {
   "cell_type": "code",
   "execution_count": 99,
   "metadata": {},
   "outputs": [],
   "source": [
    "if bool_plot==True:\n",
    "    cf.plot_umap_marker(adata_astro[adata_astro.obs['diet']=='chow', ], ['both'], palette=['gainsboro','blue'],\n",
    "                        save=\"_astrocytes_both_chow.svg\", size=30, color_map=mymap, use_raw=False)"
   ]
  },
  {
   "cell_type": "code",
   "execution_count": 100,
   "metadata": {},
   "outputs": [],
   "source": [
    "if bool_plot==True:\n",
    "    cf.plot_umap_marker(adata_astro[adata_astro.obs['diet']=='chow', ], ['gfap_aldh'], \n",
    "                        palette=['green','blue','magenta','gainsboro'],\n",
    "                        save=\"_astrocytes_gfap_aldh_chow.svg\", size=30, color_map=mymap, use_raw=False)"
   ]
  },
  {
   "cell_type": "markdown",
   "metadata": {},
   "source": [
    "### Differential gene expression - chow"
   ]
  },
  {
   "cell_type": "code",
   "execution_count": 101,
   "metadata": {},
   "outputs": [],
   "source": [
    "astro_0 = adata_astro[:,~adata_astro.var.index.isin(['Gfap','Aldh1l1'])]"
   ]
  },
  {
   "cell_type": "code",
   "execution_count": 102,
   "metadata": {},
   "outputs": [],
   "source": [
    "if bool_plot==True:\n",
    "    astro0 = astro_0[(astro_0.obs['diet']=='chow') & \n",
    "                    (astro_0.obs['gfap_aldh'].isin(['aldh_only','gfap_only'])), ]\n",
    "    dets_mark = de.test.t_test(data=astro0, sample_description=astro0.obs, grouping=\"gfap_aldh\", is_logged=False)\n",
    "    dets_mark_summary = dets_mark.summary(mean_thres=np.log(0.01), qval_thres=0.1, fc_lower_thres=1, fc_upper_thres=1)\n",
    "    dets_mark_summary\n",
    "    #dets_age_summary.to_csv(path_or_buf=dir_tables+\"DE_preadip_by_age.tab\", sep=\"\\t\")\n",
    "    dets_mark.plot_volcano(alpha=0.05,corrected_pval=False, min_fc=1, size=15, log10_p_threshold=-50, \n",
    "                           log2_fc_threshold=3.7, save=sc_settings_figdir+\"dge_volcano_chow_aldh-gfap\",\n",
    "                           suffix=\"_astrocytes.svg\")"
   ]
  },
  {
   "cell_type": "code",
   "execution_count": 103,
   "metadata": {},
   "outputs": [],
   "source": [
    "if bool_plot==True:\n",
    "    astro0 = astro_0[(astro_0.obs['diet']=='chow') & \n",
    "                    (astro_0.obs['gfap_aldh'].isin(['both','gfap_only'])), ]\n",
    "    dets_mark = de.test.t_test(data=astro0, sample_description=astro0.obs, grouping=\"gfap_aldh\", is_logged=False)\n",
    "    dets_mark_summary = dets_mark.summary(mean_thres=np.log(0.01), qval_thres=0.1, fc_lower_thres=1, fc_upper_thres=1)\n",
    "    #dets_age_summary.to_csv(path_or_buf=dir_tables+\"DE_preadip_by_age.tab\", sep=\"\\t\")\n",
    "    dets_mark.plot_volcano(alpha=0.05,corrected_pval=False, min_fc=1, size=15, log10_p_threshold=-50,\n",
    "                           log2_fc_threshold=3.5, save=sc_settings_figdir+\"dge_volcano_chow_both-gfap\",\n",
    "                           suffix=\"_astrocytes.svg\")"
   ]
  },
  {
   "cell_type": "code",
   "execution_count": 104,
   "metadata": {},
   "outputs": [],
   "source": [
    "if bool_plot==True:\n",
    "    astro0 = astro_0[(astro_0.obs['diet']=='chow') & \n",
    "                    (astro_0.obs['gfap_aldh'].isin(['aldh_only','both'])), ]\n",
    "    dets_mark = de.test.t_test(data=astro0, sample_description=astro0.obs, grouping=\"gfap_aldh\", is_logged=False)\n",
    "    dets_mark_summary = dets_mark.summary(mean_thres=np.log(0.01), qval_thres=0.1, fc_lower_thres=1, fc_upper_thres=1)\n",
    "    #dets_age_summary.to_csv(path_or_buf=dir_tables+\"DE_preadip_by_age.tab\", sep=\"\\t\")\n",
    "    dets_mark.plot_volcano(alpha=0.05, corrected_pval=False, min_fc=1, size=15, log10_p_threshold=-50, \n",
    "                           log2_fc_threshold=3.5, save=sc_settings_figdir+\"dge_volcano_chow_aldh-both\",\n",
    "                           suffix=\"_astrocytes.svg\")"
   ]
  },
  {
   "cell_type": "markdown",
   "metadata": {},
   "source": [
    "### hfd 5"
   ]
  },
  {
   "cell_type": "code",
   "execution_count": 105,
   "metadata": {},
   "outputs": [],
   "source": [
    "if bool_plot==True:\n",
    "    cf.plot_umap_marker(adata_astro[adata_astro.obs['diet']=='hfd_5', ], ['gfap_only'], palette=['gainsboro','magenta'],\n",
    "                        save=\"_astrocytes_gfap_only_hfd5.svg\", size=30, color_map=mymap, use_raw=False)"
   ]
  },
  {
   "cell_type": "code",
   "execution_count": 106,
   "metadata": {},
   "outputs": [],
   "source": [
    "if bool_plot==True:\n",
    "    cf.plot_umap_marker(adata_astro[adata_astro.obs['diet']=='hfd_5', ], ['aldh_only'], palette=['gainsboro','green'],\n",
    "                        save=\"_astrocytes_aldh_only_hfd5.svg\", size=30, color_map=mymap, use_raw=False)"
   ]
  },
  {
   "cell_type": "code",
   "execution_count": 107,
   "metadata": {},
   "outputs": [],
   "source": [
    "if bool_plot==True: \n",
    "    cf.plot_umap_marker(adata_astro[adata_astro.obs['diet']=='hfd_5', ], ['both'], palette=['gainsboro','blue'],\n",
    "                        save=\"_astrocytes_both_hfd5.svg\", size=30, color_map=mymap, use_raw=False)    "
   ]
  },
  {
   "cell_type": "code",
   "execution_count": 108,
   "metadata": {},
   "outputs": [],
   "source": [
    "if bool_plot==True:\n",
    "    cf.plot_umap_marker(adata_astro[adata_astro.obs['diet']=='hfd_5', ], ['gfap_aldh'], \n",
    "                        palette=['green','blue','magenta','gainsboro'],\n",
    "                        save=\"_astrocytes_gfap_aldh_hfd5.svg\", size=30, color_map=mymap, use_raw=False)"
   ]
  },
  {
   "cell_type": "markdown",
   "metadata": {},
   "source": [
    "### Differential gene expression - hfd_5"
   ]
  },
  {
   "cell_type": "code",
   "execution_count": 109,
   "metadata": {},
   "outputs": [],
   "source": [
    "astro_5 = adata_astro[:,~adata_astro.var.index.isin(['Gfap','Aldh1l1'])]"
   ]
  },
  {
   "cell_type": "code",
   "execution_count": 110,
   "metadata": {},
   "outputs": [],
   "source": [
    "if bool_plot==True:\n",
    "    astro5 = astro_5[(astro_5.obs['diet']=='hfd_5') & \n",
    "                    (astro_5.obs['gfap_aldh'].isin(['aldh_only','gfap_only'])), ]\n",
    "    dets_mark = de.test.t_test(data=astro5, sample_description=astro5.obs, grouping=\"gfap_aldh\", is_logged=False)\n",
    "    dets_mark_summary = dets_mark.summary(mean_thres=np.log(0.01), qval_thres=0.1, fc_lower_thres=1, fc_upper_thres=1)\n",
    "    dets_mark_summary\n",
    "    #dets_age_summary.to_csv(path_or_buf=dir_tables+\"DE_preadip_by_age.tab\", sep=\"\\t\")\n",
    "    dets_mark.plot_volcano(alpha=0.05, corrected_pval=False, min_fc=1, size=15, log10_p_threshold=-50, \n",
    "                           log2_fc_threshold=3.5, save=sc_settings_figdir+\"dge_volcano_hfd5_aldh-gfap\",\n",
    "                           suffix=\"_astrocytes.svg\")"
   ]
  },
  {
   "cell_type": "code",
   "execution_count": 111,
   "metadata": {},
   "outputs": [],
   "source": [
    "if bool_plot==True:\n",
    "    astro5 = astro_5[(astro_5.obs['diet']=='hfd_5') & \n",
    "                    (astro_5.obs['gfap_aldh'].isin(['both','gfap_only'])), ]\n",
    "    dets_mark = de.test.t_test(data=astro5, sample_description=astro5.obs, grouping=\"gfap_aldh\", is_logged=False)\n",
    "    dets_mark_summary = dets_mark.summary(mean_thres=np.log(0.01), qval_thres=0.1, fc_lower_thres=1, fc_upper_thres=1)\n",
    "    #dets_age_summary.to_csv(path_or_buf=dir_tables+\"DE_preadip_by_age.tab\", sep=\"\\t\")\n",
    "    dets_mark.plot_volcano(alpha=0.05, corrected_pval=False, min_fc=1, size=15, log10_p_threshold=-50,\n",
    "                           log2_fc_threshold=3.5, save=sc_settings_figdir+\"dge_volcano_hfd5_both-gfap\",\n",
    "                           suffix=\"_astrocytes.svg\")"
   ]
  },
  {
   "cell_type": "code",
   "execution_count": 112,
   "metadata": {},
   "outputs": [],
   "source": [
    "if bool_plot==True:\n",
    "    astro5 = astro_5[(astro_5.obs['diet']=='hfd_5') & \n",
    "                    (astro_5.obs['gfap_aldh'].isin(['aldh_only','both'])), ]\n",
    "    dets_mark = de.test.t_test(data=astro5, sample_description=astro5.obs, grouping=\"gfap_aldh\", is_logged=False)\n",
    "    dets_mark_summary = dets_mark.summary(mean_thres=np.log(0.01), qval_thres=0.1, fc_lower_thres=1, fc_upper_thres=1)\n",
    "    #dets_age_summary.to_csv(path_or_buf=dir_tables+\"DE_preadip_by_age.tab\", sep=\"\\t\")\n",
    "    dets_mark.plot_volcano(alpha=0.05, corrected_pval=False, min_fc=1, size=15, log10_p_threshold=-50, \n",
    "                           log2_fc_threshold=3.5, save=sc_settings_figdir+\"dge_volcano_hfd5_aldh-both\",\n",
    "                           suffix=\"_astrocytes.svg\")"
   ]
  },
  {
   "cell_type": "markdown",
   "metadata": {},
   "source": [
    "### hfd 15"
   ]
  },
  {
   "cell_type": "code",
   "execution_count": 113,
   "metadata": {},
   "outputs": [],
   "source": [
    "if bool_plot==True:\n",
    "    cf.plot_umap_marker(adata_astro[adata_astro.obs['diet']=='hfd_15', ], ['gfap_only'], palette=['gainsboro','magenta'],\n",
    "                        save=\"_astrocytes_gfap_only_hfd15.svg\", size=30, color_map=mymap, use_raw=False)"
   ]
  },
  {
   "cell_type": "code",
   "execution_count": 114,
   "metadata": {},
   "outputs": [],
   "source": [
    "if bool_plot==True:\n",
    "    cf.plot_umap_marker(adata_astro[adata_astro.obs['diet']=='hfd_15', ], ['aldh_only'], palette=['gainsboro','green'],\n",
    "                        save=\"_astrocytes_aldh_only_hfd15.svg\", size=30, color_map=mymap, use_raw=False)"
   ]
  },
  {
   "cell_type": "code",
   "execution_count": 115,
   "metadata": {},
   "outputs": [],
   "source": [
    "if bool_plot==True:\n",
    "    cf.plot_umap_marker(adata_astro[adata_astro.obs['diet']=='hfd_15', ], ['both'], palette=['gainsboro','blue'],\n",
    "                        save=\"_astrocytes_both_hfd15.svg\", size=30, color_map=mymap, use_raw=False)"
   ]
  },
  {
   "cell_type": "code",
   "execution_count": 116,
   "metadata": {},
   "outputs": [],
   "source": [
    "if bool_plot==True:\n",
    "    cf.plot_umap_marker(adata_astro[adata_astro.obs['diet']=='hfd_15', ], ['gfap_aldh'], \n",
    "                        palette=['green','blue','magenta','gainsboro'],\n",
    "                        save=\"_astrocytes_gfap_aldh_hfd15.svg\", size=30, color_map=mymap, use_raw=False)"
   ]
  },
  {
   "cell_type": "markdown",
   "metadata": {},
   "source": [
    "### Differential gene expression - hfd_15"
   ]
  },
  {
   "cell_type": "code",
   "execution_count": 117,
   "metadata": {},
   "outputs": [],
   "source": [
    "astro_15 = adata_astro[:,~adata_astro.var.index.isin(['Gfap','Aldh1l1'])]"
   ]
  },
  {
   "cell_type": "code",
   "execution_count": 118,
   "metadata": {},
   "outputs": [],
   "source": [
    "if bool_plot==True:\n",
    "    astro15 = astro_15[(astro_15.obs['diet']=='hfd_15') & \n",
    "                    (astro_15.obs['gfap_aldh'].isin(['aldh_only','gfap_only'])), ]\n",
    "    dets_mark = de.test.t_test(data=astro15, sample_description=astro15.obs, grouping=\"gfap_aldh\", is_logged=False)\n",
    "    dets_mark_summary = dets_mark.summary(mean_thres=np.log(0.01), qval_thres=0.1, fc_lower_thres=1, fc_upper_thres=1)\n",
    "    dets_mark_summary\n",
    "    #dets_age_summary.to_csv(path_or_buf=dir_tables+\"DE_preadip_by_age.tab\", sep=\"\\t\")\n",
    "    dets_mark.plot_volcano(alpha=0.05, corrected_pval=False, min_fc=1, size=15, log10_p_threshold=-50,\n",
    "                           log2_fc_threshold=3.5, save=sc_settings_figdir+\"dge_volcano_hfd15_aldh-gfap\",\n",
    "                           suffix=\"_astrocytes.svg\")"
   ]
  },
  {
   "cell_type": "code",
   "execution_count": 119,
   "metadata": {},
   "outputs": [],
   "source": [
    "if bool_plot==True:\n",
    "    astro15 = astro_15[(astro_15.obs['diet']=='hfd_15') & \n",
    "                    (astro_15.obs['gfap_aldh'].isin(['both','gfap_only'])), ]\n",
    "    dets_mark = de.test.t_test(data=astro15, sample_description=astro15.obs, grouping=\"gfap_aldh\", is_logged=False)\n",
    "    dets_mark_summary = dets_mark.summary(mean_thres=np.log(0.01), qval_thres=0.1, fc_lower_thres=1, fc_upper_thres=1)\n",
    "    #dets_age_summary.to_csv(path_or_buf=dir_tables+\"DE_preadip_by_age.tab\", sep=\"\\t\")\n",
    "    dets_mark.plot_volcano(alpha=0.05, corrected_pval=False, min_fc=1, size=15, log10_p_threshold=-50, \n",
    "                           log2_fc_threshold=3.5, save=sc_settings_figdir+\"dge_volcano_hfd15_both-gfap\",\n",
    "                           suffix=\"_astrocytes.svg\")"
   ]
  },
  {
   "cell_type": "code",
   "execution_count": 120,
   "metadata": {},
   "outputs": [],
   "source": [
    "if bool_plot==True:\n",
    "    astro15 = astro_15[(astro_15.obs['diet']=='hfd_15') & \n",
    "                    (astro_15.obs['gfap_aldh'].isin(['aldh_only','both'])), ]\n",
    "    dets_mark = de.test.t_test(data=astro15, sample_description=astro15.obs, grouping=\"gfap_aldh\", is_logged=False)\n",
    "    dets_mark_summary = dets_mark.summary(mean_thres=np.log(0.01), qval_thres=0.1, fc_lower_thres=1, fc_upper_thres=1)\n",
    "    #dets_age_summary.to_csv(path_or_buf=dir_tables+\"DE_preadip_by_age.tab\", sep=\"\\t\")\n",
    "    dets_mark.plot_volcano(alpha=0.05, corrected_pval=False, min_fc=1, size=15, log10_p_threshold=-50, \n",
    "                           log2_fc_threshold=3.5, save=sc_settings_figdir+\"dge_volcano_hfd15_aldh-both\",\n",
    "                           suffix=\"_astrocytes.svg\")"
   ]
  },
  {
   "cell_type": "markdown",
   "metadata": {},
   "source": [
    "# Define Cell Types"
   ]
  },
  {
   "cell_type": "markdown",
   "metadata": {},
   "source": [
    "<a id=\"DE\"></a>"
   ]
  },
  {
   "cell_type": "markdown",
   "metadata": {},
   "source": [
    "## DE Genes"
   ]
  },
  {
   "cell_type": "code",
   "execution_count": 121,
   "metadata": {
    "scrolled": false
   },
   "outputs": [
    {
     "name": "stderr",
     "output_type": "stream",
     "text": [
      "WARNING: Default of the method has been changed to 't-test' from 't-test_overestim_var'\n",
      "ranking genes\n",
      "... storing 'gfap_aldh' as categorical\n",
      "    finished: added to `.uns['rank_genes']`\n",
      "    'names', sorted np.recarray to be indexed by group ids\n",
      "    'scores', sorted np.recarray to be indexed by group ids\n",
      "    'logfoldchanges', sorted np.recarray to be indexed by group ids\n",
      "    'pvals', sorted np.recarray to be indexed by group ids\n",
      "    'pvals_adj', sorted np.recarray to be indexed by group ids (0:00:00)\n"
     ]
    }
   ],
   "source": [
    "sc.tl.rank_genes_groups(adata_astro, groupby='louvain', key_added='rank_genes')\n",
    "\n",
    "if bool_plot==True:\n",
    "    sc.pl.rank_genes_groups(adata_astro, key='rank_genes', groups=['0','1','2'], save=\"_astorcytes_1.svg\")\n",
    "    sc.pl.rank_genes_groups(adata_astro, key='rank_genes', groups=['3','4'], save=\"_astorcytes_2.svg\")\n"
   ]
  },
  {
   "cell_type": "markdown",
   "metadata": {},
   "source": [
    "## Summary heatmap, dotplot and stacked_violin for cluster assignments"
   ]
  },
  {
   "cell_type": "code",
   "execution_count": 122,
   "metadata": {},
   "outputs": [],
   "source": [
    "if bool_plot==True:\n",
    "    sc.pl.heatmap(\n",
    "        adata=adata_astro, \n",
    "        var_names=marker_genes_dict, \n",
    "        groupby=\"louvain\", \n",
    "        use_raw=False, \n",
    "        log=False, \n",
    "        dendrogram=True, \n",
    "        var_group_rotation=90, \n",
    "        show_gene_labels=True, \n",
    "        show=True, \n",
    "        save=\"_astrocytes_celltypes.svg\"\n",
    "    )"
   ]
  },
  {
   "cell_type": "code",
   "execution_count": 123,
   "metadata": {},
   "outputs": [],
   "source": [
    "if bool_plot==True:\n",
    "    sc.pl.dotplot(\n",
    "        adata=adata_astro,\n",
    "        var_names=marker_genes_dict, \n",
    "        groupby='louvain',\n",
    "        use_raw=False, \n",
    "        log=False, \n",
    "        dendrogram=True, \n",
    "        var_group_rotation=90, \n",
    "        show=True, \n",
    "        save=\"_astrocytes_celltypes.svg\")"
   ]
  },
  {
   "cell_type": "code",
   "execution_count": 124,
   "metadata": {},
   "outputs": [],
   "source": [
    "if bool_plot==True:\n",
    "    sc.pl.stacked_violin(\n",
    "        adata=adata_astro, \n",
    "        var_names=marker_genes_dict, \n",
    "        groupby='louvain', \n",
    "        use_raw=False,\n",
    "        dendrogram=True,\n",
    "        cmap='viridis_r',\n",
    "        show=True,\n",
    "        save=\"_astrocytes_celltypes.svg\")"
   ]
  },
  {
   "cell_type": "code",
   "execution_count": 125,
   "metadata": {},
   "outputs": [],
   "source": [
    "if bool_plot==True:\n",
    "    plt.figure(figsize=(7,7))\n",
    "    cell_annotation = sc.tl.marker_gene_overlap(adata_astro, marker_genes_dict, key='rank_genes', \n",
    "                                                normalize='data')\n",
    "    sb.heatmap(cell_annotation, cbar=False, annot=True)\n",
    "    plt.savefig(sc_settings_figdir+'heatmap_astrocytes_rank_genes_cell_annotation.svg')"
   ]
  },
  {
   "cell_type": "code",
   "execution_count": 126,
   "metadata": {},
   "outputs": [],
   "source": [
    "if bool_plot==True:\n",
    "    sc.tl.embedding_density(adata_astro, basis='umap', groupby='diet')\n",
    "    sc.pl.embedding_density(adata_astro, basis='umap', key='umap_density_diet',\n",
    "                            group=['chow', 'hfd_5', 'hfd_15'], bg_dotsize=5, fg_dotsize=30, save=\"astrocytes.svg\")"
   ]
  },
  {
   "cell_type": "markdown",
   "metadata": {},
   "source": [
    "# Cluster 0,1, 2 only"
   ]
  },
  {
   "cell_type": "markdown",
   "metadata": {},
   "source": [
    "<a id=\"Embedding\"></a>"
   ]
  },
  {
   "cell_type": "markdown",
   "metadata": {},
   "source": [
    "## Embedding and Clustering"
   ]
  },
  {
   "cell_type": "code",
   "execution_count": 127,
   "metadata": {},
   "outputs": [
    {
     "name": "stderr",
     "output_type": "stream",
     "text": [
      "running PAGA\n",
      "    finished: added\n",
      "    'paga/connectivities', connectivities adjacency (adata.uns)\n",
      "    'paga/connectivities_tree', connectivities subtree (adata.uns) (0:00:00)\n"
     ]
    }
   ],
   "source": [
    "if bool_recomp == True:  \n",
    "    cell_ids_012 = np.asarray(adata_proc.obs_names)[\n",
    "        [x in ['astrocytes','ependymal'] \n",
    "         for x in np.asarray(adata_proc.obs['celltypes'].values)]\n",
    "    ]\n",
    "    adata_012 = adata_raw[cell_ids_012,:].copy()\n",
    "    adata_012.obs['n_genes'] = (adata_012.X > 0).sum(1)\n",
    "    adata_012.obs['n_counts'] = adata_012.X.sum(1)\n",
    "    mt_gene_mask = [gene.startswith('mt-') for gene in adata_012.var_names]\n",
    "    temp_mt_sum = adata_012[:,mt_gene_mask].X.sum(1)\n",
    "    temp_mt_sum = np.squeeze(np.asarray(temp_mt_sum))\n",
    "    temp_n_counts = adata_012.obs['n_counts']\n",
    "    adata_012.obs['mt_frac'] = temp_mt_sum/adata_012.obs['n_counts']\n",
    "    adata_012.raw = adata_012\n",
    "    sc.pp.normalize_per_cell(adata_012)\n",
    "    sc.pp.log1p(adata_012)\n",
    "    sc.pp.highly_variable_genes(adata_012,n_top_genes=4000)\n",
    "    sc.pl.highly_variable_genes(adata_012)\n",
    "    adata_012.X = adata_012.X.toarray()\n",
    "    \n",
    "    sc.pp.pca(adata_012, n_comps=50, use_highly_variable = True, random_state=0, svd_solver='arpack')\n",
    "    sc.pp.neighbors(adata_012, n_neighbors=100, knn=True, method='umap', n_pcs=50, random_state=0)\n",
    "    sc.tl.umap(adata_012)\n",
    "    if bool_recluster == True:\n",
    "        sc.tl.louvain(adata_012, resolution=1, flavor='vtraag', random_state=0)\n",
    "        pd.DataFrame(adata_012.obs).to_csv(path_or_buf=sc_settings_writedir+'obs_adata_012.csv')\n",
    "    else:\n",
    "        obs = pd.read_csv(sc_settings_writedir+'obs_adata_012.csv')\n",
    "        adata_012.obs['louvain']=pd.Series(obs['louvain'].values, dtype = 'category')\n",
    "    sc.write(sc_settings_writedir+'adata_012.h5ad',adata_012)\n",
    "else:\n",
    "    adata_012 = sc.read(sc_settings_writedir+'adata_012.h5ad') \n",
    "sc.tl.paga(adata_012)"
   ]
  },
  {
   "cell_type": "code",
   "execution_count": 128,
   "metadata": {},
   "outputs": [],
   "source": [
    "if bool_plot == True:\n",
    "    cf.plot_umap_marker(adata_012, ['louvain'], save=\"_clust012_louvain.svg\", use_raw=False, size=5)"
   ]
  },
  {
   "cell_type": "code",
   "execution_count": 129,
   "metadata": {},
   "outputs": [],
   "source": [
    "if bool_plot == True:\n",
    "    cf.plot_umap_marker(adata_012, ['louvain'], save=\"_clust012_louvain_ondata.svg\", use_raw=False, legend_loc='on data', size=5)"
   ]
  },
  {
   "cell_type": "code",
   "execution_count": 130,
   "metadata": {},
   "outputs": [],
   "source": [
    "if bool_plot == True:\n",
    "    cf.plot_umap_marker(adata_012, ['n_genes','n_counts','mt_frac'], color_map=mymap, size=10, save=\"_clust012_n_gene_count_mt.svg\", use_raw = False)"
   ]
  },
  {
   "cell_type": "markdown",
   "metadata": {},
   "source": [
    "A high fraction of mitochondrial RNA is in cluster 3 and around the central cluster 8."
   ]
  },
  {
   "cell_type": "code",
   "execution_count": 131,
   "metadata": {},
   "outputs": [],
   "source": [
    "if bool_plot == True:\n",
    "    cf.plot_umap_marker(adata_012, ['Gfap','Aldh1l1'], color_map=mymap, size=10, save=\"_clust012_markers.svg\", use_raw = False)"
   ]
  },
  {
   "cell_type": "code",
   "execution_count": 132,
   "metadata": {},
   "outputs": [],
   "source": [
    "if bool_plot == True:\n",
    "    cf.plot_umap_marker(adata_012, ['diet'], save=\"_clust012_diet.svg\", size=10, use_raw=False)"
   ]
  },
  {
   "cell_type": "code",
   "execution_count": 133,
   "metadata": {},
   "outputs": [],
   "source": [
    "if bool_plot == True:\n",
    "    sc.pl.paga(adata_012, save=\"_clust012.svg\")"
   ]
  },
  {
   "cell_type": "code",
   "execution_count": 134,
   "metadata": {},
   "outputs": [],
   "source": [
    "if bool_plot == True:\n",
    "    cf.cell_percent(adata_012, cluster='louvain', condition='diet', xlabel='clusters', ylabel='percentage', \n",
    "                 title='barplot_clust012_diet_per_clusters', save=sc_settings_figdir, table=False)"
   ]
  },
  {
   "cell_type": "code",
   "execution_count": 135,
   "metadata": {},
   "outputs": [],
   "source": [
    "if bool_plot == True:\n",
    "    aldh_pos = adata_012.obs_names[np.asarray(adata_012[:,'Aldh1l1'].X).flatten()>0]\n",
    "    gfap_pos = adata_012.obs_names[np.asarray(adata_012[:,'Gfap'].X).flatten()>0]\n",
    "    glast_pos = adata_012.obs_names[np.asarray(adata_012[:,'Slc1a3'].X).flatten()>0]\n",
    "\n",
    "    matplotlib_venn.venn3([\n",
    "        set(aldh_pos),\n",
    "        set(gfap_pos),\n",
    "        set(glast_pos)\n",
    "    ], set_labels = (\"Aldh1l1\", \"Gfap\", \"Slc1a3\"))\n",
    "    plt.savefig(sc_settings_figdir+'venndiagram_clust012_gfap-aldh-glast.svg')"
   ]
  },
  {
   "cell_type": "code",
   "execution_count": 136,
   "metadata": {},
   "outputs": [],
   "source": [
    "if bool_plot == True:\n",
    "    aldh_pos = adata_012.obs_names[np.asarray(adata_012[:,'Aldh1l1'].X).flatten()>0]\n",
    "    gfap_pos = adata_012.obs_names[np.asarray(adata_012[:,'Gfap'].X).flatten()>0]\n",
    "\n",
    "    matplotlib_venn.venn2([\n",
    "        set(aldh_pos),\n",
    "        set(gfap_pos)\n",
    "    ], set_labels = (\"Aldh1l1\", \"Gfap\"), set_colors = ('lime','magenta'))\n",
    "    plt.savefig(sc_settings_figdir+'venndiagram_clust012_gfap-aldh.svg')"
   ]
  },
  {
   "cell_type": "markdown",
   "metadata": {},
   "source": [
    "### Count distribution for Aldh1l1 and Gfap"
   ]
  },
  {
   "cell_type": "markdown",
   "metadata": {},
   "source": [
    "#### Single and double positive counts¶"
   ]
  },
  {
   "cell_type": "markdown",
   "metadata": {},
   "source": [
    "Define booleans for single and double positive counts of Gfap and Aldh1l1"
   ]
  },
  {
   "cell_type": "code",
   "execution_count": 137,
   "metadata": {},
   "outputs": [],
   "source": [
    "non_boolean_int = np.array((adata_012[:,'Gfap'].X<=0) & (adata_012[:,'Aldh1l1'].X<=0), dtype=int)\n",
    "\n",
    "gfap_single_boolean = (adata_012[:,'Gfap'].X>0) & (adata_012[:,'Aldh1l1'].X<=0)\n",
    "aldh_single_boolean = (adata_012[:,'Aldh1l1'].X>0) & (adata_012[:,'Gfap'].X<=0) \n",
    "single_boolean_int = np.array((gfap_single_boolean | aldh_single_boolean), dtype=int)*1\n",
    "\n",
    "gfap_aldh_double_boolean = (adata_012[:,'Gfap'].X>0) & (adata_012[:,'Aldh1l1'].X>0)\n",
    "double_boolean_int = np.array((gfap_aldh_double_boolean), dtype=int)*2\n",
    "\n",
    "non_boolean_int *=0"
   ]
  },
  {
   "cell_type": "code",
   "execution_count": 138,
   "metadata": {},
   "outputs": [
    {
     "name": "stdout",
     "output_type": "stream",
     "text": [
      "Gfap Single Positive  1703\n",
      "Aldh1l1 Single Positive  964\n",
      "Gfap/Aldh1l1 Double Positive  738\n"
     ]
    }
   ],
   "source": [
    "gfap_single_pos = adata_012[:,'Gfap'].X[gfap_single_boolean]\n",
    "aldh_single_pos = adata_012[:,'Aldh1l1'].X[aldh_single_boolean]\n",
    "\n",
    "print('Gfap Single Positive ',len(gfap_single_pos))\n",
    "print('Aldh1l1 Single Positive ',len(aldh_single_pos))\n",
    "\n",
    "gfap_aldh_double_pos = adata_012[:,'Gfap'].X[gfap_aldh_double_boolean]\n",
    "\n",
    "print('Gfap/Aldh1l1 Double Positive ',len(gfap_aldh_double_pos))\n"
   ]
  },
  {
   "cell_type": "markdown",
   "metadata": {},
   "source": [
    "<a id=\"adipmarkers\"></a>"
   ]
  },
  {
   "cell_type": "code",
   "execution_count": 139,
   "metadata": {},
   "outputs": [],
   "source": [
    "adata_012.obs['sdt_pos'] = np.array((non_boolean_int + single_boolean_int + double_boolean_int), dtype=str)\n",
    "adata_012.obs['s_pos'] = np.array((np.array(gfap_single_boolean, dtype=int)*1)+(np.array(aldh_single_boolean, dtype=int)*2), dtype=str)\n",
    "adata_012.obs['d_pos'] = np.array((np.array(gfap_aldh_double_boolean, dtype=int)*1), dtype=str)\n",
    "\n",
    "# make them categorical\n",
    "adata_012.obs['sdt_pos'] = pd.Series(adata_012.obs['sdt_pos'], dtype=\"category\")\n",
    "adata_012.obs['s_pos'] = pd.Series(adata_012.obs['s_pos'], dtype=\"category\")\n",
    "adata_012.obs['d_pos'] = pd.Series(adata_012.obs['d_pos'], dtype=\"category\")"
   ]
  },
  {
   "cell_type": "code",
   "execution_count": 140,
   "metadata": {},
   "outputs": [],
   "source": [
    "if bool_plot == True:\n",
    "    new_cluster_names = ['Non Positives','Single Positives','Double Positives']\n",
    "    adata_012.rename_categories('sdt_pos', new_cluster_names)\n",
    "    sc.pl.umap(adata_012, color=['sdt_pos'], size=10, palette=[\"lightgrey\",\"tomato\",\"blue\"], \n",
    "               save=\"_clust012_gfap-aldh_single_double_positiv.svg\")\n",
    "    new_cluster_names = ['Non Single Positives','Gfap Single Positives','Aldh1l1 Single Positives']\n",
    "    adata_012.rename_categories('s_pos', new_cluster_names)\n",
    "    sc.pl.umap(adata_012[adata_012.obs['s_pos']!='Non Single Positives'], color=['s_pos'],\n",
    "               size=10, palette=[\"magenta\",\"lime\"], save=\"_clust012_gfap-aldh_single_positiv.svg\")\n",
    "    new_cluster_names = ['Non Double Positives','Gfap/Aldh1l1 Double Positive']\n",
    "    adata_012.rename_categories('d_pos', new_cluster_names)\n",
    "    sc.pl.umap(adata_012[adata_012.obs['d_pos']!='Non Double Positives'], color=['d_pos'], size=10,\n",
    "              save=\"_clust012_gfap-aldh_doble_positiv.svg\")"
   ]
  },
  {
   "cell_type": "markdown",
   "metadata": {},
   "source": [
    "### Cluster 0,1,2 chow diet"
   ]
  },
  {
   "cell_type": "code",
   "execution_count": 141,
   "metadata": {},
   "outputs": [],
   "source": [
    "if bool_plot == True:\n",
    "    fig, (ax1, ax2) = plt.subplots(1, 2, figsize=(12,4), gridspec_kw={'wspace':0.8})\n",
    "    ax1_dict = ax1.scatter(adata_012[adata_012.obs['diet']=='chow', ][:, ['Gfap']].X, \n",
    "                           adata_012[adata_012.obs['diet']=='chow', ][:, ['Aldh1l1']].X, \n",
    "                           s=9, cmap='seismic', c='dodgerblue')\n",
    "    ax1.set_title('chow')\n",
    "    ax1.set_ylabel('Gfap')\n",
    "    ax1.set_xlabel('Aldh1l1')\n",
    "    ax2_dict = sc.pl.umap(adata_012[adata_012.obs['diet']=='chow', ], color=['louvain'], size=10, ax=ax2, show=False)\n",
    "    plt.savefig(sc_settings_figdir+'gfap-aldh_clust012_chow.svg')"
   ]
  },
  {
   "cell_type": "code",
   "execution_count": 142,
   "metadata": {},
   "outputs": [],
   "source": [
    "if bool_plot == True:\n",
    "    cf.plot_umap_marker(adata_012, ['Gfap', 'Aldh1l1'], save=\"_clust012_chow_gfap-aldh.svg\", size=10, \n",
    "                        color_map=mymap, use_raw=False)"
   ]
  },
  {
   "cell_type": "code",
   "execution_count": 143,
   "metadata": {},
   "outputs": [],
   "source": [
    "if bool_plot == True:\n",
    "    aldh_pos = adata_012[adata_012.obs['diet']=='chow', ].obs_names[np.asarray(adata_012[adata_012.obs['diet']=='chow', ][:,'Aldh1l1'].X).flatten()>0]\n",
    "    gfap_pos = adata_012[adata_012.obs['diet']=='chow', ].obs_names[np.asarray(adata_012[adata_012.obs['diet']=='chow', ][:,'Gfap'].X).flatten()>0]\n",
    "\n",
    "    matplotlib_venn.venn2([\n",
    "        set(aldh_pos),\n",
    "        set(gfap_pos)\n",
    "    ], set_labels = (\"Aldh1l1\", \"Gfap\"), set_colors = ('lime','magenta'))\n",
    "    plt.savefig(sc_settings_figdir+'venndiagram_clust012_chow_gfap-aldh.svg')"
   ]
  },
  {
   "cell_type": "markdown",
   "metadata": {},
   "source": [
    "### Cluster 0,1,2 hfd_5 diet"
   ]
  },
  {
   "cell_type": "code",
   "execution_count": 144,
   "metadata": {},
   "outputs": [],
   "source": [
    "if bool_plot == True:\n",
    "    fig, (ax1, ax2) = plt.subplots(1, 2, figsize=(12,4), gridspec_kw={'wspace':0.8})\n",
    "    ax1_dict = ax1.scatter(adata_012[adata_012.obs['diet']=='hfd_5', ][:, ['Gfap']].X, \n",
    "                           adata_012[adata_012.obs['diet']=='hfd_5', ][:, ['Aldh1l1']].X, \n",
    "                           s=9, cmap='seismic', c='darkorange')\n",
    "    ax1.set_title('hfd_5')\n",
    "    ax1.set_ylabel('Gfap')\n",
    "    ax1.set_xlabel('Aldh1l1')\n",
    "    ax2_dict = sc.pl.umap(adata_012[adata_012.obs['diet']=='hfd_5', ], color=['louvain'], size=10, ax=ax2, show=False)\n",
    "    plt.savefig(sc_settings_figdir+'gfap-aldh_clust012_hfd5.svg')"
   ]
  },
  {
   "cell_type": "code",
   "execution_count": 145,
   "metadata": {},
   "outputs": [],
   "source": [
    "if bool_plot == True:\n",
    "    cf.plot_umap_marker(adata_012[adata_012.obs['diet']=='hfd_5', ], ['Gfap', 'Aldh1l1'],\n",
    "                        save=\"_clust012_hfd5_gfap-aldh.svg\", size=10, color_map=mymap, use_raw=False)"
   ]
  },
  {
   "cell_type": "code",
   "execution_count": 146,
   "metadata": {},
   "outputs": [],
   "source": [
    "if bool_plot == True:\n",
    "    aldh_pos = adata_012[adata_012.obs['diet']=='hfd_5', ].obs_names[np.asarray(adata_012[adata_012.obs['diet']=='hfd_5', ][:,'Aldh1l1'].X).flatten()>0]\n",
    "    gfap_pos = adata_012[adata_012.obs['diet']=='hfd_5', ].obs_names[np.asarray(adata_012[adata_012.obs['diet']=='hfd_5', ][:,'Gfap'].X).flatten()>0]\n",
    "\n",
    "    matplotlib_venn.venn2([\n",
    "        set(aldh_pos),\n",
    "        set(gfap_pos)\n",
    "    ], set_labels = (\"Aldh1l1\", \"Gfap\"), set_colors = ('lime','magenta'))\n",
    "    plt.savefig(sc_settings_figdir+'venndiagram_clust012_hfd5_gfap-aldh.svg')"
   ]
  },
  {
   "cell_type": "markdown",
   "metadata": {},
   "source": [
    "### Cluster 0,1,2 hfd_15 diet"
   ]
  },
  {
   "cell_type": "code",
   "execution_count": 147,
   "metadata": {},
   "outputs": [],
   "source": [
    "if bool_plot == True:\n",
    "    fig, (ax1, ax2) = plt.subplots(1, 2, figsize=(12,4), gridspec_kw={'wspace':0.8})\n",
    "    ax1_dict = ax1.scatter(adata_012[adata_012.obs['diet']=='hfd_15', ][:, ['Gfap']].X, \n",
    "                           adata_012[adata_012.obs['diet']=='hfd_15', ][:, ['Aldh1l1']].X, \n",
    "                           s=9, cmap='seismic', c='green')\n",
    "    ax1.set_title('hfd_15')\n",
    "    ax1.set_ylabel('Gfap')\n",
    "    ax1.set_xlabel('Aldh1l1')\n",
    "    ax2_dict = sc.pl.umap(adata_012[adata_012.obs['diet']=='hfd_15', ], color=['louvain'], size=10, ax=ax2, show=False)\n",
    "    plt.savefig(sc_settings_figdir+'gfap-aldh_clust012_hfd15.svg')"
   ]
  },
  {
   "cell_type": "code",
   "execution_count": 148,
   "metadata": {},
   "outputs": [],
   "source": [
    "if bool_plot == True:\n",
    "    cf.plot_umap_marker(adata_012[adata_012.obs['diet']=='hfd_15', ], ['Gfap', 'Aldh1l1'],\n",
    "                        save=\"_clust012_hfd15_gfap-aldh.svg\", size=10, color_map=mymap, use_raw=False)"
   ]
  },
  {
   "cell_type": "code",
   "execution_count": 149,
   "metadata": {},
   "outputs": [],
   "source": [
    "if bool_plot == True:\n",
    "    aldh_pos = adata_012[adata_012.obs['diet']=='hfd_15', ].obs_names[np.asarray(adata_012[adata_012.obs['diet']=='hfd_15', ][:,'Aldh1l1'].X).flatten()>0]\n",
    "    gfap_pos = adata_012[adata_012.obs['diet']=='hfd_15', ].obs_names[np.asarray(adata_012[adata_012.obs['diet']=='hfd_15', ][:,'Gfap'].X).flatten()>0]\n",
    "\n",
    "    matplotlib_venn.venn2([\n",
    "        set(aldh_pos),\n",
    "        set(gfap_pos)\n",
    "    ], set_labels = (\"Aldh1l1\", \"Gfap\"), set_colors = ('lime','magenta')) \n",
    "    plt.savefig(sc_settings_figdir+'venndiagram_clust012_hfd15_gfap-aldh.svg')"
   ]
  },
  {
   "cell_type": "markdown",
   "metadata": {},
   "source": [
    "## Cells expression Gfap and Aldh1l1"
   ]
  },
  {
   "cell_type": "code",
   "execution_count": 150,
   "metadata": {},
   "outputs": [],
   "source": [
    "adata_012.obs['gfap_aldh'] = np.select([((adata_012[:,'Gfap'].X>0) & (adata_012[:,'Aldh1l1'].X==0)), \n",
    "                                          ((adata_012[:,'Gfap'].X==0) & (adata_012[:,'Aldh1l1'].X>0)),\n",
    "                                          ((adata_012[:,'Gfap'].X>0) & (adata_012[:,'Aldh1l1'].X>0)), \n",
    "                                          ((adata_012[:,'Gfap'].X==0) & (adata_012[:,'Aldh1l1'].X==0))],\n",
    "                                          ['gfap_only','aldh_only','both','none'])"
   ]
  },
  {
   "cell_type": "markdown",
   "metadata": {},
   "source": [
    "### Chow"
   ]
  },
  {
   "cell_type": "code",
   "execution_count": 151,
   "metadata": {},
   "outputs": [],
   "source": [
    "if bool_plot==True:\n",
    "    data = adata_012[adata_012.obs['diet']=='chow', ].obs['gfap_aldh'].value_counts().sort_index()\n",
    "    def func(pct, allvals):\n",
    "        absolute = int(pct/100.*np.sum(allvals))\n",
    "        return \"{:.1f}%\\n({:d})\".format(pct, absolute)\n",
    "\n",
    "    fig, (ax0, ax1) = plt.subplots(ncols=2, figsize=(16, 6), subplot_kw=dict(aspect=\"equal\"))\n",
    "    ax0 = sc.pl.umap(adata_012[adata_012.obs['diet']=='chow', ], \n",
    "                     color=['gfap_aldh'], size=10, ax=ax0, show=False)\n",
    "    wedges, texts, autotexts = ax1.pie(data, autopct=lambda pct: func(pct, data), textprops=dict(color=\"w\"))\n",
    "    ax1.set_title('Chow diet cells - markers share')\n",
    "\n",
    "    fig.savefig(sc_settings_figdir+'umap_pie_chart_clust012_chow_gfap-aldh.svg')"
   ]
  },
  {
   "cell_type": "markdown",
   "metadata": {},
   "source": [
    "### HFD_5"
   ]
  },
  {
   "cell_type": "code",
   "execution_count": 152,
   "metadata": {},
   "outputs": [],
   "source": [
    "if bool_plot==True:\n",
    "    data = adata_012[adata_012.obs['diet']=='hfd_5', ].obs['gfap_aldh'].value_counts().sort_index()\n",
    "    def func(pct, allvals):\n",
    "        absolute = int(pct/100.*np.sum(allvals))\n",
    "        return \"{:.1f}%\\n({:d})\".format(pct, absolute)\n",
    "\n",
    "    fig, (ax0, ax1) = plt.subplots(ncols=2, figsize=(16, 6), subplot_kw=dict(aspect=\"equal\"))\n",
    "    ax0 = sc.pl.umap(adata_012[adata_012.obs['diet']=='hfd_5', ], \n",
    "                     color=['gfap_aldh'], size=10, ax=ax0, show=False)\n",
    "    wedges, texts, autotexts = ax1.pie(data, autopct=lambda pct: func(pct, data), textprops=dict(color=\"w\"))\n",
    "    ax1.set_title('Chow diet cells - markers share')\n",
    "\n",
    "    fig.savefig(sc_settings_figdir+'umap_pie_chart_clust012_hfd5_gfap-aldh.svg')"
   ]
  },
  {
   "cell_type": "markdown",
   "metadata": {},
   "source": [
    "### HFD_15"
   ]
  },
  {
   "cell_type": "code",
   "execution_count": 153,
   "metadata": {},
   "outputs": [],
   "source": [
    "if bool_plot==True: \n",
    "    data = adata_012[adata_012.obs['diet']=='hfd_15', ].obs['gfap_aldh'].value_counts().sort_index()\n",
    "    def func(pct, allvals):\n",
    "        absolute = int(pct/100.*np.sum(allvals))\n",
    "        return \"{:.1f}%\\n({:d})\".format(pct, absolute)\n",
    "\n",
    "    fig, (ax0, ax1) = plt.subplots(ncols=2, figsize=(16, 6), subplot_kw=dict(aspect=\"equal\"))\n",
    "    ax0 = sc.pl.umap(adata_012[adata_012.obs['diet']=='hfd_15', ], \n",
    "                     color=['gfap_aldh'], size=10, ax=ax0, show=False)\n",
    "    wedges, texts, autotexts = ax1.pie(data, autopct=lambda pct: func(pct, data), textprops=dict(color=\"w\"))\n",
    "    ax1.set_title('Chow diet cells - markers share')\n",
    "\n",
    "    fig.savefig(sc_settings_figdir+'umap_pie_chart_clust012_hfd15_gfap-aldh.svg')"
   ]
  },
  {
   "cell_type": "code",
   "execution_count": 154,
   "metadata": {},
   "outputs": [],
   "source": [
    "if bool_plot == True:\n",
    "    cf.cell_percent(adata_012, cluster='diet', condition='gfap_aldh', xlabel='clusters', ylabel='percentage', \n",
    "                 title='barplot_per_diet_clust012_gfap-aldh', save=sc_settings_figdir, table=False)"
   ]
  },
  {
   "cell_type": "markdown",
   "metadata": {},
   "source": [
    "## Per marker and diet"
   ]
  },
  {
   "cell_type": "code",
   "execution_count": 155,
   "metadata": {},
   "outputs": [],
   "source": [
    "adata_012.obs['gfap_only'] = adata_012.obs['gfap_aldh']=='gfap_only'\n",
    "adata_012.obs['aldh_only'] = adata_012.obs['gfap_aldh']=='aldh_only'\n",
    "adata_012.obs['both'] = adata_012.obs['gfap_aldh']=='both'"
   ]
  },
  {
   "cell_type": "code",
   "execution_count": 156,
   "metadata": {},
   "outputs": [],
   "source": [
    "# make them categorical\n",
    "adata_012.obs['gfap_only'] = pd.Series(adata_012.obs['gfap_only'], dtype=\"category\")\n",
    "adata_012.obs['aldh_only'] = pd.Series(adata_012.obs['aldh_only'], dtype=\"category\")\n",
    "adata_012.obs['both'] = pd.Series(adata_012.obs['both'], dtype=\"category\")"
   ]
  },
  {
   "cell_type": "code",
   "execution_count": 157,
   "metadata": {},
   "outputs": [],
   "source": [
    "adata_012.rename_categories('gfap_only', ['none','gfap_only'])"
   ]
  },
  {
   "cell_type": "code",
   "execution_count": 158,
   "metadata": {},
   "outputs": [],
   "source": [
    "adata_012.rename_categories('aldh_only', ['none','aldh_only'])\n",
    "adata_012.rename_categories('both', ['none','both'])"
   ]
  },
  {
   "cell_type": "markdown",
   "metadata": {},
   "source": [
    "### chow"
   ]
  },
  {
   "cell_type": "code",
   "execution_count": 159,
   "metadata": {},
   "outputs": [],
   "source": [
    "if bool_plot==True:\n",
    "    cf.plot_umap_marker(adata_012[adata_012.obs['diet']=='chow', ], ['gfap_only'], palette=['gainsboro','magenta'],\n",
    "                        save=\"_clust012_gfap_only_chow.svg\", size=10, color_map=mymap, use_raw=False)"
   ]
  },
  {
   "cell_type": "code",
   "execution_count": 160,
   "metadata": {},
   "outputs": [],
   "source": [
    "if bool_plot==True:\n",
    "    cf.plot_umap_marker(adata_012[adata_012.obs['diet']=='chow', ], ['aldh_only'], palette=['gainsboro','green'],\n",
    "                        save=\"_clust012_aldh_only_chow.svg\", size=10, color_map=mymap, use_raw=False)"
   ]
  },
  {
   "cell_type": "code",
   "execution_count": 161,
   "metadata": {},
   "outputs": [],
   "source": [
    "if bool_plot==True:\n",
    "    cf.plot_umap_marker(adata_012[adata_012.obs['diet']=='chow', ], ['both'], palette=['gainsboro','blue'],\n",
    "                        save=\"_clust012_both_chow.svg\", size=10, color_map=mymap, use_raw=False)"
   ]
  },
  {
   "cell_type": "code",
   "execution_count": 162,
   "metadata": {},
   "outputs": [],
   "source": [
    "if bool_plot==True: \n",
    "    cf.plot_umap_marker(adata_012[adata_012.obs['diet']=='chow', ], ['gfap_aldh'], \n",
    "                        palette=['green','blue','magenta','gainsboro'],\n",
    "                        save=\"_clust012_gfap_aldh_chow.svg\", size=10, color_map=mymap, use_raw=False)"
   ]
  },
  {
   "cell_type": "markdown",
   "metadata": {},
   "source": [
    "### Differential gene expression - chow"
   ]
  },
  {
   "cell_type": "code",
   "execution_count": 163,
   "metadata": {},
   "outputs": [],
   "source": [
    "astro_0 = adata_012[:,~adata_012.var.index.isin(['Gfap','Aldh1l1'])]"
   ]
  },
  {
   "cell_type": "code",
   "execution_count": 164,
   "metadata": {},
   "outputs": [],
   "source": [
    "if bool_plot==True:\n",
    "    astro0 = astro_0[(astro_0.obs['diet']=='chow') & \n",
    "                    (astro_0.obs['gfap_aldh'].isin(['aldh_only','gfap_only'])), ]\n",
    "    dets_mark = de.test.t_test(data=astro0, sample_description=astro0.obs, grouping=\"gfap_aldh\", is_logged=False)\n",
    "    dets_mark_summary = dets_mark.summary(mean_thres=np.log(0.01), qval_thres=0.1, fc_lower_thres=1, fc_upper_thres=1)\n",
    "    dets_mark_summary\n",
    "    #dets_age_summary.to_csv(path_or_buf=dir_tables+\"DE_preadip_by_age.tab\", sep=\"\\t\")\n",
    "    dets_mark.plot_volcano(alpha=0.05,corrected_pval=False, min_fc=1, size=15, log10_p_threshold=-50, \n",
    "                           log2_fc_threshold=6, save=sc_settings_figdir+\"dge_volcano_chow_aldh-gfap\",\n",
    "                           suffix=\"_clust012.svg\")"
   ]
  },
  {
   "cell_type": "code",
   "execution_count": 165,
   "metadata": {},
   "outputs": [],
   "source": [
    "if bool_plot==True:\n",
    "    astro0 = astro_0[(astro_0.obs['diet']=='chow') & \n",
    "                    (astro_0.obs['gfap_aldh'].isin(['both','gfap_only'])), ]\n",
    "    dets_mark = de.test.t_test(data=astro0, sample_description=astro0.obs, grouping=\"gfap_aldh\", is_logged=False)\n",
    "    dets_mark_summary = dets_mark.summary(mean_thres=np.log(0.01), qval_thres=0.1, fc_lower_thres=1, fc_upper_thres=1)\n",
    "    #dets_age_summary.to_csv(path_or_buf=dir_tables+\"DE_preadip_by_age.tab\", sep=\"\\t\")\n",
    "    dets_mark.plot_volcano(alpha=0.05,corrected_pval=False, min_fc=1, size=15, log10_p_threshold=-50,\n",
    "                           log2_fc_threshold=6, save=sc_settings_figdir+\"dge_volcano_chow_both-gfap\",\n",
    "                           suffix=\"_clust012.svg\")"
   ]
  },
  {
   "cell_type": "code",
   "execution_count": 166,
   "metadata": {},
   "outputs": [],
   "source": [
    "if bool_plot==True:\n",
    "    astro0 = astro_0[(astro_0.obs['diet']=='chow') & \n",
    "                    (astro_0.obs['gfap_aldh'].isin(['aldh_only','both'])), ]\n",
    "    dets_mark = de.test.t_test(data=astro0, sample_description=astro0.obs, grouping=\"gfap_aldh\", is_logged=False)\n",
    "    dets_mark_summary = dets_mark.summary(mean_thres=np.log(0.01), qval_thres=0.1, fc_lower_thres=1, fc_upper_thres=1)\n",
    "    #dets_age_summary.to_csv(path_or_buf=dir_tables+\"DE_preadip_by_age.tab\", sep=\"\\t\")\n",
    "    dets_mark.plot_volcano(alpha=0.05, corrected_pval=False, min_fc=1, size=15, log10_p_threshold=-50, \n",
    "                           log2_fc_threshold=6, save=sc_settings_figdir+\"dge_volcano_chow_aldh-both\",\n",
    "                           suffix=\"_clust012.svg\")"
   ]
  },
  {
   "cell_type": "markdown",
   "metadata": {},
   "source": [
    "### hfd 5"
   ]
  },
  {
   "cell_type": "code",
   "execution_count": 167,
   "metadata": {},
   "outputs": [],
   "source": [
    "if bool_plot==True:\n",
    "    cf.plot_umap_marker(adata_012[adata_012.obs['diet']=='hfd_5', ], ['gfap_only'], palette=['gainsboro','magenta'],\n",
    "                        save=\"_clust012_gfap_only_hfd5.svg\", size=10, color_map=mymap, use_raw=False)"
   ]
  },
  {
   "cell_type": "code",
   "execution_count": 168,
   "metadata": {},
   "outputs": [],
   "source": [
    "if bool_plot==True:\n",
    "    cf.plot_umap_marker(adata_012[adata_012.obs['diet']=='hfd_5', ], ['aldh_only'], palette=['gainsboro','green'],\n",
    "                        save=\"_clust012_aldh_only_hfd5.svg\", size=10, color_map=mymap, use_raw=False)"
   ]
  },
  {
   "cell_type": "code",
   "execution_count": 169,
   "metadata": {},
   "outputs": [],
   "source": [
    "if bool_plot==True:\n",
    "    cf.plot_umap_marker(adata_012[adata_012.obs['diet']=='hfd_5', ], ['both'], palette=['gainsboro','blue'],\n",
    "                        save=\"_clust012_both_hfd5.svg\", size=10, color_map=mymap, use_raw=False)"
   ]
  },
  {
   "cell_type": "code",
   "execution_count": 170,
   "metadata": {},
   "outputs": [],
   "source": [
    "if bool_plot==True:\n",
    "    cf.plot_umap_marker(adata_012[adata_012.obs['diet']=='hfd_5', ], ['gfap_aldh'],\n",
    "                        palette=['green','blue','magenta','gainsboro'],\n",
    "                        save=\"_clust012_gfap_aldh_hfd5.svg\", size=10, color_map=mymap, use_raw=False)"
   ]
  },
  {
   "cell_type": "markdown",
   "metadata": {},
   "source": [
    "### Differential gene expression - hfd_5"
   ]
  },
  {
   "cell_type": "code",
   "execution_count": 171,
   "metadata": {},
   "outputs": [],
   "source": [
    "astro_5 = adata_012[:,~adata_012.var.index.isin(['Gfap','Aldh1l1'])]"
   ]
  },
  {
   "cell_type": "code",
   "execution_count": 172,
   "metadata": {},
   "outputs": [],
   "source": [
    "if bool_plot==True:\n",
    "    astro5 = astro_5[(astro_5.obs['diet']=='hfd_5') & \n",
    "                    (astro_5.obs['gfap_aldh'].isin(['aldh_only','gfap_only'])), ]\n",
    "    dets_mark = de.test.t_test(data=astro5, sample_description=astro5.obs, grouping=\"gfap_aldh\", is_logged=False)\n",
    "    dets_mark_summary = dets_mark.summary(mean_thres=np.log(0.01), qval_thres=0.1, fc_lower_thres=1, fc_upper_thres=1)\n",
    "    dets_mark_summary\n",
    "    #dets_age_summary.to_csv(path_or_buf=dir_tables+\"DE_preadip_by_age.tab\", sep=\"\\t\")\n",
    "    dets_mark.plot_volcano(alpha=0.05, corrected_pval=False, min_fc=1, size=15, log10_p_threshold=-50, \n",
    "                           log2_fc_threshold=6, save=sc_settings_figdir+\"dge_volcano_hfd5_aldh-gfap\",\n",
    "                           suffix=\"_clust012.svg\")"
   ]
  },
  {
   "cell_type": "code",
   "execution_count": 173,
   "metadata": {},
   "outputs": [],
   "source": [
    "if bool_plot==True:\n",
    "    astro5 = astro_5[(astro_5.obs['diet']=='hfd_5') & \n",
    "                    (astro_5.obs['gfap_aldh'].isin(['both','gfap_only'])), ]\n",
    "    dets_mark = de.test.t_test(data=astro5, sample_description=astro5.obs, grouping=\"gfap_aldh\", is_logged=False)\n",
    "    dets_mark_summary = dets_mark.summary(mean_thres=np.log(0.01), qval_thres=0.1, fc_lower_thres=1, fc_upper_thres=1)\n",
    "    #dets_age_summary.to_csv(path_or_buf=dir_tables+\"DE_preadip_by_age.tab\", sep=\"\\t\")\n",
    "    dets_mark.plot_volcano(alpha=0.05, corrected_pval=False, min_fc=1, size=15, log10_p_threshold=-50,\n",
    "                           log2_fc_threshold=6, save=sc_settings_figdir+\"dge_volcano_hfd5_both-gfap\",\n",
    "                           suffix=\"_clust012.svg\")"
   ]
  },
  {
   "cell_type": "code",
   "execution_count": 174,
   "metadata": {},
   "outputs": [],
   "source": [
    "if bool_plot==True:\n",
    "    astro5 = astro_5[(astro_5.obs['diet']=='hfd_5') & \n",
    "                    (astro_5.obs['gfap_aldh'].isin(['aldh_only','both'])), ]\n",
    "    dets_mark = de.test.t_test(data=astro5, sample_description=astro5.obs, grouping=\"gfap_aldh\", is_logged=False)\n",
    "    dets_mark_summary = dets_mark.summary(mean_thres=np.log(0.01), qval_thres=0.1, fc_lower_thres=1, fc_upper_thres=1)\n",
    "    #dets_age_summary.to_csv(path_or_buf=dir_tables+\"DE_preadip_by_age.tab\", sep=\"\\t\")\n",
    "    dets_mark.plot_volcano(alpha=0.05, corrected_pval=False, min_fc=1, size=15, log10_p_threshold=-50, \n",
    "                           log2_fc_threshold=6, save=sc_settings_figdir+\"dge_volcano_hfd5_aldh-both\",\n",
    "                           suffix=\"_clust012.svg\")"
   ]
  },
  {
   "cell_type": "markdown",
   "metadata": {},
   "source": [
    "### hfd 15"
   ]
  },
  {
   "cell_type": "code",
   "execution_count": 175,
   "metadata": {},
   "outputs": [],
   "source": [
    "if bool_plot==True:\n",
    "    cf.plot_umap_marker(adata_012[adata_012.obs['diet']=='hfd_15', ], ['gfap_only'], palette=['gainsboro','magenta'],\n",
    "                        save=\"_clust012_gfap_only_hfd15.svg\", size=10, color_map=mymap, use_raw=False)"
   ]
  },
  {
   "cell_type": "code",
   "execution_count": 176,
   "metadata": {},
   "outputs": [],
   "source": [
    "if bool_plot==True:\n",
    "    cf.plot_umap_marker(adata_012[adata_012.obs['diet']=='hfd_15', ], ['aldh_only'], palette=['gainsboro','green'],\n",
    "                        save=\"_clust012_aldh_only_hfd15.svg\", size=10, color_map=mymap, use_raw=False)"
   ]
  },
  {
   "cell_type": "code",
   "execution_count": 177,
   "metadata": {},
   "outputs": [],
   "source": [
    "if bool_plot==True:\n",
    "    cf.plot_umap_marker(adata_012[adata_012.obs['diet']=='hfd_15', ], ['both'], palette=['gainsboro','blue'],\n",
    "                        save=\"_clust012_both_hfd15.svg\", size=10, color_map=mymap, use_raw=False)"
   ]
  },
  {
   "cell_type": "code",
   "execution_count": 178,
   "metadata": {},
   "outputs": [],
   "source": [
    "if bool_plot==True:\n",
    "    cf.plot_umap_marker(adata_012[adata_012.obs['diet']=='hfd_15', ], ['gfap_aldh'], \n",
    "                        palette=['green','blue','magenta','gainsboro'],\n",
    "                        save=\"_clust012_gfap_aldh_hfd15.svg\", size=10, color_map=mymap, use_raw=False)"
   ]
  },
  {
   "cell_type": "markdown",
   "metadata": {},
   "source": [
    "### Differential gene expression - hfd_15"
   ]
  },
  {
   "cell_type": "code",
   "execution_count": 179,
   "metadata": {},
   "outputs": [],
   "source": [
    "astro_15 = adata_012[:,~adata_012.var.index.isin(['Gfap','Aldh1l1'])]"
   ]
  },
  {
   "cell_type": "code",
   "execution_count": 180,
   "metadata": {},
   "outputs": [],
   "source": [
    "if bool_plot==True:\n",
    "    astro15 = astro_15[(astro_15.obs['diet']=='hfd_15') & \n",
    "                    (astro_15.obs['gfap_aldh'].isin(['aldh_only','gfap_only'])), ]\n",
    "    dets_mark = de.test.t_test(data=astro15, sample_description=astro15.obs, grouping=\"gfap_aldh\", is_logged=False)\n",
    "    dets_mark_summary = dets_mark.summary(mean_thres=np.log(0.01), qval_thres=0.1, fc_lower_thres=1, fc_upper_thres=1)\n",
    "    dets_mark_summary\n",
    "    #dets_age_summary.to_csv(path_or_buf=dir_tables+\"DE_preadip_by_age.tab\", sep=\"\\t\")\n",
    "    dets_mark.plot_volcano(alpha=0.05, corrected_pval=False, min_fc=1, size=15, log10_p_threshold=-50,\n",
    "                           log2_fc_threshold=6, save=sc_settings_figdir+\"dge_volcano_hfd15_clust012_aldh-gfap\")"
   ]
  },
  {
   "cell_type": "code",
   "execution_count": 181,
   "metadata": {},
   "outputs": [],
   "source": [
    "if bool_plot==True:\n",
    "    astro15 = astro_15[(astro_15.obs['diet']=='hfd_15') & \n",
    "                    (astro_15.obs['gfap_aldh'].isin(['both','gfap_only'])), ]\n",
    "    dets_mark = de.test.t_test(data=astro15, sample_description=astro15.obs, grouping=\"gfap_aldh\", is_logged=False)\n",
    "    dets_mark_summary = dets_mark.summary(mean_thres=np.log(0.01), qval_thres=0.1, fc_lower_thres=1, fc_upper_thres=1)\n",
    "    #dets_age_summary.to_csv(path_or_buf=dir_tables+\"DE_preadip_by_age.tab\", sep=\"\\t\")\n",
    "    dets_mark.plot_volcano(alpha=0.05, corrected_pval=False, min_fc=1, size=15, log10_p_threshold=-50, \n",
    "                           log2_fc_threshold=6, save=sc_settings_figdir+\"dge_volcano_hfd15_clust012_both-gfap\")"
   ]
  },
  {
   "cell_type": "code",
   "execution_count": 182,
   "metadata": {},
   "outputs": [],
   "source": [
    "if bool_plot==True:\n",
    "    astro15 = astro_15[(astro_15.obs['diet']=='hfd_15') & \n",
    "                    (astro_15.obs['gfap_aldh'].isin(['aldh_only','both'])), ]\n",
    "    dets_mark = de.test.t_test(data=astro15, sample_description=astro15.obs, grouping=\"gfap_aldh\", is_logged=False)\n",
    "    dets_mark_summary = dets_mark.summary(mean_thres=np.log(0.01), qval_thres=0.1, fc_lower_thres=1, fc_upper_thres=1)\n",
    "    #dets_age_summary.to_csv(path_or_buf=dir_tables+\"DE_preadip_by_age.tab\", sep=\"\\t\")\n",
    "    dets_mark.plot_volcano(alpha=0.05, corrected_pval=False, min_fc=1, size=15, log10_p_threshold=-50, \n",
    "                           log2_fc_threshold=5.6, save=sc_settings_figdir+\"dge_volcano_hfd15_clust012_aldh-both\")"
   ]
  },
  {
   "cell_type": "markdown",
   "metadata": {},
   "source": [
    "# Define Cell Types"
   ]
  },
  {
   "cell_type": "markdown",
   "metadata": {},
   "source": [
    "<a id=\"DE\"></a>"
   ]
  },
  {
   "cell_type": "markdown",
   "metadata": {},
   "source": [
    "## DE Genes"
   ]
  },
  {
   "cell_type": "code",
   "execution_count": 183,
   "metadata": {
    "scrolled": false
   },
   "outputs": [
    {
     "name": "stderr",
     "output_type": "stream",
     "text": [
      "WARNING: Default of the method has been changed to 't-test' from 't-test_overestim_var'\n",
      "ranking genes\n",
      "... storing 'gfap_aldh' as categorical\n",
      "    finished: added to `.uns['rank_genes']`\n",
      "    'names', sorted np.recarray to be indexed by group ids\n",
      "    'scores', sorted np.recarray to be indexed by group ids\n",
      "    'logfoldchanges', sorted np.recarray to be indexed by group ids\n",
      "    'pvals', sorted np.recarray to be indexed by group ids\n",
      "    'pvals_adj', sorted np.recarray to be indexed by group ids (0:00:01)\n"
     ]
    }
   ],
   "source": [
    "sc.tl.rank_genes_groups(adata_012, groupby='louvain', key_added='rank_genes')\n",
    "\n",
    "if bool_plot==True:\n",
    "    sc.pl.rank_genes_groups(adata_012, key='rank_genes', groups=['0','1','2'], save=\"_clust012_1.svg\")\n",
    "    sc.pl.rank_genes_groups(adata_012, key='rank_genes', groups=['3','4','5'], save=\"_clust012_2.svg\")\n",
    "    sc.pl.rank_genes_groups(adata_012, key='rank_genes', groups=['6','7'], save=\"_clust012_3.svg\")"
   ]
  },
  {
   "cell_type": "markdown",
   "metadata": {},
   "source": [
    "## Summary heatmap, dotplot and stacked_violin for cluster assignments"
   ]
  },
  {
   "cell_type": "code",
   "execution_count": 184,
   "metadata": {},
   "outputs": [],
   "source": [
    "if bool_plot==True:\n",
    "    sc.pl.heatmap(\n",
    "        adata=adata_012, \n",
    "        var_names=marker_genes_dict, \n",
    "        groupby=\"louvain\", \n",
    "        use_raw=False, \n",
    "        log=False, \n",
    "        dendrogram=True, \n",
    "        var_group_rotation=90, \n",
    "        show_gene_labels=True, \n",
    "        show=True, \n",
    "        save=\"_clust012_celltypes.svg\"\n",
    "    )"
   ]
  },
  {
   "cell_type": "code",
   "execution_count": 185,
   "metadata": {},
   "outputs": [],
   "source": [
    "if bool_plot==True:\n",
    "    sc.pl.dotplot(\n",
    "        adata=adata_012,\n",
    "        var_names=marker_genes_dict, \n",
    "        groupby='louvain',\n",
    "        use_raw=False, \n",
    "        log=False, \n",
    "        dendrogram=True, \n",
    "        var_group_rotation=90, \n",
    "        show=True, \n",
    "        save=\"_clust012_celltypes.svg\")"
   ]
  },
  {
   "cell_type": "code",
   "execution_count": 186,
   "metadata": {},
   "outputs": [],
   "source": [
    "if bool_plot==True:\n",
    "    sc.pl.stacked_violin(\n",
    "        adata=adata_012, \n",
    "        var_names=marker_genes_dict, \n",
    "        groupby='louvain', \n",
    "        use_raw=False,\n",
    "        dendrogram=True,\n",
    "        cmap='viridis_r',\n",
    "        show=True,\n",
    "        save=\"_clust012_celltypes.svg\")"
   ]
  },
  {
   "cell_type": "code",
   "execution_count": 187,
   "metadata": {},
   "outputs": [],
   "source": [
    "if bool_plot==True:\n",
    "    plt.figure(figsize=(7,7))\n",
    "    cell_annotation = sc.tl.marker_gene_overlap(adata_012, marker_genes_dict, key='rank_genes', \n",
    "                                                normalize='data')\n",
    "    sb.heatmap(cell_annotation, cbar=False, annot=True)\n",
    "    plt.savefig(sc_settings_figdir+'heatmap_clust012_rank_genes_cell_annotation.svg')"
   ]
  },
  {
   "cell_type": "code",
   "execution_count": 188,
   "metadata": {},
   "outputs": [],
   "source": [
    "if bool_plot==True:\n",
    "    sc.tl.embedding_density(adata_012, basis='umap', groupby='diet')\n",
    "    sc.pl.embedding_density(adata_012, basis='umap', key='umap_density_diet',\n",
    "                            group=['chow', 'hfd_5', 'hfd_15'], bg_dotsize=5, fg_dotsize=30, save=\"clust012.svg\")"
   ]
  },
  {
   "cell_type": "code",
   "execution_count": null,
   "metadata": {},
   "outputs": [],
   "source": []
  }
 ],
 "metadata": {
  "kernelspec": {
   "display_name": "Python 3",
   "language": "python",
   "name": "python3"
  },
  "language_info": {
   "codemirror_mode": {
    "name": "ipython",
    "version": 3
   },
   "file_extension": ".py",
   "mimetype": "text/x-python",
   "name": "python",
   "nbconvert_exporter": "python",
   "pygments_lexer": "ipython3",
   "version": "3.7.6"
  },
  "toc": {
   "base_numbering": 1,
   "nav_menu": {},
   "number_sections": true,
   "sideBar": true,
   "skip_h1_title": false,
   "title_cell": "Table of Contents",
   "title_sidebar": "Contents",
   "toc_cell": false,
   "toc_position": {},
   "toc_section_display": true,
   "toc_window_display": true
  }
 },
 "nbformat": 4,
 "nbformat_minor": 2
}
