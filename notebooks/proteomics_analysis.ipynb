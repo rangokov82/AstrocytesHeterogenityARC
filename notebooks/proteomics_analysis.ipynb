{
 "cells": [
  {
   "cell_type": "code",
   "execution_count": 1,
   "metadata": {},
   "outputs": [
    {
     "name": "stderr",
     "output_type": "stream",
     "text": [
      "Warning message in fun(libname, pkgname):\n",
      "“mzR has been built against a different Rcpp version (1.0.4.6)\n",
      "than is installed on your system (1.0.6). This might lead to errors\n",
      "when loading mzR. If you encounter such issues, please send a report,\n",
      "including the output of sessionInfo() to the Bioc support forum at \n",
      "https://support.bioconductor.org/. For details see also\n",
      "https://github.com/sneumann/mzR/wiki/mzR-Rcpp-compiler-linker-issue.”\n"
     ]
    }
   ],
   "source": [
    "inst <- suppressMessages(lapply(c('DEP',\n",
    "                                  'SummarizedExperiment',\n",
    "                                  'pheatmap',\n",
    "                                  'ggplot2',\n",
    "                                  'EnhancedVolcano',\n",
    "                                  'VennDiagram',\n",
    "                                  'readxl',\n",
    "                                  'tidyverse'),\n",
    "                                library,\n",
    "                                character.only = TRUE)\n",
    ") "
   ]
  },
  {
   "cell_type": "markdown",
   "metadata": {},
   "source": [
    "Set whether to produce plots, set to False for test runs."
   ]
  },
  {
   "cell_type": "code",
   "execution_count": 2,
   "metadata": {},
   "outputs": [],
   "source": [
    "bool_plot = FALSE"
   ]
  },
  {
   "cell_type": "code",
   "execution_count": 3,
   "metadata": {},
   "outputs": [],
   "source": [
    "input_file = '~/Documents/consultation/Luiza/omics_data/proteomics/data/astrocyteprotoeme12102017-1.xlsx'\n",
    "options(repr.plot.width=8, repr.plot.height=8)"
   ]
  },
  {
   "cell_type": "markdown",
   "metadata": {},
   "source": [
    "## Compare Acsa2 positive vs. negative"
   ]
  },
  {
   "cell_type": "code",
   "execution_count": 4,
   "metadata": {},
   "outputs": [],
   "source": [
    "# load the imputed and normalized data from \n",
    "datraw = read_excel(input_file,sheet=2)[,c(4,3,11:57)]"
   ]
  },
  {
   "cell_type": "code",
   "execution_count": 5,
   "metadata": {},
   "outputs": [],
   "source": [
    "dat <- apply(datraw[,-c(1,2)], 2, function(x) as.numeric(x))\n",
    "gen <- as.character(as.matrix(datraw[,1]))"
   ]
  },
  {
   "cell_type": "code",
   "execution_count": 6,
   "metadata": {},
   "outputs": [],
   "source": [
    "dat <-aggregate(dat,by=list(gen),FUN=mean,na.rm=TRUE)\n",
    "rownames(dat) <- dat[,1]\n",
    "dat <- dat[,-1]"
   ]
  },
  {
   "cell_type": "code",
   "execution_count": 7,
   "metadata": {},
   "outputs": [],
   "source": [
    "astro = c('Slc1a2', 'Slc1a3', 'Aqp4', 'S100b', 'Sox9','Gfap','Aldh1l1','Gja1','Gjb6','Agt','Atp1b2')\n",
    "neuro = c('Syp', 'Tubb3','Snap25','Syt1')\n",
    "microglia = c('Itgam','Aif1')\n",
    "oligodendrocyte = c('Mog','Mag')\n",
    "endothelial = c('Slco1c1')\n",
    "mural = c('Mustn1','Pdgfrb','Des')\n",
    "tanycyes = c('Crym')\n",
    "npc = c('Nes','Sox2','Prom1')\n",
    "vlmc = c('Col1a1')"
   ]
  },
  {
   "cell_type": "code",
   "execution_count": 8,
   "metadata": {},
   "outputs": [],
   "source": [
    "datfin <- data.frame(CTX=apply(dat %>% select(ends_with(\"CTX\")), 1, mean),\n",
    "                     HPT=apply(dat %>% select(ends_with(\"HPT\")), 1, mean),\n",
    "                     Hippo=apply(dat %>% select(ends_with(\"Hippo\")), 1, mean),\n",
    "                     CTX_FT=apply(dat %>% select(ends_with(\"CTX_FT\")), 1, mean),\n",
    "                     HPT_FT=apply(dat %>% select(ends_with(\"HPT_FT\")), 1, mean),\n",
    "                     Hippo_FT=apply(dat %>% select(ends_with(\"Hippo_FT\")), 1, mean))"
   ]
  },
  {
   "cell_type": "code",
   "execution_count": 9,
   "metadata": {},
   "outputs": [],
   "source": [
    "astro = datfin[rownames(datfin)%in%c('Slc1a2', 'Slc1a3', 'Aqp4', 'S100b', 'Sox9','Gfap','Aldh1l1','Gja1','Gjb6','Agt','Atp1b2'),]\n",
    "neuro = datfin[rownames(datfin)%in%c('Syp', 'Tubb3','Snap25','Syt1'),]\n",
    "mglia = datfin[rownames(datfin)%in%c('Itgam','Aif1'),]\n",
    "oligo = datfin[rownames(datfin)%in%c('Mog','Mag'),]\n",
    "endo = datfin[rownames(datfin)%in%c('Slco1c1'),]\n",
    "mural = datfin[rownames(datfin)%in%c('Mustn1','Pdgfrb','Des'),]\n",
    "tcyes = datfin[rownames(datfin)%in%c('Crym'),]\n",
    "npc = datfin[rownames(datfin)%in%c('Nes','Sox2','Prom1'),]\n",
    "vlmc = datfin[rownames(datfin)%in%c('Col1a1'),]"
   ]
  },
  {
   "cell_type": "markdown",
   "metadata": {},
   "source": [
    "### heatmap"
   ]
  },
  {
   "cell_type": "code",
   "execution_count": 10,
   "metadata": {},
   "outputs": [],
   "source": [
    "if(bool_plot){\n",
    "    mat <- as.matrix(rbind(astro,neuro,mglia,oligo,endo,mural,tcyes,npc,vlmc))\n",
    "    my_palette <- colorRampPalette(c(\"blue\",\"white\",\"red\"))(n = 255)\n",
    "\n",
    "    Acsa2 <- c(rep(\"Acsa2_pos\",3),rep(\"Acsa2_neg\",3))\n",
    "    Tissue <- c(rep(c(\"cortex\",\"hypothalamus\",\"hippocampus\"),2))\n",
    "    dcol <- as.data.frame(cbind(Tissue,Acsa2))\n",
    "    rownames(dcol) <- colnames(mat)\n",
    "\n",
    "    Cell_types <- c(rep(\"astrocytes\",11),rep(\"neurons\",4),rep(\"microglia\",2),rep(\"oligodendrocyte\",2),\n",
    "                    \"endothelial\",rep(\"mural\",3),\"tanycyes\",rep(\"npc\",3),\"vlmc\")\n",
    "    drow <- as.data.frame(cbind(Cell_types))\n",
    "    rownames(drow) <- rownames(mat)\n",
    "\n",
    "    pheatmap(mat, scale = \"row\", show_rownames=T, color=my_palette, cluster_cols=F, cluster_rows=F, gaps_col=3,\n",
    "             gaps_row=c(11,15,17,19,20,23,24,27,28), annotation_col=dcol, annotation_row=drow, fontsize=16,\n",
    "             main=\"Acsa2 positive vs. negative\") \n",
    "}"
   ]
  },
  {
   "cell_type": "markdown",
   "metadata": {},
   "source": [
    "### pca plot"
   ]
  },
  {
   "cell_type": "code",
   "execution_count": 11,
   "metadata": {},
   "outputs": [],
   "source": [
    "df_pca <- prcomp(t(dat))\n",
    "df_out <- as.data.frame(df_pca$x)\n",
    "df_out$group <- c(rep(\"Acsa2_pos\",24),rep(\"Acsa2_neg\",23))\n",
    "df_out$tissue <- c(rep(\"hippocampus\",8),rep(\"hypothalamus\",8),rep(\"cortex\",8), \n",
    "                   rep(\"cortex\",8),rep(\"hypothalamus\",8),rep(\"hippocampus\",7))"
   ]
  },
  {
   "cell_type": "code",
   "execution_count": 12,
   "metadata": {},
   "outputs": [],
   "source": [
    "if(bool_plot){\n",
    "    ggplot(df_out, aes(x = PC1, y = PC2, color = group, shape = tissue)) +\n",
    "           geom_point(size = 6) + \n",
    "           theme(axis.text = element_text(size=20), \n",
    "                 axis.title = element_text(size=20), \n",
    "                 legend.title = element_text(siz=20),\n",
    "                 legend.text = element_text(size=20),\n",
    "                 plot.title = element_text(size=20)) + \n",
    "           ggtitle(\"PCA of Acsa2 positive vs. negative\")\n",
    "}"
   ]
  },
  {
   "cell_type": "markdown",
   "metadata": {},
   "source": [
    "### volcano plot"
   ]
  },
  {
   "cell_type": "code",
   "execution_count": 13,
   "metadata": {},
   "outputs": [],
   "source": [
    "ft <- read_excel(input_file, sheet=2)[,c(4,6,10)]\n",
    "colnames(ft) <- c(\"GeneName\",\"pvalue\",\"log2FoldChange\")\n",
    "for (i in 1:nrow(ft)) ft[i,2] <- 10 ^ -ft[i,2]"
   ]
  },
  {
   "cell_type": "code",
   "execution_count": 14,
   "metadata": {},
   "outputs": [],
   "source": [
    "if(bool_plot){ \n",
    "    EnhancedVolcano(ft,\n",
    "                    lab = ft$GeneName,\n",
    "                    pCutoff = 0.05,\n",
    "                    x = 'log2FoldChange',\n",
    "                    y = 'pvalue',\n",
    "                    ylim = c(-0, 25),\n",
    "                    col = c(\"grey30\", \"grey30\", \"red2\", \"red2\"),\n",
    "                    title = \"Acsa2_neg vs. Acsa2_pos\")\n",
    "}"
   ]
  },
  {
   "cell_type": "code",
   "execution_count": 15,
   "metadata": {},
   "outputs": [],
   "source": [
    "if(bool_plot){ \n",
    "    EnhancedVolcano(ft,\n",
    "                    lab = ft$GeneName,\n",
    "                    pCutoff = 0.05,\n",
    "                    FCcutoff = 10,\n",
    "                    x = 'log2FoldChange',\n",
    "                    y = 'pvalue',\n",
    "                    ylim = c(-0, 25),\n",
    "                    selectLab = rownames(mat),\n",
    "                    labSize = 5,\n",
    "                    labCol = 'green',\n",
    "                    col = c(\"grey30\", \"grey30\", \"red2\", \"red2\"),\n",
    "                    title = \"Acsa2_neg vs. Acsa2_pos\")\n",
    "}"
   ]
  },
  {
   "cell_type": "markdown",
   "metadata": {},
   "source": [
    "## Differential expression analysis visualization"
   ]
  },
  {
   "cell_type": "markdown",
   "metadata": {},
   "source": [
    "### tissue effect"
   ]
  },
  {
   "cell_type": "code",
   "execution_count": 16,
   "metadata": {},
   "outputs": [],
   "source": [
    "diff = read.table(file=\"/Users/viktorian.miok/Documents/data/Protein_Data/Perseus-Proteomics_Analysis-Chow.txt\",\n",
    "                 header=T, sep=\"\\t\", skip=1)\n",
    "diff <- diff[,c(30:38,42)]\n",
    "colnames(diff) <- c(\"pvalHippo_vs_HPT\",\"diffHippo_vs_HPT\",\"testHippo_vs_HPT\",\"pvalHippo_vs_CTX\",\"diffHippo_vs_CTX\",\n",
    "                    \"testHippo_vs_CTX\",\"pvalHPT_vs_CTX\",\"diffHPT_vs_CTX\",\"testHPT_vs_CTX\",\"GeneName\")"
   ]
  },
  {
   "cell_type": "code",
   "execution_count": 17,
   "metadata": {
    "scrolled": false
   },
   "outputs": [],
   "source": [
    "if(bool_plot){ \n",
    "    Hippo_vs_HPT <- data.frame(diff$GeneName, diff$diffHippo_vs_HPT, diff$pvalHippo_vs_HPT)\n",
    "    colnames(Hippo_vs_HPT) <- c(\"GeneName\", \"log2FoldChange\", \"pvalue\")\n",
    "    EnhancedVolcano(Hippo_vs_HPT,\n",
    "                    lab = diff$GeneName,\n",
    "                    pCutoff = 0.05,\n",
    "                    FCcutoff = 10,\n",
    "                    x = 'log2FoldChange',\n",
    "                    y = 'pvalue',\n",
    "                    ylim = c(0, 10),\n",
    "                    xlim = c(-7, 7),\n",
    "                    col = c(\"grey30\", \"grey30\", \"red2\", \"red2\"),\n",
    "                    title = \"HPT vs. Hippo\")\n",
    "}"
   ]
  },
  {
   "cell_type": "code",
   "execution_count": 18,
   "metadata": {},
   "outputs": [],
   "source": [
    "if(bool_plot){    \n",
    "    Hippo_vs_CTX <- data.frame(diff$GeneName, diff$diffHippo_vs_CTX, diff$pvalHippo_vs_CTX)\n",
    "    colnames(Hippo_vs_CTX) <- c(\"GeneName\",\"log2FoldChange\",\"pvalue\")\n",
    "    EnhancedVolcano(Hippo_vs_CTX,\n",
    "                    lab = Hippo_vs_CTX$GeneName,\n",
    "                    pCutoff = 0.05,\n",
    "                    FCcutoff = 10,\n",
    "                    x = 'log2FoldChange',\n",
    "                    y = 'pvalue',\n",
    "                    ylim = c(0, 10),\n",
    "                    xlim = c(-7, 7),\n",
    "                    col = c(\"grey30\", \"grey30\", \"red2\", \"red2\"),\n",
    "                    title = \"CTX vs. Hippo\")\n",
    "}"
   ]
  },
  {
   "cell_type": "code",
   "execution_count": 19,
   "metadata": {},
   "outputs": [],
   "source": [
    "if(bool_plot){ \n",
    "    HPT_vs_CTX <- data.frame(diff$GeneName,diff$diffHPT_vs_CTX, diff$pvalHPT_vs_CTX)\n",
    "    colnames(HPT_vs_CTX) <- c(\"GeneName\",\"log2FoldChange\",\"pvalue\")\n",
    "    EnhancedVolcano(HPT_vs_CTX,\n",
    "                    lab = HPT_vs_CTX$GeneName,\n",
    "                    pCutoff = 0.05,\n",
    "                    FCcutoff = 10,\n",
    "                    x = 'log2FoldChange',\n",
    "                    y = 'pvalue',\n",
    "                    ylim = c(0, 10),\n",
    "                    xlim = c(-7, 7),\n",
    "                    col = c(\"grey30\", \"grey30\", \"red2\", \"red2\"),\n",
    "                    title = \"HPT vs. CTX\")\n",
    "}"
   ]
  },
  {
   "cell_type": "code",
   "execution_count": 20,
   "metadata": {},
   "outputs": [],
   "source": [
    "if(bool_plot){ \n",
    "    df <- data.frame(location=c(\"HPT_vs_Hippo\", \"HPT_vs_CTX\", \"CTX_vs_Hippo\"),\n",
    "                     Sig_genes=c(dim(Hippo_vs_HPT[Hippo_vs_HPT[,3]<0.05,])[1],\n",
    "                                 dim(HPT_vs_CTX[HPT_vs_CTX[,3]<0.05,])[1], \n",
    "                                 dim(Hippo_vs_CTX[Hippo_vs_CTX[,3]<0.05,])[1])\n",
    "    )\n",
    "    ggplot(df, aes(x=location, y=Sig_genes, fill=location))  +\n",
    "           geom_bar(stat=\"identity\") + \n",
    "           theme_minimal() +\n",
    "           theme(legend.position = \"none\") +\n",
    "           scale_fill_manual(values=c(\"purple\", \"brown\", \"blue\"))\n",
    "}"
   ]
  },
  {
   "cell_type": "code",
   "execution_count": 21,
   "metadata": {},
   "outputs": [],
   "source": [
    "if(bool_plot){ \n",
    "    vp <- venn.diagram(list(HPT_vs_CTX = HPT_vs_CTX[which(HPT_vs_CTX[,3]<0.05),1],\n",
    "                            Hippo_vs_CTX = Hippo_vs_CTX[which(Hippo_vs_CTX[,3]<0.05),1],\n",
    "                            HPT_vs_Hippo = Hippo_vs_HPT[which(Hippo_vs_HPT[,3]<0.05),1]),\n",
    "                       fill = c(\"red\", \"darkorchid1\", \"cornflowerblue\"),\n",
    "                       filename = NULL, cex=1.5, col = \"transparent\",\n",
    "                       cat.cex = 1.3, margin = 0.01, main=\"Proteome\", main.cex=2);\n",
    "    grid.draw(vp)\n",
    "}"
   ]
  },
  {
   "cell_type": "markdown",
   "metadata": {},
   "source": [
    "### diet effect"
   ]
  },
  {
   "cell_type": "code",
   "execution_count": 22,
   "metadata": {},
   "outputs": [],
   "source": [
    "# load the results from Persus\n",
    "hippo <- read_excel(input_file, sheet=10)[,c(4,6,7)]\n",
    "colnames(hippo) <- c(\"GeneName\",\"pvalue\",\"log2FoldChange\")\n",
    "for (i in 1:nrow(hippo)) hippo[i,2] <- 10 ^ -hippo[i,2]"
   ]
  },
  {
   "cell_type": "code",
   "execution_count": 23,
   "metadata": {},
   "outputs": [],
   "source": [
    "if(bool_plot){ \n",
    "    EnhancedVolcano(hippo,\n",
    "                    lab = hippo$GeneName,\n",
    "                    x = 'log2FoldChange',\n",
    "                    y = 'pvalue',\n",
    "                    FCcutoff = 10,\n",
    "                    pCutoff = 0.05,\n",
    "                    xlim = c(-5, 5),\n",
    "                    ylim = c(0, 5),\n",
    "                    col = c(\"grey30\", \"grey30\", \"red2\", \"red2\"),\n",
    "                    title = \"hippo: chow vs. hfd\")\n",
    "}"
   ]
  },
  {
   "cell_type": "code",
   "execution_count": 24,
   "metadata": {},
   "outputs": [],
   "source": [
    "# load the results from Persus\n",
    "ctx <- read_excel(input_file, sheet=8)[,c(4,6,7)]\n",
    "colnames(ctx) <- c(\"GeneName\",\"pvalue\",\"log2FoldChange\")\n",
    "for (i in 1:nrow(ctx)) ctx[i,2] <- 10 ^ -ctx[i,2]"
   ]
  },
  {
   "cell_type": "code",
   "execution_count": 25,
   "metadata": {},
   "outputs": [],
   "source": [
    "if(bool_plot){ \n",
    "    EnhancedVolcano(ctx,\n",
    "                    lab = ctx$GeneName,\n",
    "                    x = 'log2FoldChange',\n",
    "                    y = 'pvalue',\n",
    "                    FCcutoff = 10,\n",
    "                    pCutoff = 0.05,\n",
    "                    xlim = c(-5, 5),\n",
    "                    ylim = c(0, 5),\n",
    "                    col = c(\"grey30\", \"grey30\", \"red2\", \"red2\"),\n",
    "                    title = \"ctx: chow vs. hfd\")\n",
    "}"
   ]
  },
  {
   "cell_type": "code",
   "execution_count": 26,
   "metadata": {},
   "outputs": [],
   "source": [
    "# load the results from Persus\n",
    "hpt <- read_excel(input_file, sheet=6)[,c(4,6,7)]\n",
    "colnames(hpt) <- c(\"GeneName\",\"pvalue\",\"log2FoldChange\")\n",
    "for (i in 1:nrow(hpt)) hpt[i,2] <- 10 ^ -hpt[i,2]"
   ]
  },
  {
   "cell_type": "code",
   "execution_count": 27,
   "metadata": {},
   "outputs": [],
   "source": [
    "if(bool_plot){ \n",
    "    EnhancedVolcano(hpt,\n",
    "                    lab = hpt$GeneName,\n",
    "                    x = 'log2FoldChange',\n",
    "                    y = 'pvalue',\n",
    "                    FCcutoff = 10,\n",
    "                    pCutoff = 0.05,\n",
    "                    xlim = c(-5, 5),\n",
    "                    ylim = c(0, 5),\n",
    "                    col = c(\"grey30\", \"grey30\", \"red2\", \"red2\"),\n",
    "                    title = \"hpt: chow vs. hfd\")\n",
    "}"
   ]
  },
  {
   "cell_type": "code",
   "execution_count": 28,
   "metadata": {},
   "outputs": [],
   "source": [
    "if(bool_plot){ \n",
    "    df <- data.frame(location=c(\"Hypothalamus\", \"Hippocampus\", \"Cortex\"),\n",
    "                     Sig_genes=c(dim(hpt[which(hpt[,2]<0.05),])[1], \n",
    "                                 dim(hippo[which(hippo[,2]<0.05),])[1],\n",
    "                                 dim(ctx[which(ctx[,2]<0.05),])[1]))\n",
    "    ggplot(df, aes(x=location, y=Sig_genes, fill=location)) +\n",
    "           geom_bar(stat=\"identity\") +\n",
    "           theme_minimal()+ theme(legend.position = \"none\") +\n",
    "           scale_fill_manual(values=c(\"red\", \"#56B4E9\", \"olivedrab3\"))\n",
    "}"
   ]
  },
  {
   "cell_type": "code",
   "execution_count": 29,
   "metadata": {},
   "outputs": [],
   "source": [
    "if(bool_plot){ \n",
    "    vp <- venn.diagram(list(HPT = as.matrix(hpt[hpt[,2]<0.05,1]),\n",
    "                            Hippo = as.matrix(hippo[hippo[,2]<0.05,1]),\n",
    "                            CTX = na.omit(as.matrix(ctx[ctx[,2]<0.05,])[,1])), \n",
    "                       fill = c(\"red\", \"darkorchid1\", \"cornflowerblue\"),filename = NULL, cex=1.5, col = \"transparent\",\n",
    "                       cat.cex = 1.5, margin = 0.01, main=\"Proteome\", main.cex=2);\n",
    "    grid.draw(vp)\n",
    "}"
   ]
  }
 ],
 "metadata": {
  "kernelspec": {
   "display_name": "R",
   "language": "R",
   "name": "ir"
  },
  "language_info": {
   "codemirror_mode": "r",
   "file_extension": ".r",
   "mimetype": "text/x-r-source",
   "name": "R",
   "pygments_lexer": "r",
   "version": "4.0.3"
  }
 },
 "nbformat": 4,
 "nbformat_minor": 2
}
