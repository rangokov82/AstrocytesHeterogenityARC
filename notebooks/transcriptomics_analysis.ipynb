{
 "cells": [
  {
   "cell_type": "markdown",
   "metadata": {},
   "source": [
    "## Loading packages\n",
    "Required packages for downstream analysis"
   ]
  },
  {
   "cell_type": "code",
   "execution_count": 1,
   "metadata": {},
   "outputs": [],
   "source": [
    "inst <- suppressMessages(lapply(c('DESeq2',\n",
    "                                  'vidger',\n",
    "                                  'pheatmap',\n",
    "                                  'ggplot2',\n",
    "                                  'EnhancedVolcano',\n",
    "                                  'VennDiagram',\n",
    "                                  'org.Mm.eg.db',\n",
    "                                  'clusterProfiler',\n",
    "                                  'UpSetR',\n",
    "                                  'readxl',\n",
    "                                  'tidyverse'),\n",
    "                                library,\n",
    "                                character.only = TRUE)\n",
    ") "
   ]
  },
  {
   "cell_type": "markdown",
   "metadata": {},
   "source": [
    "Set whether to produce plots, set to False for test runs."
   ]
  },
  {
   "cell_type": "code",
   "execution_count": 2,
   "metadata": {},
   "outputs": [],
   "source": [
    "bool_plot = FALSE"
   ]
  },
  {
   "cell_type": "code",
   "execution_count": 3,
   "metadata": {},
   "outputs": [],
   "source": [
    "prot_input_file = '~/Documents/consultation/Luiza/omics_data/data/astrocyteprotoeme12102017-1.xlsx'\n",
    "options(repr.plot.width=8, repr.plot.height=8)\n",
    "my_palette <- colorRampPalette(c(\"blue\", \"white\", \"red\"))(n=255)"
   ]
  },
  {
   "cell_type": "code",
   "execution_count": 4,
   "metadata": {},
   "outputs": [],
   "source": [
    "dat <- read.csv(file=\"/Users/viktorian.miok/Documents/data/RNA-seq_Data-NEW/new_counts.csv\", header=TRUE, sep=\",\")\n",
    "rownames(dat) <- dat[,1]\n",
    "dat <- dat[,-1]"
   ]
  },
  {
   "cell_type": "code",
   "execution_count": 5,
   "metadata": {},
   "outputs": [],
   "source": [
    "group <- c(rep(\"HPT_Chow\",6),rep(\"HPT_HFD\",7),rep(\"Hippo_Chow\",6),rep(\"Hippo_HFD\",7),rep(\"CTX_Chow\",6),rep(\"CTX_HFD\",7))\n",
    "lab <- colnames(dat)\n",
    "loc <- c(rep(\"Hypothalamus\",13), rep(\"Hippocampus\",13), rep(\"Cortex\",13))\n",
    "diet <- c(rep(\"chow\",6),rep(\"hfd\",7),rep(\"chow\",6),rep(\"hfd\",7),rep(\"chow\",6),rep(\"hfd\",7))\n",
    "id <- colnames(dat)\n",
    "metaData <- data.frame(id, group, loc,diet)"
   ]
  },
  {
   "cell_type": "code",
   "execution_count": 6,
   "metadata": {},
   "outputs": [],
   "source": [
    "# remove probleatic samples\n",
    "dat <- dat[,-c(10,13,19,34,36)] #dat[,-c(10,13,19,36)] #10,13,\n",
    "metaData <- metaData[-c(10,13,19,34,36),] #metaData[-c(10,13,19,36),] #10,13,"
   ]
  },
  {
   "cell_type": "code",
   "execution_count": 7,
   "metadata": {},
   "outputs": [
    {
     "name": "stderr",
     "output_type": "stream",
     "text": [
      "'select()' returned 1:many mapping between keys and columns\n",
      "\n",
      "Warning message in bitr(gsub(\"\\\\..*\", \"\", rownames(dat)), fromType = \"ENSEMBL\", :\n",
      "“50.55% of input gene IDs are fail to map...”\n"
     ]
    }
   ],
   "source": [
    "# convert from ensembl to symbol gene id\n",
    "rownames(dat) <- gsub(\"\\\\..*\",\"\",rownames(dat))\n",
    "sig.gene <- bitr(gsub(\"\\\\..*\",\"\",rownames(dat)), fromType=\"ENSEMBL\",toType=\"SYMBOL\",OrgDb=org.Mm.eg.db)\n",
    "\n",
    "symb <- sig.gene$SYMBOL[ match(rownames(dat), sig.gene$ENSEMBL) ]\n",
    "dat <- dat[!is.na(symb),]\n",
    "symb <- symb[!is.na(symb)]\n",
    "rownames(dat) <- make.names(symb,TRUE)"
   ]
  },
  {
   "cell_type": "code",
   "execution_count": 8,
   "metadata": {},
   "outputs": [],
   "source": [
    "# filtering\n",
    "keep <- rowSums(dat) > 10\n",
    "dat <- dat[keep,]\n",
    "\n",
    "keep <- rowSums(dat >= 10) >= 5\n",
    "dat <- dat[keep,]"
   ]
  },
  {
   "cell_type": "markdown",
   "metadata": {},
   "source": [
    "## Comparison of diet effect for each tissue"
   ]
  },
  {
   "cell_type": "code",
   "execution_count": 9,
   "metadata": {},
   "outputs": [
    {
     "name": "stderr",
     "output_type": "stream",
     "text": [
      "Warning message in DESeqDataSet(se, design = design, ignoreRank):\n",
      "“some variables in design formula are characters, converting to factors”\n"
     ]
    }
   ],
   "source": [
    "dds <- DESeqDataSetFromMatrix(countData=dat, colData = metaData, design =~ group)"
   ]
  },
  {
   "cell_type": "code",
   "execution_count": 10,
   "metadata": {},
   "outputs": [
    {
     "name": "stderr",
     "output_type": "stream",
     "text": [
      "estimating size factors\n",
      "\n",
      "estimating dispersions\n",
      "\n",
      "gene-wise dispersion estimates\n",
      "\n",
      "mean-dispersion relationship\n",
      "\n",
      "final dispersion estimates\n",
      "\n",
      "fitting model and testing\n",
      "\n",
      "-- replacing outliers and refitting for 148 genes\n",
      "-- DESeq argument 'minReplicatesForReplace' = 7 \n",
      "-- original counts are preserved in counts(dds)\n",
      "\n",
      "estimating dispersions\n",
      "\n",
      "fitting model and testing\n",
      "\n"
     ]
    }
   ],
   "source": [
    "dds <- DESeq(dds, fitType=\"parametric\")"
   ]
  },
  {
   "cell_type": "code",
   "execution_count": 11,
   "metadata": {},
   "outputs": [],
   "source": [
    "#vst.data <- varianceStabilizingTransformation(dds, blind = TRUE, fitType = \"parametric\")"
   ]
  },
  {
   "cell_type": "code",
   "execution_count": 12,
   "metadata": {},
   "outputs": [],
   "source": [
    "# variance stabilizing transformation data\n",
    "vsd <- assay(vst(dds, \n",
    "                 fitType=\"local\",\n",
    "                 blind = TRUE\n",
    "             )\n",
    "        )"
   ]
  },
  {
   "cell_type": "code",
   "execution_count": 13,
   "metadata": {},
   "outputs": [],
   "source": [
    "if(bool_plot){\n",
    "    #dds <- estimateSizeFactors(dds)\n",
    "    #idx <- rowMeans(counts(dds, normalized=TRUE)) >= 10\n",
    "    #dds <- dds[idx,]\n",
    "    #vsd <- vst(dds, fitType=\"local\")\n",
    "    pcaData <- plotPCA(vst(dds, fitType = \"local\"),\n",
    "                       intgroup=c(\"group\"),\n",
    "                       returnData=TRUE\n",
    "    )\n",
    "    percentVar <- round(100 * attr(pcaData, \"percentVar\"))\n",
    "    p2 <- ggplot(pcaData, aes(PC1, PC2, color = group)) +\n",
    "                 geom_point(size=3)+\n",
    "                 geom_label(aes(label = colnames(dat))) +\n",
    "                 xlab(paste0(\"PC1: \",percentVar[1],\"% variance\")) + \n",
    "                 ylab(paste0(\"PC2: \",percentVar[2],\"% variance\")) +\n",
    "                 ggtitle(\"PCA Plot\") +\n",
    "                 theme(legend.position = \"right\", legend.text = element_text(size = 10)) + \n",
    "                 guides(col = guide_legend(nrow=4))\n",
    "    p2 + ylim(-30,35) + xlim(-80,80)\n",
    "}"
   ]
  },
  {
   "cell_type": "code",
   "execution_count": 14,
   "metadata": {},
   "outputs": [],
   "source": [
    "# Heatmpa of all samples and genes\n",
    "if(bool_plot){  \n",
    "    agsh <- pheatmap(vsd,\n",
    "                     cluster_rows = T, \n",
    "                     scale = \"row\", \n",
    "                     show_rownames = FALSE, \n",
    "                     color = my_palette,\n",
    "                     cluster_cols = T, \n",
    "                     annotation_col = as.data.frame(colData(dds)[,c(\"diet\", \"loc\")]),\n",
    "                     fontsize = 8,\n",
    "                     breaks = seq(-5, 5, length.out = 255)\n",
    "    )\n",
    "    #save_pheatmap_pdf(agsh,\n",
    "    #                  file.path(dir_fig, \"all_genes_samples_heatmap.pdf\"))\n",
    "}"
   ]
  },
  {
   "cell_type": "code",
   "execution_count": 15,
   "metadata": {},
   "outputs": [],
   "source": [
    "hpt <- results(dds, contrast=c(\"group\", \"HPT_Chow\", \"HPT_HFD\"))\n",
    "hippo <- results(dds, contrast=c(\"group\", \"Hippo_Chow\", \"Hippo_HFD\"))\n",
    "ctx <- results(dds, contrast=c(\"group\", \"CTX_Chow\", \"CTX_HFD\"))"
   ]
  },
  {
   "cell_type": "code",
   "execution_count": 16,
   "metadata": {},
   "outputs": [],
   "source": [
    "if(bool_plot){\n",
    "    EnhancedVolcano(hpt,\n",
    "                    lab = rownames(hpt),\n",
    "                    pCutoff = 0.05,\n",
    "                    FCcutoff = 10,\n",
    "                    x = 'log2FoldChange',\n",
    "                    y = 'pvalue',\n",
    "                    ylim = c(0, 8),\n",
    "                    xlim = c(-8, 8),\n",
    "                    col = c(\"grey30\", \"grey30\", \"red2\", \"red2\"),\n",
    "                    title = \"HPT Chow vs. HFD\")\n",
    "}"
   ]
  },
  {
   "cell_type": "code",
   "execution_count": 17,
   "metadata": {},
   "outputs": [],
   "source": [
    "if(bool_plot){\n",
    "    EnhancedVolcano(hippo,\n",
    "                    lab = rownames(hippo),\n",
    "                    pCutoff = 0.05,\n",
    "                    FCcutoff = 10,\n",
    "                    x = 'log2FoldChange',\n",
    "                    y = 'pvalue',\n",
    "                    ylim = c(0, 8),\n",
    "                    xlim = c(-8, 8),\n",
    "                    col = c(\"grey30\", \"grey30\", \"red2\", \"red2\"),\n",
    "                    title = \"Hippo Chow vs. HFD\")\n",
    "}"
   ]
  },
  {
   "cell_type": "code",
   "execution_count": 18,
   "metadata": {},
   "outputs": [],
   "source": [
    "if(bool_plot){\n",
    "    EnhancedVolcano(ctx,\n",
    "                    lab = rownames(ctx),\n",
    "                    pCutoff = 0.05,\n",
    "                    FCcutoff = 10,\n",
    "                    x = 'log2FoldChange',\n",
    "                    y = 'pvalue',\n",
    "                    ylim = c(0, 8),\n",
    "                    xlim = c(-8, 8),\n",
    "                    col = c(\"grey30\", \"grey30\", \"red2\", \"red2\"),\n",
    "                    title = \"CTX Chow vs. HFD\")\n",
    "}"
   ]
  },
  {
   "cell_type": "code",
   "execution_count": 19,
   "metadata": {},
   "outputs": [],
   "source": [
    "if(bool_plot){\n",
    "    df <- data.frame(location=c(\"Hypothalamus\", \"Hippocampus\", \"Cortex\"),\n",
    "                     Sig_genes=c(sum(hpt[,5]<0.05,na.rm=T), sum(hippo[,5]<0.05,na.rm=T), sum(ctx[,5]<0.05,na.rm=T)))\n",
    "    ggplot(df, aes(x=location, y=Sig_genes, fill=location))  +\n",
    "           geom_bar(stat=\"identity\") + \n",
    "           theme_minimal() + \n",
    "           theme(legend.position=\"none\") +\n",
    "           scale_fill_manual(values=c(\"red\", \"#56B4E9\", \"olivedrab3\"))\n",
    "}"
   ]
  },
  {
   "cell_type": "markdown",
   "metadata": {},
   "source": [
    "# Comparison between tissues"
   ]
  },
  {
   "cell_type": "code",
   "execution_count": 20,
   "metadata": {},
   "outputs": [
    {
     "name": "stderr",
     "output_type": "stream",
     "text": [
      "Warning message in DESeqDataSet(se, design = design, ignoreRank):\n",
      "“some variables in design formula are characters, converting to factors”\n",
      "estimating size factors\n",
      "\n",
      "estimating dispersions\n",
      "\n",
      "gene-wise dispersion estimates\n",
      "\n",
      "mean-dispersion relationship\n",
      "\n",
      "final dispersion estimates\n",
      "\n",
      "fitting model and testing\n",
      "\n",
      "-- replacing outliers and refitting for 215 genes\n",
      "-- DESeq argument 'minReplicatesForReplace' = 7 \n",
      "-- original counts are preserved in counts(dds)\n",
      "\n",
      "estimating dispersions\n",
      "\n",
      "fitting model and testing\n",
      "\n"
     ]
    }
   ],
   "source": [
    "dds <- DESeqDataSetFromMatrix(countData=dat, colData = metaData, design =~ loc)\n",
    "dds <- DESeq(dds)"
   ]
  },
  {
   "cell_type": "code",
   "execution_count": 21,
   "metadata": {},
   "outputs": [],
   "source": [
    "hpt_vs_hippo <- results(dds, contrast=c(\"loc\", \"Hypothalamus\", \"Hippocampus\"))\n",
    "hpt_vs_ctx <- results(dds, contrast=c(\"loc\", \"Hypothalamus\", \"Cortex\"))\n",
    "ctx_vs_hippo <- results(dds, contrast=c(\"loc\", \"Cortex\", \"Hippocampus\"))"
   ]
  },
  {
   "cell_type": "code",
   "execution_count": 22,
   "metadata": {},
   "outputs": [],
   "source": [
    "if(bool_plot){\n",
    "    EnhancedVolcano(hpt_vs_hippo,\n",
    "                    lab = rownames(hpt_vs_hippo),\n",
    "                    pCutoff = 0.05,\n",
    "                    FCcutoff = 15,\n",
    "                    x = 'log2FoldChange',\n",
    "                    y = 'pvalue',\n",
    "                    ylim = c(0, 100),\n",
    "                    xlim = c(-12, 12),\n",
    "                    col = c(\"grey30\", \"grey30\", \"red2\", \"red2\"),\n",
    "                    title = \"HPT vs. Hippo\")\n",
    "}"
   ]
  },
  {
   "cell_type": "code",
   "execution_count": 23,
   "metadata": {},
   "outputs": [],
   "source": [
    "if(bool_plot){\n",
    "    EnhancedVolcano(hpt_vs_ctx,\n",
    "                    lab = rownames(hpt_vs_ctx),\n",
    "                    pCutoff = 0.05,\n",
    "                    FCcutoff = 15,\n",
    "                    x = 'log2FoldChange',\n",
    "                    y = 'pvalue',\n",
    "                     ylim = c(0, 100),\n",
    "                    xlim = c(-12, 12),\n",
    "                    col = c(\"grey30\", \"grey30\", \"red2\", \"red2\"),\n",
    "                    title = \"HPT vs. CTX\")\n",
    "}"
   ]
  },
  {
   "cell_type": "code",
   "execution_count": 24,
   "metadata": {},
   "outputs": [],
   "source": [
    "if(bool_plot){\n",
    "    EnhancedVolcano(ctx_vs_hippo,\n",
    "                    lab = rownames(ctx_vs_hippo),\n",
    "                    pCutoff = 0.05,\n",
    "                    FCcutoff = 15,\n",
    "                    x = 'log2FoldChange',\n",
    "                    y = 'pvalue',\n",
    "                    ylim = c(0, 100),\n",
    "                    xlim = c(-12, 12),\n",
    "                    col = c(\"grey30\", \"grey30\", \"red2\", \"red2\"),\n",
    "                    title = \"CTX vs. Hippo\")\n",
    "}"
   ]
  },
  {
   "cell_type": "code",
   "execution_count": 25,
   "metadata": {},
   "outputs": [],
   "source": [
    "hpt_vs_hippo1 = hpt_vs_hippo[which(hpt_vs_hippo[,5]<0.05),]\n",
    "hpt_vs_ctx1 = hpt_vs_ctx[which(hpt_vs_ctx[,5]<0.05),]\n",
    "ctx_vs_hippo1 = ctx_vs_hippo[which(ctx_vs_hippo[,5]<0.05),]"
   ]
  },
  {
   "cell_type": "code",
   "execution_count": 26,
   "metadata": {},
   "outputs": [],
   "source": [
    "if(bool_plot){\n",
    "    df <- data.frame(location=c(\"HPT_vs_Hippo\", \"HPT_vs_CTX\", \"CTX_vs_Hippo\"),\n",
    "                     Sig_genes=c(sum(hpt_vs_hippo[,5]<0.05,na.rm=T), \n",
    "                                 sum(hpt_vs_ctx[,5]<0.05,na.rm=T), \n",
    "                                 sum(ctx_vs_hippo[,5]<0.05,na.rm=T))\n",
    "    )\n",
    "    ggplot(df, aes(x=location, y=Sig_genes, fill=location))  +\n",
    "           geom_bar(stat=\"identity\") +\n",
    "           theme_minimal() +\n",
    "           theme(legend.position = \"none\") +\n",
    "           scale_fill_manual(values=c(\"purple\", \"brown\", \"blue\"))\n",
    "}"
   ]
  },
  {
   "cell_type": "markdown",
   "metadata": {},
   "source": [
    "# Integrative Analysis Transcriptomics and Proteomics Data"
   ]
  },
  {
   "cell_type": "code",
   "execution_count": 27,
   "metadata": {},
   "outputs": [],
   "source": [
    "# load the results from Persus\n",
    "diffHippo <- read_excel(prot_input_file, sheet=10)[,c(4,6,7)]\n",
    "colnames(diffHippo) <- c(\"GeneName\",\"pvalue\",\"log2FoldChange\")\n",
    "for (i in 1:nrow(diffHippo)) diffHippo[i,2] <- 10 ^ -diffHippo[i,2]\n",
    "\n",
    "# load the results from Persus\n",
    "diffCTX <- read_excel(prot_input_file, sheet=8)[,c(4,6,7)]\n",
    "colnames(diffCTX) <- c(\"GeneName\",\"pvalue\",\"log2FoldChange\")\n",
    "for (i in 1:nrow(diffCTX)) diffCTX[i,2] <- 10 ^ -diffCTX[i,2]\n",
    "\n",
    "# load the results from Persus\n",
    "diffHPT <- read_excel(prot_input_file, sheet=6)[,c(4,6,7)]\n",
    "colnames(diffHPT) <- c(\"GeneName\",\"pvalue\",\"log2FoldChange\")\n",
    "for (i in 1:nrow(diffHPT)) diffHPT[i,2] <- 10 ^ -diffHPT[i,2]"
   ]
  },
  {
   "cell_type": "code",
   "execution_count": 28,
   "metadata": {},
   "outputs": [],
   "source": [
    "# cut-off\n",
    "cutoff = 0.05"
   ]
  },
  {
   "cell_type": "code",
   "execution_count": 29,
   "metadata": {},
   "outputs": [],
   "source": [
    "diffCTX <- diffCTX[which(diffCTX$pvalue<cutoff),]\n",
    "diffHippo <- diffHippo[which(diffHippo$pvalue<cutoff),]\n",
    "diffHPT <- diffHPT[which(diffHPT$pvalue<cutoff),]"
   ]
  },
  {
   "cell_type": "code",
   "execution_count": 30,
   "metadata": {},
   "outputs": [],
   "source": [
    "hippo[,1] = rownames(hippo)\n",
    "colnames(hippo) = c(\"GeneName\",\"log2FoldChange\",\"lfcSE\",\"stat\",\"pvalue\",\"padj\")\n",
    "hippo <- as.data.frame(hippo)\n",
    "\n",
    "hpt[,1] = rownames(hpt)\n",
    "colnames(hpt) = c(\"GeneName\",\"log2FoldChange\",\"lfcSE\",\"stat\",\"pvalue\",\"padj\")\n",
    "hpt <- as.data.frame(hpt)\n",
    "\n",
    "ctx[,1] = rownames(ctx)\n",
    "colnames(ctx) = c(\"GeneName\",\"log2FoldChange\",\"lfcSE\",\"stat\",\"pvalue\",\"padj\")\n",
    "ctx <- as.data.frame(ctx)"
   ]
  },
  {
   "cell_type": "code",
   "execution_count": 31,
   "metadata": {},
   "outputs": [],
   "source": [
    "ctx <- ctx[which(ctx$pvalue<cutoff),]\n",
    "hippo <- hippo[which(hippo$pvalue<cutoff),]\n",
    "hpt <- hpt[which(hpt$pvalue<cutoff),]"
   ]
  },
  {
   "cell_type": "code",
   "execution_count": 32,
   "metadata": {},
   "outputs": [],
   "source": [
    "listInput <- list(CTX_transciptomics = rownames(ctx), \n",
    "                  Hippo_transciptomics = rownames(hippo),\n",
    "                  HPT_transciptomics = rownames(hpt),\n",
    "                  CTX_proteomics = as.matrix(diffCTX[,1]),\n",
    "                  Hippo_proteomics = as.matrix(diffHippo[,1]),\n",
    "                  HPT_proteomics = as.matrix(diffHPT[,1])\n",
    ")"
   ]
  },
  {
   "cell_type": "code",
   "execution_count": 33,
   "metadata": {},
   "outputs": [],
   "source": [
    "if(bool_plot){\n",
    "    upset(fromList(listInput), \n",
    "          order.by = \"freq\", \n",
    "          text.scale = c(1.5, 1.5, 1.5, 1.5, 2, 1.5)\n",
    "    )\n",
    "}"
   ]
  },
  {
   "cell_type": "code",
   "execution_count": 34,
   "metadata": {},
   "outputs": [],
   "source": [
    "vsd <- as.data.frame(assay(vst(dds, fitType=\"local\", blind = TRUE)))"
   ]
  },
  {
   "cell_type": "code",
   "execution_count": 35,
   "metadata": {},
   "outputs": [],
   "source": [
    "astro = c('Slc1a2', 'Slc1a3', 'Aqp4', 'S100b', 'Sox9','Gfap','Aldh1l1','Gja1','Gjb6','Agt','Atp1b2')\n",
    "neuro = c('Syp', 'Tubb3','Snap25','Syt1')\n",
    "microglia = c('Itgam','Aif1')\n",
    "oligodendrocyte = c('Mog','Mag')\n",
    "endothelial = c('Slco1c1')\n",
    "mural = c('Mustn1','Pdgfrb','Des')\n",
    "tanycyes = c('Crym')\n",
    "npc = c('Nes','Sox2','Prom1')\n",
    "vlmc = c('Col1a1')"
   ]
  },
  {
   "cell_type": "code",
   "execution_count": 36,
   "metadata": {},
   "outputs": [],
   "source": [
    "datfin <- data.frame(CTX=apply(vsd %>% select(starts_with(\"ctx_\")), 1, mean),\n",
    "                     HPT=apply(vsd %>% select(starts_with(\"hpt_\")), 1, mean),\n",
    "                     Hippo=apply(vsd %>% select(starts_with(\"hippo_\")), 1, mean))"
   ]
  },
  {
   "cell_type": "code",
   "execution_count": 37,
   "metadata": {},
   "outputs": [],
   "source": [
    "astro = datfin[rownames(datfin)%in%c('Slc1a2', 'Slc1a3', 'Aqp4', 'S100b', 'Sox9','Gfap','Aldh1l1','Gja1','Gjb6','Agt','Atp1b2'),]\n",
    "neuro = datfin[rownames(datfin)%in%c('Syp', 'Tubb3','Snap25','Syt1'),]\n",
    "mglia = datfin[rownames(datfin)%in%c('Itgam','Aif1'),]\n",
    "oligo = datfin[rownames(datfin)%in%c('Mog','Mag'),]\n",
    "endo = datfin[rownames(datfin)%in%c('Slco1c1'),]\n",
    "mural = datfin[rownames(datfin)%in%c('Mustn1','Pdgfrb','Des'),]\n",
    "tcyes = datfin[rownames(datfin)%in%c('Crym'),]\n",
    "npc = datfin[rownames(datfin)%in%c('Nes','Sox2','Prom1'),]\n",
    "vlmc = datfin[rownames(datfin)%in%c('Col1a1'),]"
   ]
  },
  {
   "cell_type": "code",
   "execution_count": 38,
   "metadata": {},
   "outputs": [],
   "source": [
    "options(repr.plot.width=6, repr.plot.height=8)"
   ]
  },
  {
   "cell_type": "code",
   "execution_count": 39,
   "metadata": {},
   "outputs": [],
   "source": [
    "if(bool_plot){\n",
    "    mat <- as.matrix(rbind(astro,neuro,mglia,oligo,endo,mural,tcyes,npc,vlmc))\n",
    "    my_palette <- colorRampPalette(c(\"blue\",\"white\",\"red\"))(n = 255)\n",
    "    \n",
    "    Omics <- c(rep(\"transcriptomics\",3))\n",
    "    Acsa2 <- rep(\"Acsa2_pos\",3)\n",
    "    Tissue <- c(\"cortex\",\"hypothalamus\",\"hippocampus\")\n",
    "    dcol <- as.data.frame(cbind(Tissue,Acsa2,Omics))\n",
    "    rownames(dcol) <- colnames(mat)\n",
    "\n",
    "    Cell_types <- c(rep(\"astrocytes\",11),rep(\"neurons\",4),rep(\"microglia\",2),rep(\"oligodendrocyte\",2),\n",
    "                    \"endothelial\",rep(\"mural\",3),\"tanycyes\",rep(\"npc\",3),\"vlmc\")\n",
    "    drow <- as.data.frame(cbind(Cell_types))\n",
    "    rownames(drow) <- rownames(mat)\n",
    "\n",
    "    pheatmap(mat, scale = \"column\", show_rownames=T, color=my_palette, cluster_cols=F, cluster_rows=F, gaps_col=3,\n",
    "             gaps_row=c(11,15,17,19,20,23,24,27,28), annotation_col=dcol, annotation_row=drow, fontsize=16,\n",
    "             main=\"Acsa2 positive\") \n",
    "}"
   ]
  },
  {
   "cell_type": "markdown",
   "metadata": {},
   "source": [
    "# Heatmap clustering and enrichment"
   ]
  },
  {
   "cell_type": "code",
   "execution_count": 40,
   "metadata": {},
   "outputs": [],
   "source": [
    "if(bool_plot){\n",
    "    gen_heatmap =union(union(hpt[hpt$pvalue<0.05,1], ctx[ctx$pvalue<0.05,1]), hippo[hippo$pvalue<0.05,1])\n",
    "    vsd_cl <- vsd[rownames(vsd)%in%gen_heatmap,]\n",
    "    \n",
    "    dim(vsd_cl)\n",
    "    \n",
    "    hr <- hclust(dist(vsd_cl, method = \"maximum\"), method=\"ward.D\") \n",
    "    # define 5 row (gene) clusters using cutree outside ComplexHeatmap\n",
    "    mycl.r <- cutree(hr, k=4)\n",
    "    \n",
    "    options(repr.plot.width=10, repr.plot.height=10)\n",
    "    my_palette <- colorRampPalette(c(\"blue\",\"white\",\"red\"))(n = 255) # \"blue\",\"white\",\"red\" \"dodgerblue\",\"white\",\"orangered\"\n",
    "    df <- as.data.frame(colData(dds)[,c(\"group\", \"loc\")])\n",
    "    annotation_row = data.frame(Cluster = factor(mycl.r))\n",
    "\n",
    "    pheatmap(vsd_cl, cluster_rows=hr, scale = \"row\", show_rownames=FALSE,color=my_palette, cutree_rows=4, \n",
    "             cluster_cols=F, annotation_col=df, annotation_row=annotation_row, fontsize=8,main=\"All samples\",\n",
    "             breaks = seq(-4, 4, length.out = 255))\n",
    "}"
   ]
  },
  {
   "cell_type": "code",
   "execution_count": 41,
   "metadata": {},
   "outputs": [],
   "source": [
    "if(bool_plot){\n",
    "    sig.gene <- bitr(names(mycl.r)[mycl.r==1], fromType = \"SYMBOL\", toType = \"ENTREZID\", OrgDb = org.Mm.eg.db)\n",
    "    #yy <- enrichGO(sig.gene[,2], 'org.Mm.eg.db', ont = \"ALL\", pvalueCutoff = 0.1)\n",
    "    yy1 <- enrichKEGG(gene = sig.gene[,2], organism = 'mmu', pvalueCutoff = 0.1)\n",
    "    barplot(yy1, showCategory=20)\n",
    "}"
   ]
  },
  {
   "cell_type": "code",
   "execution_count": 42,
   "metadata": {},
   "outputs": [],
   "source": [
    "if(bool_plot){\n",
    "    sig.gene <- bitr(names(mycl.r)[mycl.r==2], fromType = \"SYMBOL\", toType = \"ENTREZID\", OrgDb = org.Mm.eg.db)\n",
    "    #yy <- enrichGO(sig.gene[,2], 'org.Mm.eg.db', ont = \"ALL\", pvalueCutoff = 0.1)\n",
    "    yy2 <- enrichKEGG(gene = sig.gene[,2], organism = 'mmu', pvalueCutoff = 0.1)\n",
    "    barplot(yy2, showCategory=20)\n",
    "}"
   ]
  },
  {
   "cell_type": "code",
   "execution_count": 43,
   "metadata": {},
   "outputs": [],
   "source": [
    "if(bool_plot){\n",
    "    sig.gene <- bitr(names(mycl.r)[mycl.r==3], fromType = \"SYMBOL\", toType = \"ENTREZID\", OrgDb = org.Mm.eg.db)\n",
    "    #yy <- enrichGO(sig.gene[,2], 'org.Mm.eg.db', ont = \"ALL\", pvalueCutoff = 0.1)\n",
    "    yy3 <- enrichKEGG(gene = sig.gene[,2], organism = 'mmu', pvalueCutoff = 0.1)\n",
    "    barplot(yy3, showCategory=20)\n",
    "}"
   ]
  },
  {
   "cell_type": "code",
   "execution_count": 44,
   "metadata": {},
   "outputs": [],
   "source": [
    "if(bool_plot){\n",
    "    sig.gene <- bitr(names(mycl.r)[mycl.r==4], fromType = \"SYMBOL\", toType = \"ENTREZID\", OrgDb = org.Mm.eg.db)\n",
    "    #yy <- enrichGO(sig.gene[,2], 'org.Mm.eg.db', ont = \"ALL\", pvalueCutoff = 0.1)\n",
    "    yy4 <- enrichKEGG(gene = sig.gene[,2], organism = 'mmu', pvalueCutoff = 0.1) \n",
    "    barplot(yy4, showCategory=20)\n",
    "}"
   ]
  },
  {
   "cell_type": "code",
   "execution_count": 46,
   "metadata": {},
   "outputs": [],
   "source": [
    "if(bool_plot){  \n",
    "    clust1 = yy1@result[yy1@result[,6]<0.05,c(2,6,9)]\n",
    "    clust1$Cluster = 'Cluster_1'\n",
    "    clust2 = yy2@result[yy2@result[,6]<0.05,c(2,6,9)]\n",
    "    clust2$Cluster = 'Cluster_2'\n",
    "    clust3 = yy3@result[yy3@result[,6]<0.05,c(2,6,9)]\n",
    "    clust3$Cluster = 'Cluster_3'\n",
    "    clust4 = yy4@result[yy4@result[,6]<0.05,c(2,6,9)]\n",
    "    clust4$Cluster = 'Cluster_4'\n",
    "\n",
    "    options(repr.plot.width = 10, repr.plot.height = 15)\n",
    "    ggplot(rbind(clust1, clust2, clust3, clust4), \n",
    "           aes(Cluster, Description, col = p.adjust, size = Count)) + \n",
    "           geom_point()+ \n",
    "           scale_colour_gradient(low = \"red\", high = \"blue\") +\n",
    "           xlab(\"Clusters\") + \n",
    "           ylab(\"KEGG enriched pathways\") + \n",
    "          theme(text = element_text(size=20),axis.text.x = element_text(angle=45, hjust=1))\n",
    "}"
   ]
  },
  {
   "cell_type": "code",
   "execution_count": 47,
   "metadata": {},
   "outputs": [],
   "source": [
    "options(repr.plot.width = 10, repr.plot.height = 10)\n",
    "# Heatmpa of all samples and genes\n",
    "if(bool_plot){  \n",
    "    agsh <- pheatmap(vsd,\n",
    "                     cluster_rows = T, \n",
    "                     scale = \"row\", \n",
    "                     show_rownames = FALSE, \n",
    "                     color = my_palette,\n",
    "                     cluster_cols = T, \n",
    "                     annotation_col = as.data.frame(colData(dds)[,c(\"diet\", \"loc\")]),\n",
    "                     fontsize = 8,\n",
    "                     breaks = seq(-5, 5, length.out = 255)\n",
    "    )\n",
    "    #save_pheatmap_pdf(agsh,\n",
    "    #                  file.path(dir_fig, \"all_genes_samples_heatmap.pdf\"))\n",
    "}"
   ]
  },
  {
   "cell_type": "code",
   "execution_count": 48,
   "metadata": {},
   "outputs": [],
   "source": [
    "options(repr.plot.width = 10, repr.plot.height = 10)\n",
    "if(bool_plot){  \n",
    "    agsh <- pheatmap(vsd,\n",
    "                     cluster_rows = T, \n",
    "                     scale = \"row\", \n",
    "                     show_rownames = FALSE, \n",
    "                     color = my_palette,\n",
    "                     cluster_cols = T, \n",
    "                     annotation_col = as.data.frame(colData(dds)[,c(\"diet\", \"loc\")]),\n",
    "                     fontsize = 8,\n",
    "                     breaks = seq(-5, 5, length.out = 255)\n",
    "    )\n",
    "    #save_pheatmap_pdf(agsh,\n",
    "    #                  file.path(dir_fig, \"all_genes_samples_heatmap.pdf\"))\n",
    "}"
   ]
  },
  {
   "cell_type": "markdown",
   "metadata": {},
   "source": [
    "### Per tissue heatmap"
   ]
  },
  {
   "cell_type": "code",
   "execution_count": 49,
   "metadata": {},
   "outputs": [],
   "source": [
    "options(repr.plot.width = 10, repr.plot.height = 10)"
   ]
  },
  {
   "cell_type": "code",
   "execution_count": 50,
   "metadata": {},
   "outputs": [],
   "source": [
    "if(bool_plot){\n",
    "    vsd_cl <- vsd[rownames(vsd)%in%hpt[hpt$pvalue<0.01,1],]\n",
    "    #hr <- hclust(dist(vsd_cl[,1:11], method = \"euclidian\"), method=\"complete\") \n",
    "    # define 5 row (gene) clusters using cutree outside ComplexHeatmap\n",
    "    #mycl.r <- cutree(hr, k=2)\n",
    "    \n",
    "    my_palette <- colorRampPalette(c(\"blue\",\"white\",\"red\"))(n = 255) # \"blue\",\"white\",\"red\" \"dodgerblue\",\"white\",\"orangered\"\n",
    "    df <- as.data.frame(colData(dds)[1:11,c(\"group\", \"loc\")])\n",
    "    #annotation_row = data.frame(Cluster = factor(mycl.r))\n",
    "\n",
    "    pheatmap(vsd_cl[,1:11], scale = \"row\", show_rownames=FALSE,color=my_palette, cutree_rows=2, \n",
    "             cluster_cols=F, annotation_col=df, fontsize=15,main=\"All samples\",\n",
    "             breaks = seq(-3, 3, length.out = 255))\n",
    "}  #cluster_rows=hr, , cutree_rows=2   annotation_row=annotation_row,"
   ]
  },
  {
   "cell_type": "code",
   "execution_count": 51,
   "metadata": {},
   "outputs": [],
   "source": [
    "if(bool_plot){\n",
    "    vsd_cl <- vsd[rownames(vsd)%in%hippo[hippo$pvalue<0.01,1],]\n",
    "    #hr <- hclust(dist(vsd_cl[,1:11], method = \"euclidian\"), method=\"complete\") \n",
    "    # define 5 row (gene) clusters using cutree outside ComplexHeatmap\n",
    "    #mycl.r <- cutree(hr, k=2)\n",
    "    \n",
    "    my_palette <- colorRampPalette(c(\"blue\",\"white\",\"red\"))(n = 255) # \"blue\",\"white\",\"red\" \"dodgerblue\",\"white\",\"orangered\"\n",
    "    df <- as.data.frame(colData(dds)[12:23,c(\"group\", \"loc\")])\n",
    "    #annotation_row = data.frame(Cluster = factor(mycl.r))\n",
    "\n",
    "    pheatmap(vsd_cl[,12:23], scale = \"row\", show_rownames=FALSE,color=my_palette, cutree_rows=2, \n",
    "             cluster_cols=F, annotation_col=df, fontsize=15,main=\"All samples\",\n",
    "             breaks = seq(-3, 3, length.out = 255))\n",
    "}  #cluster_rows=hr, , cutree_rows=2   annotation_row=annotation_row,"
   ]
  },
  {
   "cell_type": "code",
   "execution_count": 52,
   "metadata": {},
   "outputs": [],
   "source": [
    "if(bool_plot){\n",
    "    vsd_cl <- vsd[rownames(vsd)%in%ctx[ctx$pvalue<0.01,1],]\n",
    "    #hr <- hclust(dist(vsd_cl[,1:11], method = \"euclidian\"), method=\"complete\") \n",
    "    # define 5 row (gene) clusters using cutree outside ComplexHeatmap\n",
    "    #mycl.r <- cutree(hr, k=2)\n",
    "    \n",
    "    my_palette <- colorRampPalette(c(\"blue\",\"white\",\"red\"))(n = 255) # \"blue\",\"white\",\"red\" \"dodgerblue\",\"white\",\"orangered\"\n",
    "    df <- as.data.frame(colData(dds)[24:34,c(\"group\", \"loc\")])\n",
    "    #annotation_row = data.frame(Cluster = factor(mycl.r))\n",
    "\n",
    "    pheatmap(vsd_cl[,24:34], scale = \"row\", show_rownames=FALSE,color=my_palette, cutree_rows=2, \n",
    "             cluster_cols=F, annotation_col=df, fontsize=15,main=\"All samples\",\n",
    "             breaks = seq(-3, 3, length.out = 255))\n",
    "}  #cluster_rows=hr, , cutree_rows=2   annotation_row=annotation_row,"
   ]
  },
  {
   "cell_type": "code",
   "execution_count": 53,
   "metadata": {},
   "outputs": [],
   "source": [
    "if(bool_plot){\n",
    "    hr <- hclust(dist(vsd_cl[,24:34], method = \"maximum\"), method=\"ward.D\") \n",
    "    # define 5 row (gene) clusters using cutree outside ComplexHeatmap\n",
    "    mycl.r <- cutree(hr, k=2)\n",
    "    \n",
    "    options(repr.plot.width=10, repr.plot.height=10)\n",
    "    my_palette <- colorRampPalette(c(\"blue\",\"white\",\"red\"))(n = 255) # \"blue\",\"white\",\"red\" \"dodgerblue\",\"white\",\"orangered\"\n",
    "    df <- as.data.frame(colData(dds)[24:34,c(\"group\", \"loc\")])\n",
    "    annotation_row = data.frame(Cluster = factor(mycl.r))\n",
    "\n",
    "    pheatmap(vsd_cl[,24:34], cluster_rows=hr, scale = \"row\", show_rownames=FALSE,color=my_palette, cutree_rows=2, \n",
    "             cluster_cols=F, annotation_col=df, annotation_row=annotation_row, fontsize=15,main=\"All samples\",\n",
    "             breaks = seq(-3, 3, length.out = 255))\n",
    "}"
   ]
  },
  {
   "cell_type": "code",
   "execution_count": null,
   "metadata": {},
   "outputs": [],
   "source": []
  }
 ],
 "metadata": {
  "kernelspec": {
   "display_name": "R",
   "language": "R",
   "name": "ir"
  },
  "language_info": {
   "codemirror_mode": "r",
   "file_extension": ".r",
   "mimetype": "text/x-r-source",
   "name": "R",
   "pygments_lexer": "r",
   "version": "4.0.3"
  }
 },
 "nbformat": 4,
 "nbformat_minor": 2
}
